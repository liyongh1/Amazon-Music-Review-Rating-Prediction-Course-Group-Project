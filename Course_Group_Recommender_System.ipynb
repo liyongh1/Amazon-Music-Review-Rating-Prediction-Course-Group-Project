{
 "cells": [
  {
   "cell_type": "markdown",
   "metadata": {},
   "source": [
    "## MIE1624-Course Project-Recommender System (Group4)"
   ]
  },
  {
   "cell_type": "markdown",
   "metadata": {
    "id": "zBYOgeUF7IXz"
   },
   "source": [
    "*Code ref:* https://www.analyticsvidhya.com/blog/2018/06/comprehensive-guide-recommendation-engine-python/?#"
   ]
  },
  {
   "cell_type": "code",
   "execution_count": 37,
   "metadata": {
    "colab": {
     "base_uri": "https://localhost:8080/"
    },
    "id": "L4orhGby0VF5",
    "outputId": "63a068fe-6b18-4461-fef5-0bac34c21d02"
   },
   "outputs": [
    {
     "name": "stdout",
     "output_type": "stream",
     "text": [
      "WARNING: pip is being invoked by an old script wrapper. This will fail in a future version of pip.\n",
      "Please see https://github.com/pypa/pip/issues/5599 for advice on fixing the underlying issue.\n",
      "To avoid this problem you can invoke Python with '-m pip' instead of running pip directly.\n",
      "Requirement already satisfied: turicreate in /usr/local/lib/python3.7/dist-packages (6.4.1)\n",
      "Requirement already satisfied: numpy in /usr/local/lib/python3.7/dist-packages (from turicreate) (1.18.5)\n",
      "Requirement already satisfied: scipy>=1.1.0 in /usr/local/lib/python3.7/dist-packages (from turicreate) (1.4.1)\n",
      "Requirement already satisfied: tensorflow<2.1.0,>=2.0.0 in /usr/local/lib/python3.7/dist-packages (from turicreate) (2.0.4)\n",
      "Requirement already satisfied: coremltools==3.3 in /usr/local/lib/python3.7/dist-packages (from turicreate) (3.3)\n",
      "Requirement already satisfied: decorator>=4.0.9 in /usr/local/lib/python3.7/dist-packages (from turicreate) (4.4.2)\n",
      "Requirement already satisfied: numba<0.51.0 in /usr/local/lib/python3.7/dist-packages (from turicreate) (0.50.1)\n",
      "Requirement already satisfied: six>=1.10.0 in /usr/local/lib/python3.7/dist-packages (from turicreate) (1.15.0)\n",
      "Requirement already satisfied: prettytable==0.7.2 in /usr/local/lib/python3.7/dist-packages (from turicreate) (0.7.2)\n",
      "Requirement already satisfied: requests>=2.9.1 in /usr/local/lib/python3.7/dist-packages (from turicreate) (2.23.0)\n",
      "Requirement already satisfied: pillow>=5.2.0 in /usr/local/lib/python3.7/dist-packages (from turicreate) (7.0.0)\n",
      "Requirement already satisfied: pandas>=0.23.2 in /usr/local/lib/python3.7/dist-packages (from turicreate) (1.1.5)\n",
      "Requirement already satisfied: resampy==0.2.1 in /usr/local/lib/python3.7/dist-packages (from turicreate) (0.2.1)\n",
      "Requirement already satisfied: protobuf>=3.1.0 in /usr/local/lib/python3.7/dist-packages (from coremltools==3.3->turicreate) (3.12.4)\n",
      "Requirement already satisfied: llvmlite<0.34,>=0.33.0.dev0 in /usr/local/lib/python3.7/dist-packages (from numba<0.51.0->turicreate) (0.33.0)\n",
      "Requirement already satisfied: setuptools in /usr/local/lib/python3.7/dist-packages (from numba<0.51.0->turicreate) (54.1.2)\n",
      "Requirement already satisfied: pytz>=2017.2 in /usr/local/lib/python3.7/dist-packages (from pandas>=0.23.2->turicreate) (2018.9)\n",
      "Requirement already satisfied: python-dateutil>=2.7.3 in /usr/local/lib/python3.7/dist-packages (from pandas>=0.23.2->turicreate) (2.8.1)\n",
      "Requirement already satisfied: idna<3,>=2.5 in /usr/local/lib/python3.7/dist-packages (from requests>=2.9.1->turicreate) (2.10)\n",
      "Requirement already satisfied: chardet<4,>=3.0.2 in /usr/local/lib/python3.7/dist-packages (from requests>=2.9.1->turicreate) (3.0.4)\n",
      "Requirement already satisfied: urllib3!=1.25.0,!=1.25.1,<1.26,>=1.21.1 in /usr/local/lib/python3.7/dist-packages (from requests>=2.9.1->turicreate) (1.24.3)\n",
      "Requirement already satisfied: certifi>=2017.4.17 in /usr/local/lib/python3.7/dist-packages (from requests>=2.9.1->turicreate) (2020.12.5)\n",
      "Requirement already satisfied: grpcio>=1.8.6 in /usr/local/lib/python3.7/dist-packages (from tensorflow<2.1.0,>=2.0.0->turicreate) (1.32.0)\n",
      "Requirement already satisfied: wheel>=0.26 in /usr/local/lib/python3.7/dist-packages (from tensorflow<2.1.0,>=2.0.0->turicreate) (0.36.2)\n",
      "Requirement already satisfied: h5py<=2.10.0 in /usr/local/lib/python3.7/dist-packages (from tensorflow<2.1.0,>=2.0.0->turicreate) (2.10.0)\n",
      "Requirement already satisfied: absl-py>=0.7.0 in /usr/local/lib/python3.7/dist-packages (from tensorflow<2.1.0,>=2.0.0->turicreate) (0.10.0)\n",
      "Requirement already satisfied: google-pasta>=0.1.6 in /usr/local/lib/python3.7/dist-packages (from tensorflow<2.1.0,>=2.0.0->turicreate) (0.2.0)\n",
      "Requirement already satisfied: tensorboard<2.1.0,>=2.0.0 in /usr/local/lib/python3.7/dist-packages (from tensorflow<2.1.0,>=2.0.0->turicreate) (2.0.2)\n",
      "Requirement already satisfied: termcolor>=1.1.0 in /usr/local/lib/python3.7/dist-packages (from tensorflow<2.1.0,>=2.0.0->turicreate) (1.1.0)\n",
      "Requirement already satisfied: wrapt>=1.11.1 in /usr/local/lib/python3.7/dist-packages (from tensorflow<2.1.0,>=2.0.0->turicreate) (1.12.1)\n",
      "Requirement already satisfied: gast==0.2.2 in /usr/local/lib/python3.7/dist-packages (from tensorflow<2.1.0,>=2.0.0->turicreate) (0.2.2)\n",
      "Requirement already satisfied: astor>=0.6.0 in /usr/local/lib/python3.7/dist-packages (from tensorflow<2.1.0,>=2.0.0->turicreate) (0.8.1)\n",
      "Requirement already satisfied: tensorflow-estimator<2.1.0,>=2.0.0 in /usr/local/lib/python3.7/dist-packages (from tensorflow<2.1.0,>=2.0.0->turicreate) (2.0.1)\n",
      "Requirement already satisfied: keras-preprocessing>=1.0.5 in /usr/local/lib/python3.7/dist-packages (from tensorflow<2.1.0,>=2.0.0->turicreate) (1.1.2)\n",
      "Requirement already satisfied: keras-applications>=1.0.8 in /usr/local/lib/python3.7/dist-packages (from tensorflow<2.1.0,>=2.0.0->turicreate) (1.0.8)\n",
      "Requirement already satisfied: opt-einsum>=2.3.2 in /usr/local/lib/python3.7/dist-packages (from tensorflow<2.1.0,>=2.0.0->turicreate) (3.3.0)\n",
      "Requirement already satisfied: werkzeug>=0.11.15 in /usr/local/lib/python3.7/dist-packages (from tensorboard<2.1.0,>=2.0.0->tensorflow<2.1.0,>=2.0.0->turicreate) (1.0.1)\n",
      "Requirement already satisfied: markdown>=2.6.8 in /usr/local/lib/python3.7/dist-packages (from tensorboard<2.1.0,>=2.0.0->tensorflow<2.1.0,>=2.0.0->turicreate) (3.3.4)\n",
      "Requirement already satisfied: google-auth<2,>=1.6.3 in /usr/local/lib/python3.7/dist-packages (from tensorboard<2.1.0,>=2.0.0->tensorflow<2.1.0,>=2.0.0->turicreate) (1.27.1)\n",
      "Requirement already satisfied: google-auth-oauthlib<0.5,>=0.4.1 in /usr/local/lib/python3.7/dist-packages (from tensorboard<2.1.0,>=2.0.0->tensorflow<2.1.0,>=2.0.0->turicreate) (0.4.3)\n",
      "Requirement already satisfied: cachetools<5.0,>=2.0.0 in /usr/local/lib/python3.7/dist-packages (from google-auth<2,>=1.6.3->tensorboard<2.1.0,>=2.0.0->tensorflow<2.1.0,>=2.0.0->turicreate) (4.2.1)\n",
      "Requirement already satisfied: rsa<5,>=3.1.4 in /usr/local/lib/python3.7/dist-packages (from google-auth<2,>=1.6.3->tensorboard<2.1.0,>=2.0.0->tensorflow<2.1.0,>=2.0.0->turicreate) (4.7.2)\n",
      "Requirement already satisfied: pyasn1-modules>=0.2.1 in /usr/local/lib/python3.7/dist-packages (from google-auth<2,>=1.6.3->tensorboard<2.1.0,>=2.0.0->tensorflow<2.1.0,>=2.0.0->turicreate) (0.2.8)\n",
      "Requirement already satisfied: requests-oauthlib>=0.7.0 in /usr/local/lib/python3.7/dist-packages (from google-auth-oauthlib<0.5,>=0.4.1->tensorboard<2.1.0,>=2.0.0->tensorflow<2.1.0,>=2.0.0->turicreate) (1.3.0)\n",
      "Requirement already satisfied: importlib-metadata in /usr/local/lib/python3.7/dist-packages (from markdown>=2.6.8->tensorboard<2.1.0,>=2.0.0->tensorflow<2.1.0,>=2.0.0->turicreate) (3.7.2)\n",
      "Requirement already satisfied: pyasn1<0.5.0,>=0.4.6 in /usr/local/lib/python3.7/dist-packages (from pyasn1-modules>=0.2.1->google-auth<2,>=1.6.3->tensorboard<2.1.0,>=2.0.0->tensorflow<2.1.0,>=2.0.0->turicreate) (0.4.8)\n",
      "Requirement already satisfied: oauthlib>=3.0.0 in /usr/local/lib/python3.7/dist-packages (from requests-oauthlib>=0.7.0->google-auth-oauthlib<0.5,>=0.4.1->tensorboard<2.1.0,>=2.0.0->tensorflow<2.1.0,>=2.0.0->turicreate) (3.1.0)\n",
      "Requirement already satisfied: zipp>=0.5 in /usr/local/lib/python3.7/dist-packages (from importlib-metadata->markdown>=2.6.8->tensorboard<2.1.0,>=2.0.0->tensorflow<2.1.0,>=2.0.0->turicreate) (3.4.1)\n",
      "Requirement already satisfied: typing-extensions>=3.6.4 in /usr/local/lib/python3.7/dist-packages (from importlib-metadata->markdown>=2.6.8->tensorboard<2.1.0,>=2.0.0->tensorflow<2.1.0,>=2.0.0->turicreate) (3.7.4.3)\n"
     ]
    }
   ],
   "source": [
    "!pip install turicreate"
   ]
  },
  {
   "cell_type": "code",
   "execution_count": 59,
   "metadata": {
    "id": "ZzBrEyemu5j7"
   },
   "outputs": [],
   "source": [
    "import pandas as pd\n",
    "import numpy as np\n",
    "from sklearn.model_selection import train_test_split\n",
    "import turicreate\n",
    "from sklearn.metrics import mean_squared_error\n",
    "from collections import Counter"
   ]
  },
  {
   "cell_type": "code",
   "execution_count": 39,
   "metadata": {
    "id": "0Wujy_Y_4OuV"
   },
   "outputs": [],
   "source": [
    "df_train = pd.read_csv(\"train.csv\")"
   ]
  },
  {
   "cell_type": "code",
   "execution_count": 40,
   "metadata": {
    "colab": {
     "base_uri": "https://localhost:8080/"
    },
    "id": "-RZPXcw-4v2c",
    "outputId": "182d96e9-0a2b-4786-c071-10cb8e5b50e6"
   },
   "outputs": [
    {
     "name": "stdout",
     "output_type": "stream",
     "text": [
      "<class 'pandas.core.frame.DataFrame'>\n",
      "RangeIndex: 150000 entries, 0 to 149999\n",
      "Data columns (total 11 columns):\n",
      " #   Column          Non-Null Count   Dtype  \n",
      "---  ------          --------------   -----  \n",
      " 0   overall         150000 non-null  float64\n",
      " 1   reviewTime      150000 non-null  object \n",
      " 2   reviewerID      150000 non-null  object \n",
      " 3   reviewText      149972 non-null  object \n",
      " 4   summary         149971 non-null  object \n",
      " 5   unixReviewTime  150000 non-null  int64  \n",
      " 6   category        150000 non-null  object \n",
      " 7   price           150000 non-null  object \n",
      " 8   itemID          150000 non-null  object \n",
      " 9   reviewHash      150000 non-null  int64  \n",
      " 10  image           351 non-null     object \n",
      "dtypes: float64(1), int64(2), object(8)\n",
      "memory usage: 12.6+ MB\n"
     ]
    }
   ],
   "source": [
    "df_train.info()"
   ]
  },
  {
   "cell_type": "code",
   "execution_count": 41,
   "metadata": {
    "colab": {
     "base_uri": "https://localhost:8080/",
     "height": 837
    },
    "id": "DJGoJis94s9o",
    "outputId": "7c0217dd-11b2-467e-8d6f-be719a6c2a57"
   },
   "outputs": [
    {
     "name": "stderr",
     "output_type": "stream",
     "text": [
      "/usr/local/lib/python3.7/dist-packages/ipykernel_launcher.py:5: SettingWithCopyWarning: \n",
      "A value is trying to be set on a copy of a slice from a DataFrame.\n",
      "Try using .loc[row_indexer,col_indexer] = value instead\n",
      "\n",
      "See the caveats in the documentation: https://pandas.pydata.org/pandas-docs/stable/user_guide/indexing.html#returning-a-view-versus-a-copy\n",
      "  \"\"\"\n",
      "/usr/local/lib/python3.7/dist-packages/ipykernel_launcher.py:6: SettingWithCopyWarning: \n",
      "A value is trying to be set on a copy of a slice from a DataFrame.\n",
      "Try using .loc[row_indexer,col_indexer] = value instead\n",
      "\n",
      "See the caveats in the documentation: https://pandas.pydata.org/pandas-docs/stable/user_guide/indexing.html#returning-a-view-versus-a-copy\n",
      "  \n",
      "/usr/local/lib/python3.7/dist-packages/ipykernel_launcher.py:7: SettingWithCopyWarning: \n",
      "A value is trying to be set on a copy of a slice from a DataFrame.\n",
      "Try using .loc[row_indexer,col_indexer] = value instead\n",
      "\n",
      "See the caveats in the documentation: https://pandas.pydata.org/pandas-docs/stable/user_guide/indexing.html#returning-a-view-versus-a-copy\n",
      "  import sys\n",
      "/usr/local/lib/python3.7/dist-packages/ipykernel_launcher.py:8: SettingWithCopyWarning: \n",
      "A value is trying to be set on a copy of a slice from a DataFrame.\n",
      "Try using .loc[row_indexer,col_indexer] = value instead\n",
      "\n",
      "See the caveats in the documentation: https://pandas.pydata.org/pandas-docs/stable/user_guide/indexing.html#returning-a-view-versus-a-copy\n",
      "  \n"
     ]
    },
    {
     "data": {
      "text/html": [
       "<div>\n",
       "<style scoped>\n",
       "    .dataframe tbody tr th:only-of-type {\n",
       "        vertical-align: middle;\n",
       "    }\n",
       "\n",
       "    .dataframe tbody tr th {\n",
       "        vertical-align: top;\n",
       "    }\n",
       "\n",
       "    .dataframe thead th {\n",
       "        text-align: right;\n",
       "    }\n",
       "</style>\n",
       "<table border=\"1\" class=\"dataframe\">\n",
       "  <thead>\n",
       "    <tr style=\"text-align: right;\">\n",
       "      <th></th>\n",
       "      <th>reviewerID</th>\n",
       "      <th>itemID</th>\n",
       "      <th>overall</th>\n",
       "    </tr>\n",
       "  </thead>\n",
       "  <tbody>\n",
       "    <tr>\n",
       "      <th>0</th>\n",
       "      <td>92990698</td>\n",
       "      <td>23649501</td>\n",
       "      <td>5.0</td>\n",
       "    </tr>\n",
       "    <tr>\n",
       "      <th>1</th>\n",
       "      <td>36200649</td>\n",
       "      <td>58458313</td>\n",
       "      <td>5.0</td>\n",
       "    </tr>\n",
       "    <tr>\n",
       "      <th>2</th>\n",
       "      <td>10721702</td>\n",
       "      <td>97027626</td>\n",
       "      <td>5.0</td>\n",
       "    </tr>\n",
       "    <tr>\n",
       "      <th>3</th>\n",
       "      <td>86003775</td>\n",
       "      <td>43167086</td>\n",
       "      <td>5.0</td>\n",
       "    </tr>\n",
       "    <tr>\n",
       "      <th>4</th>\n",
       "      <td>25672859</td>\n",
       "      <td>94494236</td>\n",
       "      <td>5.0</td>\n",
       "    </tr>\n",
       "    <tr>\n",
       "      <th>...</th>\n",
       "      <td>...</td>\n",
       "      <td>...</td>\n",
       "      <td>...</td>\n",
       "    </tr>\n",
       "    <tr>\n",
       "      <th>149995</th>\n",
       "      <td>29136602</td>\n",
       "      <td>26326919</td>\n",
       "      <td>5.0</td>\n",
       "    </tr>\n",
       "    <tr>\n",
       "      <th>149996</th>\n",
       "      <td>51715193</td>\n",
       "      <td>69247882</td>\n",
       "      <td>5.0</td>\n",
       "    </tr>\n",
       "    <tr>\n",
       "      <th>149997</th>\n",
       "      <td>28696060</td>\n",
       "      <td>7028930</td>\n",
       "      <td>5.0</td>\n",
       "    </tr>\n",
       "    <tr>\n",
       "      <th>149998</th>\n",
       "      <td>4925906</td>\n",
       "      <td>38606785</td>\n",
       "      <td>5.0</td>\n",
       "    </tr>\n",
       "    <tr>\n",
       "      <th>149999</th>\n",
       "      <td>79459462</td>\n",
       "      <td>7495887</td>\n",
       "      <td>5.0</td>\n",
       "    </tr>\n",
       "  </tbody>\n",
       "</table>\n",
       "<p>150000 rows × 3 columns</p>\n",
       "</div>"
      ],
      "text/plain": [
       "        reviewerID    itemID  overall\n",
       "0         92990698  23649501      5.0\n",
       "1         36200649  58458313      5.0\n",
       "2         10721702  97027626      5.0\n",
       "3         86003775  43167086      5.0\n",
       "4         25672859  94494236      5.0\n",
       "...            ...       ...      ...\n",
       "149995    29136602  26326919      5.0\n",
       "149996    51715193  69247882      5.0\n",
       "149997    28696060   7028930      5.0\n",
       "149998     4925906  38606785      5.0\n",
       "149999    79459462   7495887      5.0\n",
       "\n",
       "[150000 rows x 3 columns]"
      ]
     },
     "execution_count": 41,
     "metadata": {
      "tags": []
     },
     "output_type": "execute_result"
    }
   ],
   "source": [
    "r_cols = [\"reviewerID\", \"itemID\", \"overall\"]\n",
    "dataset = df_train[r_cols]\n",
    "\n",
    "# Remove \"u\" in the column \"reviewerID\" and \"p\" in the column \"itemID\"\n",
    "dataset[\"reviewerID\"] = dataset[\"reviewerID\"].str.replace(\"u\" ,\"\")\n",
    "dataset[\"reviewerID\"] = pd.to_numeric(dataset[\"reviewerID\"])\n",
    "dataset[\"itemID\"] = dataset[\"itemID\"].str.replace(\"p\" ,\"\")\n",
    "dataset[\"itemID\"] = pd.to_numeric(dataset[\"itemID\"])\n",
    "dataset"
   ]
  },
  {
   "cell_type": "markdown",
   "metadata": {
    "id": "8pGZprAtPYsr"
   },
   "source": [
    "Split the training set and test (validation) set."
   ]
  },
  {
   "cell_type": "code",
   "execution_count": 42,
   "metadata": {
    "id": "pcE2VmYOPdNS"
   },
   "outputs": [],
   "source": [
    "X = dataset[[\"reviewerID\", \"itemID\"]]\n",
    "y = dataset[\"overall\"]\n",
    "X_train, X_test, y_train, y_test = train_test_split(X, y, test_size=0.3, \n",
    "                                                    random_state=42)"
   ]
  },
  {
   "cell_type": "code",
   "execution_count": 43,
   "metadata": {
    "colab": {
     "base_uri": "https://localhost:8080/"
    },
    "id": "MKhaN5QC5l18",
    "outputId": "c4b61d51-d897-470b-c6a1-da3b8f80eb0c"
   },
   "outputs": [
    {
     "name": "stdout",
     "output_type": "stream",
     "text": [
      "In the training set:\n",
      "Number of reviewers: 51727.\n",
      "Number of items: 22821.\n"
     ]
    }
   ],
   "source": [
    "print(\"In the training set:\")\n",
    "n_reviewers_train = X_train[\"reviewerID\"].unique().shape[0]\n",
    "print(\"Number of reviewers: %d.\" % n_reviewers_train)\n",
    "n_items_train = X_train[\"itemID\"].unique().shape[0]\n",
    "print(\"Number of items: %d.\" % n_items_train)"
   ]
  },
  {
   "cell_type": "code",
   "execution_count": 44,
   "metadata": {
    "colab": {
     "base_uri": "https://localhost:8080/",
     "height": 532
    },
    "id": "34opObtfQWh-",
    "outputId": "2aad0255-0ade-468d-ea28-858045a5f67b"
   },
   "outputs": [
    {
     "name": "stderr",
     "output_type": "stream",
     "text": [
      "/usr/local/lib/python3.7/dist-packages/ipykernel_launcher.py:2: SettingWithCopyWarning: \n",
      "A value is trying to be set on a copy of a slice from a DataFrame.\n",
      "Try using .loc[row_indexer,col_indexer] = value instead\n",
      "\n",
      "See the caveats in the documentation: https://pandas.pydata.org/pandas-docs/stable/user_guide/indexing.html#returning-a-view-versus-a-copy\n",
      "  \n"
     ]
    },
    {
     "data": {
      "text/html": [
       "<div>\n",
       "<style scoped>\n",
       "    .dataframe tbody tr th:only-of-type {\n",
       "        vertical-align: middle;\n",
       "    }\n",
       "\n",
       "    .dataframe tbody tr th {\n",
       "        vertical-align: top;\n",
       "    }\n",
       "\n",
       "    .dataframe thead th {\n",
       "        text-align: right;\n",
       "    }\n",
       "</style>\n",
       "<table border=\"1\" class=\"dataframe\">\n",
       "  <thead>\n",
       "    <tr style=\"text-align: right;\">\n",
       "      <th></th>\n",
       "      <th>reviewerID</th>\n",
       "      <th>itemID</th>\n",
       "      <th>overall</th>\n",
       "    </tr>\n",
       "  </thead>\n",
       "  <tbody>\n",
       "    <tr>\n",
       "      <th>27822</th>\n",
       "      <td>36062488</td>\n",
       "      <td>95953136</td>\n",
       "      <td>5.0</td>\n",
       "    </tr>\n",
       "    <tr>\n",
       "      <th>85202</th>\n",
       "      <td>80160344</td>\n",
       "      <td>3910736</td>\n",
       "      <td>1.0</td>\n",
       "    </tr>\n",
       "    <tr>\n",
       "      <th>42217</th>\n",
       "      <td>10278246</td>\n",
       "      <td>36753582</td>\n",
       "      <td>4.0</td>\n",
       "    </tr>\n",
       "    <tr>\n",
       "      <th>119958</th>\n",
       "      <td>65852773</td>\n",
       "      <td>79839929</td>\n",
       "      <td>5.0</td>\n",
       "    </tr>\n",
       "    <tr>\n",
       "      <th>37678</th>\n",
       "      <td>61404159</td>\n",
       "      <td>96488536</td>\n",
       "      <td>5.0</td>\n",
       "    </tr>\n",
       "    <tr>\n",
       "      <th>...</th>\n",
       "      <td>...</td>\n",
       "      <td>...</td>\n",
       "      <td>...</td>\n",
       "    </tr>\n",
       "    <tr>\n",
       "      <th>119879</th>\n",
       "      <td>78315757</td>\n",
       "      <td>43416622</td>\n",
       "      <td>5.0</td>\n",
       "    </tr>\n",
       "    <tr>\n",
       "      <th>103694</th>\n",
       "      <td>94793406</td>\n",
       "      <td>71959028</td>\n",
       "      <td>4.0</td>\n",
       "    </tr>\n",
       "    <tr>\n",
       "      <th>131932</th>\n",
       "      <td>98922311</td>\n",
       "      <td>24764686</td>\n",
       "      <td>5.0</td>\n",
       "    </tr>\n",
       "    <tr>\n",
       "      <th>146867</th>\n",
       "      <td>71705099</td>\n",
       "      <td>73254534</td>\n",
       "      <td>3.0</td>\n",
       "    </tr>\n",
       "    <tr>\n",
       "      <th>121958</th>\n",
       "      <td>99996166</td>\n",
       "      <td>2981415</td>\n",
       "      <td>4.0</td>\n",
       "    </tr>\n",
       "  </tbody>\n",
       "</table>\n",
       "<p>105000 rows × 3 columns</p>\n",
       "</div>"
      ],
      "text/plain": [
       "        reviewerID    itemID  overall\n",
       "27822     36062488  95953136      5.0\n",
       "85202     80160344   3910736      1.0\n",
       "42217     10278246  36753582      4.0\n",
       "119958    65852773  79839929      5.0\n",
       "37678     61404159  96488536      5.0\n",
       "...            ...       ...      ...\n",
       "119879    78315757  43416622      5.0\n",
       "103694    94793406  71959028      4.0\n",
       "131932    98922311  24764686      5.0\n",
       "146867    71705099  73254534      3.0\n",
       "121958    99996166   2981415      4.0\n",
       "\n",
       "[105000 rows x 3 columns]"
      ]
     },
     "execution_count": 44,
     "metadata": {
      "tags": []
     },
     "output_type": "execute_result"
    }
   ],
   "source": [
    "train_set = X_train\n",
    "train_set[\"overall\"] = y_train\n",
    "train_set"
   ]
  },
  {
   "cell_type": "code",
   "execution_count": 45,
   "metadata": {
    "colab": {
     "base_uri": "https://localhost:8080/"
    },
    "id": "EV0bj_gHlzaL",
    "outputId": "159427af-58cf-4054-ae2c-dde936a2f9c9"
   },
   "outputs": [
    {
     "name": "stdout",
     "output_type": "stream",
     "text": [
      "In the test set:\n",
      "Number of reviewers: 29160.\n",
      "Number of items: 16509.\n"
     ]
    }
   ],
   "source": [
    "print(\"In the test set:\")\n",
    "n_reviewers_test = X_test[\"reviewerID\"].unique().shape[0]\n",
    "print(\"Number of reviewers: %d.\" % n_reviewers_test)\n",
    "n_items_test = X_test[\"itemID\"].unique().shape[0]\n",
    "print(\"Number of items: %d.\" % n_items_test)"
   ]
  },
  {
   "cell_type": "code",
   "execution_count": 98,
   "metadata": {
    "colab": {
     "base_uri": "https://localhost:8080/",
     "height": 532
    },
    "id": "TFSi9b_7liTG",
    "outputId": "777e322e-fbf9-44eb-de5e-87930575bbec"
   },
   "outputs": [
    {
     "name": "stderr",
     "output_type": "stream",
     "text": [
      "/usr/local/lib/python3.7/dist-packages/ipykernel_launcher.py:2: SettingWithCopyWarning: \n",
      "A value is trying to be set on a copy of a slice from a DataFrame.\n",
      "Try using .loc[row_indexer,col_indexer] = value instead\n",
      "\n",
      "See the caveats in the documentation: https://pandas.pydata.org/pandas-docs/stable/user_guide/indexing.html#returning-a-view-versus-a-copy\n",
      "  \n"
     ]
    },
    {
     "data": {
      "text/html": [
       "<div>\n",
       "<style scoped>\n",
       "    .dataframe tbody tr th:only-of-type {\n",
       "        vertical-align: middle;\n",
       "    }\n",
       "\n",
       "    .dataframe tbody tr th {\n",
       "        vertical-align: top;\n",
       "    }\n",
       "\n",
       "    .dataframe thead th {\n",
       "        text-align: right;\n",
       "    }\n",
       "</style>\n",
       "<table border=\"1\" class=\"dataframe\">\n",
       "  <thead>\n",
       "    <tr style=\"text-align: right;\">\n",
       "      <th></th>\n",
       "      <th>reviewerID</th>\n",
       "      <th>itemID</th>\n",
       "      <th>overall</th>\n",
       "    </tr>\n",
       "  </thead>\n",
       "  <tbody>\n",
       "    <tr>\n",
       "      <th>59770</th>\n",
       "      <td>27795695</td>\n",
       "      <td>87595611</td>\n",
       "      <td>5.0</td>\n",
       "    </tr>\n",
       "    <tr>\n",
       "      <th>21362</th>\n",
       "      <td>25588969</td>\n",
       "      <td>54328640</td>\n",
       "      <td>5.0</td>\n",
       "    </tr>\n",
       "    <tr>\n",
       "      <th>127324</th>\n",
       "      <td>32826075</td>\n",
       "      <td>98585649</td>\n",
       "      <td>5.0</td>\n",
       "    </tr>\n",
       "    <tr>\n",
       "      <th>140509</th>\n",
       "      <td>54386356</td>\n",
       "      <td>79496784</td>\n",
       "      <td>5.0</td>\n",
       "    </tr>\n",
       "    <tr>\n",
       "      <th>144297</th>\n",
       "      <td>54095284</td>\n",
       "      <td>12135090</td>\n",
       "      <td>5.0</td>\n",
       "    </tr>\n",
       "    <tr>\n",
       "      <th>...</th>\n",
       "      <td>...</td>\n",
       "      <td>...</td>\n",
       "      <td>...</td>\n",
       "    </tr>\n",
       "    <tr>\n",
       "      <th>89890</th>\n",
       "      <td>28436262</td>\n",
       "      <td>43647333</td>\n",
       "      <td>5.0</td>\n",
       "    </tr>\n",
       "    <tr>\n",
       "      <th>94082</th>\n",
       "      <td>53116995</td>\n",
       "      <td>11683810</td>\n",
       "      <td>5.0</td>\n",
       "    </tr>\n",
       "    <tr>\n",
       "      <th>29674</th>\n",
       "      <td>92859373</td>\n",
       "      <td>62568296</td>\n",
       "      <td>4.0</td>\n",
       "    </tr>\n",
       "    <tr>\n",
       "      <th>92625</th>\n",
       "      <td>46206709</td>\n",
       "      <td>41723559</td>\n",
       "      <td>5.0</td>\n",
       "    </tr>\n",
       "    <tr>\n",
       "      <th>98351</th>\n",
       "      <td>32997826</td>\n",
       "      <td>56091313</td>\n",
       "      <td>5.0</td>\n",
       "    </tr>\n",
       "  </tbody>\n",
       "</table>\n",
       "<p>45000 rows × 3 columns</p>\n",
       "</div>"
      ],
      "text/plain": [
       "        reviewerID    itemID  overall\n",
       "59770     27795695  87595611      5.0\n",
       "21362     25588969  54328640      5.0\n",
       "127324    32826075  98585649      5.0\n",
       "140509    54386356  79496784      5.0\n",
       "144297    54095284  12135090      5.0\n",
       "...            ...       ...      ...\n",
       "89890     28436262  43647333      5.0\n",
       "94082     53116995  11683810      5.0\n",
       "29674     92859373  62568296      4.0\n",
       "92625     46206709  41723559      5.0\n",
       "98351     32997826  56091313      5.0\n",
       "\n",
       "[45000 rows x 3 columns]"
      ]
     },
     "execution_count": 98,
     "metadata": {
      "tags": []
     },
     "output_type": "execute_result"
    }
   ],
   "source": [
    "test_set = X_test\n",
    "test_set[\"overall\"] = y_test\n",
    "test_set"
   ]
  },
  {
   "cell_type": "code",
   "execution_count": 47,
   "metadata": {
    "id": "i8wAHv2Zl80h"
   },
   "outputs": [],
   "source": [
    "train_data = turicreate.SFrame(train_set)\n",
    "test_data = turicreate.SFrame(test_set)"
   ]
  },
  {
   "cell_type": "markdown",
   "metadata": {
    "id": "U3on2nBIoobm"
   },
   "source": [
    "# Popularity model"
   ]
  },
  {
   "cell_type": "markdown",
   "metadata": {
    "id": "v5pJJAQWmtnC"
   },
   "source": [
    "* **train_data**: the dataset to use for training the model\n",
    "* **user_id**: the column name which represents each reviewer ID\n",
    "* **item_id**: the column name which represents each item ID to be recommended \n",
    "* **target**: the column name representing ratings given by the reviewers"
   ]
  },
  {
   "cell_type": "code",
   "execution_count": 48,
   "metadata": {
    "colab": {
     "base_uri": "https://localhost:8080/",
     "height": 85
    },
    "id": "VrEz8H_rmQne",
    "outputId": "6bb65ed1-8c01-47ac-f474-0a3c40e050ab"
   },
   "outputs": [
    {
     "data": {
      "text/html": [
       "<pre>Preparing data set.</pre>"
      ],
      "text/plain": [
       "Preparing data set."
      ]
     },
     "metadata": {
      "tags": []
     },
     "output_type": "display_data"
    },
    {
     "data": {
      "text/html": [
       "<pre>    Data has 105000 observations with 51727 users and 22821 items.</pre>"
      ],
      "text/plain": [
       "    Data has 105000 observations with 51727 users and 22821 items."
      ]
     },
     "metadata": {
      "tags": []
     },
     "output_type": "display_data"
    },
    {
     "data": {
      "text/html": [
       "<pre>    Data prepared in: 0.175781s</pre>"
      ],
      "text/plain": [
       "    Data prepared in: 0.175781s"
      ]
     },
     "metadata": {
      "tags": []
     },
     "output_type": "display_data"
    },
    {
     "data": {
      "text/html": [
       "<pre>105000 observations to process; with 22821 unique items.</pre>"
      ],
      "text/plain": [
       "105000 observations to process; with 22821 unique items."
      ]
     },
     "metadata": {
      "tags": []
     },
     "output_type": "display_data"
    }
   ],
   "source": [
    "popularity_model = turicreate.popularity_recommender.create(train_data, \n",
    "                                                            user_id=\"reviewerID\", \n",
    "                                                            item_id=\"itemID\", \n",
    "                                                            target=\"overall\")"
   ]
  },
  {
   "cell_type": "code",
   "execution_count": 49,
   "metadata": {
    "colab": {
     "base_uri": "https://localhost:8080/",
     "height": 1000
    },
    "id": "ce8z4zvLnFkH",
    "outputId": "f34d0413-1fd2-4f0a-afea-5aec9e7efbb6"
   },
   "outputs": [
    {
     "data": {
      "text/html": [
       "<pre>recommendations finished on 1000/45000 queries. users per second: 4985.91</pre>"
      ],
      "text/plain": [
       "recommendations finished on 1000/45000 queries. users per second: 4985.91"
      ]
     },
     "metadata": {
      "tags": []
     },
     "output_type": "display_data"
    },
    {
     "data": {
      "text/html": [
       "<pre>recommendations finished on 2000/45000 queries. users per second: 5036.51</pre>"
      ],
      "text/plain": [
       "recommendations finished on 2000/45000 queries. users per second: 5036.51"
      ]
     },
     "metadata": {
      "tags": []
     },
     "output_type": "display_data"
    },
    {
     "data": {
      "text/html": [
       "<pre>recommendations finished on 3000/45000 queries. users per second: 5145.47</pre>"
      ],
      "text/plain": [
       "recommendations finished on 3000/45000 queries. users per second: 5145.47"
      ]
     },
     "metadata": {
      "tags": []
     },
     "output_type": "display_data"
    },
    {
     "data": {
      "text/html": [
       "<pre>recommendations finished on 4000/45000 queries. users per second: 5112.25</pre>"
      ],
      "text/plain": [
       "recommendations finished on 4000/45000 queries. users per second: 5112.25"
      ]
     },
     "metadata": {
      "tags": []
     },
     "output_type": "display_data"
    },
    {
     "data": {
      "text/html": [
       "<pre>recommendations finished on 5000/45000 queries. users per second: 5139.31</pre>"
      ],
      "text/plain": [
       "recommendations finished on 5000/45000 queries. users per second: 5139.31"
      ]
     },
     "metadata": {
      "tags": []
     },
     "output_type": "display_data"
    },
    {
     "data": {
      "text/html": [
       "<pre>recommendations finished on 6000/45000 queries. users per second: 5122.09</pre>"
      ],
      "text/plain": [
       "recommendations finished on 6000/45000 queries. users per second: 5122.09"
      ]
     },
     "metadata": {
      "tags": []
     },
     "output_type": "display_data"
    },
    {
     "data": {
      "text/html": [
       "<pre>recommendations finished on 7000/45000 queries. users per second: 5161.94</pre>"
      ],
      "text/plain": [
       "recommendations finished on 7000/45000 queries. users per second: 5161.94"
      ]
     },
     "metadata": {
      "tags": []
     },
     "output_type": "display_data"
    },
    {
     "data": {
      "text/html": [
       "<pre>recommendations finished on 8000/45000 queries. users per second: 5185.22</pre>"
      ],
      "text/plain": [
       "recommendations finished on 8000/45000 queries. users per second: 5185.22"
      ]
     },
     "metadata": {
      "tags": []
     },
     "output_type": "display_data"
    },
    {
     "data": {
      "text/html": [
       "<pre>recommendations finished on 9000/45000 queries. users per second: 5163.88</pre>"
      ],
      "text/plain": [
       "recommendations finished on 9000/45000 queries. users per second: 5163.88"
      ]
     },
     "metadata": {
      "tags": []
     },
     "output_type": "display_data"
    },
    {
     "data": {
      "text/html": [
       "<pre>recommendations finished on 10000/45000 queries. users per second: 5173.83</pre>"
      ],
      "text/plain": [
       "recommendations finished on 10000/45000 queries. users per second: 5173.83"
      ]
     },
     "metadata": {
      "tags": []
     },
     "output_type": "display_data"
    },
    {
     "data": {
      "text/html": [
       "<pre>recommendations finished on 11000/45000 queries. users per second: 5169.34</pre>"
      ],
      "text/plain": [
       "recommendations finished on 11000/45000 queries. users per second: 5169.34"
      ]
     },
     "metadata": {
      "tags": []
     },
     "output_type": "display_data"
    },
    {
     "data": {
      "text/html": [
       "<pre>recommendations finished on 12000/45000 queries. users per second: 5159.97</pre>"
      ],
      "text/plain": [
       "recommendations finished on 12000/45000 queries. users per second: 5159.97"
      ]
     },
     "metadata": {
      "tags": []
     },
     "output_type": "display_data"
    },
    {
     "data": {
      "text/html": [
       "<pre>recommendations finished on 13000/45000 queries. users per second: 5179.49</pre>"
      ],
      "text/plain": [
       "recommendations finished on 13000/45000 queries. users per second: 5179.49"
      ]
     },
     "metadata": {
      "tags": []
     },
     "output_type": "display_data"
    },
    {
     "data": {
      "text/html": [
       "<pre>recommendations finished on 14000/45000 queries. users per second: 5188.56</pre>"
      ],
      "text/plain": [
       "recommendations finished on 14000/45000 queries. users per second: 5188.56"
      ]
     },
     "metadata": {
      "tags": []
     },
     "output_type": "display_data"
    },
    {
     "data": {
      "text/html": [
       "<pre>recommendations finished on 15000/45000 queries. users per second: 5197.95</pre>"
      ],
      "text/plain": [
       "recommendations finished on 15000/45000 queries. users per second: 5197.95"
      ]
     },
     "metadata": {
      "tags": []
     },
     "output_type": "display_data"
    },
    {
     "data": {
      "text/html": [
       "<pre>recommendations finished on 16000/45000 queries. users per second: 5204.22</pre>"
      ],
      "text/plain": [
       "recommendations finished on 16000/45000 queries. users per second: 5204.22"
      ]
     },
     "metadata": {
      "tags": []
     },
     "output_type": "display_data"
    },
    {
     "data": {
      "text/html": [
       "<pre>recommendations finished on 17000/45000 queries. users per second: 5191.58</pre>"
      ],
      "text/plain": [
       "recommendations finished on 17000/45000 queries. users per second: 5191.58"
      ]
     },
     "metadata": {
      "tags": []
     },
     "output_type": "display_data"
    },
    {
     "data": {
      "text/html": [
       "<pre>recommendations finished on 18000/45000 queries. users per second: 5203.25</pre>"
      ],
      "text/plain": [
       "recommendations finished on 18000/45000 queries. users per second: 5203.25"
      ]
     },
     "metadata": {
      "tags": []
     },
     "output_type": "display_data"
    },
    {
     "data": {
      "text/html": [
       "<pre>recommendations finished on 19000/45000 queries. users per second: 5205.5</pre>"
      ],
      "text/plain": [
       "recommendations finished on 19000/45000 queries. users per second: 5205.5"
      ]
     },
     "metadata": {
      "tags": []
     },
     "output_type": "display_data"
    },
    {
     "data": {
      "text/html": [
       "<pre>recommendations finished on 20000/45000 queries. users per second: 5203.77</pre>"
      ],
      "text/plain": [
       "recommendations finished on 20000/45000 queries. users per second: 5203.77"
      ]
     },
     "metadata": {
      "tags": []
     },
     "output_type": "display_data"
    },
    {
     "data": {
      "text/html": [
       "<pre>recommendations finished on 21000/45000 queries. users per second: 5207.43</pre>"
      ],
      "text/plain": [
       "recommendations finished on 21000/45000 queries. users per second: 5207.43"
      ]
     },
     "metadata": {
      "tags": []
     },
     "output_type": "display_data"
    },
    {
     "data": {
      "text/html": [
       "<pre>recommendations finished on 22000/45000 queries. users per second: 5199.97</pre>"
      ],
      "text/plain": [
       "recommendations finished on 22000/45000 queries. users per second: 5199.97"
      ]
     },
     "metadata": {
      "tags": []
     },
     "output_type": "display_data"
    },
    {
     "data": {
      "text/html": [
       "<pre>recommendations finished on 23000/45000 queries. users per second: 5199.67</pre>"
      ],
      "text/plain": [
       "recommendations finished on 23000/45000 queries. users per second: 5199.67"
      ]
     },
     "metadata": {
      "tags": []
     },
     "output_type": "display_data"
    },
    {
     "data": {
      "text/html": [
       "<pre>recommendations finished on 24000/45000 queries. users per second: 5208.32</pre>"
      ],
      "text/plain": [
       "recommendations finished on 24000/45000 queries. users per second: 5208.32"
      ]
     },
     "metadata": {
      "tags": []
     },
     "output_type": "display_data"
    },
    {
     "data": {
      "text/html": [
       "<pre>recommendations finished on 25000/45000 queries. users per second: 5211.54</pre>"
      ],
      "text/plain": [
       "recommendations finished on 25000/45000 queries. users per second: 5211.54"
      ]
     },
     "metadata": {
      "tags": []
     },
     "output_type": "display_data"
    },
    {
     "data": {
      "text/html": [
       "<pre>recommendations finished on 26000/45000 queries. users per second: 5211.38</pre>"
      ],
      "text/plain": [
       "recommendations finished on 26000/45000 queries. users per second: 5211.38"
      ]
     },
     "metadata": {
      "tags": []
     },
     "output_type": "display_data"
    },
    {
     "data": {
      "text/html": [
       "<pre>recommendations finished on 27000/45000 queries. users per second: 5218.63</pre>"
      ],
      "text/plain": [
       "recommendations finished on 27000/45000 queries. users per second: 5218.63"
      ]
     },
     "metadata": {
      "tags": []
     },
     "output_type": "display_data"
    },
    {
     "data": {
      "text/html": [
       "<pre>recommendations finished on 28000/45000 queries. users per second: 5217.25</pre>"
      ],
      "text/plain": [
       "recommendations finished on 28000/45000 queries. users per second: 5217.25"
      ]
     },
     "metadata": {
      "tags": []
     },
     "output_type": "display_data"
    },
    {
     "data": {
      "text/html": [
       "<pre>recommendations finished on 29000/45000 queries. users per second: 5217.63</pre>"
      ],
      "text/plain": [
       "recommendations finished on 29000/45000 queries. users per second: 5217.63"
      ]
     },
     "metadata": {
      "tags": []
     },
     "output_type": "display_data"
    },
    {
     "data": {
      "text/html": [
       "<pre>recommendations finished on 30000/45000 queries. users per second: 5226.13</pre>"
      ],
      "text/plain": [
       "recommendations finished on 30000/45000 queries. users per second: 5226.13"
      ]
     },
     "metadata": {
      "tags": []
     },
     "output_type": "display_data"
    },
    {
     "data": {
      "text/html": [
       "<pre>recommendations finished on 31000/45000 queries. users per second: 5227.56</pre>"
      ],
      "text/plain": [
       "recommendations finished on 31000/45000 queries. users per second: 5227.56"
      ]
     },
     "metadata": {
      "tags": []
     },
     "output_type": "display_data"
    },
    {
     "data": {
      "text/html": [
       "<pre>recommendations finished on 32000/45000 queries. users per second: 5231.48</pre>"
      ],
      "text/plain": [
       "recommendations finished on 32000/45000 queries. users per second: 5231.48"
      ]
     },
     "metadata": {
      "tags": []
     },
     "output_type": "display_data"
    },
    {
     "data": {
      "text/html": [
       "<pre>recommendations finished on 33000/45000 queries. users per second: 5223.27</pre>"
      ],
      "text/plain": [
       "recommendations finished on 33000/45000 queries. users per second: 5223.27"
      ]
     },
     "metadata": {
      "tags": []
     },
     "output_type": "display_data"
    },
    {
     "data": {
      "text/html": [
       "<pre>recommendations finished on 34000/45000 queries. users per second: 5224.96</pre>"
      ],
      "text/plain": [
       "recommendations finished on 34000/45000 queries. users per second: 5224.96"
      ]
     },
     "metadata": {
      "tags": []
     },
     "output_type": "display_data"
    },
    {
     "data": {
      "text/html": [
       "<pre>recommendations finished on 35000/45000 queries. users per second: 5229.51</pre>"
      ],
      "text/plain": [
       "recommendations finished on 35000/45000 queries. users per second: 5229.51"
      ]
     },
     "metadata": {
      "tags": []
     },
     "output_type": "display_data"
    },
    {
     "data": {
      "text/html": [
       "<pre>recommendations finished on 36000/45000 queries. users per second: 5227.51</pre>"
      ],
      "text/plain": [
       "recommendations finished on 36000/45000 queries. users per second: 5227.51"
      ]
     },
     "metadata": {
      "tags": []
     },
     "output_type": "display_data"
    },
    {
     "data": {
      "text/html": [
       "<pre>recommendations finished on 37000/45000 queries. users per second: 5231.95</pre>"
      ],
      "text/plain": [
       "recommendations finished on 37000/45000 queries. users per second: 5231.95"
      ]
     },
     "metadata": {
      "tags": []
     },
     "output_type": "display_data"
    },
    {
     "data": {
      "text/html": [
       "<pre>recommendations finished on 38000/45000 queries. users per second: 5229.93</pre>"
      ],
      "text/plain": [
       "recommendations finished on 38000/45000 queries. users per second: 5229.93"
      ]
     },
     "metadata": {
      "tags": []
     },
     "output_type": "display_data"
    },
    {
     "data": {
      "text/html": [
       "<pre>recommendations finished on 39000/45000 queries. users per second: 5233.42</pre>"
      ],
      "text/plain": [
       "recommendations finished on 39000/45000 queries. users per second: 5233.42"
      ]
     },
     "metadata": {
      "tags": []
     },
     "output_type": "display_data"
    },
    {
     "data": {
      "text/html": [
       "<pre>recommendations finished on 40000/45000 queries. users per second: 5235.21</pre>"
      ],
      "text/plain": [
       "recommendations finished on 40000/45000 queries. users per second: 5235.21"
      ]
     },
     "metadata": {
      "tags": []
     },
     "output_type": "display_data"
    },
    {
     "data": {
      "text/html": [
       "<pre>recommendations finished on 41000/45000 queries. users per second: 5236.8</pre>"
      ],
      "text/plain": [
       "recommendations finished on 41000/45000 queries. users per second: 5236.8"
      ]
     },
     "metadata": {
      "tags": []
     },
     "output_type": "display_data"
    },
    {
     "data": {
      "text/html": [
       "<pre>recommendations finished on 42000/45000 queries. users per second: 5230.23</pre>"
      ],
      "text/plain": [
       "recommendations finished on 42000/45000 queries. users per second: 5230.23"
      ]
     },
     "metadata": {
      "tags": []
     },
     "output_type": "display_data"
    },
    {
     "data": {
      "text/html": [
       "<pre>recommendations finished on 43000/45000 queries. users per second: 5230.43</pre>"
      ],
      "text/plain": [
       "recommendations finished on 43000/45000 queries. users per second: 5230.43"
      ]
     },
     "metadata": {
      "tags": []
     },
     "output_type": "display_data"
    },
    {
     "data": {
      "text/html": [
       "<pre>recommendations finished on 44000/45000 queries. users per second: 5229.58</pre>"
      ],
      "text/plain": [
       "recommendations finished on 44000/45000 queries. users per second: 5229.58"
      ]
     },
     "metadata": {
      "tags": []
     },
     "output_type": "display_data"
    },
    {
     "data": {
      "text/html": [
       "<pre>recommendations finished on 45000/45000 queries. users per second: 5230.21</pre>"
      ],
      "text/plain": [
       "recommendations finished on 45000/45000 queries. users per second: 5230.21"
      ]
     },
     "metadata": {
      "tags": []
     },
     "output_type": "display_data"
    },
    {
     "name": "stdout",
     "output_type": "stream",
     "text": [
      "+------------+----------+-------+------+\n",
      "| reviewerID |  itemID  | score | rank |\n",
      "+------------+----------+-------+------+\n",
      "|  27795695  | 79839929 |  5.0  |  1   |\n",
      "|  27795695  | 95953136 |  5.0  |  2   |\n",
      "|  25588969  | 79839929 |  5.0  |  1   |\n",
      "|  25588969  | 95953136 |  5.0  |  2   |\n",
      "|  32826075  | 79839929 |  5.0  |  1   |\n",
      "|  32826075  | 95953136 |  5.0  |  2   |\n",
      "|  54386356  | 79839929 |  5.0  |  1   |\n",
      "|  54386356  | 95953136 |  5.0  |  2   |\n",
      "|  54095284  | 79839929 |  5.0  |  1   |\n",
      "|  54095284  | 95953136 |  5.0  |  2   |\n",
      "|  98570622  | 79839929 |  5.0  |  1   |\n",
      "|  98570622  | 95953136 |  5.0  |  2   |\n",
      "|  97457161  | 79839929 |  5.0  |  1   |\n",
      "|  97457161  | 95953136 |  5.0  |  2   |\n",
      "|  57064374  | 79839929 |  5.0  |  1   |\n",
      "|  57064374  | 95953136 |  5.0  |  2   |\n",
      "|  35175691  | 79839929 |  5.0  |  1   |\n",
      "|  35175691  | 95953136 |  5.0  |  2   |\n",
      "|  81555857  | 79839929 |  5.0  |  1   |\n",
      "|  81555857  | 95953136 |  5.0  |  2   |\n",
      "+------------+----------+-------+------+\n",
      "[90000 rows x 4 columns]\n",
      "\n"
     ]
    }
   ],
   "source": [
    "# Recommend the top 2 items for each reviewer\n",
    "popularity_recomm = popularity_model.recommend(users=test_data[\"reviewerID\"], k=2)\n",
    "popularity_recomm.print_rows(num_rows=20)"
   ]
  },
  {
   "cell_type": "markdown",
   "metadata": {
    "id": "ltULnErgok6y"
   },
   "source": [
    "# Collaborative filtering model\n",
    "\n",
    "Based on item-item similarities.\n",
    "\n",
    "Personalization exists in the recommendations."
   ]
  },
  {
   "cell_type": "code",
   "execution_count": 50,
   "metadata": {
    "colab": {
     "base_uri": "https://localhost:8080/",
     "height": 1000
    },
    "id": "QWmmrQRnoev0",
    "outputId": "daf3cac1-4d0f-4aac-b29b-f1e700249aac"
   },
   "outputs": [
    {
     "data": {
      "text/html": [
       "<pre>Preparing data set.</pre>"
      ],
      "text/plain": [
       "Preparing data set."
      ]
     },
     "metadata": {
      "tags": []
     },
     "output_type": "display_data"
    },
    {
     "data": {
      "text/html": [
       "<pre>    Data has 105000 observations with 51727 users and 22821 items.</pre>"
      ],
      "text/plain": [
       "    Data has 105000 observations with 51727 users and 22821 items."
      ]
     },
     "metadata": {
      "tags": []
     },
     "output_type": "display_data"
    },
    {
     "data": {
      "text/html": [
       "<pre>    Data prepared in: 0.175949s</pre>"
      ],
      "text/plain": [
       "    Data prepared in: 0.175949s"
      ]
     },
     "metadata": {
      "tags": []
     },
     "output_type": "display_data"
    },
    {
     "data": {
      "text/html": [
       "<pre>Training model from provided data.</pre>"
      ],
      "text/plain": [
       "Training model from provided data."
      ]
     },
     "metadata": {
      "tags": []
     },
     "output_type": "display_data"
    },
    {
     "data": {
      "text/html": [
       "<pre>Gathering per-item and per-user statistics.</pre>"
      ],
      "text/plain": [
       "Gathering per-item and per-user statistics."
      ]
     },
     "metadata": {
      "tags": []
     },
     "output_type": "display_data"
    },
    {
     "data": {
      "text/html": [
       "<pre>+--------------------------------+------------+</pre>"
      ],
      "text/plain": [
       "+--------------------------------+------------+"
      ]
     },
     "metadata": {
      "tags": []
     },
     "output_type": "display_data"
    },
    {
     "data": {
      "text/html": [
       "<pre>| Elapsed Time (Item Statistics) | % Complete |</pre>"
      ],
      "text/plain": [
       "| Elapsed Time (Item Statistics) | % Complete |"
      ]
     },
     "metadata": {
      "tags": []
     },
     "output_type": "display_data"
    },
    {
     "data": {
      "text/html": [
       "<pre>+--------------------------------+------------+</pre>"
      ],
      "text/plain": [
       "+--------------------------------+------------+"
      ]
     },
     "metadata": {
      "tags": []
     },
     "output_type": "display_data"
    },
    {
     "data": {
      "text/html": [
       "<pre>| 1.533ms                        | 1.75       |</pre>"
      ],
      "text/plain": [
       "| 1.533ms                        | 1.75       |"
      ]
     },
     "metadata": {
      "tags": []
     },
     "output_type": "display_data"
    },
    {
     "data": {
      "text/html": [
       "<pre>| 13.01ms                        | 100        |</pre>"
      ],
      "text/plain": [
       "| 13.01ms                        | 100        |"
      ]
     },
     "metadata": {
      "tags": []
     },
     "output_type": "display_data"
    },
    {
     "data": {
      "text/html": [
       "<pre>+--------------------------------+------------+</pre>"
      ],
      "text/plain": [
       "+--------------------------------+------------+"
      ]
     },
     "metadata": {
      "tags": []
     },
     "output_type": "display_data"
    },
    {
     "data": {
      "text/html": [
       "<pre>Setting up lookup tables.</pre>"
      ],
      "text/plain": [
       "Setting up lookup tables."
      ]
     },
     "metadata": {
      "tags": []
     },
     "output_type": "display_data"
    },
    {
     "data": {
      "text/html": [
       "<pre>Processing data in one pass using dense lookup tables.</pre>"
      ],
      "text/plain": [
       "Processing data in one pass using dense lookup tables."
      ]
     },
     "metadata": {
      "tags": []
     },
     "output_type": "display_data"
    },
    {
     "data": {
      "text/html": [
       "<pre>+-------------------------------------+------------------+-----------------+</pre>"
      ],
      "text/plain": [
       "+-------------------------------------+------------------+-----------------+"
      ]
     },
     "metadata": {
      "tags": []
     },
     "output_type": "display_data"
    },
    {
     "data": {
      "text/html": [
       "<pre>| Elapsed Time (Constructing Lookups) | Total % Complete | Items Processed |</pre>"
      ],
      "text/plain": [
       "| Elapsed Time (Constructing Lookups) | Total % Complete | Items Processed |"
      ]
     },
     "metadata": {
      "tags": []
     },
     "output_type": "display_data"
    },
    {
     "data": {
      "text/html": [
       "<pre>+-------------------------------------+------------------+-----------------+</pre>"
      ],
      "text/plain": [
       "+-------------------------------------+------------------+-----------------+"
      ]
     },
     "metadata": {
      "tags": []
     },
     "output_type": "display_data"
    },
    {
     "data": {
      "text/html": [
       "<pre>| 3.09s                               | 0.5              | 136             |</pre>"
      ],
      "text/plain": [
       "| 3.09s                               | 0.5              | 136             |"
      ]
     },
     "metadata": {
      "tags": []
     },
     "output_type": "display_data"
    },
    {
     "data": {
      "text/html": [
       "<pre>| 9.68s                               | 100              | 22821           |</pre>"
      ],
      "text/plain": [
       "| 9.68s                               | 100              | 22821           |"
      ]
     },
     "metadata": {
      "tags": []
     },
     "output_type": "display_data"
    },
    {
     "data": {
      "text/html": [
       "<pre>+-------------------------------------+------------------+-----------------+</pre>"
      ],
      "text/plain": [
       "+-------------------------------------+------------------+-----------------+"
      ]
     },
     "metadata": {
      "tags": []
     },
     "output_type": "display_data"
    },
    {
     "data": {
      "text/html": [
       "<pre>Finalizing lookup tables.</pre>"
      ],
      "text/plain": [
       "Finalizing lookup tables."
      ]
     },
     "metadata": {
      "tags": []
     },
     "output_type": "display_data"
    },
    {
     "data": {
      "text/html": [
       "<pre>Generating candidate set for working with new users.</pre>"
      ],
      "text/plain": [
       "Generating candidate set for working with new users."
      ]
     },
     "metadata": {
      "tags": []
     },
     "output_type": "display_data"
    },
    {
     "data": {
      "text/html": [
       "<pre>Finished training in 10.7258s</pre>"
      ],
      "text/plain": [
       "Finished training in 10.7258s"
      ]
     },
     "metadata": {
      "tags": []
     },
     "output_type": "display_data"
    },
    {
     "data": {
      "text/html": [
       "<pre>recommendations finished on 1000/45000 queries. users per second: 4064.61</pre>"
      ],
      "text/plain": [
       "recommendations finished on 1000/45000 queries. users per second: 4064.61"
      ]
     },
     "metadata": {
      "tags": []
     },
     "output_type": "display_data"
    },
    {
     "data": {
      "text/html": [
       "<pre>recommendations finished on 2000/45000 queries. users per second: 3979.24</pre>"
      ],
      "text/plain": [
       "recommendations finished on 2000/45000 queries. users per second: 3979.24"
      ]
     },
     "metadata": {
      "tags": []
     },
     "output_type": "display_data"
    },
    {
     "data": {
      "text/html": [
       "<pre>recommendations finished on 3000/45000 queries. users per second: 3969.26</pre>"
      ],
      "text/plain": [
       "recommendations finished on 3000/45000 queries. users per second: 3969.26"
      ]
     },
     "metadata": {
      "tags": []
     },
     "output_type": "display_data"
    },
    {
     "data": {
      "text/html": [
       "<pre>recommendations finished on 4000/45000 queries. users per second: 3964.23</pre>"
      ],
      "text/plain": [
       "recommendations finished on 4000/45000 queries. users per second: 3964.23"
      ]
     },
     "metadata": {
      "tags": []
     },
     "output_type": "display_data"
    },
    {
     "data": {
      "text/html": [
       "<pre>recommendations finished on 5000/45000 queries. users per second: 3965.7</pre>"
      ],
      "text/plain": [
       "recommendations finished on 5000/45000 queries. users per second: 3965.7"
      ]
     },
     "metadata": {
      "tags": []
     },
     "output_type": "display_data"
    },
    {
     "data": {
      "text/html": [
       "<pre>recommendations finished on 6000/45000 queries. users per second: 3989.13</pre>"
      ],
      "text/plain": [
       "recommendations finished on 6000/45000 queries. users per second: 3989.13"
      ]
     },
     "metadata": {
      "tags": []
     },
     "output_type": "display_data"
    },
    {
     "data": {
      "text/html": [
       "<pre>recommendations finished on 7000/45000 queries. users per second: 3999.74</pre>"
      ],
      "text/plain": [
       "recommendations finished on 7000/45000 queries. users per second: 3999.74"
      ]
     },
     "metadata": {
      "tags": []
     },
     "output_type": "display_data"
    },
    {
     "data": {
      "text/html": [
       "<pre>recommendations finished on 8000/45000 queries. users per second: 3990.32</pre>"
      ],
      "text/plain": [
       "recommendations finished on 8000/45000 queries. users per second: 3990.32"
      ]
     },
     "metadata": {
      "tags": []
     },
     "output_type": "display_data"
    },
    {
     "data": {
      "text/html": [
       "<pre>recommendations finished on 9000/45000 queries. users per second: 3983.41</pre>"
      ],
      "text/plain": [
       "recommendations finished on 9000/45000 queries. users per second: 3983.41"
      ]
     },
     "metadata": {
      "tags": []
     },
     "output_type": "display_data"
    },
    {
     "data": {
      "text/html": [
       "<pre>recommendations finished on 10000/45000 queries. users per second: 3980.21</pre>"
      ],
      "text/plain": [
       "recommendations finished on 10000/45000 queries. users per second: 3980.21"
      ]
     },
     "metadata": {
      "tags": []
     },
     "output_type": "display_data"
    },
    {
     "data": {
      "text/html": [
       "<pre>recommendations finished on 11000/45000 queries. users per second: 3981.93</pre>"
      ],
      "text/plain": [
       "recommendations finished on 11000/45000 queries. users per second: 3981.93"
      ]
     },
     "metadata": {
      "tags": []
     },
     "output_type": "display_data"
    },
    {
     "data": {
      "text/html": [
       "<pre>recommendations finished on 12000/45000 queries. users per second: 3978.77</pre>"
      ],
      "text/plain": [
       "recommendations finished on 12000/45000 queries. users per second: 3978.77"
      ]
     },
     "metadata": {
      "tags": []
     },
     "output_type": "display_data"
    },
    {
     "data": {
      "text/html": [
       "<pre>recommendations finished on 13000/45000 queries. users per second: 3951.11</pre>"
      ],
      "text/plain": [
       "recommendations finished on 13000/45000 queries. users per second: 3951.11"
      ]
     },
     "metadata": {
      "tags": []
     },
     "output_type": "display_data"
    },
    {
     "data": {
      "text/html": [
       "<pre>recommendations finished on 14000/45000 queries. users per second: 3946.63</pre>"
      ],
      "text/plain": [
       "recommendations finished on 14000/45000 queries. users per second: 3946.63"
      ]
     },
     "metadata": {
      "tags": []
     },
     "output_type": "display_data"
    },
    {
     "data": {
      "text/html": [
       "<pre>recommendations finished on 15000/45000 queries. users per second: 3947.78</pre>"
      ],
      "text/plain": [
       "recommendations finished on 15000/45000 queries. users per second: 3947.78"
      ]
     },
     "metadata": {
      "tags": []
     },
     "output_type": "display_data"
    },
    {
     "data": {
      "text/html": [
       "<pre>recommendations finished on 16000/45000 queries. users per second: 3939.84</pre>"
      ],
      "text/plain": [
       "recommendations finished on 16000/45000 queries. users per second: 3939.84"
      ]
     },
     "metadata": {
      "tags": []
     },
     "output_type": "display_data"
    },
    {
     "data": {
      "text/html": [
       "<pre>recommendations finished on 17000/45000 queries. users per second: 3944.43</pre>"
      ],
      "text/plain": [
       "recommendations finished on 17000/45000 queries. users per second: 3944.43"
      ]
     },
     "metadata": {
      "tags": []
     },
     "output_type": "display_data"
    },
    {
     "data": {
      "text/html": [
       "<pre>recommendations finished on 18000/45000 queries. users per second: 3950.26</pre>"
      ],
      "text/plain": [
       "recommendations finished on 18000/45000 queries. users per second: 3950.26"
      ]
     },
     "metadata": {
      "tags": []
     },
     "output_type": "display_data"
    },
    {
     "data": {
      "text/html": [
       "<pre>recommendations finished on 19000/45000 queries. users per second: 3960.54</pre>"
      ],
      "text/plain": [
       "recommendations finished on 19000/45000 queries. users per second: 3960.54"
      ]
     },
     "metadata": {
      "tags": []
     },
     "output_type": "display_data"
    },
    {
     "data": {
      "text/html": [
       "<pre>recommendations finished on 20000/45000 queries. users per second: 3960.23</pre>"
      ],
      "text/plain": [
       "recommendations finished on 20000/45000 queries. users per second: 3960.23"
      ]
     },
     "metadata": {
      "tags": []
     },
     "output_type": "display_data"
    },
    {
     "data": {
      "text/html": [
       "<pre>recommendations finished on 21000/45000 queries. users per second: 3964.01</pre>"
      ],
      "text/plain": [
       "recommendations finished on 21000/45000 queries. users per second: 3964.01"
      ]
     },
     "metadata": {
      "tags": []
     },
     "output_type": "display_data"
    },
    {
     "data": {
      "text/html": [
       "<pre>recommendations finished on 22000/45000 queries. users per second: 3967.92</pre>"
      ],
      "text/plain": [
       "recommendations finished on 22000/45000 queries. users per second: 3967.92"
      ]
     },
     "metadata": {
      "tags": []
     },
     "output_type": "display_data"
    },
    {
     "data": {
      "text/html": [
       "<pre>recommendations finished on 23000/45000 queries. users per second: 3972.22</pre>"
      ],
      "text/plain": [
       "recommendations finished on 23000/45000 queries. users per second: 3972.22"
      ]
     },
     "metadata": {
      "tags": []
     },
     "output_type": "display_data"
    },
    {
     "data": {
      "text/html": [
       "<pre>recommendations finished on 24000/45000 queries. users per second: 3970.15</pre>"
      ],
      "text/plain": [
       "recommendations finished on 24000/45000 queries. users per second: 3970.15"
      ]
     },
     "metadata": {
      "tags": []
     },
     "output_type": "display_data"
    },
    {
     "data": {
      "text/html": [
       "<pre>recommendations finished on 25000/45000 queries. users per second: 3972.19</pre>"
      ],
      "text/plain": [
       "recommendations finished on 25000/45000 queries. users per second: 3972.19"
      ]
     },
     "metadata": {
      "tags": []
     },
     "output_type": "display_data"
    },
    {
     "data": {
      "text/html": [
       "<pre>recommendations finished on 26000/45000 queries. users per second: 3974.82</pre>"
      ],
      "text/plain": [
       "recommendations finished on 26000/45000 queries. users per second: 3974.82"
      ]
     },
     "metadata": {
      "tags": []
     },
     "output_type": "display_data"
    },
    {
     "data": {
      "text/html": [
       "<pre>recommendations finished on 27000/45000 queries. users per second: 3979.79</pre>"
      ],
      "text/plain": [
       "recommendations finished on 27000/45000 queries. users per second: 3979.79"
      ]
     },
     "metadata": {
      "tags": []
     },
     "output_type": "display_data"
    },
    {
     "data": {
      "text/html": [
       "<pre>recommendations finished on 28000/45000 queries. users per second: 3981.5</pre>"
      ],
      "text/plain": [
       "recommendations finished on 28000/45000 queries. users per second: 3981.5"
      ]
     },
     "metadata": {
      "tags": []
     },
     "output_type": "display_data"
    },
    {
     "data": {
      "text/html": [
       "<pre>recommendations finished on 29000/45000 queries. users per second: 3983.7</pre>"
      ],
      "text/plain": [
       "recommendations finished on 29000/45000 queries. users per second: 3983.7"
      ]
     },
     "metadata": {
      "tags": []
     },
     "output_type": "display_data"
    },
    {
     "data": {
      "text/html": [
       "<pre>recommendations finished on 30000/45000 queries. users per second: 3988.05</pre>"
      ],
      "text/plain": [
       "recommendations finished on 30000/45000 queries. users per second: 3988.05"
      ]
     },
     "metadata": {
      "tags": []
     },
     "output_type": "display_data"
    },
    {
     "data": {
      "text/html": [
       "<pre>recommendations finished on 31000/45000 queries. users per second: 3991.12</pre>"
      ],
      "text/plain": [
       "recommendations finished on 31000/45000 queries. users per second: 3991.12"
      ]
     },
     "metadata": {
      "tags": []
     },
     "output_type": "display_data"
    },
    {
     "data": {
      "text/html": [
       "<pre>recommendations finished on 32000/45000 queries. users per second: 3987.83</pre>"
      ],
      "text/plain": [
       "recommendations finished on 32000/45000 queries. users per second: 3987.83"
      ]
     },
     "metadata": {
      "tags": []
     },
     "output_type": "display_data"
    },
    {
     "data": {
      "text/html": [
       "<pre>recommendations finished on 33000/45000 queries. users per second: 3986.32</pre>"
      ],
      "text/plain": [
       "recommendations finished on 33000/45000 queries. users per second: 3986.32"
      ]
     },
     "metadata": {
      "tags": []
     },
     "output_type": "display_data"
    },
    {
     "data": {
      "text/html": [
       "<pre>recommendations finished on 34000/45000 queries. users per second: 3989.44</pre>"
      ],
      "text/plain": [
       "recommendations finished on 34000/45000 queries. users per second: 3989.44"
      ]
     },
     "metadata": {
      "tags": []
     },
     "output_type": "display_data"
    },
    {
     "data": {
      "text/html": [
       "<pre>recommendations finished on 35000/45000 queries. users per second: 3992.12</pre>"
      ],
      "text/plain": [
       "recommendations finished on 35000/45000 queries. users per second: 3992.12"
      ]
     },
     "metadata": {
      "tags": []
     },
     "output_type": "display_data"
    },
    {
     "data": {
      "text/html": [
       "<pre>recommendations finished on 36000/45000 queries. users per second: 3994.26</pre>"
      ],
      "text/plain": [
       "recommendations finished on 36000/45000 queries. users per second: 3994.26"
      ]
     },
     "metadata": {
      "tags": []
     },
     "output_type": "display_data"
    },
    {
     "data": {
      "text/html": [
       "<pre>recommendations finished on 37000/45000 queries. users per second: 3993.67</pre>"
      ],
      "text/plain": [
       "recommendations finished on 37000/45000 queries. users per second: 3993.67"
      ]
     },
     "metadata": {
      "tags": []
     },
     "output_type": "display_data"
    },
    {
     "data": {
      "text/html": [
       "<pre>recommendations finished on 38000/45000 queries. users per second: 3995.85</pre>"
      ],
      "text/plain": [
       "recommendations finished on 38000/45000 queries. users per second: 3995.85"
      ]
     },
     "metadata": {
      "tags": []
     },
     "output_type": "display_data"
    },
    {
     "data": {
      "text/html": [
       "<pre>recommendations finished on 39000/45000 queries. users per second: 3998.3</pre>"
      ],
      "text/plain": [
       "recommendations finished on 39000/45000 queries. users per second: 3998.3"
      ]
     },
     "metadata": {
      "tags": []
     },
     "output_type": "display_data"
    },
    {
     "data": {
      "text/html": [
       "<pre>recommendations finished on 40000/45000 queries. users per second: 3998.21</pre>"
      ],
      "text/plain": [
       "recommendations finished on 40000/45000 queries. users per second: 3998.21"
      ]
     },
     "metadata": {
      "tags": []
     },
     "output_type": "display_data"
    },
    {
     "data": {
      "text/html": [
       "<pre>recommendations finished on 41000/45000 queries. users per second: 3996.95</pre>"
      ],
      "text/plain": [
       "recommendations finished on 41000/45000 queries. users per second: 3996.95"
      ]
     },
     "metadata": {
      "tags": []
     },
     "output_type": "display_data"
    },
    {
     "data": {
      "text/html": [
       "<pre>recommendations finished on 42000/45000 queries. users per second: 3998.38</pre>"
      ],
      "text/plain": [
       "recommendations finished on 42000/45000 queries. users per second: 3998.38"
      ]
     },
     "metadata": {
      "tags": []
     },
     "output_type": "display_data"
    },
    {
     "data": {
      "text/html": [
       "<pre>recommendations finished on 43000/45000 queries. users per second: 3998.98</pre>"
      ],
      "text/plain": [
       "recommendations finished on 43000/45000 queries. users per second: 3998.98"
      ]
     },
     "metadata": {
      "tags": []
     },
     "output_type": "display_data"
    },
    {
     "data": {
      "text/html": [
       "<pre>recommendations finished on 44000/45000 queries. users per second: 4001.45</pre>"
      ],
      "text/plain": [
       "recommendations finished on 44000/45000 queries. users per second: 4001.45"
      ]
     },
     "metadata": {
      "tags": []
     },
     "output_type": "display_data"
    },
    {
     "data": {
      "text/html": [
       "<pre>recommendations finished on 45000/45000 queries. users per second: 3998.59</pre>"
      ],
      "text/plain": [
       "recommendations finished on 45000/45000 queries. users per second: 3998.59"
      ]
     },
     "metadata": {
      "tags": []
     },
     "output_type": "display_data"
    },
    {
     "name": "stdout",
     "output_type": "stream",
     "text": [
      "+------------+----------+----------------------+------+\n",
      "| reviewerID |  itemID  |        score         | rank |\n",
      "+------------+----------+----------------------+------+\n",
      "|  27795695  | 22205528 |  0.5277504026889801  |  1   |\n",
      "|  27795695  | 85170604 | 0.25509774684906006  |  2   |\n",
      "|  25588969  | 82957180 |  0.8627462387084961  |  1   |\n",
      "|  25588969  | 95155072 |       0.78125        |  2   |\n",
      "|  32826075  | 63144896 | 0.010032687187194824 |  1   |\n",
      "|  32826075  | 5640389  | 0.009872047901153565 |  2   |\n",
      "|  54386356  | 63144896 | 0.010032687187194824 |  1   |\n",
      "|  54386356  | 5640389  | 0.009872047901153565 |  2   |\n",
      "|  54095284  | 74936515 | 0.44305071234703064  |  1   |\n",
      "|  54095284  | 24039227 | 0.41136234998703003  |  2   |\n",
      "|  98570622  | 86142828 |        0.625         |  1   |\n",
      "|  98570622  | 26643528 |        0.625         |  2   |\n",
      "|  97457161  | 92296104 | 0.13122057035321094  |  1   |\n",
      "|  97457161  | 91265196 | 0.09973868287977625  |  2   |\n",
      "|  57064374  | 63144896 | 0.010032687187194824 |  1   |\n",
      "|  57064374  | 5640389  | 0.009872047901153565 |  2   |\n",
      "|  35175691  | 63144896 | 0.010032687187194824 |  1   |\n",
      "|  35175691  | 5640389  | 0.009872047901153565 |  2   |\n",
      "|  81555857  | 63144896 | 0.010032687187194824 |  1   |\n",
      "|  81555857  | 5640389  | 0.009872047901153565 |  2   |\n",
      "+------------+----------+----------------------+------+\n",
      "[90000 rows x 4 columns]\n",
      "\n"
     ]
    }
   ],
   "source": [
    "#Training the model\n",
    "item_similarity_model = turicreate.item_similarity_recommender.create(train_data, \n",
    "                                                                      user_id=\"reviewerID\", \n",
    "                                                                      item_id=\"itemID\", \n",
    "                                                                      target=\"overall\", \n",
    "                                                                      similarity_type=\"cosine\")\n",
    "\n",
    "# Recommend 2 items for each reviewer\n",
    "item_similarity_recomm = item_similarity_model.recommend(users=test_data[\"reviewerID\"], k=2)\n",
    "item_similarity_recomm.print_rows(num_rows=20)"
   ]
  },
  {
   "cell_type": "markdown",
   "metadata": {
    "id": "ToSS7V6ZpqX-"
   },
   "source": [
    "# Max factorization"
   ]
  },
  {
   "cell_type": "code",
   "execution_count": 80,
   "metadata": {
    "id": "9f2GVfslpkP7"
   },
   "outputs": [],
   "source": [
    "class max_factorization():\n",
    "\n",
    "    # Initialization\n",
    "    def __init__(self, R, K, alpha, beta, iterations):\n",
    "        self.R = R                           # reviewer-item rating matrix\n",
    "        self.num_reviewers, self.num_items = R.shape\n",
    "        self.K = K                           # number of latent features\n",
    "        self.alpha = alpha                   # learning rate\n",
    "        self.beta = beta                     # regularization param\n",
    "        self.iterations = iterations         # number of iterations\n",
    "\n",
    "    def train(self):\n",
    "        # self.P: the user(reviewer)-feature affinity matrix\n",
    "        # self.Q: the item-feature relevance matrix\n",
    "        self.P = np.random.normal(scale=1./self.K, size=(self.num_reviewers, self.K))\n",
    "        self.Q = np.random.normal(scale=1./self.K, size=(self.num_items, self.K))\n",
    "\n",
    "        # Initializing the bias terms\n",
    "        self.b_reviewer = np.zeros(self.num_reviewers)\n",
    "        self.b_item = np.zeros(self.num_items)\n",
    "        self.b = np.mean(self.R[np.where(self.R != 0)])\n",
    "\n",
    "        # List of training samples\n",
    "        self.samples = []\n",
    "        for i in range(self.num_reviewers):\n",
    "            for j in range(self.num_items):\n",
    "                if self.R[i, j] != 0:\n",
    "                    self.samples.append((i, j, self.R[i, j]))\n",
    "                    \n",
    "        # Perform stochastic gradient descent \n",
    "        training_process = []\n",
    "        for iter in range(self.iterations):\n",
    "            if (iter + 1) % 20 == 0:\n",
    "                print(\"Iteration: \", (iter + 1))\n",
    "            np.random.shuffle(self.samples)\n",
    "            self.sgd()\n",
    "            MSE = self.compute_mse()\n",
    "            training_process.append((iter, MSE))\n",
    "            if (iter + 1) % 10 == 0:\n",
    "                print(\"Training MSE = %.3f.\" % MSE)\n",
    "                print()\n",
    "        return training_process\n",
    "\n",
    "    # Computing total mean squared error\n",
    "    def compute_mse(self):\n",
    "        xs, ys = self.R.nonzero()  # the locations of non-zero values in R\n",
    "        predicted = self.full_matrix()\n",
    "        squared_errors = []\n",
    "        for x, y in zip(xs, ys):\n",
    "            squared_errors.append((self.R[x, y] - predicted[x, y])**2)\n",
    "        return np.mean(squared_errors)\n",
    "\n",
    "    # Stochastic gradient descent to find the optimized P and Q \n",
    "    def sgd(self):\n",
    "        for i, j, r in self.samples:  # recall what we have appended in self.samples\n",
    "            prediction = self.predict_rating(i, j)\n",
    "            e = r - prediction # the error term\n",
    "\n",
    "            self.b_reviewer[i] += self.alpha * (e - self.beta * self.b_reviewer[i])\n",
    "            self.b_item[j] += self.alpha * (e - self.beta * self.b_item[j])\n",
    "\n",
    "            self.P[i, :] += self.alpha * (e * self.Q[j, :] - self.beta * self.P[i,:])\n",
    "            self.Q[j, :] += self.alpha * (e * self.P[i, :] - self.beta * self.Q[j,:])\n",
    "\n",
    "    # Get rating for a reviewer i and item j pair\n",
    "    def predict_rating(self, i, j):\n",
    "        prediction = self.b + self.b_reviewer[i] + self.b_item[j] + self.P[i, :].dot(self.Q[j, :].T)\n",
    "        return prediction\n",
    "\n",
    "    # Get the full reviewer-item rating matrix\n",
    "    def full_matrix(self):\n",
    "        full_pred = self.b + self.b_reviewer[:, np.newaxis] + self.b_item[np.newaxis:,] + self.P.dot(self.Q.T)\n",
    "        return full_pred"
   ]
  },
  {
   "cell_type": "code",
   "execution_count": 99,
   "metadata": {
    "colab": {
     "base_uri": "https://localhost:8080/",
     "height": 410
    },
    "id": "GMH4IWMHB--q",
    "outputId": "af91ebc3-365c-4bb1-a824-7355f90bde50"
   },
   "outputs": [
    {
     "data": {
      "text/html": [
       "<div>\n",
       "<style scoped>\n",
       "    .dataframe tbody tr th:only-of-type {\n",
       "        vertical-align: middle;\n",
       "    }\n",
       "\n",
       "    .dataframe tbody tr th {\n",
       "        vertical-align: top;\n",
       "    }\n",
       "\n",
       "    .dataframe thead th {\n",
       "        text-align: right;\n",
       "    }\n",
       "</style>\n",
       "<table border=\"1\" class=\"dataframe\">\n",
       "  <thead>\n",
       "    <tr style=\"text-align: right;\">\n",
       "      <th></th>\n",
       "      <th>reviewerID</th>\n",
       "      <th>itemID</th>\n",
       "      <th>overall</th>\n",
       "    </tr>\n",
       "  </thead>\n",
       "  <tbody>\n",
       "    <tr>\n",
       "      <th>59770</th>\n",
       "      <td>27795695</td>\n",
       "      <td>87595611</td>\n",
       "      <td>0</td>\n",
       "    </tr>\n",
       "    <tr>\n",
       "      <th>21362</th>\n",
       "      <td>25588969</td>\n",
       "      <td>54328640</td>\n",
       "      <td>0</td>\n",
       "    </tr>\n",
       "    <tr>\n",
       "      <th>127324</th>\n",
       "      <td>32826075</td>\n",
       "      <td>98585649</td>\n",
       "      <td>0</td>\n",
       "    </tr>\n",
       "    <tr>\n",
       "      <th>140509</th>\n",
       "      <td>54386356</td>\n",
       "      <td>79496784</td>\n",
       "      <td>0</td>\n",
       "    </tr>\n",
       "    <tr>\n",
       "      <th>144297</th>\n",
       "      <td>54095284</td>\n",
       "      <td>12135090</td>\n",
       "      <td>0</td>\n",
       "    </tr>\n",
       "    <tr>\n",
       "      <th>...</th>\n",
       "      <td>...</td>\n",
       "      <td>...</td>\n",
       "      <td>...</td>\n",
       "    </tr>\n",
       "    <tr>\n",
       "      <th>89890</th>\n",
       "      <td>28436262</td>\n",
       "      <td>43647333</td>\n",
       "      <td>0</td>\n",
       "    </tr>\n",
       "    <tr>\n",
       "      <th>94082</th>\n",
       "      <td>53116995</td>\n",
       "      <td>11683810</td>\n",
       "      <td>0</td>\n",
       "    </tr>\n",
       "    <tr>\n",
       "      <th>29674</th>\n",
       "      <td>92859373</td>\n",
       "      <td>62568296</td>\n",
       "      <td>0</td>\n",
       "    </tr>\n",
       "    <tr>\n",
       "      <th>92625</th>\n",
       "      <td>46206709</td>\n",
       "      <td>41723559</td>\n",
       "      <td>0</td>\n",
       "    </tr>\n",
       "    <tr>\n",
       "      <th>98351</th>\n",
       "      <td>32997826</td>\n",
       "      <td>56091313</td>\n",
       "      <td>0</td>\n",
       "    </tr>\n",
       "  </tbody>\n",
       "</table>\n",
       "<p>45000 rows × 3 columns</p>\n",
       "</div>"
      ],
      "text/plain": [
       "        reviewerID    itemID  overall\n",
       "59770     27795695  87595611        0\n",
       "21362     25588969  54328640        0\n",
       "127324    32826075  98585649        0\n",
       "140509    54386356  79496784        0\n",
       "144297    54095284  12135090        0\n",
       "...            ...       ...      ...\n",
       "89890     28436262  43647333        0\n",
       "94082     53116995  11683810        0\n",
       "29674     92859373  62568296        0\n",
       "92625     46206709  41723559        0\n",
       "98351     32997826  56091313        0\n",
       "\n",
       "[45000 rows x 3 columns]"
      ]
     },
     "execution_count": 99,
     "metadata": {
      "tags": []
     },
     "output_type": "execute_result"
    }
   ],
   "source": [
    "test_set_to_pred = test_set.copy()\n",
    "test_set_to_pred[\"overall\"] = 0\n",
    "test_set_to_pred"
   ]
  },
  {
   "cell_type": "code",
   "execution_count": 100,
   "metadata": {
    "colab": {
     "base_uri": "https://localhost:8080/",
     "height": 410
    },
    "id": "Msde8Q9I4rOt",
    "outputId": "30ef3ec3-fc72-43df-a3bb-e82d447b759a"
   },
   "outputs": [
    {
     "data": {
      "text/html": [
       "<div>\n",
       "<style scoped>\n",
       "    .dataframe tbody tr th:only-of-type {\n",
       "        vertical-align: middle;\n",
       "    }\n",
       "\n",
       "    .dataframe tbody tr th {\n",
       "        vertical-align: top;\n",
       "    }\n",
       "\n",
       "    .dataframe thead th {\n",
       "        text-align: right;\n",
       "    }\n",
       "</style>\n",
       "<table border=\"1\" class=\"dataframe\">\n",
       "  <thead>\n",
       "    <tr style=\"text-align: right;\">\n",
       "      <th></th>\n",
       "      <th>reviewerID</th>\n",
       "      <th>itemID</th>\n",
       "      <th>overall</th>\n",
       "    </tr>\n",
       "  </thead>\n",
       "  <tbody>\n",
       "    <tr>\n",
       "      <th>27822</th>\n",
       "      <td>36062488</td>\n",
       "      <td>95953136</td>\n",
       "      <td>5.0</td>\n",
       "    </tr>\n",
       "    <tr>\n",
       "      <th>85202</th>\n",
       "      <td>80160344</td>\n",
       "      <td>3910736</td>\n",
       "      <td>1.0</td>\n",
       "    </tr>\n",
       "    <tr>\n",
       "      <th>42217</th>\n",
       "      <td>10278246</td>\n",
       "      <td>36753582</td>\n",
       "      <td>4.0</td>\n",
       "    </tr>\n",
       "    <tr>\n",
       "      <th>119958</th>\n",
       "      <td>65852773</td>\n",
       "      <td>79839929</td>\n",
       "      <td>5.0</td>\n",
       "    </tr>\n",
       "    <tr>\n",
       "      <th>37678</th>\n",
       "      <td>61404159</td>\n",
       "      <td>96488536</td>\n",
       "      <td>5.0</td>\n",
       "    </tr>\n",
       "    <tr>\n",
       "      <th>...</th>\n",
       "      <td>...</td>\n",
       "      <td>...</td>\n",
       "      <td>...</td>\n",
       "    </tr>\n",
       "    <tr>\n",
       "      <th>146364</th>\n",
       "      <td>82407503</td>\n",
       "      <td>73234226</td>\n",
       "      <td>0.0</td>\n",
       "    </tr>\n",
       "    <tr>\n",
       "      <th>70240</th>\n",
       "      <td>67260809</td>\n",
       "      <td>70858769</td>\n",
       "      <td>0.0</td>\n",
       "    </tr>\n",
       "    <tr>\n",
       "      <th>114852</th>\n",
       "      <td>82465038</td>\n",
       "      <td>49079644</td>\n",
       "      <td>0.0</td>\n",
       "    </tr>\n",
       "    <tr>\n",
       "      <th>132680</th>\n",
       "      <td>91558099</td>\n",
       "      <td>63232619</td>\n",
       "      <td>0.0</td>\n",
       "    </tr>\n",
       "    <tr>\n",
       "      <th>116391</th>\n",
       "      <td>36756458</td>\n",
       "      <td>84130808</td>\n",
       "      <td>0.0</td>\n",
       "    </tr>\n",
       "  </tbody>\n",
       "</table>\n",
       "<p>10000 rows × 3 columns</p>\n",
       "</div>"
      ],
      "text/plain": [
       "        reviewerID    itemID  overall\n",
       "27822     36062488  95953136      5.0\n",
       "85202     80160344   3910736      1.0\n",
       "42217     10278246  36753582      4.0\n",
       "119958    65852773  79839929      5.0\n",
       "37678     61404159  96488536      5.0\n",
       "...            ...       ...      ...\n",
       "146364    82407503  73234226      0.0\n",
       "70240     67260809  70858769      0.0\n",
       "114852    82465038  49079644      0.0\n",
       "132680    91558099  63232619      0.0\n",
       "116391    36756458  84130808      0.0\n",
       "\n",
       "[10000 rows x 3 columns]"
      ]
     },
     "execution_count": 100,
     "metadata": {
      "tags": []
     },
     "output_type": "execute_result"
    }
   ],
   "source": [
    "# Create a subset of train_set and test_set for illustration\n",
    "subset = train_set[:7000].append(test_set_to_pred[:3000])\n",
    "subset"
   ]
  },
  {
   "cell_type": "code",
   "execution_count": 101,
   "metadata": {
    "colab": {
     "base_uri": "https://localhost:8080/"
    },
    "id": "00rPXEau4839",
    "outputId": "c340e811-a6f1-49c3-b24d-cd9e42a4d214"
   },
   "outputs": [
    {
     "name": "stdout",
     "output_type": "stream",
     "text": [
      "In the subset:\n",
      "Number of reviewers: 8438.\n",
      "Number of items: 6705.\n"
     ]
    }
   ],
   "source": [
    "print(\"In the subset:\")\n",
    "n_reviewers_sub = subset[\"reviewerID\"].unique().shape[0]\n",
    "print(\"Number of reviewers: %d.\" % n_reviewers_sub)\n",
    "n_items_sub = subset[\"itemID\"].unique().shape[0]\n",
    "print(\"Number of items: %d.\" % n_items_sub)"
   ]
  },
  {
   "cell_type": "markdown",
   "metadata": {
    "id": "UfcXS_EdxKzc"
   },
   "source": [
    "Convert the reviewer-item rating to a matrix, i.e., get the R matrix.\n",
    "\n",
    "pivot() returns reshaped DataFrame organized by given index / column values."
   ]
  },
  {
   "cell_type": "code",
   "execution_count": 93,
   "metadata": {
    "colab": {
     "base_uri": "https://localhost:8080/"
    },
    "id": "rmV6oUbCxKLv",
    "outputId": "915f3aa9-1011-4c0d-fc45-1b693022fa5d"
   },
   "outputs": [
    {
     "name": "stdout",
     "output_type": "stream",
     "text": [
      "Shape of R: (8438, 6705)\n",
      "Matrix R:\n",
      "[[0. 0. 0. ... 0. 0. 0.]\n",
      " [0. 0. 0. ... 0. 0. 0.]\n",
      " [0. 0. 0. ... 0. 0. 0.]\n",
      " ...\n",
      " [0. 0. 0. ... 0. 0. 0.]\n",
      " [0. 0. 0. ... 0. 0. 0.]\n",
      " [0. 0. 0. ... 0. 0. 0.]]\n"
     ]
    }
   ],
   "source": [
    "R_df = subset.pivot(index=\"reviewerID\", columns=\"itemID\", values=\"overall\")\n",
    "R = np.array(R_df)\n",
    "R[np.isnan(R)]=0  # replace all nans with 0\n",
    "print(\"Shape of R:\", R.shape)\n",
    "print(\"Matrix R:\")\n",
    "print(R)"
   ]
  },
  {
   "cell_type": "code",
   "execution_count": 102,
   "metadata": {
    "colab": {
     "base_uri": "https://localhost:8080/"
    },
    "id": "fGpmhbBj5j72",
    "outputId": "f8669f67-b148-4741-de23-556c349b4922"
   },
   "outputs": [
    {
     "name": "stdout",
     "output_type": "stream",
     "text": [
      "{0.0: 56569790, 1.0: 211, 2.0: 247, 3.0: 572, 4.0: 1318, 5.0: 4652}\n"
     ]
    }
   ],
   "source": [
    "# Count the values in matrix R\n",
    "key = np.unique(R)\n",
    "result = {}\n",
    "for k in key:\n",
    "    mask = (R == k)\n",
    "    R_new = R[mask]\n",
    "    v = R_new.size\n",
    "    result[k] = v\n",
    "print(result)"
   ]
  },
  {
   "cell_type": "markdown",
   "metadata": {
    "id": "TXAxGvnt7qmd"
   },
   "source": [
    "We have in total 8438*6705 reviewer-item pairs (ratings). But from the results of counting, we can see that the majority of ratings are missing."
   ]
  },
  {
   "cell_type": "markdown",
   "metadata": {
    "id": "LPTMLFZzyPHR"
   },
   "source": [
    "Start filling in the full matrix"
   ]
  },
  {
   "cell_type": "code",
   "execution_count": 91,
   "metadata": {
    "colab": {
     "base_uri": "https://localhost:8080/"
    },
    "id": "9AYl8xltyQ3Q",
    "outputId": "cf4e4a73-224f-4573-ff4b-9b85a4dd1061"
   },
   "outputs": [
    {
     "name": "stdout",
     "output_type": "stream",
     "text": [
      "Training MSE = 0.935.\n",
      "\n",
      "Iteration:  20\n",
      "Training MSE = 0.892.\n",
      "\n",
      "Training MSE = 0.852.\n",
      "\n",
      "Iteration:  40\n",
      "Training MSE = 0.815.\n",
      "\n",
      "Training MSE = 0.780.\n",
      "\n",
      "Iteration:  60\n",
      "Training MSE = 0.747.\n",
      "\n",
      "Training MSE = 0.715.\n",
      "\n",
      "Iteration:  80\n",
      "Training MSE = 0.686.\n",
      "\n",
      "Training MSE = 0.658.\n",
      "\n",
      "Iteration:  100\n",
      "Training MSE = 0.632.\n",
      "\n",
      "Training MSE = 0.606.\n",
      "\n",
      "Iteration:  120\n",
      "Training MSE = 0.583.\n",
      "\n",
      "Training MSE = 0.560.\n",
      "\n",
      "Iteration:  140\n",
      "Training MSE = 0.538.\n",
      "\n",
      "Training MSE = 0.518.\n",
      "\n",
      "Iteration:  160\n",
      "Training MSE = 0.498.\n",
      "\n",
      "Training MSE = 0.479.\n",
      "\n",
      "Iteration:  180\n",
      "Training MSE = 0.461.\n",
      "\n",
      "Training MSE = 0.444.\n",
      "\n",
      "Iteration:  200\n",
      "Training MSE = 0.428.\n",
      "\n",
      "Training MSE = 0.412.\n",
      "\n",
      "Iteration:  220\n",
      "Training MSE = 0.398.\n",
      "\n",
      "Training MSE = 0.383.\n",
      "\n",
      "Iteration:  240\n",
      "Training MSE = 0.369.\n",
      "\n",
      "Training MSE = 0.356.\n",
      "\n",
      "Iteration:  260\n",
      "Training MSE = 0.344.\n",
      "\n",
      "Training MSE = 0.332.\n",
      "\n",
      "Iteration:  280\n",
      "Training MSE = 0.320.\n",
      "\n",
      "Training MSE = 0.309.\n",
      "\n",
      "Iteration:  300\n",
      "Training MSE = 0.298.\n",
      "\n",
      "Training MSE = 0.288.\n",
      "\n",
      "Iteration:  320\n",
      "Training MSE = 0.278.\n",
      "\n",
      "Training MSE = 0.268.\n",
      "\n",
      "Iteration:  340\n",
      "Training MSE = 0.259.\n",
      "\n",
      "Training MSE = 0.250.\n",
      "\n",
      "Iteration:  360\n",
      "Training MSE = 0.242.\n",
      "\n",
      "Training MSE = 0.234.\n",
      "\n",
      "Iteration:  380\n",
      "Training MSE = 0.226.\n",
      "\n",
      "Training MSE = 0.218.\n",
      "\n",
      "Iteration:  400\n",
      "Training MSE = 0.211.\n",
      "\n",
      "Training MSE = 0.204.\n",
      "\n",
      "Iteration:  420\n",
      "Training MSE = 0.197.\n",
      "\n",
      "Training MSE = 0.190.\n",
      "\n",
      "Iteration:  440\n",
      "Training MSE = 0.184.\n",
      "\n",
      "Training MSE = 0.178.\n",
      "\n",
      "Iteration:  460\n",
      "Training MSE = 0.172.\n",
      "\n",
      "Training MSE = 0.166.\n",
      "\n",
      "Iteration:  480\n",
      "Training MSE = 0.161.\n",
      "\n",
      "Training MSE = 0.155.\n",
      "\n",
      "Iteration:  500\n",
      "Training MSE = 0.150.\n",
      "\n",
      "P x Q:\n",
      "[[4.68072084 3.99204709 4.75403186 ... 4.68266053 4.56014367 4.23158529]\n",
      " [4.60346283 3.90187306 4.67738653 ... 4.60690706 4.4904821  4.1370362 ]\n",
      " [4.43508864 3.72093812 4.47853553 ... 4.39971884 4.29567058 3.95706927]\n",
      " ...\n",
      " [4.544408   3.86996449 4.59709944 ... 4.54329188 4.41036642 4.10268633]\n",
      " [4.29732842 3.60025136 4.35047062 ... 4.29438393 4.13965036 3.86770596]\n",
      " [3.62618169 2.9376589  3.6731105  ... 3.60319332 3.4771207  3.1466561 ]]\n",
      "Rounded P x Q:\n",
      "[[5. 4. 5. ... 5. 5. 4.]\n",
      " [5. 4. 5. ... 5. 4. 4.]\n",
      " [4. 4. 4. ... 4. 4. 4.]\n",
      " ...\n",
      " [5. 4. 5. ... 5. 4. 4.]\n",
      " [4. 4. 4. ... 4. 4. 4.]\n",
      " [4. 3. 4. ... 4. 3. 3.]]\n",
      "\n"
     ]
    }
   ],
   "source": [
    "mf = max_factorization(R, K=20, alpha=0.001, beta=0.01, iterations=500)\n",
    "training_process = mf.train()\n",
    "print(\"P x Q:\")\n",
    "print(mf.full_matrix())\n",
    "print(\"Rounded P x Q:\")\n",
    "print(np.round(mf.full_matrix()))\n",
    "print()"
   ]
  },
  {
   "cell_type": "markdown",
   "metadata": {
    "id": "EpKB1_HRF0Lb"
   },
   "source": [
    "Compute the test MSE"
   ]
  },
  {
   "cell_type": "code",
   "execution_count": 96,
   "metadata": {
    "colab": {
     "base_uri": "https://localhost:8080/",
     "height": 460
    },
    "id": "qpIacX5cFx2B",
    "outputId": "67476f86-eafb-4d35-d6d1-929754ce4e55"
   },
   "outputs": [
    {
     "data": {
      "text/html": [
       "<div>\n",
       "<style scoped>\n",
       "    .dataframe tbody tr th:only-of-type {\n",
       "        vertical-align: middle;\n",
       "    }\n",
       "\n",
       "    .dataframe tbody tr th {\n",
       "        vertical-align: top;\n",
       "    }\n",
       "\n",
       "    .dataframe thead th {\n",
       "        text-align: right;\n",
       "    }\n",
       "</style>\n",
       "<table border=\"1\" class=\"dataframe\">\n",
       "  <thead>\n",
       "    <tr style=\"text-align: right;\">\n",
       "      <th>itemID</th>\n",
       "      <th>1074</th>\n",
       "      <th>40836</th>\n",
       "      <th>58069</th>\n",
       "      <th>71591</th>\n",
       "      <th>90666</th>\n",
       "      <th>109793</th>\n",
       "      <th>115315</th>\n",
       "      <th>123661</th>\n",
       "      <th>137399</th>\n",
       "      <th>149137</th>\n",
       "      <th>182339</th>\n",
       "      <th>187735</th>\n",
       "      <th>188031</th>\n",
       "      <th>203221</th>\n",
       "      <th>221336</th>\n",
       "      <th>226802</th>\n",
       "      <th>226998</th>\n",
       "      <th>239646</th>\n",
       "      <th>241655</th>\n",
       "      <th>264535</th>\n",
       "      <th>267965</th>\n",
       "      <th>291270</th>\n",
       "      <th>310435</th>\n",
       "      <th>310634</th>\n",
       "      <th>326944</th>\n",
       "      <th>329000</th>\n",
       "      <th>339546</th>\n",
       "      <th>350204</th>\n",
       "      <th>391072</th>\n",
       "      <th>394683</th>\n",
       "      <th>402249</th>\n",
       "      <th>414893</th>\n",
       "      <th>431540</th>\n",
       "      <th>440790</th>\n",
       "      <th>468009</th>\n",
       "      <th>478537</th>\n",
       "      <th>491658</th>\n",
       "      <th>496982</th>\n",
       "      <th>502604</th>\n",
       "      <th>506670</th>\n",
       "      <th>...</th>\n",
       "      <th>99372295</th>\n",
       "      <th>99395506</th>\n",
       "      <th>99400561</th>\n",
       "      <th>99412260</th>\n",
       "      <th>99415602</th>\n",
       "      <th>99451396</th>\n",
       "      <th>99466887</th>\n",
       "      <th>99522728</th>\n",
       "      <th>99536167</th>\n",
       "      <th>99550733</th>\n",
       "      <th>99561358</th>\n",
       "      <th>99595827</th>\n",
       "      <th>99613237</th>\n",
       "      <th>99621590</th>\n",
       "      <th>99628691</th>\n",
       "      <th>99630882</th>\n",
       "      <th>99650884</th>\n",
       "      <th>99659606</th>\n",
       "      <th>99663092</th>\n",
       "      <th>99672751</th>\n",
       "      <th>99674764</th>\n",
       "      <th>99678290</th>\n",
       "      <th>99686510</th>\n",
       "      <th>99687636</th>\n",
       "      <th>99727886</th>\n",
       "      <th>99729211</th>\n",
       "      <th>99752066</th>\n",
       "      <th>99757609</th>\n",
       "      <th>99807758</th>\n",
       "      <th>99817060</th>\n",
       "      <th>99830584</th>\n",
       "      <th>99835068</th>\n",
       "      <th>99842866</th>\n",
       "      <th>99845849</th>\n",
       "      <th>99893340</th>\n",
       "      <th>99915922</th>\n",
       "      <th>99933426</th>\n",
       "      <th>99938488</th>\n",
       "      <th>99952270</th>\n",
       "      <th>99987089</th>\n",
       "    </tr>\n",
       "    <tr>\n",
       "      <th>reviewerID</th>\n",
       "      <th></th>\n",
       "      <th></th>\n",
       "      <th></th>\n",
       "      <th></th>\n",
       "      <th></th>\n",
       "      <th></th>\n",
       "      <th></th>\n",
       "      <th></th>\n",
       "      <th></th>\n",
       "      <th></th>\n",
       "      <th></th>\n",
       "      <th></th>\n",
       "      <th></th>\n",
       "      <th></th>\n",
       "      <th></th>\n",
       "      <th></th>\n",
       "      <th></th>\n",
       "      <th></th>\n",
       "      <th></th>\n",
       "      <th></th>\n",
       "      <th></th>\n",
       "      <th></th>\n",
       "      <th></th>\n",
       "      <th></th>\n",
       "      <th></th>\n",
       "      <th></th>\n",
       "      <th></th>\n",
       "      <th></th>\n",
       "      <th></th>\n",
       "      <th></th>\n",
       "      <th></th>\n",
       "      <th></th>\n",
       "      <th></th>\n",
       "      <th></th>\n",
       "      <th></th>\n",
       "      <th></th>\n",
       "      <th></th>\n",
       "      <th></th>\n",
       "      <th></th>\n",
       "      <th></th>\n",
       "      <th></th>\n",
       "      <th></th>\n",
       "      <th></th>\n",
       "      <th></th>\n",
       "      <th></th>\n",
       "      <th></th>\n",
       "      <th></th>\n",
       "      <th></th>\n",
       "      <th></th>\n",
       "      <th></th>\n",
       "      <th></th>\n",
       "      <th></th>\n",
       "      <th></th>\n",
       "      <th></th>\n",
       "      <th></th>\n",
       "      <th></th>\n",
       "      <th></th>\n",
       "      <th></th>\n",
       "      <th></th>\n",
       "      <th></th>\n",
       "      <th></th>\n",
       "      <th></th>\n",
       "      <th></th>\n",
       "      <th></th>\n",
       "      <th></th>\n",
       "      <th></th>\n",
       "      <th></th>\n",
       "      <th></th>\n",
       "      <th></th>\n",
       "      <th></th>\n",
       "      <th></th>\n",
       "      <th></th>\n",
       "      <th></th>\n",
       "      <th></th>\n",
       "      <th></th>\n",
       "      <th></th>\n",
       "      <th></th>\n",
       "      <th></th>\n",
       "      <th></th>\n",
       "      <th></th>\n",
       "      <th></th>\n",
       "    </tr>\n",
       "  </thead>\n",
       "  <tbody>\n",
       "    <tr>\n",
       "      <th>4783</th>\n",
       "      <td>5.0</td>\n",
       "      <td>4.0</td>\n",
       "      <td>5.0</td>\n",
       "      <td>4.0</td>\n",
       "      <td>5.0</td>\n",
       "      <td>5.0</td>\n",
       "      <td>5.0</td>\n",
       "      <td>5.0</td>\n",
       "      <td>5.0</td>\n",
       "      <td>5.0</td>\n",
       "      <td>5.0</td>\n",
       "      <td>5.0</td>\n",
       "      <td>4.0</td>\n",
       "      <td>5.0</td>\n",
       "      <td>4.0</td>\n",
       "      <td>5.0</td>\n",
       "      <td>5.0</td>\n",
       "      <td>4.0</td>\n",
       "      <td>5.0</td>\n",
       "      <td>5.0</td>\n",
       "      <td>5.0</td>\n",
       "      <td>5.0</td>\n",
       "      <td>5.0</td>\n",
       "      <td>5.0</td>\n",
       "      <td>5.0</td>\n",
       "      <td>5.0</td>\n",
       "      <td>5.0</td>\n",
       "      <td>4.0</td>\n",
       "      <td>5.0</td>\n",
       "      <td>5.0</td>\n",
       "      <td>5.0</td>\n",
       "      <td>5.0</td>\n",
       "      <td>5.0</td>\n",
       "      <td>5.0</td>\n",
       "      <td>4.0</td>\n",
       "      <td>5.0</td>\n",
       "      <td>5.0</td>\n",
       "      <td>5.0</td>\n",
       "      <td>5.0</td>\n",
       "      <td>4.0</td>\n",
       "      <td>...</td>\n",
       "      <td>5.0</td>\n",
       "      <td>5.0</td>\n",
       "      <td>5.0</td>\n",
       "      <td>5.0</td>\n",
       "      <td>5.0</td>\n",
       "      <td>5.0</td>\n",
       "      <td>5.0</td>\n",
       "      <td>5.0</td>\n",
       "      <td>5.0</td>\n",
       "      <td>5.0</td>\n",
       "      <td>5.0</td>\n",
       "      <td>5.0</td>\n",
       "      <td>5.0</td>\n",
       "      <td>5.0</td>\n",
       "      <td>5.0</td>\n",
       "      <td>5.0</td>\n",
       "      <td>4.0</td>\n",
       "      <td>4.0</td>\n",
       "      <td>5.0</td>\n",
       "      <td>4.0</td>\n",
       "      <td>5.0</td>\n",
       "      <td>5.0</td>\n",
       "      <td>5.0</td>\n",
       "      <td>5.0</td>\n",
       "      <td>5.0</td>\n",
       "      <td>5.0</td>\n",
       "      <td>5.0</td>\n",
       "      <td>5.0</td>\n",
       "      <td>5.0</td>\n",
       "      <td>5.0</td>\n",
       "      <td>5.0</td>\n",
       "      <td>5.0</td>\n",
       "      <td>5.0</td>\n",
       "      <td>5.0</td>\n",
       "      <td>5.0</td>\n",
       "      <td>5.0</td>\n",
       "      <td>5.0</td>\n",
       "      <td>5.0</td>\n",
       "      <td>5.0</td>\n",
       "      <td>4.0</td>\n",
       "    </tr>\n",
       "    <tr>\n",
       "      <th>9410</th>\n",
       "      <td>5.0</td>\n",
       "      <td>4.0</td>\n",
       "      <td>5.0</td>\n",
       "      <td>4.0</td>\n",
       "      <td>5.0</td>\n",
       "      <td>5.0</td>\n",
       "      <td>5.0</td>\n",
       "      <td>5.0</td>\n",
       "      <td>5.0</td>\n",
       "      <td>5.0</td>\n",
       "      <td>5.0</td>\n",
       "      <td>5.0</td>\n",
       "      <td>4.0</td>\n",
       "      <td>5.0</td>\n",
       "      <td>4.0</td>\n",
       "      <td>5.0</td>\n",
       "      <td>5.0</td>\n",
       "      <td>4.0</td>\n",
       "      <td>5.0</td>\n",
       "      <td>5.0</td>\n",
       "      <td>5.0</td>\n",
       "      <td>5.0</td>\n",
       "      <td>5.0</td>\n",
       "      <td>4.0</td>\n",
       "      <td>5.0</td>\n",
       "      <td>5.0</td>\n",
       "      <td>5.0</td>\n",
       "      <td>4.0</td>\n",
       "      <td>5.0</td>\n",
       "      <td>5.0</td>\n",
       "      <td>5.0</td>\n",
       "      <td>4.0</td>\n",
       "      <td>5.0</td>\n",
       "      <td>5.0</td>\n",
       "      <td>4.0</td>\n",
       "      <td>5.0</td>\n",
       "      <td>5.0</td>\n",
       "      <td>5.0</td>\n",
       "      <td>5.0</td>\n",
       "      <td>4.0</td>\n",
       "      <td>...</td>\n",
       "      <td>4.0</td>\n",
       "      <td>5.0</td>\n",
       "      <td>5.0</td>\n",
       "      <td>5.0</td>\n",
       "      <td>5.0</td>\n",
       "      <td>5.0</td>\n",
       "      <td>5.0</td>\n",
       "      <td>5.0</td>\n",
       "      <td>5.0</td>\n",
       "      <td>5.0</td>\n",
       "      <td>5.0</td>\n",
       "      <td>5.0</td>\n",
       "      <td>5.0</td>\n",
       "      <td>4.0</td>\n",
       "      <td>5.0</td>\n",
       "      <td>5.0</td>\n",
       "      <td>4.0</td>\n",
       "      <td>4.0</td>\n",
       "      <td>5.0</td>\n",
       "      <td>4.0</td>\n",
       "      <td>5.0</td>\n",
       "      <td>5.0</td>\n",
       "      <td>5.0</td>\n",
       "      <td>5.0</td>\n",
       "      <td>5.0</td>\n",
       "      <td>5.0</td>\n",
       "      <td>5.0</td>\n",
       "      <td>5.0</td>\n",
       "      <td>5.0</td>\n",
       "      <td>5.0</td>\n",
       "      <td>5.0</td>\n",
       "      <td>5.0</td>\n",
       "      <td>5.0</td>\n",
       "      <td>5.0</td>\n",
       "      <td>5.0</td>\n",
       "      <td>5.0</td>\n",
       "      <td>5.0</td>\n",
       "      <td>5.0</td>\n",
       "      <td>4.0</td>\n",
       "      <td>4.0</td>\n",
       "    </tr>\n",
       "    <tr>\n",
       "      <th>21805</th>\n",
       "      <td>4.0</td>\n",
       "      <td>4.0</td>\n",
       "      <td>4.0</td>\n",
       "      <td>4.0</td>\n",
       "      <td>5.0</td>\n",
       "      <td>4.0</td>\n",
       "      <td>4.0</td>\n",
       "      <td>4.0</td>\n",
       "      <td>4.0</td>\n",
       "      <td>5.0</td>\n",
       "      <td>5.0</td>\n",
       "      <td>4.0</td>\n",
       "      <td>4.0</td>\n",
       "      <td>5.0</td>\n",
       "      <td>4.0</td>\n",
       "      <td>4.0</td>\n",
       "      <td>5.0</td>\n",
       "      <td>4.0</td>\n",
       "      <td>5.0</td>\n",
       "      <td>5.0</td>\n",
       "      <td>4.0</td>\n",
       "      <td>5.0</td>\n",
       "      <td>5.0</td>\n",
       "      <td>4.0</td>\n",
       "      <td>5.0</td>\n",
       "      <td>4.0</td>\n",
       "      <td>4.0</td>\n",
       "      <td>4.0</td>\n",
       "      <td>5.0</td>\n",
       "      <td>5.0</td>\n",
       "      <td>5.0</td>\n",
       "      <td>4.0</td>\n",
       "      <td>5.0</td>\n",
       "      <td>4.0</td>\n",
       "      <td>4.0</td>\n",
       "      <td>4.0</td>\n",
       "      <td>5.0</td>\n",
       "      <td>4.0</td>\n",
       "      <td>5.0</td>\n",
       "      <td>4.0</td>\n",
       "      <td>...</td>\n",
       "      <td>4.0</td>\n",
       "      <td>5.0</td>\n",
       "      <td>4.0</td>\n",
       "      <td>5.0</td>\n",
       "      <td>5.0</td>\n",
       "      <td>5.0</td>\n",
       "      <td>5.0</td>\n",
       "      <td>5.0</td>\n",
       "      <td>5.0</td>\n",
       "      <td>4.0</td>\n",
       "      <td>5.0</td>\n",
       "      <td>4.0</td>\n",
       "      <td>5.0</td>\n",
       "      <td>4.0</td>\n",
       "      <td>4.0</td>\n",
       "      <td>5.0</td>\n",
       "      <td>4.0</td>\n",
       "      <td>4.0</td>\n",
       "      <td>4.0</td>\n",
       "      <td>4.0</td>\n",
       "      <td>4.0</td>\n",
       "      <td>5.0</td>\n",
       "      <td>4.0</td>\n",
       "      <td>5.0</td>\n",
       "      <td>5.0</td>\n",
       "      <td>5.0</td>\n",
       "      <td>4.0</td>\n",
       "      <td>5.0</td>\n",
       "      <td>5.0</td>\n",
       "      <td>5.0</td>\n",
       "      <td>4.0</td>\n",
       "      <td>5.0</td>\n",
       "      <td>5.0</td>\n",
       "      <td>4.0</td>\n",
       "      <td>5.0</td>\n",
       "      <td>4.0</td>\n",
       "      <td>5.0</td>\n",
       "      <td>4.0</td>\n",
       "      <td>4.0</td>\n",
       "      <td>4.0</td>\n",
       "    </tr>\n",
       "    <tr>\n",
       "      <th>34344</th>\n",
       "      <td>4.0</td>\n",
       "      <td>4.0</td>\n",
       "      <td>4.0</td>\n",
       "      <td>4.0</td>\n",
       "      <td>5.0</td>\n",
       "      <td>4.0</td>\n",
       "      <td>4.0</td>\n",
       "      <td>4.0</td>\n",
       "      <td>4.0</td>\n",
       "      <td>5.0</td>\n",
       "      <td>5.0</td>\n",
       "      <td>4.0</td>\n",
       "      <td>4.0</td>\n",
       "      <td>5.0</td>\n",
       "      <td>4.0</td>\n",
       "      <td>4.0</td>\n",
       "      <td>5.0</td>\n",
       "      <td>4.0</td>\n",
       "      <td>5.0</td>\n",
       "      <td>5.0</td>\n",
       "      <td>4.0</td>\n",
       "      <td>5.0</td>\n",
       "      <td>5.0</td>\n",
       "      <td>4.0</td>\n",
       "      <td>5.0</td>\n",
       "      <td>4.0</td>\n",
       "      <td>4.0</td>\n",
       "      <td>4.0</td>\n",
       "      <td>5.0</td>\n",
       "      <td>5.0</td>\n",
       "      <td>5.0</td>\n",
       "      <td>4.0</td>\n",
       "      <td>5.0</td>\n",
       "      <td>4.0</td>\n",
       "      <td>4.0</td>\n",
       "      <td>4.0</td>\n",
       "      <td>5.0</td>\n",
       "      <td>4.0</td>\n",
       "      <td>5.0</td>\n",
       "      <td>4.0</td>\n",
       "      <td>...</td>\n",
       "      <td>4.0</td>\n",
       "      <td>5.0</td>\n",
       "      <td>4.0</td>\n",
       "      <td>5.0</td>\n",
       "      <td>5.0</td>\n",
       "      <td>5.0</td>\n",
       "      <td>5.0</td>\n",
       "      <td>5.0</td>\n",
       "      <td>5.0</td>\n",
       "      <td>5.0</td>\n",
       "      <td>5.0</td>\n",
       "      <td>4.0</td>\n",
       "      <td>5.0</td>\n",
       "      <td>4.0</td>\n",
       "      <td>4.0</td>\n",
       "      <td>4.0</td>\n",
       "      <td>4.0</td>\n",
       "      <td>4.0</td>\n",
       "      <td>4.0</td>\n",
       "      <td>4.0</td>\n",
       "      <td>4.0</td>\n",
       "      <td>5.0</td>\n",
       "      <td>4.0</td>\n",
       "      <td>5.0</td>\n",
       "      <td>5.0</td>\n",
       "      <td>5.0</td>\n",
       "      <td>4.0</td>\n",
       "      <td>5.0</td>\n",
       "      <td>5.0</td>\n",
       "      <td>5.0</td>\n",
       "      <td>4.0</td>\n",
       "      <td>5.0</td>\n",
       "      <td>5.0</td>\n",
       "      <td>4.0</td>\n",
       "      <td>5.0</td>\n",
       "      <td>4.0</td>\n",
       "      <td>5.0</td>\n",
       "      <td>4.0</td>\n",
       "      <td>4.0</td>\n",
       "      <td>4.0</td>\n",
       "    </tr>\n",
       "    <tr>\n",
       "      <th>36004</th>\n",
       "      <td>5.0</td>\n",
       "      <td>4.0</td>\n",
       "      <td>5.0</td>\n",
       "      <td>4.0</td>\n",
       "      <td>5.0</td>\n",
       "      <td>5.0</td>\n",
       "      <td>5.0</td>\n",
       "      <td>5.0</td>\n",
       "      <td>5.0</td>\n",
       "      <td>5.0</td>\n",
       "      <td>5.0</td>\n",
       "      <td>5.0</td>\n",
       "      <td>4.0</td>\n",
       "      <td>5.0</td>\n",
       "      <td>4.0</td>\n",
       "      <td>5.0</td>\n",
       "      <td>5.0</td>\n",
       "      <td>4.0</td>\n",
       "      <td>5.0</td>\n",
       "      <td>5.0</td>\n",
       "      <td>5.0</td>\n",
       "      <td>5.0</td>\n",
       "      <td>5.0</td>\n",
       "      <td>4.0</td>\n",
       "      <td>5.0</td>\n",
       "      <td>5.0</td>\n",
       "      <td>5.0</td>\n",
       "      <td>4.0</td>\n",
       "      <td>5.0</td>\n",
       "      <td>5.0</td>\n",
       "      <td>5.0</td>\n",
       "      <td>4.0</td>\n",
       "      <td>5.0</td>\n",
       "      <td>5.0</td>\n",
       "      <td>4.0</td>\n",
       "      <td>5.0</td>\n",
       "      <td>5.0</td>\n",
       "      <td>5.0</td>\n",
       "      <td>5.0</td>\n",
       "      <td>4.0</td>\n",
       "      <td>...</td>\n",
       "      <td>4.0</td>\n",
       "      <td>5.0</td>\n",
       "      <td>5.0</td>\n",
       "      <td>5.0</td>\n",
       "      <td>5.0</td>\n",
       "      <td>5.0</td>\n",
       "      <td>5.0</td>\n",
       "      <td>5.0</td>\n",
       "      <td>5.0</td>\n",
       "      <td>5.0</td>\n",
       "      <td>5.0</td>\n",
       "      <td>5.0</td>\n",
       "      <td>5.0</td>\n",
       "      <td>4.0</td>\n",
       "      <td>5.0</td>\n",
       "      <td>5.0</td>\n",
       "      <td>4.0</td>\n",
       "      <td>4.0</td>\n",
       "      <td>5.0</td>\n",
       "      <td>4.0</td>\n",
       "      <td>5.0</td>\n",
       "      <td>5.0</td>\n",
       "      <td>5.0</td>\n",
       "      <td>5.0</td>\n",
       "      <td>5.0</td>\n",
       "      <td>5.0</td>\n",
       "      <td>5.0</td>\n",
       "      <td>5.0</td>\n",
       "      <td>5.0</td>\n",
       "      <td>5.0</td>\n",
       "      <td>5.0</td>\n",
       "      <td>5.0</td>\n",
       "      <td>5.0</td>\n",
       "      <td>5.0</td>\n",
       "      <td>5.0</td>\n",
       "      <td>5.0</td>\n",
       "      <td>5.0</td>\n",
       "      <td>5.0</td>\n",
       "      <td>4.0</td>\n",
       "      <td>4.0</td>\n",
       "    </tr>\n",
       "    <tr>\n",
       "      <th>...</th>\n",
       "      <td>...</td>\n",
       "      <td>...</td>\n",
       "      <td>...</td>\n",
       "      <td>...</td>\n",
       "      <td>...</td>\n",
       "      <td>...</td>\n",
       "      <td>...</td>\n",
       "      <td>...</td>\n",
       "      <td>...</td>\n",
       "      <td>...</td>\n",
       "      <td>...</td>\n",
       "      <td>...</td>\n",
       "      <td>...</td>\n",
       "      <td>...</td>\n",
       "      <td>...</td>\n",
       "      <td>...</td>\n",
       "      <td>...</td>\n",
       "      <td>...</td>\n",
       "      <td>...</td>\n",
       "      <td>...</td>\n",
       "      <td>...</td>\n",
       "      <td>...</td>\n",
       "      <td>...</td>\n",
       "      <td>...</td>\n",
       "      <td>...</td>\n",
       "      <td>...</td>\n",
       "      <td>...</td>\n",
       "      <td>...</td>\n",
       "      <td>...</td>\n",
       "      <td>...</td>\n",
       "      <td>...</td>\n",
       "      <td>...</td>\n",
       "      <td>...</td>\n",
       "      <td>...</td>\n",
       "      <td>...</td>\n",
       "      <td>...</td>\n",
       "      <td>...</td>\n",
       "      <td>...</td>\n",
       "      <td>...</td>\n",
       "      <td>...</td>\n",
       "      <td>...</td>\n",
       "      <td>...</td>\n",
       "      <td>...</td>\n",
       "      <td>...</td>\n",
       "      <td>...</td>\n",
       "      <td>...</td>\n",
       "      <td>...</td>\n",
       "      <td>...</td>\n",
       "      <td>...</td>\n",
       "      <td>...</td>\n",
       "      <td>...</td>\n",
       "      <td>...</td>\n",
       "      <td>...</td>\n",
       "      <td>...</td>\n",
       "      <td>...</td>\n",
       "      <td>...</td>\n",
       "      <td>...</td>\n",
       "      <td>...</td>\n",
       "      <td>...</td>\n",
       "      <td>...</td>\n",
       "      <td>...</td>\n",
       "      <td>...</td>\n",
       "      <td>...</td>\n",
       "      <td>...</td>\n",
       "      <td>...</td>\n",
       "      <td>...</td>\n",
       "      <td>...</td>\n",
       "      <td>...</td>\n",
       "      <td>...</td>\n",
       "      <td>...</td>\n",
       "      <td>...</td>\n",
       "      <td>...</td>\n",
       "      <td>...</td>\n",
       "      <td>...</td>\n",
       "      <td>...</td>\n",
       "      <td>...</td>\n",
       "      <td>...</td>\n",
       "      <td>...</td>\n",
       "      <td>...</td>\n",
       "      <td>...</td>\n",
       "      <td>...</td>\n",
       "    </tr>\n",
       "    <tr>\n",
       "      <th>99979017</th>\n",
       "      <td>4.0</td>\n",
       "      <td>4.0</td>\n",
       "      <td>4.0</td>\n",
       "      <td>4.0</td>\n",
       "      <td>4.0</td>\n",
       "      <td>4.0</td>\n",
       "      <td>4.0</td>\n",
       "      <td>4.0</td>\n",
       "      <td>4.0</td>\n",
       "      <td>4.0</td>\n",
       "      <td>4.0</td>\n",
       "      <td>4.0</td>\n",
       "      <td>4.0</td>\n",
       "      <td>4.0</td>\n",
       "      <td>4.0</td>\n",
       "      <td>4.0</td>\n",
       "      <td>4.0</td>\n",
       "      <td>4.0</td>\n",
       "      <td>4.0</td>\n",
       "      <td>4.0</td>\n",
       "      <td>4.0</td>\n",
       "      <td>4.0</td>\n",
       "      <td>4.0</td>\n",
       "      <td>4.0</td>\n",
       "      <td>4.0</td>\n",
       "      <td>4.0</td>\n",
       "      <td>4.0</td>\n",
       "      <td>4.0</td>\n",
       "      <td>4.0</td>\n",
       "      <td>4.0</td>\n",
       "      <td>4.0</td>\n",
       "      <td>4.0</td>\n",
       "      <td>4.0</td>\n",
       "      <td>4.0</td>\n",
       "      <td>4.0</td>\n",
       "      <td>4.0</td>\n",
       "      <td>4.0</td>\n",
       "      <td>4.0</td>\n",
       "      <td>4.0</td>\n",
       "      <td>4.0</td>\n",
       "      <td>...</td>\n",
       "      <td>4.0</td>\n",
       "      <td>4.0</td>\n",
       "      <td>4.0</td>\n",
       "      <td>4.0</td>\n",
       "      <td>5.0</td>\n",
       "      <td>4.0</td>\n",
       "      <td>4.0</td>\n",
       "      <td>4.0</td>\n",
       "      <td>4.0</td>\n",
       "      <td>4.0</td>\n",
       "      <td>4.0</td>\n",
       "      <td>4.0</td>\n",
       "      <td>5.0</td>\n",
       "      <td>4.0</td>\n",
       "      <td>4.0</td>\n",
       "      <td>4.0</td>\n",
       "      <td>4.0</td>\n",
       "      <td>3.0</td>\n",
       "      <td>4.0</td>\n",
       "      <td>3.0</td>\n",
       "      <td>4.0</td>\n",
       "      <td>4.0</td>\n",
       "      <td>4.0</td>\n",
       "      <td>4.0</td>\n",
       "      <td>4.0</td>\n",
       "      <td>4.0</td>\n",
       "      <td>4.0</td>\n",
       "      <td>4.0</td>\n",
       "      <td>4.0</td>\n",
       "      <td>4.0</td>\n",
       "      <td>4.0</td>\n",
       "      <td>4.0</td>\n",
       "      <td>4.0</td>\n",
       "      <td>4.0</td>\n",
       "      <td>4.0</td>\n",
       "      <td>4.0</td>\n",
       "      <td>4.0</td>\n",
       "      <td>4.0</td>\n",
       "      <td>4.0</td>\n",
       "      <td>4.0</td>\n",
       "    </tr>\n",
       "    <tr>\n",
       "      <th>99983493</th>\n",
       "      <td>5.0</td>\n",
       "      <td>4.0</td>\n",
       "      <td>5.0</td>\n",
       "      <td>4.0</td>\n",
       "      <td>5.0</td>\n",
       "      <td>5.0</td>\n",
       "      <td>5.0</td>\n",
       "      <td>5.0</td>\n",
       "      <td>5.0</td>\n",
       "      <td>5.0</td>\n",
       "      <td>5.0</td>\n",
       "      <td>5.0</td>\n",
       "      <td>4.0</td>\n",
       "      <td>5.0</td>\n",
       "      <td>4.0</td>\n",
       "      <td>5.0</td>\n",
       "      <td>5.0</td>\n",
       "      <td>4.0</td>\n",
       "      <td>5.0</td>\n",
       "      <td>5.0</td>\n",
       "      <td>5.0</td>\n",
       "      <td>5.0</td>\n",
       "      <td>5.0</td>\n",
       "      <td>4.0</td>\n",
       "      <td>5.0</td>\n",
       "      <td>5.0</td>\n",
       "      <td>5.0</td>\n",
       "      <td>4.0</td>\n",
       "      <td>5.0</td>\n",
       "      <td>5.0</td>\n",
       "      <td>5.0</td>\n",
       "      <td>4.0</td>\n",
       "      <td>5.0</td>\n",
       "      <td>5.0</td>\n",
       "      <td>4.0</td>\n",
       "      <td>5.0</td>\n",
       "      <td>5.0</td>\n",
       "      <td>5.0</td>\n",
       "      <td>5.0</td>\n",
       "      <td>4.0</td>\n",
       "      <td>...</td>\n",
       "      <td>4.0</td>\n",
       "      <td>5.0</td>\n",
       "      <td>5.0</td>\n",
       "      <td>5.0</td>\n",
       "      <td>5.0</td>\n",
       "      <td>5.0</td>\n",
       "      <td>5.0</td>\n",
       "      <td>5.0</td>\n",
       "      <td>5.0</td>\n",
       "      <td>5.0</td>\n",
       "      <td>5.0</td>\n",
       "      <td>5.0</td>\n",
       "      <td>5.0</td>\n",
       "      <td>4.0</td>\n",
       "      <td>5.0</td>\n",
       "      <td>5.0</td>\n",
       "      <td>4.0</td>\n",
       "      <td>4.0</td>\n",
       "      <td>5.0</td>\n",
       "      <td>4.0</td>\n",
       "      <td>5.0</td>\n",
       "      <td>5.0</td>\n",
       "      <td>5.0</td>\n",
       "      <td>5.0</td>\n",
       "      <td>5.0</td>\n",
       "      <td>5.0</td>\n",
       "      <td>5.0</td>\n",
       "      <td>5.0</td>\n",
       "      <td>5.0</td>\n",
       "      <td>5.0</td>\n",
       "      <td>5.0</td>\n",
       "      <td>5.0</td>\n",
       "      <td>5.0</td>\n",
       "      <td>5.0</td>\n",
       "      <td>5.0</td>\n",
       "      <td>5.0</td>\n",
       "      <td>5.0</td>\n",
       "      <td>5.0</td>\n",
       "      <td>4.0</td>\n",
       "      <td>4.0</td>\n",
       "    </tr>\n",
       "    <tr>\n",
       "      <th>99986481</th>\n",
       "      <td>5.0</td>\n",
       "      <td>4.0</td>\n",
       "      <td>5.0</td>\n",
       "      <td>4.0</td>\n",
       "      <td>5.0</td>\n",
       "      <td>5.0</td>\n",
       "      <td>5.0</td>\n",
       "      <td>5.0</td>\n",
       "      <td>5.0</td>\n",
       "      <td>5.0</td>\n",
       "      <td>5.0</td>\n",
       "      <td>5.0</td>\n",
       "      <td>4.0</td>\n",
       "      <td>5.0</td>\n",
       "      <td>4.0</td>\n",
       "      <td>5.0</td>\n",
       "      <td>5.0</td>\n",
       "      <td>4.0</td>\n",
       "      <td>5.0</td>\n",
       "      <td>5.0</td>\n",
       "      <td>5.0</td>\n",
       "      <td>5.0</td>\n",
       "      <td>5.0</td>\n",
       "      <td>4.0</td>\n",
       "      <td>5.0</td>\n",
       "      <td>5.0</td>\n",
       "      <td>5.0</td>\n",
       "      <td>4.0</td>\n",
       "      <td>5.0</td>\n",
       "      <td>5.0</td>\n",
       "      <td>5.0</td>\n",
       "      <td>4.0</td>\n",
       "      <td>5.0</td>\n",
       "      <td>5.0</td>\n",
       "      <td>4.0</td>\n",
       "      <td>5.0</td>\n",
       "      <td>5.0</td>\n",
       "      <td>5.0</td>\n",
       "      <td>5.0</td>\n",
       "      <td>4.0</td>\n",
       "      <td>...</td>\n",
       "      <td>4.0</td>\n",
       "      <td>5.0</td>\n",
       "      <td>5.0</td>\n",
       "      <td>5.0</td>\n",
       "      <td>5.0</td>\n",
       "      <td>5.0</td>\n",
       "      <td>5.0</td>\n",
       "      <td>5.0</td>\n",
       "      <td>5.0</td>\n",
       "      <td>5.0</td>\n",
       "      <td>5.0</td>\n",
       "      <td>5.0</td>\n",
       "      <td>5.0</td>\n",
       "      <td>4.0</td>\n",
       "      <td>5.0</td>\n",
       "      <td>5.0</td>\n",
       "      <td>4.0</td>\n",
       "      <td>4.0</td>\n",
       "      <td>5.0</td>\n",
       "      <td>4.0</td>\n",
       "      <td>5.0</td>\n",
       "      <td>5.0</td>\n",
       "      <td>5.0</td>\n",
       "      <td>5.0</td>\n",
       "      <td>5.0</td>\n",
       "      <td>5.0</td>\n",
       "      <td>5.0</td>\n",
       "      <td>5.0</td>\n",
       "      <td>5.0</td>\n",
       "      <td>5.0</td>\n",
       "      <td>5.0</td>\n",
       "      <td>5.0</td>\n",
       "      <td>5.0</td>\n",
       "      <td>5.0</td>\n",
       "      <td>5.0</td>\n",
       "      <td>5.0</td>\n",
       "      <td>5.0</td>\n",
       "      <td>5.0</td>\n",
       "      <td>4.0</td>\n",
       "      <td>4.0</td>\n",
       "    </tr>\n",
       "    <tr>\n",
       "      <th>99992203</th>\n",
       "      <td>4.0</td>\n",
       "      <td>4.0</td>\n",
       "      <td>4.0</td>\n",
       "      <td>4.0</td>\n",
       "      <td>4.0</td>\n",
       "      <td>4.0</td>\n",
       "      <td>4.0</td>\n",
       "      <td>4.0</td>\n",
       "      <td>4.0</td>\n",
       "      <td>4.0</td>\n",
       "      <td>4.0</td>\n",
       "      <td>4.0</td>\n",
       "      <td>4.0</td>\n",
       "      <td>4.0</td>\n",
       "      <td>4.0</td>\n",
       "      <td>4.0</td>\n",
       "      <td>4.0</td>\n",
       "      <td>4.0</td>\n",
       "      <td>4.0</td>\n",
       "      <td>4.0</td>\n",
       "      <td>4.0</td>\n",
       "      <td>4.0</td>\n",
       "      <td>4.0</td>\n",
       "      <td>4.0</td>\n",
       "      <td>4.0</td>\n",
       "      <td>4.0</td>\n",
       "      <td>4.0</td>\n",
       "      <td>4.0</td>\n",
       "      <td>4.0</td>\n",
       "      <td>4.0</td>\n",
       "      <td>4.0</td>\n",
       "      <td>4.0</td>\n",
       "      <td>4.0</td>\n",
       "      <td>4.0</td>\n",
       "      <td>4.0</td>\n",
       "      <td>4.0</td>\n",
       "      <td>4.0</td>\n",
       "      <td>4.0</td>\n",
       "      <td>4.0</td>\n",
       "      <td>4.0</td>\n",
       "      <td>...</td>\n",
       "      <td>4.0</td>\n",
       "      <td>4.0</td>\n",
       "      <td>4.0</td>\n",
       "      <td>4.0</td>\n",
       "      <td>5.0</td>\n",
       "      <td>4.0</td>\n",
       "      <td>4.0</td>\n",
       "      <td>4.0</td>\n",
       "      <td>4.0</td>\n",
       "      <td>4.0</td>\n",
       "      <td>4.0</td>\n",
       "      <td>4.0</td>\n",
       "      <td>5.0</td>\n",
       "      <td>4.0</td>\n",
       "      <td>4.0</td>\n",
       "      <td>4.0</td>\n",
       "      <td>4.0</td>\n",
       "      <td>3.0</td>\n",
       "      <td>4.0</td>\n",
       "      <td>3.0</td>\n",
       "      <td>4.0</td>\n",
       "      <td>4.0</td>\n",
       "      <td>4.0</td>\n",
       "      <td>4.0</td>\n",
       "      <td>4.0</td>\n",
       "      <td>4.0</td>\n",
       "      <td>4.0</td>\n",
       "      <td>4.0</td>\n",
       "      <td>4.0</td>\n",
       "      <td>4.0</td>\n",
       "      <td>4.0</td>\n",
       "      <td>4.0</td>\n",
       "      <td>4.0</td>\n",
       "      <td>4.0</td>\n",
       "      <td>4.0</td>\n",
       "      <td>4.0</td>\n",
       "      <td>4.0</td>\n",
       "      <td>4.0</td>\n",
       "      <td>4.0</td>\n",
       "      <td>4.0</td>\n",
       "    </tr>\n",
       "    <tr>\n",
       "      <th>99996166</th>\n",
       "      <td>4.0</td>\n",
       "      <td>3.0</td>\n",
       "      <td>4.0</td>\n",
       "      <td>3.0</td>\n",
       "      <td>4.0</td>\n",
       "      <td>4.0</td>\n",
       "      <td>4.0</td>\n",
       "      <td>4.0</td>\n",
       "      <td>4.0</td>\n",
       "      <td>4.0</td>\n",
       "      <td>4.0</td>\n",
       "      <td>4.0</td>\n",
       "      <td>3.0</td>\n",
       "      <td>4.0</td>\n",
       "      <td>3.0</td>\n",
       "      <td>4.0</td>\n",
       "      <td>4.0</td>\n",
       "      <td>3.0</td>\n",
       "      <td>4.0</td>\n",
       "      <td>4.0</td>\n",
       "      <td>4.0</td>\n",
       "      <td>4.0</td>\n",
       "      <td>4.0</td>\n",
       "      <td>3.0</td>\n",
       "      <td>4.0</td>\n",
       "      <td>4.0</td>\n",
       "      <td>4.0</td>\n",
       "      <td>3.0</td>\n",
       "      <td>4.0</td>\n",
       "      <td>4.0</td>\n",
       "      <td>4.0</td>\n",
       "      <td>3.0</td>\n",
       "      <td>4.0</td>\n",
       "      <td>4.0</td>\n",
       "      <td>3.0</td>\n",
       "      <td>4.0</td>\n",
       "      <td>4.0</td>\n",
       "      <td>4.0</td>\n",
       "      <td>4.0</td>\n",
       "      <td>3.0</td>\n",
       "      <td>...</td>\n",
       "      <td>3.0</td>\n",
       "      <td>4.0</td>\n",
       "      <td>4.0</td>\n",
       "      <td>4.0</td>\n",
       "      <td>4.0</td>\n",
       "      <td>4.0</td>\n",
       "      <td>4.0</td>\n",
       "      <td>4.0</td>\n",
       "      <td>4.0</td>\n",
       "      <td>4.0</td>\n",
       "      <td>4.0</td>\n",
       "      <td>4.0</td>\n",
       "      <td>4.0</td>\n",
       "      <td>3.0</td>\n",
       "      <td>4.0</td>\n",
       "      <td>4.0</td>\n",
       "      <td>3.0</td>\n",
       "      <td>3.0</td>\n",
       "      <td>4.0</td>\n",
       "      <td>3.0</td>\n",
       "      <td>4.0</td>\n",
       "      <td>4.0</td>\n",
       "      <td>4.0</td>\n",
       "      <td>4.0</td>\n",
       "      <td>4.0</td>\n",
       "      <td>4.0</td>\n",
       "      <td>4.0</td>\n",
       "      <td>4.0</td>\n",
       "      <td>4.0</td>\n",
       "      <td>4.0</td>\n",
       "      <td>4.0</td>\n",
       "      <td>4.0</td>\n",
       "      <td>4.0</td>\n",
       "      <td>4.0</td>\n",
       "      <td>4.0</td>\n",
       "      <td>4.0</td>\n",
       "      <td>4.0</td>\n",
       "      <td>4.0</td>\n",
       "      <td>3.0</td>\n",
       "      <td>3.0</td>\n",
       "    </tr>\n",
       "  </tbody>\n",
       "</table>\n",
       "<p>8438 rows × 6705 columns</p>\n",
       "</div>"
      ],
      "text/plain": [
       "itemID      1074      40836     58069     ...  99938488  99952270  99987089\n",
       "reviewerID                                ...                              \n",
       "4783             5.0       4.0       5.0  ...       5.0       5.0       4.0\n",
       "9410             5.0       4.0       5.0  ...       5.0       4.0       4.0\n",
       "21805            4.0       4.0       4.0  ...       4.0       4.0       4.0\n",
       "34344            4.0       4.0       4.0  ...       4.0       4.0       4.0\n",
       "36004            5.0       4.0       5.0  ...       5.0       4.0       4.0\n",
       "...              ...       ...       ...  ...       ...       ...       ...\n",
       "99979017         4.0       4.0       4.0  ...       4.0       4.0       4.0\n",
       "99983493         5.0       4.0       5.0  ...       5.0       4.0       4.0\n",
       "99986481         5.0       4.0       5.0  ...       5.0       4.0       4.0\n",
       "99992203         4.0       4.0       4.0  ...       4.0       4.0       4.0\n",
       "99996166         4.0       3.0       4.0  ...       4.0       3.0       3.0\n",
       "\n",
       "[8438 rows x 6705 columns]"
      ]
     },
     "execution_count": 96,
     "metadata": {
      "tags": []
     },
     "output_type": "execute_result"
    }
   ],
   "source": [
    "rounded_predictions = pd.DataFrame(np.round(mf.full_matrix()))\n",
    "rounded_predictions.columns = R_df.columns\n",
    "rounded_predictions.index = R_df.index\n",
    "rounded_predictions"
   ]
  },
  {
   "cell_type": "code",
   "execution_count": 103,
   "metadata": {
    "colab": {
     "base_uri": "https://localhost:8080/",
     "height": 410
    },
    "id": "-_WHN1nEJoD5",
    "outputId": "024e15dd-aaa2-4db5-bf50-79e23472a9f7"
   },
   "outputs": [
    {
     "data": {
      "text/html": [
       "<div>\n",
       "<style scoped>\n",
       "    .dataframe tbody tr th:only-of-type {\n",
       "        vertical-align: middle;\n",
       "    }\n",
       "\n",
       "    .dataframe tbody tr th {\n",
       "        vertical-align: top;\n",
       "    }\n",
       "\n",
       "    .dataframe thead th {\n",
       "        text-align: right;\n",
       "    }\n",
       "</style>\n",
       "<table border=\"1\" class=\"dataframe\">\n",
       "  <thead>\n",
       "    <tr style=\"text-align: right;\">\n",
       "      <th></th>\n",
       "      <th>reviewerID</th>\n",
       "      <th>itemID</th>\n",
       "      <th>overall</th>\n",
       "    </tr>\n",
       "  </thead>\n",
       "  <tbody>\n",
       "    <tr>\n",
       "      <th>59770</th>\n",
       "      <td>27795695</td>\n",
       "      <td>87595611</td>\n",
       "      <td>5.0</td>\n",
       "    </tr>\n",
       "    <tr>\n",
       "      <th>21362</th>\n",
       "      <td>25588969</td>\n",
       "      <td>54328640</td>\n",
       "      <td>5.0</td>\n",
       "    </tr>\n",
       "    <tr>\n",
       "      <th>127324</th>\n",
       "      <td>32826075</td>\n",
       "      <td>98585649</td>\n",
       "      <td>5.0</td>\n",
       "    </tr>\n",
       "    <tr>\n",
       "      <th>140509</th>\n",
       "      <td>54386356</td>\n",
       "      <td>79496784</td>\n",
       "      <td>5.0</td>\n",
       "    </tr>\n",
       "    <tr>\n",
       "      <th>144297</th>\n",
       "      <td>54095284</td>\n",
       "      <td>12135090</td>\n",
       "      <td>5.0</td>\n",
       "    </tr>\n",
       "    <tr>\n",
       "      <th>...</th>\n",
       "      <td>...</td>\n",
       "      <td>...</td>\n",
       "      <td>...</td>\n",
       "    </tr>\n",
       "    <tr>\n",
       "      <th>146364</th>\n",
       "      <td>82407503</td>\n",
       "      <td>73234226</td>\n",
       "      <td>5.0</td>\n",
       "    </tr>\n",
       "    <tr>\n",
       "      <th>70240</th>\n",
       "      <td>67260809</td>\n",
       "      <td>70858769</td>\n",
       "      <td>5.0</td>\n",
       "    </tr>\n",
       "    <tr>\n",
       "      <th>114852</th>\n",
       "      <td>82465038</td>\n",
       "      <td>49079644</td>\n",
       "      <td>5.0</td>\n",
       "    </tr>\n",
       "    <tr>\n",
       "      <th>132680</th>\n",
       "      <td>91558099</td>\n",
       "      <td>63232619</td>\n",
       "      <td>5.0</td>\n",
       "    </tr>\n",
       "    <tr>\n",
       "      <th>116391</th>\n",
       "      <td>36756458</td>\n",
       "      <td>84130808</td>\n",
       "      <td>4.0</td>\n",
       "    </tr>\n",
       "  </tbody>\n",
       "</table>\n",
       "<p>3000 rows × 3 columns</p>\n",
       "</div>"
      ],
      "text/plain": [
       "        reviewerID    itemID  overall\n",
       "59770     27795695  87595611      5.0\n",
       "21362     25588969  54328640      5.0\n",
       "127324    32826075  98585649      5.0\n",
       "140509    54386356  79496784      5.0\n",
       "144297    54095284  12135090      5.0\n",
       "...            ...       ...      ...\n",
       "146364    82407503  73234226      5.0\n",
       "70240     67260809  70858769      5.0\n",
       "114852    82465038  49079644      5.0\n",
       "132680    91558099  63232619      5.0\n",
       "116391    36756458  84130808      4.0\n",
       "\n",
       "[3000 rows x 3 columns]"
      ]
     },
     "execution_count": 103,
     "metadata": {
      "tags": []
     },
     "output_type": "execute_result"
    }
   ],
   "source": [
    "test_set[:3000]"
   ]
  },
  {
   "cell_type": "code",
   "execution_count": 104,
   "metadata": {
    "colab": {
     "base_uri": "https://localhost:8080/"
    },
    "id": "HfDdwNOPJFEY",
    "outputId": "5134c54e-3da6-4658-f523-870b23fe6d09"
   },
   "outputs": [
    {
     "name": "stdout",
     "output_type": "stream",
     "text": [
      "The test MSE is 1.189.\n"
     ]
    }
   ],
   "source": [
    "test_MSE_list = []\n",
    "for row in range(3000):\n",
    "    test_pair = test_set.iloc[row]\n",
    "    reviewer = test_pair[\"reviewerID\"]\n",
    "    item = test_pair[\"itemID\"]\n",
    "    true_rating = test_pair[\"overall\"]\n",
    "    pred_rating = rounded_predictions.loc[reviewer, item]\n",
    "    pair_squared_error = (true_rating - pred_rating)**2\n",
    "    test_MSE_list.append(pair_squared_error)\n",
    "print(\"The test MSE is %0.3f.\" % np.mean(test_MSE_list))"
   ]
  }
 ],
 "metadata": {
  "colab": {
   "collapsed_sections": [],
   "name": "Recommender_System.ipynb",
   "provenance": []
  },
  "kernelspec": {
   "display_name": "Python 3",
   "language": "python",
   "name": "python3"
  },
  "language_info": {
   "codemirror_mode": {
    "name": "ipython",
    "version": 3
   },
   "file_extension": ".py",
   "mimetype": "text/x-python",
   "name": "python",
   "nbconvert_exporter": "python",
   "pygments_lexer": "ipython3",
   "version": "3.8.3"
  }
 },
 "nbformat": 4,
 "nbformat_minor": 1
}
