{
  "nbformat": 4,
  "nbformat_minor": 0,
  "metadata": {
    "colab": {
      "name": "CourseProject_MLP+XGB.ipynb",
      "provenance": [],
      "collapsed_sections": []
    },
    "kernelspec": {
      "name": "python3",
      "display_name": "Python 3"
    },
    "language_info": {
      "name": "python"
    }
  },
  "cells": [
    {
      "cell_type": "code",
      "metadata": {
        "colab": {
          "base_uri": "https://localhost:8080/"
        },
        "id": "BFidZvK22vKq",
        "outputId": "530e288a-fc98-4155-fb59-0f2c5c9171d1"
      },
      "source": [
        "# For timing each cell\n",
        "!pip install ipython-autotime\n",
        "%load_ext autotime"
      ],
      "execution_count": 1,
      "outputs": [
        {
          "output_type": "stream",
          "text": [
            "Collecting ipython-autotime\n",
            "  Downloading https://files.pythonhosted.org/packages/b4/c9/b413a24f759641bc27ef98c144b590023c8038dfb8a3f09e713e9dff12c1/ipython_autotime-0.3.1-py2.py3-none-any.whl\n",
            "Requirement already satisfied: ipython in /usr/local/lib/python3.7/dist-packages (from ipython-autotime) (5.5.0)\n",
            "Requirement already satisfied: pickleshare in /usr/local/lib/python3.7/dist-packages (from ipython->ipython-autotime) (0.7.5)\n",
            "Requirement already satisfied: pygments in /usr/local/lib/python3.7/dist-packages (from ipython->ipython-autotime) (2.6.1)\n",
            "Requirement already satisfied: simplegeneric>0.8 in /usr/local/lib/python3.7/dist-packages (from ipython->ipython-autotime) (0.8.1)\n",
            "Requirement already satisfied: prompt-toolkit<2.0.0,>=1.0.4 in /usr/local/lib/python3.7/dist-packages (from ipython->ipython-autotime) (1.0.18)\n",
            "Requirement already satisfied: decorator in /usr/local/lib/python3.7/dist-packages (from ipython->ipython-autotime) (4.4.2)\n",
            "Requirement already satisfied: traitlets>=4.2 in /usr/local/lib/python3.7/dist-packages (from ipython->ipython-autotime) (5.0.5)\n",
            "Requirement already satisfied: pexpect; sys_platform != \"win32\" in /usr/local/lib/python3.7/dist-packages (from ipython->ipython-autotime) (4.8.0)\n",
            "Requirement already satisfied: setuptools>=18.5 in /usr/local/lib/python3.7/dist-packages (from ipython->ipython-autotime) (54.1.2)\n",
            "Requirement already satisfied: six>=1.9.0 in /usr/local/lib/python3.7/dist-packages (from prompt-toolkit<2.0.0,>=1.0.4->ipython->ipython-autotime) (1.15.0)\n",
            "Requirement already satisfied: wcwidth in /usr/local/lib/python3.7/dist-packages (from prompt-toolkit<2.0.0,>=1.0.4->ipython->ipython-autotime) (0.2.5)\n",
            "Requirement already satisfied: ipython-genutils in /usr/local/lib/python3.7/dist-packages (from traitlets>=4.2->ipython->ipython-autotime) (0.2.0)\n",
            "Requirement already satisfied: ptyprocess>=0.5 in /usr/local/lib/python3.7/dist-packages (from pexpect; sys_platform != \"win32\"->ipython->ipython-autotime) (0.7.0)\n",
            "Installing collected packages: ipython-autotime\n",
            "Successfully installed ipython-autotime-0.3.1\n",
            "time: 2.79 ms (started: 2021-03-29 21:29:39 +00:00)\n"
          ],
          "name": "stdout"
        }
      ]
    },
    {
      "cell_type": "code",
      "metadata": {
        "colab": {
          "base_uri": "https://localhost:8080/"
        },
        "id": "qI6OxFF8BGBS",
        "outputId": "123a1769-a478-4c93-9946-306c599cbd08"
      },
      "source": [
        "# Load necessary libraries\n",
        "import pandas as pd\n",
        "import numpy as np\n",
        "import matplotlib.pyplot as plt\n",
        "import seaborn as sns\n",
        "\n",
        "# Load word processing libraries\n",
        "import re\n",
        "import unicodedata\n",
        "import nltk\n",
        "from nltk.stem import WordNetLemmatizer\n",
        "from nltk.corpus import stopwords\n",
        "from nltk.tokenize import RegexpTokenizer\n",
        "from nltk.tokenize import word_tokenize\n",
        "nltk.download('stopwords')\n",
        "nltk.download('wordnet')\n",
        "nltk.download('punkt')\n",
        "from wordcloud import WordCloud\n",
        "\n",
        "# Load ML libraries\n",
        "from sklearn.feature_extraction.text import TfidfVectorizer, CountVectorizer\n",
        "from sklearn.preprocessing import StandardScaler\n",
        "from sklearn.model_selection import train_test_split, GridSearchCV, cross_val_score, KFold, StratifiedKFold\n",
        "# from sklearn.linear_model import LogisticRegression\n",
        "from sklearn.metrics import accuracy_score, f1_score, roc_curve, auc, roc_auc_score, confusion_matrix, classification_report, precision_score, recall_score, mean_squared_error\n",
        "# from sklearn.tree import DecisionTreeClassifier\n",
        "# from sklearn.neighbors import KNeighborsClassifier\n",
        "# from sklearn.naive_bayes import MultinomialNB\n",
        "# from sklearn.svm import LinearSVC\n",
        "# from sklearn.ensemble import RandomForestClassifier\n",
        "try:\n",
        "    from xgboost import XGBClassifier, XGBRegressor\n",
        "except:\n",
        "    !pip install xgboost\n",
        "    from xgboost import XGBClassifier, XGBRegressor\n",
        "\n",
        "import warnings\n",
        "warnings.filterwarnings(\"ignore\")"
      ],
      "execution_count": 2,
      "outputs": [
        {
          "output_type": "stream",
          "text": [
            "[nltk_data] Downloading package stopwords to /root/nltk_data...\n",
            "[nltk_data]   Unzipping corpora/stopwords.zip.\n",
            "[nltk_data] Downloading package wordnet to /root/nltk_data...\n",
            "[nltk_data]   Unzipping corpora/wordnet.zip.\n",
            "[nltk_data] Downloading package punkt to /root/nltk_data...\n",
            "[nltk_data]   Unzipping tokenizers/punkt.zip.\n",
            "time: 3.95 s (started: 2021-03-29 21:29:39 +00:00)\n"
          ],
          "name": "stdout"
        }
      ]
    },
    {
      "cell_type": "code",
      "metadata": {
        "colab": {
          "base_uri": "https://localhost:8080/",
          "height": 238
        },
        "id": "74Hq470YBLBg",
        "outputId": "006fac06-e32b-414b-dc5a-918a32b8c99b"
      },
      "source": [
        "# Load in train data\n",
        "train_df = pd.read_csv('train.csv')\n",
        "print(train_df.shape)\n",
        "train_df.drop(columns=['reviewTime', 'unixReviewTime', 'reviewHash', 'image'], inplace=True)\n",
        "train_df.head()"
      ],
      "execution_count": 3,
      "outputs": [
        {
          "output_type": "stream",
          "text": [
            "(150000, 11)\n"
          ],
          "name": "stdout"
        },
        {
          "output_type": "execute_result",
          "data": {
            "text/html": [
              "<div>\n",
              "<style scoped>\n",
              "    .dataframe tbody tr th:only-of-type {\n",
              "        vertical-align: middle;\n",
              "    }\n",
              "\n",
              "    .dataframe tbody tr th {\n",
              "        vertical-align: top;\n",
              "    }\n",
              "\n",
              "    .dataframe thead th {\n",
              "        text-align: right;\n",
              "    }\n",
              "</style>\n",
              "<table border=\"1\" class=\"dataframe\">\n",
              "  <thead>\n",
              "    <tr style=\"text-align: right;\">\n",
              "      <th></th>\n",
              "      <th>overall</th>\n",
              "      <th>reviewerID</th>\n",
              "      <th>reviewText</th>\n",
              "      <th>summary</th>\n",
              "      <th>category</th>\n",
              "      <th>price</th>\n",
              "      <th>itemID</th>\n",
              "    </tr>\n",
              "  </thead>\n",
              "  <tbody>\n",
              "    <tr>\n",
              "      <th>0</th>\n",
              "      <td>5.0</td>\n",
              "      <td>u92990698</td>\n",
              "      <td>A contemporary jazz and soul performer who's m...</td>\n",
              "      <td>\" CLASSIQUE \"</td>\n",
              "      <td>Jazz</td>\n",
              "      <td>$8.40</td>\n",
              "      <td>p23649501</td>\n",
              "    </tr>\n",
              "    <tr>\n",
              "      <th>1</th>\n",
              "      <td>5.0</td>\n",
              "      <td>u36200649</td>\n",
              "      <td>Very good idea to put both the 'pop' and 'orch...</td>\n",
              "      <td>Exceeded my Expectations - This album RAWKS!</td>\n",
              "      <td>Alternative Rock</td>\n",
              "      <td>$10.98</td>\n",
              "      <td>p58458313</td>\n",
              "    </tr>\n",
              "    <tr>\n",
              "      <th>2</th>\n",
              "      <td>5.0</td>\n",
              "      <td>u10721702</td>\n",
              "      <td>This is a great collection of Carole King's so...</td>\n",
              "      <td>A Must-have for Carole King Fans</td>\n",
              "      <td>Pop</td>\n",
              "      <td>$5.99</td>\n",
              "      <td>p97027626</td>\n",
              "    </tr>\n",
              "    <tr>\n",
              "      <th>3</th>\n",
              "      <td>5.0</td>\n",
              "      <td>u86003775</td>\n",
              "      <td>The is album is a brilliant piece of Jazz fusi...</td>\n",
              "      <td>A Master piece!</td>\n",
              "      <td>Jazz</td>\n",
              "      <td>$14.64</td>\n",
              "      <td>p43167086</td>\n",
              "    </tr>\n",
              "    <tr>\n",
              "      <th>4</th>\n",
              "      <td>5.0</td>\n",
              "      <td>u25672859</td>\n",
              "      <td>Waited a LONG time for this DVD to be released...</td>\n",
              "      <td>especially if you like concert videos</td>\n",
              "      <td>Alternative Rock</td>\n",
              "      <td>$9.92</td>\n",
              "      <td>p94494236</td>\n",
              "    </tr>\n",
              "  </tbody>\n",
              "</table>\n",
              "</div>"
            ],
            "text/plain": [
              "   overall reviewerID  ...   price     itemID\n",
              "0      5.0  u92990698  ...   $8.40  p23649501\n",
              "1      5.0  u36200649  ...  $10.98  p58458313\n",
              "2      5.0  u10721702  ...   $5.99  p97027626\n",
              "3      5.0  u86003775  ...  $14.64  p43167086\n",
              "4      5.0  u25672859  ...   $9.92  p94494236\n",
              "\n",
              "[5 rows x 7 columns]"
            ]
          },
          "metadata": {
            "tags": []
          },
          "execution_count": 3
        },
        {
          "output_type": "stream",
          "text": [
            "time: 1.92 s (started: 2021-03-29 21:29:43 +00:00)\n"
          ],
          "name": "stdout"
        }
      ]
    },
    {
      "cell_type": "code",
      "metadata": {
        "colab": {
          "base_uri": "https://localhost:8080/",
          "height": 238
        },
        "id": "SwT_Wn2JGeL4",
        "outputId": "f02c5a7c-a2c6-4178-c0ca-594ca39468cc"
      },
      "source": [
        "# Load in test data\n",
        "test_df = pd.read_csv('test.csv')\n",
        "print(test_df.shape)\n",
        "test_df.drop(columns=['reviewTime', 'unixReviewTime', 'reviewHash', 'image'], inplace=True)\n",
        "test_df.head()"
      ],
      "execution_count": 4,
      "outputs": [
        {
          "output_type": "stream",
          "text": [
            "(20000, 10)\n"
          ],
          "name": "stdout"
        },
        {
          "output_type": "execute_result",
          "data": {
            "text/html": [
              "<div>\n",
              "<style scoped>\n",
              "    .dataframe tbody tr th:only-of-type {\n",
              "        vertical-align: middle;\n",
              "    }\n",
              "\n",
              "    .dataframe tbody tr th {\n",
              "        vertical-align: top;\n",
              "    }\n",
              "\n",
              "    .dataframe thead th {\n",
              "        text-align: right;\n",
              "    }\n",
              "</style>\n",
              "<table border=\"1\" class=\"dataframe\">\n",
              "  <thead>\n",
              "    <tr style=\"text-align: right;\">\n",
              "      <th></th>\n",
              "      <th>reviewerID</th>\n",
              "      <th>reviewText</th>\n",
              "      <th>summary</th>\n",
              "      <th>category</th>\n",
              "      <th>price</th>\n",
              "      <th>itemID</th>\n",
              "    </tr>\n",
              "  </thead>\n",
              "  <tbody>\n",
              "    <tr>\n",
              "      <th>0</th>\n",
              "      <td>u04140621</td>\n",
              "      <td>ok</td>\n",
              "      <td>Five Stars</td>\n",
              "      <td>Pop</td>\n",
              "      <td>$31.20</td>\n",
              "      <td>p65721979</td>\n",
              "    </tr>\n",
              "    <tr>\n",
              "      <th>1</th>\n",
              "      <td>u74766187</td>\n",
              "      <td>The 1955 and 1958 sets alone are worth the pur...</td>\n",
              "      <td>Buy It For the 1955 Set With Monk!</td>\n",
              "      <td>Jazz</td>\n",
              "      <td>$34.04</td>\n",
              "      <td>p87809670</td>\n",
              "    </tr>\n",
              "    <tr>\n",
              "      <th>2</th>\n",
              "      <td>u31689638</td>\n",
              "      <td>Mary J Blige is someone most people know of. S...</td>\n",
              "      <td>Mary's excellent debut! Classic!</td>\n",
              "      <td>Pop</td>\n",
              "      <td>$1.72</td>\n",
              "      <td>p52702240</td>\n",
              "    </tr>\n",
              "    <tr>\n",
              "      <th>3</th>\n",
              "      <td>u35613516</td>\n",
              "      <td>Very good satch album</td>\n",
              "      <td>Four Stars</td>\n",
              "      <td>Pop</td>\n",
              "      <td>$10.99</td>\n",
              "      <td>p01314374</td>\n",
              "    </tr>\n",
              "    <tr>\n",
              "      <th>4</th>\n",
              "      <td>u93320378</td>\n",
              "      <td>Well there are hundreds of Christmas anthologi...</td>\n",
              "      <td>CD lives up to its name</td>\n",
              "      <td>Alternative Rock</td>\n",
              "      <td>$7.98</td>\n",
              "      <td>p84396269</td>\n",
              "    </tr>\n",
              "  </tbody>\n",
              "</table>\n",
              "</div>"
            ],
            "text/plain": [
              "  reviewerID  ...     itemID\n",
              "0  u04140621  ...  p65721979\n",
              "1  u74766187  ...  p87809670\n",
              "2  u31689638  ...  p52702240\n",
              "3  u35613516  ...  p01314374\n",
              "4  u93320378  ...  p84396269\n",
              "\n",
              "[5 rows x 6 columns]"
            ]
          },
          "metadata": {
            "tags": []
          },
          "execution_count": 4
        },
        {
          "output_type": "stream",
          "text": [
            "time: 275 ms (started: 2021-03-29 21:29:45 +00:00)\n"
          ],
          "name": "stdout"
        }
      ]
    },
    {
      "cell_type": "code",
      "metadata": {
        "colab": {
          "base_uri": "https://localhost:8080/"
        },
        "id": "zJWJgcKEGiX1",
        "outputId": "4f90837b-ee6c-4e05-a242-0d8ecc211488"
      },
      "source": [
        "# Using NLTK's list of stopwords\n",
        "stopword_list = stopwords.words('english')\n",
        "print(stopword_list)\n",
        "\n",
        "# Initialize lemmatizer\n",
        "lemmatizer = WordNetLemmatizer()"
      ],
      "execution_count": 5,
      "outputs": [
        {
          "output_type": "stream",
          "text": [
            "['i', 'me', 'my', 'myself', 'we', 'our', 'ours', 'ourselves', 'you', \"you're\", \"you've\", \"you'll\", \"you'd\", 'your', 'yours', 'yourself', 'yourselves', 'he', 'him', 'his', 'himself', 'she', \"she's\", 'her', 'hers', 'herself', 'it', \"it's\", 'its', 'itself', 'they', 'them', 'their', 'theirs', 'themselves', 'what', 'which', 'who', 'whom', 'this', 'that', \"that'll\", 'these', 'those', 'am', 'is', 'are', 'was', 'were', 'be', 'been', 'being', 'have', 'has', 'had', 'having', 'do', 'does', 'did', 'doing', 'a', 'an', 'the', 'and', 'but', 'if', 'or', 'because', 'as', 'until', 'while', 'of', 'at', 'by', 'for', 'with', 'about', 'against', 'between', 'into', 'through', 'during', 'before', 'after', 'above', 'below', 'to', 'from', 'up', 'down', 'in', 'out', 'on', 'off', 'over', 'under', 'again', 'further', 'then', 'once', 'here', 'there', 'when', 'where', 'why', 'how', 'all', 'any', 'both', 'each', 'few', 'more', 'most', 'other', 'some', 'such', 'no', 'nor', 'not', 'only', 'own', 'same', 'so', 'than', 'too', 'very', 's', 't', 'can', 'will', 'just', 'don', \"don't\", 'should', \"should've\", 'now', 'd', 'll', 'm', 'o', 're', 've', 'y', 'ain', 'aren', \"aren't\", 'couldn', \"couldn't\", 'didn', \"didn't\", 'doesn', \"doesn't\", 'hadn', \"hadn't\", 'hasn', \"hasn't\", 'haven', \"haven't\", 'isn', \"isn't\", 'ma', 'mightn', \"mightn't\", 'mustn', \"mustn't\", 'needn', \"needn't\", 'shan', \"shan't\", 'shouldn', \"shouldn't\", 'wasn', \"wasn't\", 'weren', \"weren't\", 'won', \"won't\", 'wouldn', \"wouldn't\"]\n",
            "time: 8.91 ms (started: 2021-03-29 21:29:45 +00:00)\n"
          ],
          "name": "stdout"
        }
      ]
    },
    {
      "cell_type": "code",
      "metadata": {
        "colab": {
          "base_uri": "https://localhost:8080/"
        },
        "id": "Kv125JZuWrw9",
        "outputId": "994c48d6-552c-482e-e75a-22e8c5d86f4f"
      },
      "source": [
        "# Change column data types\n",
        "train_df.reviewText = train_df.reviewText.astype('string')\n",
        "train_df.summary = train_df.summary.astype('string')\n",
        "train_df.price = train_df.price.astype('string')\n",
        "train_df.overall = train_df.overall.astype('float')\n",
        "\n",
        "test_df.reviewText = test_df.reviewText.astype('string')\n",
        "test_df.summary = test_df.summary.astype('string')\n",
        "test_df.price = test_df.price.astype('string')"
      ],
      "execution_count": 6,
      "outputs": [
        {
          "output_type": "stream",
          "text": [
            "time: 245 ms (started: 2021-03-29 21:29:45 +00:00)\n"
          ],
          "name": "stdout"
        }
      ]
    },
    {
      "cell_type": "code",
      "metadata": {
        "colab": {
          "base_uri": "https://localhost:8080/"
        },
        "id": "yaL_7s8yGiVN",
        "outputId": "b90836db-2ad0-476e-8f58-86322af6f714"
      },
      "source": [
        "# Create function for cleaning the tweets column\n",
        "def clean_text(s):\n",
        "    # Make sure all characters are in lowercase\n",
        "    try:\n",
        "        s = s.lower()\n",
        "    except:\n",
        "        s = ''\n",
        "    # Remove HTML tags and attributes from the string\n",
        "    # s = BeautifulSoup(s,'lxml').get_text() # takes longer\n",
        "    html_tags = re.compile('<.*?>')\n",
        "    s = re.sub(html_tags, '', s)\n",
        "    # Replace HTML character codes with ASCII equivalent\n",
        "    s = unicodedata.normalize('NFKD', s).encode('ascii', 'ignore').decode('utf-8')\n",
        "    # Remove URLs\n",
        "    s = re.sub(r'http\\S+', '', s)\n",
        "    # Remove mentions\n",
        "    s = re.sub(\"@[A-Za-z0-9]+\", \"\", s)\n",
        "    # Remove new line and line breaks characters\n",
        "    s = s.replace('b\"', '').replace(\"b'\", '').replace('\\n', '').replace('\\\\n', '').replace('\\\\n\\\\n', '').replace('\\t', '')\n",
        "    # Replace non-letters and extra white spaces with one space\n",
        "    non_letters = re.compile('[^a-zA-Z]+')\n",
        "    s = non_letters.sub(' ', s)\n",
        "    # Remove retweet letters\n",
        "    s = re.sub(r'\\brt\\b', '', s)\n",
        "    # Lemmatization\n",
        "    s = lemmatizer.lemmatize(s)\n",
        "    # Remove stop words\n",
        "    text_tokens = word_tokenize(s)\n",
        "    s = [word for word in text_tokens if not word in stopword_list]\n",
        "    # Remove words with only 1 letters\n",
        "    s = [i for i in s if len(i) > 1]\n",
        "    if not s:\n",
        "        return []\n",
        "    return s"
      ],
      "execution_count": 7,
      "outputs": [
        {
          "output_type": "stream",
          "text": [
            "time: 25.5 ms (started: 2021-03-29 21:29:45 +00:00)\n"
          ],
          "name": "stdout"
        }
      ]
    },
    {
      "cell_type": "code",
      "metadata": {
        "colab": {
          "base_uri": "https://localhost:8080/"
        },
        "id": "5aSxFXJMTEVZ",
        "outputId": "85516035-9a5e-47be-b394-576e4629e92b"
      },
      "source": [
        "# Clean price column\n",
        "def clean_price(s):\n",
        "    s = s.replace('$', '')\n",
        "    try:\n",
        "        s = float(s)\n",
        "    except:\n",
        "        s = np.nan\n",
        "    if s == '':\n",
        "        s = np.nan\n",
        "    return s"
      ],
      "execution_count": 8,
      "outputs": [
        {
          "output_type": "stream",
          "text": [
            "time: 4.31 ms (started: 2021-03-29 21:29:45 +00:00)\n"
          ],
          "name": "stdout"
        }
      ]
    },
    {
      "cell_type": "code",
      "metadata": {
        "colab": {
          "base_uri": "https://localhost:8080/",
          "height": 459
        },
        "id": "d50E7HhbDWxO",
        "outputId": "7c6aaf85-6477-470d-a892-6b4bf029c913"
      },
      "source": [
        "# Clean train set text features\n",
        "train_df.reviewText = train_df.reviewText.apply(clean_text)\n",
        "train_df.reviewText = train_df.reviewText.apply(' '.join)\n",
        "train_df.summary = train_df.summary.apply(clean_text)\n",
        "train_df.summary = train_df.summary.apply(' '.join)\n",
        "train_df.price = train_df.price.apply(clean_price)\n",
        "pd.set_option('display.max_colwidth', None)\n",
        "train_df.head()"
      ],
      "execution_count": 9,
      "outputs": [
        {
          "output_type": "execute_result",
          "data": {
            "text/html": [
              "<div>\n",
              "<style scoped>\n",
              "    .dataframe tbody tr th:only-of-type {\n",
              "        vertical-align: middle;\n",
              "    }\n",
              "\n",
              "    .dataframe tbody tr th {\n",
              "        vertical-align: top;\n",
              "    }\n",
              "\n",
              "    .dataframe thead th {\n",
              "        text-align: right;\n",
              "    }\n",
              "</style>\n",
              "<table border=\"1\" class=\"dataframe\">\n",
              "  <thead>\n",
              "    <tr style=\"text-align: right;\">\n",
              "      <th></th>\n",
              "      <th>overall</th>\n",
              "      <th>reviewerID</th>\n",
              "      <th>reviewText</th>\n",
              "      <th>summary</th>\n",
              "      <th>category</th>\n",
              "      <th>price</th>\n",
              "      <th>itemID</th>\n",
              "    </tr>\n",
              "  </thead>\n",
              "  <tbody>\n",
              "    <tr>\n",
              "      <th>0</th>\n",
              "      <td>5.0</td>\n",
              "      <td>u92990698</td>\n",
              "      <td>contemporary jazz soul performer made two decade career effortlessly composing interpreting smooth sensual music downing one consummate artists capable singing tax code transforming baby generating smash practically brainer collection classique allows imagine soul hits musical titans david ruffin barry white originals well present compositions long time collaborator rex rideout top bottom classique embodies come expect years mr downing buttery baritone miraculously unaffected debilitating bout muscle disorder polymyositis poured billowy ballads mellow mid tempos soothe seduce trademark tender touch pulls listener ride intro breathless invitation paradise stop valentine pledging devotion affection beloved undulating time tic toc plea another chance ignite flames midst busy lives obligations smoldering think wants pick long ago love left one inspired cuts mid tempo something special shimmers sweetness newfound attraction could resist man willing take orders implores love suggestions song stylist sherrida whatever menu serve baby coos soup ladies reason reinterpreted tracks starts stumble bit baby real brings back doo wop sugary sweetness originals brought song david ruffin hit statue fool still emotive original version gon na love little baby sluggish sexy downfall beyond classique vary textures tones much effort tonight provides overall effect day chocolate binge sweetness welcomed first starts become cloying redundant end full bodied flavorful tonight mean fans overlook outright disregard classique mr downing still demonstrates spades endured since prince sophisticated soul winning formula still formula tweaking ingredients awhile lessen quality timelessness results</td>\n",
              "      <td>classique</td>\n",
              "      <td>Jazz</td>\n",
              "      <td>8.40</td>\n",
              "      <td>p23649501</td>\n",
              "    </tr>\n",
              "    <tr>\n",
              "      <th>1</th>\n",
              "      <td>5.0</td>\n",
              "      <td>u36200649</td>\n",
              "      <td>good idea put pop orchestral music matrix reloaded onto one disc personally prefer nd disc orchestral main themes enhanced plus new ones sound positively earth shattered course love song sleeping awake great tune stick mind long time come album whetted appetite see movie hail matrix reloaded</td>\n",
              "      <td>exceeded expectations album rawks</td>\n",
              "      <td>Alternative Rock</td>\n",
              "      <td>10.98</td>\n",
              "      <td>p58458313</td>\n",
              "    </tr>\n",
              "    <tr>\n",
              "      <th>2</th>\n",
              "      <td>5.0</td>\n",
              "      <td>u10721702</td>\n",
              "      <td>great collection carole king songs</td>\n",
              "      <td>must carole king fans</td>\n",
              "      <td>Pop</td>\n",
              "      <td>5.99</td>\n",
              "      <td>p97027626</td>\n",
              "    </tr>\n",
              "    <tr>\n",
              "      <th>3</th>\n",
              "      <td>5.0</td>\n",
              "      <td>u86003775</td>\n",
              "      <td>album brilliant piece jazz fusion start finish person gave album star rating said production lacking far truth wondering perhaps cheap system listened faulty headphones every bit good come shade better every song including two vocal scatting songs opinion gems brilliant album let moments time stars way</td>\n",
              "      <td>master piece</td>\n",
              "      <td>Jazz</td>\n",
              "      <td>14.64</td>\n",
              "      <td>p43167086</td>\n",
              "    </tr>\n",
              "    <tr>\n",
              "      <th>4</th>\n",
              "      <td>5.0</td>\n",
              "      <td>u25672859</td>\n",
              "      <td>waited long time dvd released watching year old vhs dieing slow death top favorites list since joshua tree concert way back beginning heard college radio captures group younger men performed simple honest passion energy see someone gave tickets would give almost anything seen back concert one ages reviewers complained video quality keep mind recorded days vhs anomalies light trails camera moves across spotlight slightly grainy right top screen keep mind rainy foggy show said watchable especially like concert videos editing flows well audio pretty good cd concert reissue old blood red sky cd</td>\n",
              "      <td>especially like concert videos</td>\n",
              "      <td>Alternative Rock</td>\n",
              "      <td>9.92</td>\n",
              "      <td>p94494236</td>\n",
              "    </tr>\n",
              "  </tbody>\n",
              "</table>\n",
              "</div>"
            ],
            "text/plain": [
              "   overall reviewerID  ...  price     itemID\n",
              "0      5.0  u92990698  ...   8.40  p23649501\n",
              "1      5.0  u36200649  ...  10.98  p58458313\n",
              "2      5.0  u10721702  ...   5.99  p97027626\n",
              "3      5.0  u86003775  ...  14.64  p43167086\n",
              "4      5.0  u25672859  ...   9.92  p94494236\n",
              "\n",
              "[5 rows x 7 columns]"
            ]
          },
          "metadata": {
            "tags": []
          },
          "execution_count": 9
        },
        {
          "output_type": "stream",
          "text": [
            "time: 2min 31s (started: 2021-03-29 21:29:45 +00:00)\n"
          ],
          "name": "stdout"
        }
      ]
    },
    {
      "cell_type": "code",
      "metadata": {
        "colab": {
          "base_uri": "https://localhost:8080/",
          "height": 306
        },
        "id": "AAM_DUlODWpC",
        "outputId": "b730cc0a-bace-4b66-e83a-ffb48763e3ef"
      },
      "source": [
        "# Clean test set text features\n",
        "test_df.reviewText = test_df.reviewText.apply(clean_text)\n",
        "test_df.reviewText = test_df.reviewText.apply(' '.join)\n",
        "test_df.summary = test_df.summary.apply(clean_text)\n",
        "test_df.summary = test_df.summary.apply(' '.join)\n",
        "test_df.price = test_df.price.apply(clean_price)\n",
        "pd.set_option('display.max_colwidth', None)\n",
        "test_df.head()"
      ],
      "execution_count": 10,
      "outputs": [
        {
          "output_type": "execute_result",
          "data": {
            "text/html": [
              "<div>\n",
              "<style scoped>\n",
              "    .dataframe tbody tr th:only-of-type {\n",
              "        vertical-align: middle;\n",
              "    }\n",
              "\n",
              "    .dataframe tbody tr th {\n",
              "        vertical-align: top;\n",
              "    }\n",
              "\n",
              "    .dataframe thead th {\n",
              "        text-align: right;\n",
              "    }\n",
              "</style>\n",
              "<table border=\"1\" class=\"dataframe\">\n",
              "  <thead>\n",
              "    <tr style=\"text-align: right;\">\n",
              "      <th></th>\n",
              "      <th>reviewerID</th>\n",
              "      <th>reviewText</th>\n",
              "      <th>summary</th>\n",
              "      <th>category</th>\n",
              "      <th>price</th>\n",
              "      <th>itemID</th>\n",
              "    </tr>\n",
              "  </thead>\n",
              "  <tbody>\n",
              "    <tr>\n",
              "      <th>0</th>\n",
              "      <td>u04140621</td>\n",
              "      <td>ok</td>\n",
              "      <td>five stars</td>\n",
              "      <td>Pop</td>\n",
              "      <td>31.20</td>\n",
              "      <td>p65721979</td>\n",
              "    </tr>\n",
              "    <tr>\n",
              "      <th>1</th>\n",
              "      <td>u74766187</td>\n",
              "      <td>sets alone worth purchase cost everything else gravy</td>\n",
              "      <td>buy set monk</td>\n",
              "      <td>Jazz</td>\n",
              "      <td>34.04</td>\n",
              "      <td>p87809670</td>\n",
              "    </tr>\n",
              "    <tr>\n",
              "      <th>2</th>\n",
              "      <td>u31689638</td>\n",
              "      <td>mary blige someone people know first appeared classic debut whats mary combined gritty soul hip hop beats flowed effortlessly voice almost seemed born sing songs say puffy hell job follow life think puffy lazy sampling neccesary anyways back mary everyone pretty much knows half cd got much radio play sexy reminisce funky real love jazzy love limit remind chaka rufus remake sweet thing standouts love anything also good tracks basically every song excellent mary put heart signature street swagger sweet singing</td>\n",
              "      <td>mary excellent debut classic</td>\n",
              "      <td>Pop</td>\n",
              "      <td>1.72</td>\n",
              "      <td>p52702240</td>\n",
              "    </tr>\n",
              "    <tr>\n",
              "      <th>3</th>\n",
              "      <td>u35613516</td>\n",
              "      <td>good satch album</td>\n",
              "      <td>four stars</td>\n",
              "      <td>Pop</td>\n",
              "      <td>10.99</td>\n",
              "      <td>p01314374</td>\n",
              "    </tr>\n",
              "    <tr>\n",
              "      <th>4</th>\n",
              "      <td>u93320378</td>\n",
              "      <td>well hundreds christmas anthologies one best ever mix classic songs obscure tunes rock hits favorites recognize make say great mix big ones go get many compilations good bang buck</td>\n",
              "      <td>cd lives name</td>\n",
              "      <td>Alternative Rock</td>\n",
              "      <td>7.98</td>\n",
              "      <td>p84396269</td>\n",
              "    </tr>\n",
              "  </tbody>\n",
              "</table>\n",
              "</div>"
            ],
            "text/plain": [
              "  reviewerID  ...     itemID\n",
              "0  u04140621  ...  p65721979\n",
              "1  u74766187  ...  p87809670\n",
              "2  u31689638  ...  p52702240\n",
              "3  u35613516  ...  p01314374\n",
              "4  u93320378  ...  p84396269\n",
              "\n",
              "[5 rows x 6 columns]"
            ]
          },
          "metadata": {
            "tags": []
          },
          "execution_count": 10
        },
        {
          "output_type": "stream",
          "text": [
            "time: 22.1 s (started: 2021-03-29 21:32:17 +00:00)\n"
          ],
          "name": "stdout"
        }
      ]
    },
    {
      "cell_type": "code",
      "metadata": {
        "colab": {
          "base_uri": "https://localhost:8080/"
        },
        "id": "Jvh-ORQvcvpb",
        "outputId": "8d19d29b-a139-4200-f504-7cd178565733"
      },
      "source": [
        "# train_df.price.fillna(train_df.price.mean(), inplace=True)\n",
        "# # test_df.price.fillna(test_df.price.mean(), inplace=True)\n",
        "\n",
        "# train_df.reviewText.replace('', np.nan, inplace=True)\n",
        "# train_df.summary.replace('', np.nan, inplace=True)\n",
        "# # test_df.reviewText.replace('', np.nan, inplace=True)\n",
        "# # test_df.summary.replace('', np.nan, inplace=True)\n",
        "\n",
        "# train_df.dropna(inplace=True)\n",
        "# test_df.dropna(inplace=True)\n",
        "\n",
        "print(train_df.shape)\n",
        "print(test_df.shape)"
      ],
      "execution_count": 11,
      "outputs": [
        {
          "output_type": "stream",
          "text": [
            "(150000, 7)\n",
            "(20000, 6)\n",
            "time: 5.6 ms (started: 2021-03-29 21:32:39 +00:00)\n"
          ],
          "name": "stdout"
        }
      ]
    },
    {
      "cell_type": "code",
      "metadata": {
        "colab": {
          "base_uri": "https://localhost:8080/"
        },
        "id": "H9AA8Q67ejpK",
        "outputId": "61f68bdf-b065-412d-ed8b-04e0102a6c9e"
      },
      "source": [
        "# is_NaN = test_df.isnull()\n",
        "# row_has_NaN = is_NaN.any(axis=1)\n",
        "# test_df[row_has_NaN]"
      ],
      "execution_count": 12,
      "outputs": [
        {
          "output_type": "stream",
          "text": [
            "time: 1.12 ms (started: 2021-03-29 21:32:39 +00:00)\n"
          ],
          "name": "stdout"
        }
      ]
    },
    {
      "cell_type": "code",
      "metadata": {
        "colab": {
          "base_uri": "https://localhost:8080/"
        },
        "id": "hVVC-JDTEc1m",
        "outputId": "46086441-71a8-43a7-b63f-afcfd96147ce"
      },
      "source": [
        "# train_df.category.value_counts()"
      ],
      "execution_count": 13,
      "outputs": [
        {
          "output_type": "stream",
          "text": [
            "time: 1.41 ms (started: 2021-03-29 21:32:39 +00:00)\n"
          ],
          "name": "stdout"
        }
      ]
    },
    {
      "cell_type": "code",
      "metadata": {
        "colab": {
          "base_uri": "https://localhost:8080/"
        },
        "id": "3KEOVF_ZEcy2",
        "outputId": "224e461c-75c6-44ce-8f90-77665ff0760c"
      },
      "source": [
        "# test_df.category.value_counts()"
      ],
      "execution_count": 14,
      "outputs": [
        {
          "output_type": "stream",
          "text": [
            "time: 953 µs (started: 2021-03-29 21:32:39 +00:00)\n"
          ],
          "name": "stdout"
        }
      ]
    },
    {
      "cell_type": "code",
      "metadata": {
        "colab": {
          "base_uri": "https://localhost:8080/"
        },
        "id": "V7MiYmleEcwE",
        "outputId": "adfa4b0b-a69f-45f8-c11b-076dc390bd84"
      },
      "source": [
        "# cat_encode = {'Pop': 1,\n",
        "#               'Alternative Rock': 2,\n",
        "#               'Jazz': 3,\n",
        "#               'Classical': 4,\n",
        "#               'Dance & Electronic': 5}\n",
        "# train_df.category = train_df.category.map(cat_encode)\n",
        "# test_df.category = test_df.category.map(cat_encode)\n",
        "\n",
        "# train_df = pd.get_dummies(train_df, columns=['category'], prefix='', prefix_sep='')\n",
        "# test_df = pd.get_dummies(test_df, columns=['category'], prefix='', prefix_sep='')"
      ],
      "execution_count": 15,
      "outputs": [
        {
          "output_type": "stream",
          "text": [
            "time: 2.17 ms (started: 2021-03-29 21:32:39 +00:00)\n"
          ],
          "name": "stdout"
        }
      ]
    },
    {
      "cell_type": "code",
      "metadata": {
        "colab": {
          "base_uri": "https://localhost:8080/"
        },
        "id": "LzdmrnIBAF_V",
        "outputId": "01b2bbe4-cfd2-46a4-d97b-0d88c6ed2597"
      },
      "source": [
        "# train_df.price = StandardScaler().fit_transform(train_df[['price']])\n",
        "# test_df.price = StandardScaler().fit_transform(test_df[['price']])"
      ],
      "execution_count": 16,
      "outputs": [
        {
          "output_type": "stream",
          "text": [
            "time: 1.06 ms (started: 2021-03-29 21:32:39 +00:00)\n"
          ],
          "name": "stdout"
        }
      ]
    },
    {
      "cell_type": "code",
      "metadata": {
        "colab": {
          "base_uri": "https://localhost:8080/"
        },
        "id": "ucrFWFmahOP5",
        "outputId": "8cfb2705-1efa-4bf8-e6ee-84cebd520283"
      },
      "source": [
        "# # Tokenize\n",
        "# train_df.reviewText = train_df.reviewText.apply(word_tokenize)\n",
        "# train_df.summary = train_df.summary.apply(word_tokenize)\n",
        "# test_df.reviewText = test_df.reviewText.apply(word_tokenize)\n",
        "# test_df.summary = test_df.summary.apply(word_tokenize)"
      ],
      "execution_count": 17,
      "outputs": [
        {
          "output_type": "stream",
          "text": [
            "time: 1.66 ms (started: 2021-03-29 21:32:39 +00:00)\n"
          ],
          "name": "stdout"
        }
      ]
    },
    {
      "cell_type": "code",
      "metadata": {
        "colab": {
          "base_uri": "https://localhost:8080/",
          "height": 473
        },
        "id": "IV1pK9y5DWhG",
        "outputId": "b218fece-ca70-4d1a-fbbb-df6c34f92b10"
      },
      "source": [
        "# Create ID pairs\n",
        "train_df['ID'] = train_df[['reviewerID', 'itemID']].agg('-'.join, axis=1)\n",
        "train_df.drop(columns=['reviewerID', 'itemID'], inplace=True)\n",
        "train_df.set_index('ID', inplace=True)\n",
        "train_df.head()"
      ],
      "execution_count": 18,
      "outputs": [
        {
          "output_type": "execute_result",
          "data": {
            "text/html": [
              "<div>\n",
              "<style scoped>\n",
              "    .dataframe tbody tr th:only-of-type {\n",
              "        vertical-align: middle;\n",
              "    }\n",
              "\n",
              "    .dataframe tbody tr th {\n",
              "        vertical-align: top;\n",
              "    }\n",
              "\n",
              "    .dataframe thead th {\n",
              "        text-align: right;\n",
              "    }\n",
              "</style>\n",
              "<table border=\"1\" class=\"dataframe\">\n",
              "  <thead>\n",
              "    <tr style=\"text-align: right;\">\n",
              "      <th></th>\n",
              "      <th>overall</th>\n",
              "      <th>reviewText</th>\n",
              "      <th>summary</th>\n",
              "      <th>category</th>\n",
              "      <th>price</th>\n",
              "    </tr>\n",
              "    <tr>\n",
              "      <th>ID</th>\n",
              "      <th></th>\n",
              "      <th></th>\n",
              "      <th></th>\n",
              "      <th></th>\n",
              "      <th></th>\n",
              "    </tr>\n",
              "  </thead>\n",
              "  <tbody>\n",
              "    <tr>\n",
              "      <th>u92990698-p23649501</th>\n",
              "      <td>5.0</td>\n",
              "      <td>contemporary jazz soul performer made two decade career effortlessly composing interpreting smooth sensual music downing one consummate artists capable singing tax code transforming baby generating smash practically brainer collection classique allows imagine soul hits musical titans david ruffin barry white originals well present compositions long time collaborator rex rideout top bottom classique embodies come expect years mr downing buttery baritone miraculously unaffected debilitating bout muscle disorder polymyositis poured billowy ballads mellow mid tempos soothe seduce trademark tender touch pulls listener ride intro breathless invitation paradise stop valentine pledging devotion affection beloved undulating time tic toc plea another chance ignite flames midst busy lives obligations smoldering think wants pick long ago love left one inspired cuts mid tempo something special shimmers sweetness newfound attraction could resist man willing take orders implores love suggestions song stylist sherrida whatever menu serve baby coos soup ladies reason reinterpreted tracks starts stumble bit baby real brings back doo wop sugary sweetness originals brought song david ruffin hit statue fool still emotive original version gon na love little baby sluggish sexy downfall beyond classique vary textures tones much effort tonight provides overall effect day chocolate binge sweetness welcomed first starts become cloying redundant end full bodied flavorful tonight mean fans overlook outright disregard classique mr downing still demonstrates spades endured since prince sophisticated soul winning formula still formula tweaking ingredients awhile lessen quality timelessness results</td>\n",
              "      <td>classique</td>\n",
              "      <td>Jazz</td>\n",
              "      <td>8.40</td>\n",
              "    </tr>\n",
              "    <tr>\n",
              "      <th>u36200649-p58458313</th>\n",
              "      <td>5.0</td>\n",
              "      <td>good idea put pop orchestral music matrix reloaded onto one disc personally prefer nd disc orchestral main themes enhanced plus new ones sound positively earth shattered course love song sleeping awake great tune stick mind long time come album whetted appetite see movie hail matrix reloaded</td>\n",
              "      <td>exceeded expectations album rawks</td>\n",
              "      <td>Alternative Rock</td>\n",
              "      <td>10.98</td>\n",
              "    </tr>\n",
              "    <tr>\n",
              "      <th>u10721702-p97027626</th>\n",
              "      <td>5.0</td>\n",
              "      <td>great collection carole king songs</td>\n",
              "      <td>must carole king fans</td>\n",
              "      <td>Pop</td>\n",
              "      <td>5.99</td>\n",
              "    </tr>\n",
              "    <tr>\n",
              "      <th>u86003775-p43167086</th>\n",
              "      <td>5.0</td>\n",
              "      <td>album brilliant piece jazz fusion start finish person gave album star rating said production lacking far truth wondering perhaps cheap system listened faulty headphones every bit good come shade better every song including two vocal scatting songs opinion gems brilliant album let moments time stars way</td>\n",
              "      <td>master piece</td>\n",
              "      <td>Jazz</td>\n",
              "      <td>14.64</td>\n",
              "    </tr>\n",
              "    <tr>\n",
              "      <th>u25672859-p94494236</th>\n",
              "      <td>5.0</td>\n",
              "      <td>waited long time dvd released watching year old vhs dieing slow death top favorites list since joshua tree concert way back beginning heard college radio captures group younger men performed simple honest passion energy see someone gave tickets would give almost anything seen back concert one ages reviewers complained video quality keep mind recorded days vhs anomalies light trails camera moves across spotlight slightly grainy right top screen keep mind rainy foggy show said watchable especially like concert videos editing flows well audio pretty good cd concert reissue old blood red sky cd</td>\n",
              "      <td>especially like concert videos</td>\n",
              "      <td>Alternative Rock</td>\n",
              "      <td>9.92</td>\n",
              "    </tr>\n",
              "  </tbody>\n",
              "</table>\n",
              "</div>"
            ],
            "text/plain": [
              "                     overall  ...  price\n",
              "ID                            ...       \n",
              "u92990698-p23649501      5.0  ...   8.40\n",
              "u36200649-p58458313      5.0  ...  10.98\n",
              "u10721702-p97027626      5.0  ...   5.99\n",
              "u86003775-p43167086      5.0  ...  14.64\n",
              "u25672859-p94494236      5.0  ...   9.92\n",
              "\n",
              "[5 rows x 5 columns]"
            ]
          },
          "metadata": {
            "tags": []
          },
          "execution_count": 18
        },
        {
          "output_type": "stream",
          "text": [
            "time: 8.2 s (started: 2021-03-29 21:32:39 +00:00)\n"
          ],
          "name": "stdout"
        }
      ]
    },
    {
      "cell_type": "code",
      "metadata": {
        "colab": {
          "base_uri": "https://localhost:8080/",
          "height": 354
        },
        "id": "pfFD0zHA_Fam",
        "outputId": "eff6a544-f219-4c5b-b941-eff10ea2cf46"
      },
      "source": [
        "# Create ID pairs\n",
        "test_df['ID'] = test_df[['reviewerID', 'itemID']].agg('-'.join, axis=1)\n",
        "test_df.drop(columns=['reviewerID', 'itemID'], inplace=True)\n",
        "test_df.set_index('ID', inplace=True)\n",
        "test_df.head()"
      ],
      "execution_count": 19,
      "outputs": [
        {
          "output_type": "execute_result",
          "data": {
            "text/html": [
              "<div>\n",
              "<style scoped>\n",
              "    .dataframe tbody tr th:only-of-type {\n",
              "        vertical-align: middle;\n",
              "    }\n",
              "\n",
              "    .dataframe tbody tr th {\n",
              "        vertical-align: top;\n",
              "    }\n",
              "\n",
              "    .dataframe thead th {\n",
              "        text-align: right;\n",
              "    }\n",
              "</style>\n",
              "<table border=\"1\" class=\"dataframe\">\n",
              "  <thead>\n",
              "    <tr style=\"text-align: right;\">\n",
              "      <th></th>\n",
              "      <th>reviewText</th>\n",
              "      <th>summary</th>\n",
              "      <th>category</th>\n",
              "      <th>price</th>\n",
              "    </tr>\n",
              "    <tr>\n",
              "      <th>ID</th>\n",
              "      <th></th>\n",
              "      <th></th>\n",
              "      <th></th>\n",
              "      <th></th>\n",
              "    </tr>\n",
              "  </thead>\n",
              "  <tbody>\n",
              "    <tr>\n",
              "      <th>u04140621-p65721979</th>\n",
              "      <td>ok</td>\n",
              "      <td>five stars</td>\n",
              "      <td>Pop</td>\n",
              "      <td>31.20</td>\n",
              "    </tr>\n",
              "    <tr>\n",
              "      <th>u74766187-p87809670</th>\n",
              "      <td>sets alone worth purchase cost everything else gravy</td>\n",
              "      <td>buy set monk</td>\n",
              "      <td>Jazz</td>\n",
              "      <td>34.04</td>\n",
              "    </tr>\n",
              "    <tr>\n",
              "      <th>u31689638-p52702240</th>\n",
              "      <td>mary blige someone people know first appeared classic debut whats mary combined gritty soul hip hop beats flowed effortlessly voice almost seemed born sing songs say puffy hell job follow life think puffy lazy sampling neccesary anyways back mary everyone pretty much knows half cd got much radio play sexy reminisce funky real love jazzy love limit remind chaka rufus remake sweet thing standouts love anything also good tracks basically every song excellent mary put heart signature street swagger sweet singing</td>\n",
              "      <td>mary excellent debut classic</td>\n",
              "      <td>Pop</td>\n",
              "      <td>1.72</td>\n",
              "    </tr>\n",
              "    <tr>\n",
              "      <th>u35613516-p01314374</th>\n",
              "      <td>good satch album</td>\n",
              "      <td>four stars</td>\n",
              "      <td>Pop</td>\n",
              "      <td>10.99</td>\n",
              "    </tr>\n",
              "    <tr>\n",
              "      <th>u93320378-p84396269</th>\n",
              "      <td>well hundreds christmas anthologies one best ever mix classic songs obscure tunes rock hits favorites recognize make say great mix big ones go get many compilations good bang buck</td>\n",
              "      <td>cd lives name</td>\n",
              "      <td>Alternative Rock</td>\n",
              "      <td>7.98</td>\n",
              "    </tr>\n",
              "  </tbody>\n",
              "</table>\n",
              "</div>"
            ],
            "text/plain": [
              "                                                                                                                                                                                                                                                                                                                                                                                                                                                                                                                                            reviewText  ...  price\n",
              "ID                                                                                                                                                                                                                                                                                                                                                                                                                                                                                                                                                      ...       \n",
              "u04140621-p65721979                                                                                                                                                                                                                                                                                                                                                                                                                                                                                                                                 ok  ...  31.20\n",
              "u74766187-p87809670                                                                                                                                                                                                                                                                                                                                                                                                                                                                               sets alone worth purchase cost everything else gravy  ...  34.04\n",
              "u31689638-p52702240  mary blige someone people know first appeared classic debut whats mary combined gritty soul hip hop beats flowed effortlessly voice almost seemed born sing songs say puffy hell job follow life think puffy lazy sampling neccesary anyways back mary everyone pretty much knows half cd got much radio play sexy reminisce funky real love jazzy love limit remind chaka rufus remake sweet thing standouts love anything also good tracks basically every song excellent mary put heart signature street swagger sweet singing  ...   1.72\n",
              "u35613516-p01314374                                                                                                                                                                                                                                                                                                                                                                                                                                                                                                                   good satch album  ...  10.99\n",
              "u93320378-p84396269                                                                                                                                                                                                                                                                                                                                                well hundreds christmas anthologies one best ever mix classic songs obscure tunes rock hits favorites recognize make say great mix big ones go get many compilations good bang buck  ...   7.98\n",
              "\n",
              "[5 rows x 4 columns]"
            ]
          },
          "metadata": {
            "tags": []
          },
          "execution_count": 19
        },
        {
          "output_type": "stream",
          "text": [
            "time: 971 ms (started: 2021-03-29 21:32:48 +00:00)\n"
          ],
          "name": "stdout"
        }
      ]
    },
    {
      "cell_type": "code",
      "metadata": {
        "colab": {
          "base_uri": "https://localhost:8080/"
        },
        "id": "meucjs8t5dkQ",
        "outputId": "36dfb531-904b-412a-e6dc-504747df1b86"
      },
      "source": [
        "# Class counts\n",
        "train_df.overall.value_counts()"
      ],
      "execution_count": 20,
      "outputs": [
        {
          "output_type": "execute_result",
          "data": {
            "text/plain": [
              "5.0    98213\n",
              "4.0    29648\n",
              "3.0    12154\n",
              "2.0     5213\n",
              "1.0     4772\n",
              "Name: overall, dtype: int64"
            ]
          },
          "metadata": {
            "tags": []
          },
          "execution_count": 20
        },
        {
          "output_type": "stream",
          "text": [
            "time: 14.2 ms (started: 2021-03-29 21:32:49 +00:00)\n"
          ],
          "name": "stdout"
        }
      ]
    },
    {
      "cell_type": "code",
      "metadata": {
        "id": "tTOqFflL3ivd",
        "colab": {
          "base_uri": "https://localhost:8080/"
        },
        "outputId": "f80dbe10-bf3f-49df-af9b-b0c8deab722b"
      },
      "source": [
        "# Prepare X and y\n",
        "train_copy = train_df.copy(deep=True)\n",
        "X = train_copy.reviewText\n",
        "y = train_copy.overall\n",
        "\n",
        "# # Other features\n",
        "# X2 = train_copy.summary\n",
        "# # X3 = train_copy[['price', 'Alternative Rock', 'Classical', 'Dance & Electronic', 'Jazz', 'Pop']]\n",
        "# X = pd.concat([X1, X2], axis=1)\n",
        "# from scipy.sparse import hstack\n",
        "# X = hstack((X1, X2))"
      ],
      "execution_count": 21,
      "outputs": [
        {
          "output_type": "stream",
          "text": [
            "time: 14.2 ms (started: 2021-03-29 21:32:49 +00:00)\n"
          ],
          "name": "stdout"
        }
      ]
    },
    {
      "cell_type": "code",
      "metadata": {
        "colab": {
          "base_uri": "https://localhost:8080/",
          "height": 367
        },
        "id": "Euh8D7uH5Mlw",
        "outputId": "47d823fc-9d7b-4c67-e0bc-a4fc4b1e56cd"
      },
      "source": [
        "from collections import Counter\n",
        "\n",
        "counter = Counter(y)\n",
        "for k,v in counter.items():\n",
        "\tper = v / len(y) * 100\n",
        "\tprint('Class=%d, n=%d (%.3f%%)' % (k, v, per))\n",
        "\n",
        "plt.bar(counter.keys(), counter.values())\n",
        "plt.show()"
      ],
      "execution_count": 22,
      "outputs": [
        {
          "output_type": "stream",
          "text": [
            "Class=5, n=98213 (65.475%)\n",
            "Class=1, n=4772 (3.181%)\n",
            "Class=4, n=29648 (19.765%)\n",
            "Class=2, n=5213 (3.475%)\n",
            "Class=3, n=12154 (8.103%)\n"
          ],
          "name": "stdout"
        },
        {
          "output_type": "display_data",
          "data": {
            "image/png": "[encoded data removed]",
            "text/plain": [
              "<Figure size 432x288 with 1 Axes>"
            ]
          },
          "metadata": {
            "tags": [],
            "needs_background": "light"
          }
        },
        {
          "output_type": "stream",
          "text": [
            "time: 275 ms (started: 2021-03-29 21:32:49 +00:00)\n"
          ],
          "name": "stdout"
        }
      ]
    },
    {
      "cell_type": "code",
      "metadata": {
        "colab": {
          "base_uri": "https://localhost:8080/"
        },
        "id": "FatpJrNr5Mfd",
        "outputId": "4acd047f-94eb-4d39-97f1-e02fed32947b"
      },
      "source": [
        "# # SMOTE resampling\n",
        "# from imblearn.over_sampling import SMOTE\n",
        "\n",
        "# sm = SMOTE(random_state=1)\n",
        "# X_sm, y_sm = sm.fit_resample(X, y)"
      ],
      "execution_count": 23,
      "outputs": [
        {
          "output_type": "stream",
          "text": [
            "time: 1.41 ms (started: 2021-03-29 21:32:49 +00:00)\n"
          ],
          "name": "stdout"
        }
      ]
    },
    {
      "cell_type": "code",
      "metadata": {
        "id": "RRbcA9I-3io2",
        "colab": {
          "base_uri": "https://localhost:8080/"
        },
        "outputId": "994296ec-bedc-4e78-d7a7-d189990c6d63"
      },
      "source": [
        "# counter = Counter(y_sm)\n",
        "# for k,v in counter.items():\n",
        "# \tper = v / len(y_sm) * 100\n",
        "# \tprint('Class=%d, n=%d (%.3f%%)' % (k, v, per))\n",
        "\n",
        "# plt.bar(counter.keys(), counter.values())\n",
        "# plt.show() "
      ],
      "execution_count": 24,
      "outputs": [
        {
          "output_type": "stream",
          "text": [
            "time: 2.41 ms (started: 2021-03-29 21:32:49 +00:00)\n"
          ],
          "name": "stdout"
        }
      ]
    },
    {
      "cell_type": "code",
      "metadata": {
        "colab": {
          "base_uri": "https://localhost:8080/"
        },
        "id": "O0PcYMUwKu8F",
        "outputId": "84670744-0a2a-415e-c573-89dcd0fef0e1"
      },
      "source": [
        "# Vectorize X features\n",
        "tfidf = TfidfVectorizer(max_features=15000, analyzer='word', token_pattern=r'\\w+',\n",
        "                        stop_words='english', ngram_range=(1, 2))\n",
        "\n",
        "X_train, X_test, y_train, y_test = train_test_split(X, y, test_size=0.2, random_state=1, stratify=y)\n",
        "X_train = tfidf.fit_transform(X_train)\n",
        "X_test = tfidf.transform(X_test)\n",
        "# eval_set = [(X_test, y_test)]"
      ],
      "execution_count": 38,
      "outputs": [
        {
          "output_type": "stream",
          "text": [
            "time: 50.2 s (started: 2021-03-29 21:56:28 +00:00)\n"
          ],
          "name": "stdout"
        }
      ]
    },
    {
      "cell_type": "code",
      "metadata": {
        "id": "maVitUNyUaSj",
        "colab": {
          "base_uri": "https://localhost:8080/"
        },
        "outputId": "b003cb3f-15e2-4058-a303-0d258c1757ca"
      },
      "source": [
        "# MLP Regressor\n",
        "from sklearn.neural_network import MLPRegressor\n",
        "\n",
        "mlp = MLPRegressor(activation='relu',\n",
        "                   random_state=1,\n",
        "                   alpha=0.848,\n",
        "                   learning_rate_init=0.001,\n",
        "                   learning_rate='adaptive',\n",
        "                   max_iter=5000,\n",
        "                   batch_size=1024,\n",
        "                   early_stopping=True,\n",
        "                   validation_fraction=0.1).fit(X_train, y_train)\n",
        "\n",
        "y_train_pred = mlp.predict(X_train)\n",
        "print(f'Train MSE: {mean_squared_error(y_train, y_train_pred)}')\n",
        "\n",
        "y_pred = mlp.predict(X_test)\n",
        "print(f'Validation MSE: {mean_squared_error(y_test, y_pred)}')"
      ],
      "execution_count": 26,
      "outputs": [
        {
          "output_type": "stream",
          "text": [
            "Train MSE: 0.4394817379335679\n",
            "Validation MSE: 0.5475343267805137\n",
            "time: 9min 46s (started: 2021-03-29 21:33:39 +00:00)\n"
          ],
          "name": "stdout"
        }
      ]
    },
    {
      "cell_type": "code",
      "metadata": {
        "colab": {
          "base_uri": "https://localhost:8080/",
          "height": 252
        },
        "id": "lZTVroPIBG2P",
        "outputId": "444950ed-e9f5-450b-ee76-b96cdc5f17f6"
      },
      "source": [
        "label_count = y_test.value_counts().rename_axis('unique_values').reset_index(name='counts')\n",
        "label_count.set_index('unique_values', inplace=True)\n",
        "label_count"
      ],
      "execution_count": 91,
      "outputs": [
        {
          "output_type": "execute_result",
          "data": {
            "text/html": [
              "<div>\n",
              "<style scoped>\n",
              "    .dataframe tbody tr th:only-of-type {\n",
              "        vertical-align: middle;\n",
              "    }\n",
              "\n",
              "    .dataframe tbody tr th {\n",
              "        vertical-align: top;\n",
              "    }\n",
              "\n",
              "    .dataframe thead th {\n",
              "        text-align: right;\n",
              "    }\n",
              "</style>\n",
              "<table border=\"1\" class=\"dataframe\">\n",
              "  <thead>\n",
              "    <tr style=\"text-align: right;\">\n",
              "      <th></th>\n",
              "      <th>counts</th>\n",
              "    </tr>\n",
              "    <tr>\n",
              "      <th>unique_values</th>\n",
              "      <th></th>\n",
              "    </tr>\n",
              "  </thead>\n",
              "  <tbody>\n",
              "    <tr>\n",
              "      <th>5.0</th>\n",
              "      <td>19643</td>\n",
              "    </tr>\n",
              "    <tr>\n",
              "      <th>4.0</th>\n",
              "      <td>5929</td>\n",
              "    </tr>\n",
              "    <tr>\n",
              "      <th>3.0</th>\n",
              "      <td>2431</td>\n",
              "    </tr>\n",
              "    <tr>\n",
              "      <th>2.0</th>\n",
              "      <td>1043</td>\n",
              "    </tr>\n",
              "    <tr>\n",
              "      <th>1.0</th>\n",
              "      <td>954</td>\n",
              "    </tr>\n",
              "  </tbody>\n",
              "</table>\n",
              "</div>"
            ],
            "text/plain": [
              "               counts\n",
              "unique_values        \n",
              "5.0             19643\n",
              "4.0              5929\n",
              "3.0              2431\n",
              "2.0              1043\n",
              "1.0               954"
            ]
          },
          "metadata": {
            "tags": []
          },
          "execution_count": 91
        },
        {
          "output_type": "stream",
          "text": [
            "time: 27 ms (started: 2021-03-29 23:01:41 +00:00)\n"
          ],
          "name": "stdout"
        }
      ]
    },
    {
      "cell_type": "code",
      "metadata": {
        "colab": {
          "base_uri": "https://localhost:8080/",
          "height": 221
        },
        "id": "Sa5sBiipBpVl",
        "outputId": "60f08ebc-0623-431d-fe79-8c8908c28d36"
      },
      "source": [
        "y_pred = np.ceil(y_pred)\n",
        "y_pred = pd.DataFrame({'pred': y_pred}, index=y_test.index)\n",
        "pred_count = y_pred.value_counts().rename_axis('unique_values').reset_index(name='counts')\n",
        "pred_count.loc[pred_count['unique_values'] < 1.0, 'unique_values'] = 1.0\n",
        "pred_count.at[5, 'counts'] = 63 + 9 + 2\n",
        "pred_count.at[3, 'unique_values'] = 2.0\n",
        "pred_count.at[4, 'unique_values'] = 1.0\n",
        "pred_count.at[4, 'counts'] = 289 + 74\n",
        "pred_count.drop(pred_count.tail(3).index,inplace=True)\n",
        "pred_count.set_index('unique_values', inplace=True)\n",
        "pred_count"
      ],
      "execution_count": 89,
      "outputs": [
        {
          "output_type": "execute_result",
          "data": {
            "text/html": [
              "<div>\n",
              "<style scoped>\n",
              "    .dataframe tbody tr th:only-of-type {\n",
              "        vertical-align: middle;\n",
              "    }\n",
              "\n",
              "    .dataframe tbody tr th {\n",
              "        vertical-align: top;\n",
              "    }\n",
              "\n",
              "    .dataframe thead th {\n",
              "        text-align: right;\n",
              "    }\n",
              "</style>\n",
              "<table border=\"1\" class=\"dataframe\">\n",
              "  <thead>\n",
              "    <tr style=\"text-align: right;\">\n",
              "      <th></th>\n",
              "      <th>unique_values</th>\n",
              "      <th>counts</th>\n",
              "    </tr>\n",
              "  </thead>\n",
              "  <tbody>\n",
              "    <tr>\n",
              "      <th>0</th>\n",
              "      <td>5.0</td>\n",
              "      <td>23337</td>\n",
              "    </tr>\n",
              "    <tr>\n",
              "      <th>1</th>\n",
              "      <td>4.0</td>\n",
              "      <td>4308</td>\n",
              "    </tr>\n",
              "    <tr>\n",
              "      <th>2</th>\n",
              "      <td>3.0</td>\n",
              "      <td>1036</td>\n",
              "    </tr>\n",
              "    <tr>\n",
              "      <th>3</th>\n",
              "      <td>2.0</td>\n",
              "      <td>956</td>\n",
              "    </tr>\n",
              "    <tr>\n",
              "      <th>4</th>\n",
              "      <td>1.0</td>\n",
              "      <td>363</td>\n",
              "    </tr>\n",
              "  </tbody>\n",
              "</table>\n",
              "</div>"
            ],
            "text/plain": [
              "   unique_values  counts\n",
              "0            5.0   23337\n",
              "1            4.0    4308\n",
              "2            3.0    1036\n",
              "3            2.0     956\n",
              "4            1.0     363"
            ]
          },
          "metadata": {
            "tags": []
          },
          "execution_count": 89
        },
        {
          "output_type": "stream",
          "text": [
            "time: 28.6 ms (started: 2021-03-29 23:00:53 +00:00)\n"
          ],
          "name": "stdout"
        }
      ]
    },
    {
      "cell_type": "code",
      "metadata": {
        "colab": {
          "base_uri": "https://localhost:8080/",
          "height": 252
        },
        "id": "wvmjUgJM_glK",
        "outputId": "58395012-068c-44c9-9259-ccfadea74ea2"
      },
      "source": [
        "output_df = pd.concat([label_count, pred_count], axis=1)\n",
        "output_df.columns = ['label_count', 'pred_count']\n",
        "output_df"
      ],
      "execution_count": 94,
      "outputs": [
        {
          "output_type": "execute_result",
          "data": {
            "text/html": [
              "<div>\n",
              "<style scoped>\n",
              "    .dataframe tbody tr th:only-of-type {\n",
              "        vertical-align: middle;\n",
              "    }\n",
              "\n",
              "    .dataframe tbody tr th {\n",
              "        vertical-align: top;\n",
              "    }\n",
              "\n",
              "    .dataframe thead th {\n",
              "        text-align: right;\n",
              "    }\n",
              "</style>\n",
              "<table border=\"1\" class=\"dataframe\">\n",
              "  <thead>\n",
              "    <tr style=\"text-align: right;\">\n",
              "      <th></th>\n",
              "      <th>label_count</th>\n",
              "      <th>pred_count</th>\n",
              "    </tr>\n",
              "    <tr>\n",
              "      <th>unique_values</th>\n",
              "      <th></th>\n",
              "      <th></th>\n",
              "    </tr>\n",
              "  </thead>\n",
              "  <tbody>\n",
              "    <tr>\n",
              "      <th>5.0</th>\n",
              "      <td>19643</td>\n",
              "      <td>23337</td>\n",
              "    </tr>\n",
              "    <tr>\n",
              "      <th>4.0</th>\n",
              "      <td>5929</td>\n",
              "      <td>4308</td>\n",
              "    </tr>\n",
              "    <tr>\n",
              "      <th>3.0</th>\n",
              "      <td>2431</td>\n",
              "      <td>1036</td>\n",
              "    </tr>\n",
              "    <tr>\n",
              "      <th>2.0</th>\n",
              "      <td>1043</td>\n",
              "      <td>956</td>\n",
              "    </tr>\n",
              "    <tr>\n",
              "      <th>1.0</th>\n",
              "      <td>954</td>\n",
              "      <td>363</td>\n",
              "    </tr>\n",
              "  </tbody>\n",
              "</table>\n",
              "</div>"
            ],
            "text/plain": [
              "               label_count  pred_count\n",
              "unique_values                         \n",
              "5.0                  19643       23337\n",
              "4.0                   5929        4308\n",
              "3.0                   2431        1036\n",
              "2.0                   1043         956\n",
              "1.0                    954         363"
            ]
          },
          "metadata": {
            "tags": []
          },
          "execution_count": 94
        },
        {
          "output_type": "stream",
          "text": [
            "time: 22.4 ms (started: 2021-03-29 23:03:19 +00:00)\n"
          ],
          "name": "stdout"
        }
      ]
    },
    {
      "cell_type": "code",
      "metadata": {
        "colab": {
          "base_uri": "https://localhost:8080/",
          "height": 316
        },
        "id": "62aLUm8YRd3S",
        "outputId": "d4eab103-bc48-4e6c-9a06-ffc92c0272c7"
      },
      "source": [
        "# Plot model output vs. validation labels\n",
        "sns.set_theme(style=\"whitegrid\")\n",
        "sns.set_context(\"paper\")\n",
        "ax = output_df.plot(kind='bar')\n",
        "ax.set_xlabel('Rating Class')\n",
        "ax.set_ylabel('Frequency')\n",
        "ax.set_title('Label vs. Prediction Class Distribution')\n",
        "sns.despine(left=True)"
      ],
      "execution_count": 102,
      "outputs": [
        {
          "output_type": "display_data",
          "data": {
            "image/png": "[encoded data removed]",
            "text/plain": [
              "<Figure size 432x288 with 1 Axes>"
            ]
          },
          "metadata": {
            "tags": []
          }
        },
        {
          "output_type": "stream",
          "text": [
            "time: 247 ms (started: 2021-03-29 23:26:49 +00:00)\n"
          ],
          "name": "stdout"
        }
      ]
    },
    {
      "cell_type": "code",
      "metadata": {
        "colab": {
          "base_uri": "https://localhost:8080/"
        },
        "id": "m_Sn1k2kGq0D",
        "outputId": "3811e846-d1a2-4aa8-e6e9-406f2ceef142"
      },
      "source": [
        "# XGB regressor\n",
        "model = XGBRegressor(learning_rate=0.3,\n",
        "                     n_estimator=900,\n",
        "                     max_depth=50,\n",
        "                     min_child_weight=100,\n",
        "                     gamma=0.5,\n",
        "                     reg_lambda=50.0,\n",
        "                     objective='reg:squarederror',\n",
        "                     colsample_bytree=1.0,\n",
        "                     colsample_bylevel=1.0,\n",
        "                     subsample=1.0,\n",
        "                     seed=1,\n",
        "                     n_jobs=-1,\n",
        "                     early_stopping_rounds=5).fit(X_train, y_train)\n",
        "\n",
        "y_train_pred = model.predict(X_train)\n",
        "print(f'Train MSE: {mean_squared_error(y_train, y_train_pred)}')\n",
        "\n",
        "y_pred = model.predict(X_test)\n",
        "# y_pred = np.round(y_pred, 0)\n",
        "print(f'Validation MSE: {mean_squared_error(y_test, y_pred)}')"
      ],
      "execution_count": 35,
      "outputs": [
        {
          "output_type": "stream",
          "text": [
            "Train MSE: 0.3867210682075521\n",
            "Validation MSE: 0.6186515499714811\n",
            "time: 11min 47s (started: 2021-03-27 21:09:59 +00:00)\n"
          ],
          "name": "stdout"
        }
      ]
    },
    {
      "cell_type": "code",
      "metadata": {
        "colab": {
          "base_uri": "https://localhost:8080/"
        },
        "id": "Co5CoGu0nh7_",
        "outputId": "d65ba75f-c8b7-4c96-8475-9e44880edaed"
      },
      "source": [
        "# Prepare test pairs\n",
        "true_test_X = tfidf.transform(test_df.reviewText)\n",
        "\n",
        "true_pred = mlp.predict(true_test_X)\n",
        "\n",
        "res = {'userID-itemID': test_df.index, 'prediction': true_pred}\n",
        "\n",
        "res = pd.DataFrame(res)\n",
        "res.set_index('userID-itemID', inplace=True)\n",
        "res.head()\n",
        "res.to_csv('pair_predict.csv')"
      ],
      "execution_count": 40,
      "outputs": [
        {
          "output_type": "stream",
          "text": [
            "time: 2.53 s (started: 2021-03-28 07:49:11 +00:00)\n"
          ],
          "name": "stdout"
        }
      ]
    },
    {
      "cell_type": "code",
      "metadata": {
        "id": "P6UAI9ag3ilD"
      },
      "source": [
        ""
      ],
      "execution_count": null,
      "outputs": []
    },
    {
      "cell_type": "code",
      "metadata": {
        "id": "yPxMQk1P3ia1"
      },
      "source": [
        ""
      ],
      "execution_count": null,
      "outputs": []
    },
    {
      "cell_type": "code",
      "metadata": {
        "id": "QPKv97Ah3iXj"
      },
      "source": [
        ""
      ],
      "execution_count": null,
      "outputs": []
    },
    {
      "cell_type": "code",
      "metadata": {
        "id": "2pN2GDFN3iSi"
      },
      "source": [
        ""
      ],
      "execution_count": null,
      "outputs": []
    }
  ]
}