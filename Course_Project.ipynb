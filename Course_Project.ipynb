{
 "cells": [
  {
   "cell_type": "markdown",
   "metadata": {},
   "source": [
    "## MIE1624 - Course Project (Group 4)"
   ]
  },
  {
   "cell_type": "markdown",
   "metadata": {},
   "source": [
    "### Table of Content\n",
    "\n",
    "1. Exploratory Data Analysis\n",
    "\n",
    "2. Data Cleaning\n",
    "\n",
    "3. Model Implementation\n",
    "\n",
    " - 3.1.1 Support Vector Machine\n",
    " \n",
    " - 3.1.2 Random Forest\n",
    " \n",
    " - 3.1.3 Naive Bayes\n",
    " \n",
    " - 3.1.4 Extra-Tree Regressor\n",
    " \n",
    " - 3.1.5 Light GBM\n",
    " \n",
    " - 3.1.6 Multilayer Perceptron\n",
    " \n",
    " - 3.1.7 XGBoost\n",
    " \n",
    " - 3.1.8 Ordinal Logistic Regression\n",
    " \n",
    " - 3.1.9 Linear Regression"
   ]
  },
  {
   "cell_type": "code",
   "execution_count": 35,
   "metadata": {
    "colab": {
     "base_uri": "https://localhost:8080/"
    },
    "id": "bQhwbnfsemQg",
    "outputId": "48afdf3f-3a08-487b-f8b6-a53e1be641ed"
   },
   "outputs": [
    {
     "name": "stdout",
     "output_type": "stream",
     "text": [
      "[nltk_data] Downloading package stopwords to /root/nltk_data...\n",
      "[nltk_data]   Package stopwords is already up-to-date!\n",
      "[nltk_data] Downloading package punkt to /root/nltk_data...\n",
      "[nltk_data]   Package punkt is already up-to-date!\n",
      "[nltk_data] Downloading package wordnet to /root/nltk_data...\n",
      "[nltk_data]   Package wordnet is already up-to-date!\n",
      "time: 138 ms (started: 2021-04-04 11:34:22 +00:00)\n"
     ]
    }
   ],
   "source": [
    "#Import necessary libraries\n",
    "import pandas as pd\n",
    "import numpy as np\n",
    "import math\n",
    "\n",
    "#Data cleaning\n",
    "import re\n",
    "from html.parser import HTMLParser\n",
    "import nltk\n",
    "import unicodedata\n",
    "import string\n",
    "from nltk.corpus import stopwords\n",
    "nltk.download('stopwords')\n",
    "nltk.download('punkt')\n",
    "nltk.download('wordnet')\n",
    "from nltk.tokenize import word_tokenize\n",
    "from nltk.tokenize import RegexpTokenizer\n",
    "from nltk.stem import PorterStemmer\n",
    "from nltk.stem import WordNetLemmatizer \n",
    "from sklearn.feature_extraction.text import CountVectorizer\n",
    "from sklearn.feature_extraction.text import TfidfVectorizer\n",
    "from sklearn.preprocessing import StandardScaler\n",
    "from PIL import Image\n",
    "from os import path\n",
    "import matplotlib.pyplot as plt\n",
    "import os\n",
    "import random\n",
    "from wordcloud import WordCloud, STOPWORDS\n",
    "\n",
    "#Modeling\n",
    "from sklearn.model_selection import train_test_split\n",
    "from sklearn.model_selection import StratifiedKFold, KFold\n",
    "from sklearn.metrics import mean_squared_error, confusion_matrix\n",
    "from sklearn.svm import LinearSVR\n",
    "from sklearn.ensemble import RandomForestRegressor\n",
    "from sklearn.ensemble import ExtraTreesClassifier\n",
    "import lightgbm as lgb\n",
    "from sklearn.neural_network import MLPRegressor\n",
    "from sklearn.multiclass import OneVsRestClassifier\n",
    "from sklearn.metrics import mean_squared_error \n",
    "from sklearn.model_selection import GridSearchCV, cross_val_score\n",
    "from sklearn.metrics import accuracy_score\n",
    "try:\n",
    "    from xgboost import XGBClassifier, XGBRegressor\n",
    "except:\n",
    "    !pip install xgboost\n",
    "    from xgboost import XGBClassifier, XGBRegressor\n",
    "from sklearn.linear_model import LogisticRegression, LinearRegression\n",
    "from sklearn.linear_model import RidgeCV, Lasso, Ridge\n",
    "\n",
    "#Plotting\n",
    "import seaborn as sns\n",
    "sns.set_palette(sns.color_palette(\"Paired\")) ###Set2, hls 8,..... \n",
    "import matplotlib.pyplot as plt\n",
    "from collections import Counter \n",
    "from PIL import Image\n",
    "from os import path\n",
    "import os\n",
    "import random\n",
    "from wordcloud import WordCloud, STOPWORDS\n",
    "\n",
    "import warnings\n",
    "warnings.filterwarnings(\"ignore\")\n",
    "\n"
   ]
  },
  {
   "cell_type": "code",
   "execution_count": null,
   "metadata": {
    "colab": {
     "base_uri": "https://localhost:8080/",
     "height": 72,
     "resources": {
      "http://localhost:8080/nbextensions/google.colab/files.js": {
       "data": "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",
       "headers": [
        [
         "content-type",
         "application/javascript"
        ]
       ],
       "ok": true,
       "status": 200,
       "status_text": ""
      }
     }
    },
    "id": "AfTbqtScf4AE",
    "outputId": "1b13f1c4-530c-48b0-e194-e5ade1aac20a"
   },
   "outputs": [
    {
     "data": {
      "text/html": [
       "\n",
       "     <input type=\"file\" id=\"files-62eb6c76-48e1-47ae-a0eb-2313b0bd8209\" name=\"files[]\" multiple disabled\n",
       "        style=\"border:none\" />\n",
       "     <output id=\"result-62eb6c76-48e1-47ae-a0eb-2313b0bd8209\">\n",
       "      Upload widget is only available when the cell has been executed in the\n",
       "      current browser session. Please rerun this cell to enable.\n",
       "      </output>\n",
       "      <script src=\"/nbextensions/google.colab/files.js\"></script> "
      ],
      "text/plain": [
       "<IPython.core.display.HTML object>"
      ]
     },
     "metadata": {
      "tags": []
     },
     "output_type": "display_data"
    },
    {
     "name": "stdout",
     "output_type": "stream",
     "text": [
      "Saving train.csv to train.csv\n"
     ]
    }
   ],
   "source": [
    "from google.colab import files\n",
    "uploaded = files.upload()"
   ]
  },
  {
   "cell_type": "code",
   "execution_count": null,
   "metadata": {
    "colab": {
     "base_uri": "https://localhost:8080/",
     "height": 72,
     "resources": {
      "http://localhost:8080/nbextensions/google.colab/files.js": {
       "data": "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",
       "headers": [
        [
         "content-type",
         "application/javascript"
        ]
       ],
       "ok": true,
       "status": 200,
       "status_text": ""
      }
     }
    },
    "id": "F_EQM-0-f5Lh",
    "outputId": "eadbd606-0a79-4e57-bc8e-588f6c520f4c"
   },
   "outputs": [
    {
     "data": {
      "text/html": [
       "\n",
       "     <input type=\"file\" id=\"files-cfb9c91a-70b4-4b94-a8c8-af957e191b57\" name=\"files[]\" multiple disabled\n",
       "        style=\"border:none\" />\n",
       "     <output id=\"result-cfb9c91a-70b4-4b94-a8c8-af957e191b57\">\n",
       "      Upload widget is only available when the cell has been executed in the\n",
       "      current browser session. Please rerun this cell to enable.\n",
       "      </output>\n",
       "      <script src=\"/nbextensions/google.colab/files.js\"></script> "
      ],
      "text/plain": [
       "<IPython.core.display.HTML object>"
      ]
     },
     "metadata": {
      "tags": []
     },
     "output_type": "display_data"
    },
    {
     "name": "stdout",
     "output_type": "stream",
     "text": [
      "Saving test.csv to test.csv\n"
     ]
    }
   ],
   "source": [
    "from google.colab import files\n",
    "uploaded = files.upload()"
   ]
  },
  {
   "cell_type": "code",
   "execution_count": null,
   "metadata": {
    "id": "jKeilrlMemQh"
   },
   "outputs": [],
   "source": [
    "#Load data\n",
    "df1 = pd.read_csv('train.csv')\n",
    "df2 = pd.read_csv('test.csv')"
   ]
  },
  {
   "cell_type": "markdown",
   "metadata": {
    "id": "NWvfisL_emQi"
   },
   "source": [
    "# 1. Exploratory Data Analysis"
   ]
  },
  {
   "cell_type": "code",
   "execution_count": null,
   "metadata": {
    "id": "8GNbMGQyemQi",
    "outputId": "fc6a60d2-39c6-4d31-a3fe-7df1daed289a"
   },
   "outputs": [
    {
     "data": {
      "text/plain": [
       "Text(0.5, 0, 'Category')"
      ]
     },
     "execution_count": 3,
     "metadata": {
      "tags": []
     },
     "output_type": "execute_result"
    },
    {
     "data": {
      "image/png": "[encoded data removed]",
      "text/plain": [
       "<Figure size 576x432 with 1 Axes>"
      ]
     },
     "metadata": {
      "needs_background": "light",
      "tags": []
     },
     "output_type": "display_data"
    }
   ],
   "source": [
    "#hstogram of the cagetory\n",
    "plt.figure(figsize=(8,6))\n",
    "plt.hist(df1['category'])\n",
    "plt.title('Histogram of Category')\n",
    "plt.xlabel('Category')"
   ]
  },
  {
   "cell_type": "code",
   "execution_count": null,
   "metadata": {
    "id": "p--YhZwremQj",
    "outputId": "aee1413e-ea48-4beb-f6a8-949c5d5af03d"
   },
   "outputs": [
    {
     "data": {
      "text/plain": [
       "Text(0.5, 1.0, 'Category distribution')"
      ]
     },
     "execution_count": 4,
     "metadata": {
      "tags": []
     },
     "output_type": "execute_result"
    },
    {
     "data": {
      "image/png": "[encoded data removed]",
      "text/plain": [
       "<Figure size 576x432 with 1 Axes>"
      ]
     },
     "metadata": {
      "tags": []
     },
     "output_type": "display_data"
    }
   ],
   "source": [
    "plt.figure(figsize=(8,6))\n",
    "cate = df1['category'].dropna().tolist()\n",
    "count = Counter(cate)\n",
    "plt.pie(count.values(), labels=count.keys(), autopct='%1.1f%%',\n",
    "        shadow=True, startangle=90)\n",
    "\n",
    "#plt.tight_layout()\n",
    "plt.title('Category distribution')"
   ]
  },
  {
   "cell_type": "code",
   "execution_count": null,
   "metadata": {
    "id": "q1y5ixFCemQj",
    "outputId": "c148710f-5a6f-476c-abf5-727c8a42e856"
   },
   "outputs": [
    {
     "data": {
      "text/plain": [
       "Text(0.5, 1.0, 'Category distribution')"
      ]
     },
     "execution_count": 5,
     "metadata": {
      "tags": []
     },
     "output_type": "execute_result"
    },
    {
     "data": {
      "image/png": "[encoded data removed]",
      "text/plain": [
       "<Figure size 576x432 with 1 Axes>"
      ]
     },
     "metadata": {
      "tags": []
     },
     "output_type": "display_data"
    }
   ],
   "source": [
    "#######same as above, just different visualization style\n",
    "\n",
    "plt.figure(figsize=(8,6))\n",
    "cate = df1['category'].dropna().tolist()\n",
    "count = Counter(cate)\n",
    "plt.pie(count.values(), labels=count.keys(), autopct='%1.1f%%',\n",
    "        shadow=True, startangle=90)\n",
    "\n",
    "#draw circle\n",
    "centre_circle = plt.Circle((0,0),0.70,fc='white')\n",
    "fig = plt.gcf()\n",
    "fig.gca().add_artist(centre_circle)\n",
    "  \n",
    "#plt.tight_layout()\n",
    "plt.title('Category distribution')"
   ]
  },
  {
   "cell_type": "code",
   "execution_count": null,
   "metadata": {
    "id": "cJgUAYH1emQj",
    "outputId": "ce8cfd28-2fd6-4d48-9d1c-fd5359f09a71"
   },
   "outputs": [
    {
     "data": {
      "text/plain": [
       "Text(0.5, 0, 'Overall')"
      ]
     },
     "execution_count": 6,
     "metadata": {
      "tags": []
     },
     "output_type": "execute_result"
    },
    {
     "data": {
      "image/png": "[encoded data removed]",
      "text/plain": [
       "<Figure size 576x432 with 1 Axes>"
      ]
     },
     "metadata": {
      "needs_background": "light",
      "tags": []
     },
     "output_type": "display_data"
    }
   ],
   "source": [
    "#####hstogram of the overall\n",
    "plt.figure(figsize=(8,6))\n",
    "plt.hist(df1['overall'])\n",
    "plt.title('Histogram of Overall')\n",
    "plt.xlabel('Overall')"
   ]
  },
  {
   "cell_type": "code",
   "execution_count": null,
   "metadata": {
    "id": "fAuIBF4lemQk",
    "outputId": "b196b3a7-7e68-4de0-d443-d570a2e9dbf5"
   },
   "outputs": [
    {
     "data": {
      "text/plain": [
       "Text(0.5, 1.0, 'Overall Rating distribution')"
      ]
     },
     "execution_count": 7,
     "metadata": {
      "tags": []
     },
     "output_type": "execute_result"
    },
    {
     "data": {
      "image/png": "[encoded data removed]",
      "text/plain": [
       "<Figure size 576x432 with 1 Axes>"
      ]
     },
     "metadata": {
      "tags": []
     },
     "output_type": "display_data"
    }
   ],
   "source": [
    "plt.figure(figsize=(8,6))\n",
    "cate = df1['overall'].dropna().tolist()\n",
    "count = Counter(cate)\n",
    "plt.pie(count.values(), labels=count.keys(), autopct='%1.1f%%',\n",
    "        shadow=True, startangle=90)\n",
    "\n",
    "#plt.tight_layout()\n",
    "plt.title('Overall Rating distribution')"
   ]
  },
  {
   "cell_type": "code",
   "execution_count": null,
   "metadata": {
    "id": "oitrOJqKemQk",
    "outputId": "9dc9f096-f3fa-46cf-e27e-1a1bbfeffa25"
   },
   "outputs": [
    {
     "data": {
      "text/plain": [
       "Text(0.5, 1.0, 'Overall Rating distribution')"
      ]
     },
     "execution_count": 8,
     "metadata": {
      "tags": []
     },
     "output_type": "execute_result"
    },
    {
     "data": {
      "image/png": "[encoded data removed]",
      "text/plain": [
       "<Figure size 576x432 with 1 Axes>"
      ]
     },
     "metadata": {
      "tags": []
     },
     "output_type": "display_data"
    }
   ],
   "source": [
    "#######same as above, just different visualization style\n",
    "\n",
    "plt.figure(figsize=(8,6))\n",
    "cate = df1['overall'].dropna().tolist()\n",
    "count = Counter(cate)\n",
    "plt.pie(count.values(), labels=count.keys(), autopct='%1.1f%%',\n",
    "        shadow=True, startangle=90)\n",
    "\n",
    "#draw circle\n",
    "centre_circle = plt.Circle((0,0),0.70,fc='white')\n",
    "fig = plt.gcf()\n",
    "fig.gca().add_artist(centre_circle)\n",
    "  \n",
    "#plt.tight_layout()\n",
    "plt.title('Overall Rating distribution')"
   ]
  },
  {
   "cell_type": "markdown",
   "metadata": {
    "id": "0X5ctyAoemQk"
   },
   "source": [
    "Majority of rating falls in 5.0. We can see people tend to give high rating to the musics, and proportion of 1.0 2.0 are all very low(smaller than 5%) in the true distribution."
   ]
  },
  {
   "cell_type": "code",
   "execution_count": null,
   "metadata": {
    "id": "I8mVHsoZemQk",
    "outputId": "149b259e-633a-425c-9416-b99714b5c69a"
   },
   "outputs": [
    {
     "name": "stdout",
     "output_type": "stream",
     "text": [
      "['Jazz', 'Alternative Rock', 'Pop', 'Dance & Electronic', 'Classical']\n",
      "[5.0, 1.0, 4.0, 2.0, 3.0]\n"
     ]
    },
    {
     "data": {
      "image/png": "[encoded data removed]",
      "text/plain": [
       "<Figure size 1080x576 with 1 Axes>"
      ]
     },
     "metadata": {
      "needs_background": "light",
      "tags": []
     },
     "output_type": "display_data"
    }
   ],
   "source": [
    "print(list(df1['category'].unique()))\n",
    "print(list(df1['overall'].unique()))\n",
    "bucket = [1.0, 2.0, 3.0, 4.0, 5.0]\n",
    "category= ['Pop', 'Alternative Rock', 'Jazz', 'Classical','Dance & Electronic']\n",
    "\n",
    "counts_cate = {}\n",
    "for i in category:\n",
    "    a = df1[df1['category'] == i ]\n",
    "    b = len(a)\n",
    "    counts_cate[i] = {}\n",
    "    for j in bucket:\n",
    "        counts_cate[i][j] = len(a[a['overall'] == j ])/b  #normalize proportions\n",
    "df_cate = pd.DataFrame(counts_cate).T\n",
    "#colors = plt.cm.GnBu(np.linspace(0, 1, 10))\n",
    "df_cate.plot(kind='bar',stacked=True,figsize=(15,8))#, color = colors)\n",
    "plt.title('Category vs. Overall')\n",
    "positions = (0,1, 2, 3, 4)\n",
    "labels = ( 'Pop', 'Alternative Rock', 'Jazz', 'Classical','Dance & Electronic')\n",
    "plt.xticks(positions, labels)\n",
    "plt.xlabel('Category')\n",
    "plt.ylabel('Overall')\n",
    "plt.legend()\n",
    "plt.show()"
   ]
  },
  {
   "cell_type": "markdown",
   "metadata": {
    "id": "QPv6T3ZiemQl"
   },
   "source": [
    "We can see rating among each category did not vary obviously, only alternative Rock music might have lower rating comparing to the rest of categories"
   ]
  },
  {
   "cell_type": "markdown",
   "metadata": {
    "id": "Ho6GhY2cemQl"
   },
   "source": [
    "### Wordcloud Plots\n"
   ]
  },
  {
   "cell_type": "code",
   "execution_count": null,
   "metadata": {
    "id": "w6PSsYcZemQl"
   },
   "outputs": [],
   "source": [
    "L1 = list(random.sample(range(0, train.shape[0]), 10000)) # randomly select ID"
   ]
  },
  {
   "cell_type": "code",
   "execution_count": null,
   "metadata": {
    "id": "Cbs8OtMCemQl"
   },
   "outputs": [],
   "source": [
    "w = []\n",
    "for t in train.iloc[L1, :].review_str:\n",
    "    w.append(t)\n",
    "w = pd.Series(w).str.cat(sep=' ')"
   ]
  },
  {
   "cell_type": "code",
   "execution_count": null,
   "metadata": {
    "id": "CQyADZ2WemQl",
    "outputId": "25b0204f-9bb4-4053-d133-6fb37e438df0"
   },
   "outputs": [
    {
     "data": {
      "image/png": "[encoded data removed]",
      "text/plain": [
       "<Figure size 432x288 with 1 Axes>"
      ]
     },
     "metadata": {
      "needs_background": "light",
      "tags": []
     },
     "output_type": "display_data"
    }
   ],
   "source": [
    "wc = WordCloud(max_words=1000,margin=1,random_state=1,max_font_size=50,\n",
    "               background_color = 'white').generate(w)\n",
    "default_colors = wc.to_array()\n",
    "#plt.figure(figsize=(12,6))\n",
    "plt.imshow(default_colors, interpolation=\"bilinear\")\n",
    "plt.axis(\"off\")\n",
    "plt.show()"
   ]
  },
  {
   "cell_type": "code",
   "execution_count": null,
   "metadata": {
    "id": "wdTR33I8IR7R"
   },
   "outputs": [],
   "source": [
    "d = path.dirname(__file__) if \"__file__\" in locals() else os.getcwd()\n",
    "mask = np.array(Image.open(path.join(d, \"images (1).jpeg\")))"
   ]
  },
  {
   "cell_type": "code",
   "execution_count": null,
   "metadata": {
    "id": "Np2ltv18Ha_v"
   },
   "outputs": [],
   "source": [
    "L1 = list(random.sample(range(0, train.shape[0]), 10000)) # randomly select ID\n",
    "w = []\n",
    "for t in train.iloc[L1, :].review_str:\n",
    "    w.append(t)\n",
    "w = pd.Series(w).str.cat(sep=' ')"
   ]
  },
  {
   "cell_type": "code",
   "execution_count": null,
   "metadata": {
    "colab": {
     "base_uri": "https://localhost:8080/",
     "height": 248
    },
    "id": "4qk_Hq0IFI03",
    "outputId": "b6b29e4a-3d9a-46f5-eef4-a67d9d1c482f"
   },
   "outputs": [
    {
     "data": {
      "image/png": "[encoded data removed]",
      "text/plain": [
       "<Figure size 432x288 with 1 Axes>"
      ]
     },
     "metadata": {
      "needs_background": "light",
      "tags": []
     },
     "output_type": "display_data"
    }
   ],
   "source": [
    "wc = WordCloud(max_words=1000, mask=mask,margin=1,random_state=1,max_font_size=50,background_color = 'white').generate(w)\n",
    "default_colors = wc.to_array()\n",
    "#plt.figure(figsize=(12,6))\n",
    "plt.imshow(default_colors, interpolation=\"bilinear\")\n",
    "plt.axis(\"off\")\n",
    "plt.show()"
   ]
  },
  {
   "cell_type": "markdown",
   "metadata": {
    "id": "YqZ3yRzBemQm"
   },
   "source": [
    "# 2. Data Cleaning"
   ]
  },
  {
   "cell_type": "code",
   "execution_count": null,
   "metadata": {
    "id": "xWpvUDiCemQm"
   },
   "outputs": [],
   "source": [
    "df_train = pd.read_csv('train.csv')\n",
    "df_test = pd.read_csv('test.csv')\n",
    "\n",
    "df_train = df_train.drop([\"image\", \"reviewHash\"], axis = 1)\n",
    "df_test = df_test.drop([\"image\", \"reviewHash\"], axis = 1)\n",
    "\n",
    "df_train['reviewTime'] = pd.to_datetime(df_train['reviewTime'])\n",
    "df_test['reviewTime'] = pd.to_datetime(df_test['reviewTime'])\n",
    "\n",
    "df_train = df_train.dropna().reset_index()\n",
    "# df_test = df_test.dropna().reset_index()\n",
    "\n",
    "df_test['reviewText'] = df_test['reviewText'].replace(np.nan,'no comment')\n",
    "df_test['summary'] = df_test['summary'].replace(np.nan,'no comment')\n",
    "\n",
    "##### reviewText\n",
    "# Remove all the punctuations\n",
    "df_train['reviewText'] = df_train['reviewText'].str.replace('[^\\w\\s]','')\n",
    "df_test['reviewText'] = df_test['reviewText'].str.replace('[^\\w\\s]','')\n",
    "\n",
    "# Lowecase\n",
    "df_train['reviewText'] = df_train['reviewText'].str.lower()\n",
    "df_test['reviewText'] = df_test['reviewText'].str.lower()\n",
    "\n",
    "# Number\n",
    "df_train['reviewText'] = df_train['reviewText'].str.replace('[0-9]','')\n",
    "df_test['reviewText'] = df_test['reviewText'].str.replace('[0-9]','')\n",
    "\n",
    "##### summary\n",
    "# Remove all the punctuations\n",
    "df_train['summary'] = df_train['summary'].str.replace('[^\\w\\s]','')\n",
    "df_test['summary'] = df_test['summary'].str.replace('[^\\w\\s]','')\n",
    "\n",
    "# Lowecase\n",
    "df_train['summary'] = df_train['summary'].str.lower()\n",
    "df_test['summary'] = df_test['summary'].str.lower()\n",
    "\n",
    "# # Number\n",
    "# df_train['summary'] = df_train['summary'].str.replace('[0-9]','')\n",
    "# df_test['summary'] = df_test['summary'].str.replace('[0-9]','')\n",
    "\n",
    "\n",
    "##### Training set\n",
    "#stop words\n",
    "stop = stopwords.words('english')\n",
    "#firstly tokenize before dropping the stop word\n",
    "df_train['reviewText']  = df_train['reviewText'].apply(word_tokenize)\n",
    "#Remove stop words\n",
    "df_train['reviewText']  = df_train['reviewText'].apply(lambda x: [word for word in x if word not in stop])\n",
    "#lemmatizer\n",
    "lemmatizer = WordNetLemmatizer() \n",
    "df_train['reviewText'] = df_train['reviewText'].apply(lambda x: [lemmatizer.lemmatize(word) for word in x])\n",
    "\n",
    "\n",
    "\n",
    "#firstly tokenize before dropping the stop word\n",
    "df_train['summary']  = df_train['summary'].apply(word_tokenize)\n",
    "#Remove stop words\n",
    "df_train['summary']  = df_train['summary'].apply(lambda x: [word for word in x if word not in stop])\n",
    "df_train['summary'] = df_train['summary'].apply(lambda x: [lemmatizer.lemmatize(word) for word in x])\n",
    "\n",
    "\n",
    "\n",
    "#firstly tokenize before dropping the stop word\n",
    "df_test['reviewText']  = df_test['reviewText'].apply(word_tokenize)\n",
    "#Remove stop words\n",
    "df_test['reviewText']  = df_test['reviewText'].apply(lambda x: [word for word in x if word not in stop])\n",
    "#lemmatizer\n",
    "lemmatizer = WordNetLemmatizer() \n",
    "df_test['reviewText'] = df_test['reviewText'].apply(lambda x: [lemmatizer.lemmatize(word) for word in x])\n",
    "\n",
    "\n",
    "\n",
    "#firstly tokenize before dropping the stop word\n",
    "df_test['summary']  = df_test['summary'].apply(word_tokenize)\n",
    "#Remove stop words\n",
    "df_test['summary']  = df_test['summary'].apply(lambda x: [word for word in x if word not in stop])\n",
    "df_test['summary'] = df_test['summary'].apply(lambda x: [lemmatizer.lemmatize(word) for word in x])\n",
    "\n",
    "\n",
    "# Fill na with \"no comment\"\n",
    "df_test['summary'] = df_test['summary'].fillna('no comment')"
   ]
  },
  {
   "cell_type": "code",
   "execution_count": null,
   "metadata": {
    "colab": {
     "base_uri": "https://localhost:8080/"
    },
    "id": "vYI3JMZpemQp",
    "outputId": "7d60fbfc-5e95-4e5d-82dc-48501281a11d"
   },
   "outputs": [
    {
     "data": {
      "text/plain": [
       "['best',\n",
       " 'record',\n",
       " 'since',\n",
       " 'boy',\n",
       " 'girlsit',\n",
       " 'hard',\n",
       " 'find',\n",
       " 'good',\n",
       " 'music',\n",
       " 'great',\n",
       " 'highly',\n",
       " 'recommend',\n",
       " 'record']"
      ]
     },
     "execution_count": 8,
     "metadata": {
      "tags": []
     },
     "output_type": "execute_result"
    }
   ],
   "source": [
    "df_test['reviewText'][5]"
   ]
  },
  {
   "cell_type": "markdown",
   "metadata": {
    "id": "vxsvnMcEemQr"
   },
   "source": [
    "### Encode"
   ]
  },
  {
   "cell_type": "code",
   "execution_count": null,
   "metadata": {
    "id": "fruZZZObemQr"
   },
   "outputs": [],
   "source": [
    "# Train csv\n",
    "df_train['category'].value_counts()\n",
    "\n",
    "train_encode = {'Pop':0,'Alternative Rock':1,'Jazz':2,'Classical':3,'Dance & Electronic':4}\n",
    "\n",
    "df_train['category'] = df_train['category'].map(train_encode)\n",
    "\n",
    "\n",
    "# Test csv\n",
    "df_test['category'].value_counts()\n",
    "\n",
    "test_encode = {'Pop':0,'Alternative Rock':1,'Jazz':2,'Classical':3,'Dance & Electronic':4}\n",
    "\n",
    "df_test['category'] = df_test['category'].map(test_encode)\n",
    "\n",
    "#price\n",
    "df_train1 = df_train[df_train['price'] != '.a-section.a-spacing-mini{margin-bottom:6px!important;margin-top:10px}#actionPanel #availability{font-size:17px!important;font-weight:400!important}#actionPanel #availability p#pa_other_website_text{color:#888!important;margin-top:6px}#actionPanel #merchant-info{font-size:13px;color:#333}#actionPanel #pa_avaliability_message{font-size:12px!important;font-weight:400!important}#actionPanel #pa_avaliability_message a{white-space:normal!important}#actionPanel #pa_avaliability_message span{color:#888!important}#actionPanel #availability-brief #availability+br{display:none}// This is an empty file #actionPanel #bbop-sbbop-container{margin-bottom:0}#actionPanel .buybox-main{padding:0 40px}#actionPanel #priceblock_ourprice_row span.feature img{padding-top:8px!important}#actionPanel #onetimeOption .a-radio-label #priceBadging_feature_div a:not(.a-popover-trigger),#actionPanel #usedOption .a-radio-label #priceBadging_feature_div a:not(.a-popover-trigger){display:none}#actionPanel #pa_feedbackForm_rootmain{text-align:center}.burj #buybox_feature_div #deal #regularBuybox{margin-bottom:14px!important}.burj #hero-quick-promo hr{display:none}#actionPanel #hqp{margin-top:26px}#actionPanel #hqp #amsDetailRight{margin-bottom:18px}#actionPanel #hqp #amsDetailRightWide{margin-bottom:18px}#actionPanel #hqp #hqp-left{margin-bottom:18px}div#hqp-bottom.a-section.burj{margin-bottom:0}.burj #instantOrderUpdate_feature_div']\n",
    "\n",
    "df_train2 =  df_train1[df_train1['price'] != '.a-box-inner{background-color:#fff}#alohaBuyBoxWidget .selected{background-color:#fffbf3;border-color:#e77600;box-shadow:0 0 3px rgba(228,121,17,.5)}#alohaBuyBoxWidget .contract-not-available{color:gray}#aloha-cart-popover .aloha-cart{height:auto;overflow:hidden}#aloha-cart-popover #aloha-cartInfo{float:left}#aloha-cart-popover #aloha-cart-details{float:right;margin-top:1em}#aloha-cart-popover .deviceContainer{width:160px;float:left;padding-right:10px;border-right:1px solid #ddd}#aloha-cart-popover li:last-child{border-right:0}#aloha-cart-popover .aloha-device-title{height:3em;overflow:hidden}#aloha-cart-popover .aloha-thumbnail-container{height:100px;margin-bottom:1em;text-align:center}#aloha-cart-popover .aloha-price-container{text-align:center}#aloha-cart-popover .aloha-thumbnail-container img{height:inherit}#aloha-cart-popover .aloha-cart{border-top:1px solid #ddd;border-bottom:1px solid #ddd}#aloha-cart-popover #aloha-cart-info{margin-right:0}#alohaBuyBoxWidget .without-contract-subheading{margin-right:0}#aloha-bb-help-nodes .aloha-bb-contract-term-heading{color:gray;font-family:arial;margin-top:.5em;text-align:center;height:.7em;border-bottom:1px solid gray;margin-bottom:1.6em}#aloha-bb-help-nodes .aloha-bb-contract-term-heading span{background-color:#fff;padding:0 10px 0 10px}#alohaAvailabilityUS_feature_div .availability a{text-decoration:none}#alohaPricingWidget a{text-decoration:none}#alohaAvailabilityUS_feature_div .availability{margin-top:-4px;margin-bottom:0}#alohaBuyBoxWidget .select-transaction-alert .a-icon-alert{top:18px;left:3px}#alohaBuyBoxWidget .select-transaction-alert .a-alert-container{padding-left:39px;width:290px}#alohaBuyBoxUS_feature_div #alohaBuyBoxWidget .contract-container .contract-term-heading a{text-decoration:none}#alohaBuyBoxUS_feature_div #alohaBuyBoxWidget .annual-contract-box .a-icon-popover{display:none}#alohaBuyBoxUS_feature_div #alohaBuyBoxWidget .contract-container .annual-contract-box{cursor:pointer;cursor:hand}#alohaBuyBoxUS_feature_div #alohaBuyBoxWidget .aloha-buybox-price{font-size:15px}#alohaBuyBoxUS_feature_div #alohaBuyBoxWidget #linkOffSection a{text-decoration:none}#alohaBuyBoxUS_feature_div .lockedUsedBuyboxContainer{padding-left:3.5%}#alohaBuyBoxUS_feature_div .alohaBuyboxUtilsNoWrap{white-space:nowrap}.hidden{display:none}.simo-no-padding{padding:0}.carrier-reviews-cell{padding-left:10px}.carrier-reviews-bordered-cell{border:1px dotted #ccc}.carrier-reviews-selected-cell{background-color:#ffd}#aloha-carrier-compatibility-modal-table-description{margin-top:10px;margin-bottom:14px}.aloha-carrier-compatibility-sortable-header.carrier{min-width:97px}.aloha-carrier-compatibility-sortable-header.compatibility{min-width:156px}.aloha-carrier-compatibility-sortable-header div{float:left}.aloha-carrier-compatibility-sortable-header i.a-icon{margin-left:10px;margin-top:4px}#aloha-carrier-compatibility-overview-table.a-bordered.a-vertical-stripes td:nth-child(2n),#aloha-carrier-compatibility-overview-table.a-bordered.a-vertical-stripes th:nth-child(2n){background-color:initial}#aloha-carrier-compatibility-modal-table.a-bordered.a-vertical-stripes td:nth-child(2n),#aloha-carrier-compatibility-modal-table.a-bordered.a-vertical-stripes th:nth-child(2n){background-color:initial}#aloha-carrier-compatibility-table.a-bordered.a-vertical-stripes th:nth-child(2n),.aloha-carrier-compatibility-table.a-bordered.a-vertical-stripes td:nth-child(2n){background-color:transparent}.aloha-carrier-compatibility-column-gray{background-color:#f6f6f6}.aloha-carrier-compatibility-modal-table-row .aloha-carrier-compatibility-tech-text,.aloha-carrier-compatibility-modal-table-row .carrier-name,.aloha-carrier-compatibility-modal-table-row .carrier-rating-summary{min-height:27px;display:inline-block;cursor:default}.aloha-carrier-compatibility-modal-table-row .aloha-carrier-compatibility-tech-text:first-line,.aloha-carrier-compatibility-modal-table-row .carrier-name:first-line,.aloha-carrier-compatibility-modal-table-row .carrier-rating-summary:first-line{line-height:27px}.aloha-carrier-compatibility-modal-table-row .aloha-carrier-compatibility-icon{margin-top:6px}.aloha-carrier-compatibility-check-icon{width:30px;height:27px;background-position:-318px -35px;background-image:url(https://images-na.ssl-images-amazon.com/images/G/01/AUIClients/AmazonUIBaseCSS-sprite_2x-8e7ef370dc28a214b3f490c9620f4ac501d5a864._V2_.png);background-repeat:no-repeat;background-size:400px 650px;display:inline-block;vertical-align:top}.aloha-carrier-compatibility-hidden{display:none}.aloha-buybox-spaced-link{margin-top:12px;margin-bottom:7px;text-align:center}.popover-tab']\n",
    "\n",
    "df_train2['price'] = df_train2['price'].str.replace('$','').astype(float)\n",
    "\n",
    "mean_pop = df_train2[df_train2['category'] == 0]['price'].mean()\n",
    "mean_alt = df_train2[df_train2['category'] == 1]['price'].mean()\n",
    "mean_j = df_train2[df_train2['category'] == 2]['price'].mean()\n",
    "mean_class = df_train2[df_train2['category'] == 3]['price'].mean()\n",
    "mean_dac = df_train2[df_train2['category'] == 4]['price'].mean()\n",
    "\n",
    "\n",
    "\n",
    "\n",
    "error1 = df_train[df_train['price'] == '.a-section.a-spacing-mini{margin-bottom:6px!important;margin-top:10px}#actionPanel #availability{font-size:17px!important;font-weight:400!important}#actionPanel #availability p#pa_other_website_text{color:#888!important;margin-top:6px}#actionPanel #merchant-info{font-size:13px;color:#333}#actionPanel #pa_avaliability_message{font-size:12px!important;font-weight:400!important}#actionPanel #pa_avaliability_message a{white-space:normal!important}#actionPanel #pa_avaliability_message span{color:#888!important}#actionPanel #availability-brief #availability+br{display:none}// This is an empty file #actionPanel #bbop-sbbop-container{margin-bottom:0}#actionPanel .buybox-main{padding:0 40px}#actionPanel #priceblock_ourprice_row span.feature img{padding-top:8px!important}#actionPanel #onetimeOption .a-radio-label #priceBadging_feature_div a:not(.a-popover-trigger),#actionPanel #usedOption .a-radio-label #priceBadging_feature_div a:not(.a-popover-trigger){display:none}#actionPanel #pa_feedbackForm_rootmain{text-align:center}.burj #buybox_feature_div #deal #regularBuybox{margin-bottom:14px!important}.burj #hero-quick-promo hr{display:none}#actionPanel #hqp{margin-top:26px}#actionPanel #hqp #amsDetailRight{margin-bottom:18px}#actionPanel #hqp #amsDetailRightWide{margin-bottom:18px}#actionPanel #hqp #hqp-left{margin-bottom:18px}div#hqp-bottom.a-section.burj{margin-bottom:0}.burj #instantOrderUpdate_feature_div']\n",
    "error2 = df_train[df_train['price'] == '.a-box-inner{background-color:#fff}#alohaBuyBoxWidget .selected{background-color:#fffbf3;border-color:#e77600;box-shadow:0 0 3px rgba(228,121,17,.5)}#alohaBuyBoxWidget .contract-not-available{color:gray}#aloha-cart-popover .aloha-cart{height:auto;overflow:hidden}#aloha-cart-popover #aloha-cartInfo{float:left}#aloha-cart-popover #aloha-cart-details{float:right;margin-top:1em}#aloha-cart-popover .deviceContainer{width:160px;float:left;padding-right:10px;border-right:1px solid #ddd}#aloha-cart-popover li:last-child{border-right:0}#aloha-cart-popover .aloha-device-title{height:3em;overflow:hidden}#aloha-cart-popover .aloha-thumbnail-container{height:100px;margin-bottom:1em;text-align:center}#aloha-cart-popover .aloha-price-container{text-align:center}#aloha-cart-popover .aloha-thumbnail-container img{height:inherit}#aloha-cart-popover .aloha-cart{border-top:1px solid #ddd;border-bottom:1px solid #ddd}#aloha-cart-popover #aloha-cart-info{margin-right:0}#alohaBuyBoxWidget .without-contract-subheading{margin-right:0}#aloha-bb-help-nodes .aloha-bb-contract-term-heading{color:gray;font-family:arial;margin-top:.5em;text-align:center;height:.7em;border-bottom:1px solid gray;margin-bottom:1.6em}#aloha-bb-help-nodes .aloha-bb-contract-term-heading span{background-color:#fff;padding:0 10px 0 10px}#alohaAvailabilityUS_feature_div .availability a{text-decoration:none}#alohaPricingWidget a{text-decoration:none}#alohaAvailabilityUS_feature_div .availability{margin-top:-4px;margin-bottom:0}#alohaBuyBoxWidget .select-transaction-alert .a-icon-alert{top:18px;left:3px}#alohaBuyBoxWidget .select-transaction-alert .a-alert-container{padding-left:39px;width:290px}#alohaBuyBoxUS_feature_div #alohaBuyBoxWidget .contract-container .contract-term-heading a{text-decoration:none}#alohaBuyBoxUS_feature_div #alohaBuyBoxWidget .annual-contract-box .a-icon-popover{display:none}#alohaBuyBoxUS_feature_div #alohaBuyBoxWidget .contract-container .annual-contract-box{cursor:pointer;cursor:hand}#alohaBuyBoxUS_feature_div #alohaBuyBoxWidget .aloha-buybox-price{font-size:15px}#alohaBuyBoxUS_feature_div #alohaBuyBoxWidget #linkOffSection a{text-decoration:none}#alohaBuyBoxUS_feature_div .lockedUsedBuyboxContainer{padding-left:3.5%}#alohaBuyBoxUS_feature_div .alohaBuyboxUtilsNoWrap{white-space:nowrap}.hidden{display:none}.simo-no-padding{padding:0}.carrier-reviews-cell{padding-left:10px}.carrier-reviews-bordered-cell{border:1px dotted #ccc}.carrier-reviews-selected-cell{background-color:#ffd}#aloha-carrier-compatibility-modal-table-description{margin-top:10px;margin-bottom:14px}.aloha-carrier-compatibility-sortable-header.carrier{min-width:97px}.aloha-carrier-compatibility-sortable-header.compatibility{min-width:156px}.aloha-carrier-compatibility-sortable-header div{float:left}.aloha-carrier-compatibility-sortable-header i.a-icon{margin-left:10px;margin-top:4px}#aloha-carrier-compatibility-overview-table.a-bordered.a-vertical-stripes td:nth-child(2n),#aloha-carrier-compatibility-overview-table.a-bordered.a-vertical-stripes th:nth-child(2n){background-color:initial}#aloha-carrier-compatibility-modal-table.a-bordered.a-vertical-stripes td:nth-child(2n),#aloha-carrier-compatibility-modal-table.a-bordered.a-vertical-stripes th:nth-child(2n){background-color:initial}#aloha-carrier-compatibility-table.a-bordered.a-vertical-stripes th:nth-child(2n),.aloha-carrier-compatibility-table.a-bordered.a-vertical-stripes td:nth-child(2n){background-color:transparent}.aloha-carrier-compatibility-column-gray{background-color:#f6f6f6}.aloha-carrier-compatibility-modal-table-row .aloha-carrier-compatibility-tech-text,.aloha-carrier-compatibility-modal-table-row .carrier-name,.aloha-carrier-compatibility-modal-table-row .carrier-rating-summary{min-height:27px;display:inline-block;cursor:default}.aloha-carrier-compatibility-modal-table-row .aloha-carrier-compatibility-tech-text:first-line,.aloha-carrier-compatibility-modal-table-row .carrier-name:first-line,.aloha-carrier-compatibility-modal-table-row .carrier-rating-summary:first-line{line-height:27px}.aloha-carrier-compatibility-modal-table-row .aloha-carrier-compatibility-icon{margin-top:6px}.aloha-carrier-compatibility-check-icon{width:30px;height:27px;background-position:-318px -35px;background-image:url(https://images-na.ssl-images-amazon.com/images/G/01/AUIClients/AmazonUIBaseCSS-sprite_2x-8e7ef370dc28a214b3f490c9620f4ac501d5a864._V2_.png);background-repeat:no-repeat;background-size:400px 650px;display:inline-block;vertical-align:top}.aloha-carrier-compatibility-hidden{display:none}.aloha-buybox-spaced-link{margin-top:12px;margin-bottom:7px;text-align:center}.popover-tab']\n",
    "error = pd.concat([error1,error2])\n",
    "for i in (error.index):\n",
    "    if error['category'][i] == 0:\n",
    "        error['price'][i] = mean_pop\n",
    "    if error['category'][i] == 1:\n",
    "        error['price'][i] = mean_alt\n",
    "    if error['category'][i] == 2:\n",
    "        error['price'][i] = mean_j\n",
    "    if error['category'][i] == 3:\n",
    "        error['price'][i] = mean_class\n",
    "    if error['category'][i] == 4:\n",
    "        error['price'][i] = mean_dac\n",
    "\n",
    "######\n",
    "df_train = pd.concat([df_train2,error]).sort_index()\n",
    "\n",
    "\n",
    "df_test1 = df_test[df_test['price'] != '.a-section.a-spacing-mini{margin-bottom:6px!important;margin-top:10px}#actionPanel #availability{font-size:17px!important;font-weight:400!important}#actionPanel #availability p#pa_other_website_text{color:#888!important;margin-top:6px}#actionPanel #merchant-info{font-size:13px;color:#333}#actionPanel #pa_avaliability_message{font-size:12px!important;font-weight:400!important}#actionPanel #pa_avaliability_message a{white-space:normal!important}#actionPanel #pa_avaliability_message span{color:#888!important}#actionPanel #availability-brief #availability+br{display:none}// This is an empty file #actionPanel #bbop-sbbop-container{margin-bottom:0}#actionPanel .buybox-main{padding:0 40px}#actionPanel #priceblock_ourprice_row span.feature img{padding-top:8px!important}#actionPanel #onetimeOption .a-radio-label #priceBadging_feature_div a:not(.a-popover-trigger),#actionPanel #usedOption .a-radio-label #priceBadging_feature_div a:not(.a-popover-trigger){display:none}#actionPanel #pa_feedbackForm_rootmain{text-align:center}.burj #buybox_feature_div #deal #regularBuybox{margin-bottom:14px!important}.burj #hero-quick-promo hr{display:none}#actionPanel #hqp{margin-top:26px}#actionPanel #hqp #amsDetailRight{margin-bottom:18px}#actionPanel #hqp #amsDetailRightWide{margin-bottom:18px}#actionPanel #hqp #hqp-left{margin-bottom:18px}div#hqp-bottom.a-section.burj{margin-bottom:0}.burj #instantOrderUpdate_feature_div']\n",
    "\n",
    "df_test2 = df_test1[df_test1['price'] != '.a-box-inner{background-color:#fff}#alohaBuyBoxWidget .selected{background-color:#fffbf3;border-color:#e77600;box-shadow:0 0 3px rgba(228,121,17,.5)}#alohaBuyBoxWidget .contract-not-available{color:gray}#aloha-cart-popover .aloha-cart{height:auto;overflow:hidden}#aloha-cart-popover #aloha-cartInfo{float:left}#aloha-cart-popover #aloha-cart-details{float:right;margin-top:1em}#aloha-cart-popover .deviceContainer{width:160px;float:left;padding-right:10px;border-right:1px solid #ddd}#aloha-cart-popover li:last-child{border-right:0}#aloha-cart-popover .aloha-device-title{height:3em;overflow:hidden}#aloha-cart-popover .aloha-thumbnail-container{height:100px;margin-bottom:1em;text-align:center}#aloha-cart-popover .aloha-price-container{text-align:center}#aloha-cart-popover .aloha-thumbnail-container img{height:inherit}#aloha-cart-popover .aloha-cart{border-top:1px solid #ddd;border-bottom:1px solid #ddd}#aloha-cart-popover #aloha-cart-info{margin-right:0}#alohaBuyBoxWidget .without-contract-subheading{margin-right:0}#aloha-bb-help-nodes .aloha-bb-contract-term-heading{color:gray;font-family:arial;margin-top:.5em;text-align:center;height:.7em;border-bottom:1px solid gray;margin-bottom:1.6em}#aloha-bb-help-nodes .aloha-bb-contract-term-heading span{background-color:#fff;padding:0 10px 0 10px}#alohaAvailabilityUS_feature_div .availability a{text-decoration:none}#alohaPricingWidget a{text-decoration:none}#alohaAvailabilityUS_feature_div .availability{margin-top:-4px;margin-bottom:0}#alohaBuyBoxWidget .select-transaction-alert .a-icon-alert{top:18px;left:3px}#alohaBuyBoxWidget .select-transaction-alert .a-alert-container{padding-left:39px;width:290px}#alohaBuyBoxUS_feature_div #alohaBuyBoxWidget .contract-container .contract-term-heading a{text-decoration:none}#alohaBuyBoxUS_feature_div #alohaBuyBoxWidget .annual-contract-box .a-icon-popover{display:none}#alohaBuyBoxUS_feature_div #alohaBuyBoxWidget .contract-container .annual-contract-box{cursor:pointer;cursor:hand}#alohaBuyBoxUS_feature_div #alohaBuyBoxWidget .aloha-buybox-price{font-size:15px}#alohaBuyBoxUS_feature_div #alohaBuyBoxWidget #linkOffSection a{text-decoration:none}#alohaBuyBoxUS_feature_div .lockedUsedBuyboxContainer{padding-left:3.5%}#alohaBuyBoxUS_feature_div .alohaBuyboxUtilsNoWrap{white-space:nowrap}.hidden{display:none}.simo-no-padding{padding:0}.carrier-reviews-cell{padding-left:10px}.carrier-reviews-bordered-cell{border:1px dotted #ccc}.carrier-reviews-selected-cell{background-color:#ffd}#aloha-carrier-compatibility-modal-table-description{margin-top:10px;margin-bottom:14px}.aloha-carrier-compatibility-sortable-header.carrier{min-width:97px}.aloha-carrier-compatibility-sortable-header.compatibility{min-width:156px}.aloha-carrier-compatibility-sortable-header div{float:left}.aloha-carrier-compatibility-sortable-header i.a-icon{margin-left:10px;margin-top:4px}#aloha-carrier-compatibility-overview-table.a-bordered.a-vertical-stripes td:nth-child(2n),#aloha-carrier-compatibility-overview-table.a-bordered.a-vertical-stripes th:nth-child(2n){background-color:initial}#aloha-carrier-compatibility-modal-table.a-bordered.a-vertical-stripes td:nth-child(2n),#aloha-carrier-compatibility-modal-table.a-bordered.a-vertical-stripes th:nth-child(2n){background-color:initial}#aloha-carrier-compatibility-table.a-bordered.a-vertical-stripes th:nth-child(2n),.aloha-carrier-compatibility-table.a-bordered.a-vertical-stripes td:nth-child(2n){background-color:transparent}.aloha-carrier-compatibility-column-gray{background-color:#f6f6f6}.aloha-carrier-compatibility-modal-table-row .aloha-carrier-compatibility-tech-text,.aloha-carrier-compatibility-modal-table-row .carrier-name,.aloha-carrier-compatibility-modal-table-row .carrier-rating-summary{min-height:27px;display:inline-block;cursor:default}.aloha-carrier-compatibility-modal-table-row .aloha-carrier-compatibility-tech-text:first-line,.aloha-carrier-compatibility-modal-table-row .carrier-name:first-line,.aloha-carrier-compatibility-modal-table-row .carrier-rating-summary:first-line{line-height:27px}.aloha-carrier-compatibility-modal-table-row .aloha-carrier-compatibility-icon{margin-top:6px}.aloha-carrier-compatibility-check-icon{width:30px;height:27px;background-position:-318px -35px;background-image:url(https://images-na.ssl-images-amazon.com/images/G/01/AUIClients/AmazonUIBaseCSS-sprite_2x-8e7ef370dc28a214b3f490c9620f4ac501d5a864._V2_.png);background-repeat:no-repeat;background-size:400px 650px;display:inline-block;vertical-align:top}.aloha-carrier-compatibility-hidden{display:none}.aloha-buybox-spaced-link{margin-top:12px;margin-bottom:7px;text-align:center}.popover-tab']\n",
    "\n",
    "df_test2['price'] = df_test2['price'].str.replace('$','').astype(float)\n",
    "\n",
    "mean_pop2 = df_test2[df_test2['category'] == 0]['price'].mean()\n",
    "mean_alt2 = df_test2[df_test2['category'] == 1]['price'].mean()\n",
    "mean_j2 = df_test2[df_test2['category'] == 2]['price'].mean()\n",
    "mean_class2 = df_test2[df_test2['category'] == 3]['price'].mean()\n",
    "mean_dac2 = df_test2[df_test2['category'] == 4]['price'].mean()\n",
    "\n",
    "\n",
    "error3 = df_test[df_test['price'] == '.a-section.a-spacing-mini{margin-bottom:6px!important;margin-top:10px}#actionPanel #availability{font-size:17px!important;font-weight:400!important}#actionPanel #availability p#pa_other_website_text{color:#888!important;margin-top:6px}#actionPanel #merchant-info{font-size:13px;color:#333}#actionPanel #pa_avaliability_message{font-size:12px!important;font-weight:400!important}#actionPanel #pa_avaliability_message a{white-space:normal!important}#actionPanel #pa_avaliability_message span{color:#888!important}#actionPanel #availability-brief #availability+br{display:none}// This is an empty file #actionPanel #bbop-sbbop-container{margin-bottom:0}#actionPanel .buybox-main{padding:0 40px}#actionPanel #priceblock_ourprice_row span.feature img{padding-top:8px!important}#actionPanel #onetimeOption .a-radio-label #priceBadging_feature_div a:not(.a-popover-trigger),#actionPanel #usedOption .a-radio-label #priceBadging_feature_div a:not(.a-popover-trigger){display:none}#actionPanel #pa_feedbackForm_rootmain{text-align:center}.burj #buybox_feature_div #deal #regularBuybox{margin-bottom:14px!important}.burj #hero-quick-promo hr{display:none}#actionPanel #hqp{margin-top:26px}#actionPanel #hqp #amsDetailRight{margin-bottom:18px}#actionPanel #hqp #amsDetailRightWide{margin-bottom:18px}#actionPanel #hqp #hqp-left{margin-bottom:18px}div#hqp-bottom.a-section.burj{margin-bottom:0}.burj #instantOrderUpdate_feature_div']\n",
    "error4 = df_test[df_test['price'] == '.a-box-inner{background-color:#fff}#alohaBuyBoxWidget .selected{background-color:#fffbf3;border-color:#e77600;box-shadow:0 0 3px rgba(228,121,17,.5)}#alohaBuyBoxWidget .contract-not-available{color:gray}#aloha-cart-popover .aloha-cart{height:auto;overflow:hidden}#aloha-cart-popover #aloha-cartInfo{float:left}#aloha-cart-popover #aloha-cart-details{float:right;margin-top:1em}#aloha-cart-popover .deviceContainer{width:160px;float:left;padding-right:10px;border-right:1px solid #ddd}#aloha-cart-popover li:last-child{border-right:0}#aloha-cart-popover .aloha-device-title{height:3em;overflow:hidden}#aloha-cart-popover .aloha-thumbnail-container{height:100px;margin-bottom:1em;text-align:center}#aloha-cart-popover .aloha-price-container{text-align:center}#aloha-cart-popover .aloha-thumbnail-container img{height:inherit}#aloha-cart-popover .aloha-cart{border-top:1px solid #ddd;border-bottom:1px solid #ddd}#aloha-cart-popover #aloha-cart-info{margin-right:0}#alohaBuyBoxWidget .without-contract-subheading{margin-right:0}#aloha-bb-help-nodes .aloha-bb-contract-term-heading{color:gray;font-family:arial;margin-top:.5em;text-align:center;height:.7em;border-bottom:1px solid gray;margin-bottom:1.6em}#aloha-bb-help-nodes .aloha-bb-contract-term-heading span{background-color:#fff;padding:0 10px 0 10px}#alohaAvailabilityUS_feature_div .availability a{text-decoration:none}#alohaPricingWidget a{text-decoration:none}#alohaAvailabilityUS_feature_div .availability{margin-top:-4px;margin-bottom:0}#alohaBuyBoxWidget .select-transaction-alert .a-icon-alert{top:18px;left:3px}#alohaBuyBoxWidget .select-transaction-alert .a-alert-container{padding-left:39px;width:290px}#alohaBuyBoxUS_feature_div #alohaBuyBoxWidget .contract-container .contract-term-heading a{text-decoration:none}#alohaBuyBoxUS_feature_div #alohaBuyBoxWidget .annual-contract-box .a-icon-popover{display:none}#alohaBuyBoxUS_feature_div #alohaBuyBoxWidget .contract-container .annual-contract-box{cursor:pointer;cursor:hand}#alohaBuyBoxUS_feature_div #alohaBuyBoxWidget .aloha-buybox-price{font-size:15px}#alohaBuyBoxUS_feature_div #alohaBuyBoxWidget #linkOffSection a{text-decoration:none}#alohaBuyBoxUS_feature_div .lockedUsedBuyboxContainer{padding-left:3.5%}#alohaBuyBoxUS_feature_div .alohaBuyboxUtilsNoWrap{white-space:nowrap}.hidden{display:none}.simo-no-padding{padding:0}.carrier-reviews-cell{padding-left:10px}.carrier-reviews-bordered-cell{border:1px dotted #ccc}.carrier-reviews-selected-cell{background-color:#ffd}#aloha-carrier-compatibility-modal-table-description{margin-top:10px;margin-bottom:14px}.aloha-carrier-compatibility-sortable-header.carrier{min-width:97px}.aloha-carrier-compatibility-sortable-header.compatibility{min-width:156px}.aloha-carrier-compatibility-sortable-header div{float:left}.aloha-carrier-compatibility-sortable-header i.a-icon{margin-left:10px;margin-top:4px}#aloha-carrier-compatibility-overview-table.a-bordered.a-vertical-stripes td:nth-child(2n),#aloha-carrier-compatibility-overview-table.a-bordered.a-vertical-stripes th:nth-child(2n){background-color:initial}#aloha-carrier-compatibility-modal-table.a-bordered.a-vertical-stripes td:nth-child(2n),#aloha-carrier-compatibility-modal-table.a-bordered.a-vertical-stripes th:nth-child(2n){background-color:initial}#aloha-carrier-compatibility-table.a-bordered.a-vertical-stripes th:nth-child(2n),.aloha-carrier-compatibility-table.a-bordered.a-vertical-stripes td:nth-child(2n){background-color:transparent}.aloha-carrier-compatibility-column-gray{background-color:#f6f6f6}.aloha-carrier-compatibility-modal-table-row .aloha-carrier-compatibility-tech-text,.aloha-carrier-compatibility-modal-table-row .carrier-name,.aloha-carrier-compatibility-modal-table-row .carrier-rating-summary{min-height:27px;display:inline-block;cursor:default}.aloha-carrier-compatibility-modal-table-row .aloha-carrier-compatibility-tech-text:first-line,.aloha-carrier-compatibility-modal-table-row .carrier-name:first-line,.aloha-carrier-compatibility-modal-table-row .carrier-rating-summary:first-line{line-height:27px}.aloha-carrier-compatibility-modal-table-row .aloha-carrier-compatibility-icon{margin-top:6px}.aloha-carrier-compatibility-check-icon{width:30px;height:27px;background-position:-318px -35px;background-image:url(https://images-na.ssl-images-amazon.com/images/G/01/AUIClients/AmazonUIBaseCSS-sprite_2x-8e7ef370dc28a214b3f490c9620f4ac501d5a864._V2_.png);background-repeat:no-repeat;background-size:400px 650px;display:inline-block;vertical-align:top}.aloha-carrier-compatibility-hidden{display:none}.aloha-buybox-spaced-link{margin-top:12px;margin-bottom:7px;text-align:center}.popover-tab']\n",
    "\n",
    "error5 = pd.concat([error3,error4])\n",
    "error5\n",
    "for i in (error5.index):\n",
    "    if error5['category'][i] == 1:\n",
    "        error5['price'][i] = mean_pop2\n",
    "    if error5['category'][i] == 2:\n",
    "        error5['price'][i] = mean_alt2\n",
    "    if error5['category'][i] == 3:\n",
    "        error5['price'][i] = mean_j2\n",
    "    if error5['category'][i] == 4:\n",
    "        error5['price'][i] = mean_class2\n",
    "    if error5['category'][i] == 5:\n",
    "        error5['price'][i] = mean_dac2\n",
    "######\n",
    "df_test = pd.concat([df_test2,error5]).sort_index()\n",
    "\n",
    "\n"
   ]
  },
  {
   "cell_type": "code",
   "execution_count": null,
   "metadata": {
    "id": "GC-06oBVemQt"
   },
   "outputs": [],
   "source": [
    "df_train['reviewText']\n",
    "separator = ' '\n",
    "text_train = []\n",
    "for i in range(len(df_train['reviewText'])):\n",
    "    text_train.append(separator.join(df_train['reviewText'].iloc[i]))\n",
    "\n",
    "df_train['reviewText'] = text_train"
   ]
  },
  {
   "cell_type": "code",
   "execution_count": null,
   "metadata": {
    "id": "WkgZH1ixemQu"
   },
   "outputs": [],
   "source": [
    "df_train['summary']\n",
    "separator = ' '\n",
    "text_train = []\n",
    "for i in range(len(df_train['summary'])):\n",
    "    text_train.append(separator.join(df_train['summary'].iloc[i]))\n",
    "\n",
    "df_train['summary'] = text_train"
   ]
  },
  {
   "cell_type": "code",
   "execution_count": null,
   "metadata": {
    "colab": {
     "base_uri": "https://localhost:8080/",
     "height": 204
    },
    "id": "ubeFUzaeemQu",
    "outputId": "d2751780-bbb0-4235-ebb1-fcdb7cb09c9f"
   },
   "outputs": [
    {
     "data": {
      "text/html": [
       "<div>\n",
       "<style scoped>\n",
       "    .dataframe tbody tr th:only-of-type {\n",
       "        vertical-align: middle;\n",
       "    }\n",
       "\n",
       "    .dataframe tbody tr th {\n",
       "        vertical-align: top;\n",
       "    }\n",
       "\n",
       "    .dataframe thead th {\n",
       "        text-align: right;\n",
       "    }\n",
       "</style>\n",
       "<table border=\"1\" class=\"dataframe\">\n",
       "  <thead>\n",
       "    <tr style=\"text-align: right;\">\n",
       "      <th></th>\n",
       "      <th>index</th>\n",
       "      <th>overall</th>\n",
       "      <th>reviewTime</th>\n",
       "      <th>reviewerID</th>\n",
       "      <th>reviewText</th>\n",
       "      <th>summary</th>\n",
       "      <th>unixReviewTime</th>\n",
       "      <th>category</th>\n",
       "      <th>price</th>\n",
       "      <th>itemID</th>\n",
       "    </tr>\n",
       "  </thead>\n",
       "  <tbody>\n",
       "    <tr>\n",
       "      <th>0</th>\n",
       "      <td>0</td>\n",
       "      <td>5.0</td>\n",
       "      <td>2014-08-26</td>\n",
       "      <td>u92990698</td>\n",
       "      <td>contemporary jazz soul performer who made twod...</td>\n",
       "      <td>classique</td>\n",
       "      <td>1409011200</td>\n",
       "      <td>2</td>\n",
       "      <td>8.4</td>\n",
       "      <td>p23649501</td>\n",
       "    </tr>\n",
       "    <tr>\n",
       "      <th>1</th>\n",
       "      <td>1</td>\n",
       "      <td>5.0</td>\n",
       "      <td>2003-05-11</td>\n",
       "      <td>u36200649</td>\n",
       "      <td>good idea put pop orchestral music matrix relo...</td>\n",
       "      <td>exceeded expectation album rawks</td>\n",
       "      <td>1052611200</td>\n",
       "      <td>1</td>\n",
       "      <td>10.98</td>\n",
       "      <td>p58458313</td>\n",
       "    </tr>\n",
       "    <tr>\n",
       "      <th>2</th>\n",
       "      <td>2</td>\n",
       "      <td>5.0</td>\n",
       "      <td>2017-12-05</td>\n",
       "      <td>u10721702</td>\n",
       "      <td>great collection carole king song</td>\n",
       "      <td>musthave carole king fan</td>\n",
       "      <td>1512432000</td>\n",
       "      <td>0</td>\n",
       "      <td>5.99</td>\n",
       "      <td>p97027626</td>\n",
       "    </tr>\n",
       "    <tr>\n",
       "      <th>3</th>\n",
       "      <td>3</td>\n",
       "      <td>5.0</td>\n",
       "      <td>2013-09-24</td>\n",
       "      <td>u86003775</td>\n",
       "      <td>album brilliant piece jazz fusion start finish...</td>\n",
       "      <td>master piece</td>\n",
       "      <td>1379980800</td>\n",
       "      <td>2</td>\n",
       "      <td>14.64</td>\n",
       "      <td>p43167086</td>\n",
       "    </tr>\n",
       "    <tr>\n",
       "      <th>4</th>\n",
       "      <td>4</td>\n",
       "      <td>5.0</td>\n",
       "      <td>2015-01-14</td>\n",
       "      <td>u25672859</td>\n",
       "      <td>waited long time dvd released watching yearold...</td>\n",
       "      <td>especially like concert video</td>\n",
       "      <td>1421193600</td>\n",
       "      <td>1</td>\n",
       "      <td>9.92</td>\n",
       "      <td>p94494236</td>\n",
       "    </tr>\n",
       "  </tbody>\n",
       "</table>\n",
       "</div>"
      ],
      "text/plain": [
       "   index  overall reviewTime  ... category  price     itemID\n",
       "0      0      5.0 2014-08-26  ...        2    8.4  p23649501\n",
       "1      1      5.0 2003-05-11  ...        1  10.98  p58458313\n",
       "2      2      5.0 2017-12-05  ...        0   5.99  p97027626\n",
       "3      3      5.0 2013-09-24  ...        2  14.64  p43167086\n",
       "4      4      5.0 2015-01-14  ...        1   9.92  p94494236\n",
       "\n",
       "[5 rows x 10 columns]"
      ]
     },
     "execution_count": 12,
     "metadata": {
      "tags": []
     },
     "output_type": "execute_result"
    }
   ],
   "source": [
    "df_train.head()"
   ]
  },
  {
   "cell_type": "markdown",
   "metadata": {
    "id": "R1ryKgwSemQv"
   },
   "source": [
    "# 3. Model Implementation"
   ]
  },
  {
   "cell_type": "markdown",
   "metadata": {
    "id": "Cukf4GK5emQv"
   },
   "source": [
    "## 3.1. Support Vector Machine"
   ]
  },
  {
   "cell_type": "code",
   "execution_count": null,
   "metadata": {
    "id": "Vl4Rjk-bemQv",
    "outputId": "41a9c5d6-d480-4e5e-e5fd-4a6a0fa850ca"
   },
   "outputs": [
    {
     "data": {
      "text/plain": [
       "0         contemporary jazz soul performer who made twod...\n",
       "1         good idea put pop orchestral music matrix relo...\n",
       "2         great collection carole king songmusthave caro...\n",
       "3         album brilliant piece jazz fusion start finish...\n",
       "4         waited long time dvd released watching yearold...\n",
       "                                ...                        \n",
       "149944    something wesley voice make swoon little bit v...\n",
       "149945    many recording verdi requiem oftenasked questi...\n",
       "149946    best overall album revisionist fallout followi...\n",
       "149947    believe upon time artist like enchantment coul...\n",
       "149948    mokenstefs album must wan na mellow chill favo...\n",
       "Name: comb, Length: 149949, dtype: object"
      ]
     },
     "execution_count": 21,
     "metadata": {
      "tags": []
     },
     "output_type": "execute_result"
    }
   ],
   "source": [
    "train = df_train\n",
    "train['review_str'] = train['reviewText'].str.join(' ')\n",
    "train['summary'] = train['summary'].str.join(' ')\n",
    "train['comb'] = train['review_str'] + train['summary']\n",
    "y = train['overall'].astype(int)\n",
    "X = train['comb']\n",
    "#X = train.drop(columns = ['index', 'summary','overall','reviewTime','reviewerID','unixReviewTime','itemID', 'reviewText', 'category', 'price'],axis = 1)\n",
    "#train = train.drop(coumns = ['overall','reviewTime','reviewerID','unixReviewTime','itemID'])\n",
    "#train = train.drop(columns = ['category', 'price'])\n",
    "#train['review_str'] = train['reviewText'].str().join(' ')\n",
    "X"
   ]
  },
  {
   "cell_type": "code",
   "execution_count": null,
   "metadata": {
    "id": "0psDH09IemQv",
    "outputId": "92509a3d-4f76-4be6-d80a-fc9b6d4c41fe"
   },
   "outputs": [
    {
     "data": {
      "text/plain": [
       "'since ok computer radiohead lot deal anyone watched meeting people easy dvd know quite im getting say hectic time band hard beleive coming year since album came wow fan modern music would knowthis one missed radiohead fan die hard one become enamoured thsi recording calling greatest time im sre sonically deviation ordinary true marvel group pulled opening track grew mind blowing title track lull serene complacency idm world show whole new radiohead national anthem classic piece experimental punk lead listener great height excite horn fuzzy yet catchy hell bassline thom yorke made disappear string exploit similar climbing wall ok computer excels one mere grandiosity make cutw look le like frightening song child tune comparison treefingers quite possibly alluring piece music ive heard arent synthesizer guitar fed sampler played ed maniplulated thom tell insane fluctuation frequency optimistic gorgeous ballad tribal sounding drum organic lush gutiars thom yourkes vocal making sway excitement gorgeous song overall underrated suprisingly say limbo one track people ask kid hate dont know genius amazing composition colins bassline leading way drifting guitar idioteque glorious example cliched catchy groovy idm using sample paul lansky tune mild und leise morning bell pretty little scarysong dark melody organ sounding making thing go darker realm ending track motion picture soundtrk great song listen youre lose mind harp melody thoms deadpan vocal tow exit experience kid thanks coming return soonclassic reckoned'"
      ]
     },
     "execution_count": 22,
     "metadata": {
      "tags": []
     },
     "output_type": "execute_result"
    }
   ],
   "source": [
    "X[5]"
   ]
  },
  {
   "cell_type": "code",
   "execution_count": null,
   "metadata": {
    "id": "y_6X-gDAemQv"
   },
   "outputs": [],
   "source": [
    "#from sklearn.model_selection import StratifiedShuffleSplit\n",
    "#X_train,X_test,y_train,y_test = train_test_split(train, label, test_size=0.3, random_state = 30)"
   ]
  },
  {
   "cell_type": "code",
   "execution_count": null,
   "metadata": {
    "id": "7fKjqXahemQv"
   },
   "outputs": [],
   "source": [
    "#train = pd.read_csv('Train_TFIDF.csv')\n",
    "#label = train[['overall']]\n",
    "#train = train.drop(columns = ['Unnamed: 0',\t'overall','reviewTime',\t'reviewerID','unixReviewTime','itemID'])\n",
    "#train = train.drop(columns = ['category', 'price'])"
   ]
  },
  {
   "cell_type": "code",
   "execution_count": null,
   "metadata": {
    "id": "G858r-ytemQw",
    "outputId": "34d15aff-068f-4d73-e1a9-151920959125"
   },
   "outputs": [
    {
     "name": "stdout",
     "output_type": "stream",
     "text": [
      "Fold 1: MSE: 0.719\n",
      "Fold 2: MSE: 0.717\n",
      "MSE: 0.718(0.0)\n"
     ]
    }
   ],
   "source": [
    "kf = StratifiedKFold(n_splits=2,random_state=42, shuffle=False)\n",
    "clf = svm.LinearSVR()\n",
    "kf.get_n_splits(X)\n",
    "wf_vec = CountVectorizer(max_features=800)\n",
    "tf = TfidfVectorizer(max_features=20000)\n",
    "mse = np.zeros(2)\n",
    "np_idx = 0\n",
    "\n",
    "for train_idx, test_idx in kf.split(X, y):\n",
    "    \n",
    "    X_train, X_test = X.values[train_idx], X.values[test_idx]\n",
    "    y_train, y_test = y.values[train_idx], y.values[test_idx]\n",
    "    \n",
    "    \n",
    "    X_train = tf.fit_transform(X_train)\n",
    "    X_test = tf.transform(X_test)\n",
    "    #X_train = scaler.fit_transform(X_train) #standardization after splitting to avoide early exposure of information in test set\n",
    "    #X_test = scaler.transform(X_test)\n",
    "    \n",
    "    clf.fit(X_train, y_train)\n",
    "    \n",
    "    prediction = clf.predict(X_test)\n",
    "    pred = np.round(prediction)\n",
    "    \n",
    "    MSE = mean_squared_error(y_test, pred)\n",
    "    \n",
    "    mse[np_idx] = MSE\n",
    "    \n",
    "    np_idx += 1\n",
    "    \n",
    "    print (\"Fold {}: MSE: {}\".format(np_idx, round(MSE,3)))   \n",
    "print (\"MSE: {}({})\".format(round(np.mean(mse),3),round(np.var(mse),3)))"
   ]
  },
  {
   "cell_type": "markdown",
   "metadata": {
    "id": "EVmG2W8-emQw"
   },
   "source": [
    "### Hyperparameter Tunning\n",
    "\n"
   ]
  },
  {
   "cell_type": "code",
   "execution_count": null,
   "metadata": {
    "id": "0SXuJrSnemQw",
    "outputId": "91bdc442-fc8c-4e2c-edfa-42b35bc0ac9a"
   },
   "outputs": [
    {
     "name": "stdout",
     "output_type": "stream",
     "text": [
      "C =  0.1\n",
      "Max_iter =  100\n",
      "Fold 1: testing MSE: 0.745 training mse 0.707\n",
      "Fold 2: testing MSE: 0.743 training mse 0.711\n",
      "MSE: 0.744(0.0)\n",
      "Max_iter =  1000\n",
      "Fold 1: testing MSE: 0.746 training mse 0.708\n",
      "Fold 2: testing MSE: 0.743 training mse 0.711\n",
      "MSE: 0.744(0.0)\n",
      "Max_iter =  5000\n",
      "Fold 1: testing MSE: 0.745 training mse 0.707\n",
      "Fold 2: testing MSE: 0.743 training mse 0.711\n",
      "MSE: 0.744(0.0)\n",
      "C =  0.5\n",
      "Max_iter =  100\n",
      "Fold 1: testing MSE: 0.663 training mse 0.576\n",
      "Fold 2: testing MSE: 0.66 training mse 0.572\n",
      "MSE: 0.661(0.0)\n",
      "Max_iter =  1000\n",
      "Fold 1: testing MSE: 0.663 training mse 0.576\n",
      "Fold 2: testing MSE: 0.659 training mse 0.572\n",
      "MSE: 0.661(0.0)\n",
      "Max_iter =  5000\n",
      "Fold 1: testing MSE: 0.663 training mse 0.576\n",
      "Fold 2: testing MSE: 0.659 training mse 0.572\n",
      "MSE: 0.661(0.0)\n",
      "C =  1\n",
      "Max_iter =  100\n",
      "Fold 1: testing MSE: 0.656 training mse 0.538\n",
      "Fold 2: testing MSE: 0.655 training mse 0.533\n",
      "MSE: 0.655(0.0)\n",
      "Max_iter =  1000\n",
      "Fold 1: testing MSE: 0.656 training mse 0.538\n",
      "Fold 2: testing MSE: 0.656 training mse 0.533\n",
      "MSE: 0.656(0.0)\n",
      "Max_iter =  5000\n",
      "Fold 1: testing MSE: 0.656 training mse 0.538\n",
      "Fold 2: testing MSE: 0.655 training mse 0.533\n",
      "MSE: 0.656(0.0)\n",
      "C =  1.5\n",
      "Max_iter =  100\n",
      "Fold 1: testing MSE: 0.658 training mse 0.518\n",
      "Fold 2: testing MSE: 0.665 training mse 0.52\n",
      "MSE: 0.661(0.0)\n",
      "Max_iter =  1000\n",
      "Fold 1: testing MSE: 0.66 training mse 0.52\n",
      "Fold 2: testing MSE: 0.661 training mse 0.516\n",
      "MSE: 0.661(0.0)\n",
      "Max_iter =  5000\n",
      "Fold 1: testing MSE: 0.66 training mse 0.52\n",
      "Fold 2: testing MSE: 0.661 training mse 0.516\n",
      "MSE: 0.66(0.0)\n",
      "C =  2\n",
      "Max_iter =  100\n",
      "Fold 1: testing MSE: 0.666 training mse 0.51\n",
      "Fold 2: testing MSE: 0.673 training mse 0.51\n",
      "MSE: 0.67(0.0)\n",
      "Max_iter =  1000\n",
      "Fold 1: testing MSE: 0.666 training mse 0.51\n",
      "Fold 2: testing MSE: 0.668 training mse 0.505\n",
      "MSE: 0.667(0.0)\n",
      "Max_iter =  5000\n",
      "Fold 1: testing MSE: 0.666 training mse 0.51\n",
      "Fold 2: testing MSE: 0.668 training mse 0.505\n",
      "MSE: 0.667(0.0)\n"
     ]
    }
   ],
   "source": [
    "\n",
    "kf.get_n_splits(X)\n",
    "wf_vec = CountVectorizer(max_features=800)\n",
    "tf = TfidfVectorizer(max_features=20000)\n",
    "\n",
    "C_list = [0.1, 0.5,1, 1.5, 2]\n",
    "iter_list = [100, 1000, 5000]\n",
    "for c in C_list:\n",
    "    print('C = ', c)\n",
    "    for i in iter_list:\n",
    "        print('Max_iter = ', i)\n",
    "        mse = np.zeros(2)\n",
    "        np_idx = 0\n",
    "        for train_idx, test_idx in kf.split(X, y):\n",
    "            X_train, X_test = X.values[train_idx], X.values[test_idx]\n",
    "            y_train, y_test = y.values[train_idx], y.values[test_idx]\n",
    "    \n",
    "    \n",
    "            X_train = tf.fit_transform(X_train)\n",
    "            X_test = tf.transform(X_test)\n",
    "\n",
    "    \n",
    "            clf = svm.LinearSVR(C = c, max_iter = i)\n",
    "            clf.fit(X_train, y_train)\n",
    "    \n",
    "            prediction = clf.predict(X_test)\n",
    "            #pred = np.round(prediction)\n",
    "        \n",
    "            prediction_train = clf.predict(X_train)\n",
    "            #pred_train = np.round(prediction_train)\n",
    "    \n",
    "            MSE = mean_squared_error(y_test, prediction)\n",
    "            trainMSE = mean_squared_error(y_train, prediction_train)\n",
    "    \n",
    "            mse[np_idx] = MSE\n",
    "    \n",
    "            np_idx += 1\n",
    "         \n",
    "        \n",
    "            print (\"Fold {}: testing MSE: {}\".format(np_idx, round(MSE,3)), 'training mse', round(trainMSE,3))  \n",
    "        print (\"MSE: {}({})\".format(round(np.mean(mse),3),round(np.var(mse),3)))"
   ]
  },
  {
   "cell_type": "markdown",
   "metadata": {
    "id": "1BLM8D-semQw"
   },
   "source": [
    "## 3.1.2 Random Forest"
   ]
  },
  {
   "cell_type": "code",
   "execution_count": null,
   "metadata": {
    "id": "spsYDz29emQw"
   },
   "outputs": [],
   "source": [
    "y = df_train['overall'].astype('int')\n",
    "X = df_train.drop(['summary', 'overall','index','reviewTime','reviewerID','unixReviewTime','itemID', 'category', \n",
    "                   'price'],axis = 1)"
   ]
  },
  {
   "cell_type": "code",
   "execution_count": null,
   "metadata": {
    "id": "NrELQPZhemQw"
   },
   "outputs": [],
   "source": [
    "# reviewText\n",
    "vectorizer_tf = TfidfVectorizer(max_features=15000, use_idf = True, smooth_idf=True, norm=None)\n",
    "\n",
    "X_train, X_test, y_train, y_test = train_test_split(X['reviewText'], y, test_size=0.2, random_state=1, stratify=y)\n",
    "X_train = vectorizer_tf.fit_transform(X_train)\n",
    "X_test = vectorizer_tf.transform(X_test)"
   ]
  },
  {
   "cell_type": "code",
   "execution_count": null,
   "metadata": {
    "id": "9vBmvl6gemQx",
    "outputId": "d3ec6d35-ae41-494f-c6b2-e888630c0596"
   },
   "outputs": [
    {
     "name": "stdout",
     "output_type": "stream",
     "text": [
      "Train MSE: 0.42119287132562877\n",
      "Validation MSE: 0.7323515276613298\n"
     ]
    }
   ],
   "source": [
    "# Random Forest regressor\n",
    "model = RandomForestRegressor(max_depth=50, \n",
    "                              n_estimators=150,\n",
    "                              min_samples_split = 20)\n",
    "model.fit(X_train, y_train)\n",
    "\n",
    "y_train_pred = model.predict(X_train)\n",
    "print(f'Train MSE: {mean_squared_error(y_train, y_train_pred)}')\n",
    "\n",
    "y_pred = model.predict(X_test)\n",
    "print(f'Validation MSE: {mean_squared_error(y_test, y_pred)}')"
   ]
  },
  {
   "cell_type": "markdown",
   "metadata": {
    "id": "HwaqY5rcemQx"
   },
   "source": [
    "## 3.1.3 Naive Bayes"
   ]
  },
  {
   "cell_type": "code",
   "execution_count": null,
   "metadata": {
    "id": "5gub6kw1emQx"
   },
   "outputs": [],
   "source": [
    "y = df_train['overall'].astype('int')\n",
    "X = df_train.drop(['overall','index','reviewTime','reviewerID','unixReviewTime','itemID'],axis = 1)\n",
    "vectorizer = TfidfVectorizer(max_features=800)\n",
    "\n",
    "from sklearn.model_selection import StratifiedKFold\n",
    "from sklearn.metrics import mean_squared_error\n",
    "from sklearn.naive_bayes import MultinomialNB\n",
    "\n",
    "multinomial_nb = MultinomialNB(alpha=0.01)\n",
    "\n",
    "skf = StratifiedKFold(n_splits=5, shuffle=True, random_state=1)\n",
    "mse_train_list = []\n",
    "mse_test_list  = []  \n",
    "\n",
    "for train_index, val_index in skf.split(X, y):\n",
    "    # Select rows\n",
    "    X_train1, X_val1 = X.iloc[train_index], X.iloc[val_index]\n",
    "    y_train1, y_val1 = y.iloc[train_index], y.iloc[val_index]\n",
    "    \n",
    "    text_train = vectorizer.fit_transform(X_train1['reviewText']).toarray()\n",
    "    sum_train = vectorizer.fit_transform(X_train1['summary']).toarray()\n",
    "    text_val = vectorizer.transform(X_val1['reviewText']).toarray()\n",
    "    sum_val = vectorizer.transform(X_val1['summary']).toarray()\n",
    "    \n",
    "    text_train = pd.DataFrame(text_train)\n",
    "    sum_train = pd.DataFrame(sum_train)\n",
    "    word_train = pd.concat([text_train,sum_train],axis = 1)\n",
    "    text_test = pd.DataFrame(text_val)\n",
    "    sum_test = pd.DataFrame(sum_val)\n",
    "    word_test = pd.concat([text_test,sum_test],axis = 1)\n",
    "    \n",
    "    # Fit model and compute mse for training and testing set\n",
    "    nb = multinomial_nb.fit(word_train, y_train1)\n",
    "    y_pred_train = nb.predict(word_train)\n",
    "    mse_train = mean_squared_error(y_train1,y_pred_train)\n",
    "    y_pred_test = nb.predict(word_test)\n",
    "    mse_test = mean_squared_error(y_val1,y_pred_test)\n",
    "    mse_train_list.append(mse_train)\n",
    "    mse_test_list.append(mse_test)"
   ]
  },
  {
   "cell_type": "code",
   "execution_count": null,
   "metadata": {
    "id": "rkpO4ff_emQx",
    "outputId": "cb656df8-9926-4cee-fbde-19445730b3d3"
   },
   "outputs": [
    {
     "name": "stdout",
     "output_type": "stream",
     "text": [
      "Train MSE for Navie Bayes 0.9565518915305955\n",
      "Test MSE for Navie Bayes 1.1034151991108532\n"
     ]
    }
   ],
   "source": [
    "print('Train MSE for Navie Bayes', np.mean(mse_train_list))\n",
    "print('Test MSE for Navie Bayes', np.mean(mse_test_list))"
   ]
  },
  {
   "cell_type": "markdown",
   "metadata": {
    "id": "JFxa43I4euOl"
   },
   "source": [
    "## 3.1.4 Extra-Tree Regressor"
   ]
  },
  {
   "cell_type": "code",
   "execution_count": null,
   "metadata": {
    "id": "mUKhWmLDfQZp"
   },
   "outputs": [],
   "source": [
    "y = df_train['overall'].astype('int')\n",
    "X = df_train.drop(['summary', 'overall','index','reviewTime','reviewerID','unixReviewTime','itemID', 'category', \n",
    "                   'price'],axis = 1)"
   ]
  },
  {
   "cell_type": "code",
   "execution_count": null,
   "metadata": {
    "id": "FnTmvREnfVRN"
   },
   "outputs": [],
   "source": [
    "# reviewText\n",
    "vectorizer_tf = TfidfVectorizer(max_features=1200, use_idf = True, smooth_idf=True, norm=None)\n",
    "\n",
    "X_train, X_test, y_train, y_test = train_test_split(X['reviewText'], y, test_size=0.2, random_state=1, stratify=y)\n",
    "X_train = vectorizer_tf.fit_transform(X_train)\n",
    "X_test = vectorizer_tf.transform(X_test)"
   ]
  },
  {
   "cell_type": "code",
   "execution_count": null,
   "metadata": {
    "colab": {
     "base_uri": "https://localhost:8080/"
    },
    "id": "54QP8PNle3S0",
    "outputId": "633f4041-5794-48a4-f40b-6dbe2cdbc7fa"
   },
   "outputs": [
    {
     "name": "stdout",
     "output_type": "stream",
     "text": [
      "tuned hpyerparameters of best parameters)  {'criterion': 'gini', 'max_depth': 17, 'max_features': 'sqrt', 'n_estimators': 40}\n",
      "train accuracy: 0.6708792170658309\n",
      "test accuracy: 0.6547849283094365\n",
      "MSE: 1.3425808602867622\n"
     ]
    }
   ],
   "source": [
    "cv_params = {   \n",
    "    'n_estimators':range(20,81,10),\n",
    "    'criterion': ['gini', 'entropy'],\n",
    "    'max_features': ['sqrt','log2'],\n",
    "    'max_depth': range(5, 20, 3),\n",
    "}\n",
    "\n",
    "ExtraTree_hp =  ExtraTreesClassifier()\n",
    "log_ExtraTree = GridSearchCV(ExtraTree_hp, cv_params ,cv=5)\n",
    "log_ExtraTree.fit(X_train,y_train)\n",
    "ExtraTree_gridsearch = log_ExtraTree.best_estimator_#Find the best model with the optimal parameters\n",
    "ExtraTree_gridsearch.fit(X_train,y_train)#Train the best model with training dataset\n",
    "train_accuracy = accuracy_score(y_train, ExtraTree_gridsearch.predict(X_train))#Determine the training accuracy of the best model\n",
    "test_accuracy = accuracy_score(y_test, ExtraTree_gridsearch.predict(X_test))#Determine the testing accuracy of the best model\n",
    "print(\"tuned hpyerparameters of best parameters) \",log_ExtraTree.best_params_)\n",
    "print(\"train accuracy:\", train_accuracy)\n",
    "print(\"test accuracy:\", test_accuracy)\n",
    "\n",
    "y_pred = log_ExtraTree.predict(X_test)\n",
    "print(f'MSE: {mean_squared_error(y_test, y_pred)}')"
   ]
  },
  {
   "cell_type": "code",
   "execution_count": null,
   "metadata": {
    "colab": {
     "base_uri": "https://localhost:8080/"
    },
    "id": "wbXKoOyNfsUX",
    "outputId": "75c9e098-4426-45b3-c647-f9599fc7186a"
   },
   "outputs": [
    {
     "name": "stdout",
     "output_type": "stream",
     "text": [
      "tuned hpyerparameters of best parameters)  {'criterion': 'gini', 'max_depth': 17, 'max_features': 'sqrt', 'n_estimators': 40}\n",
      "train accuracy: 0.6709208979734743\n",
      "test accuracy: 0.6549516505501833\n",
      "MSE_train: 1.3039121699914138\n",
      "MSE_test: 1.341513837945982\n"
     ]
    }
   ],
   "source": [
    "#Use the best parameters we got from above\n",
    "ExtraTree_hp =  ExtraTreesClassifier(criterion='gini', max_depth=17, max_features='sqrt', n_estimators=40)\n",
    "log_ExtraTree = GridSearchCV(ExtraTree_hp, cv_params ,cv=5)\n",
    "log_ExtraTree.fit(X_train,y_train)\n",
    "ExtraTree_gridsearch = log_ExtraTree.best_estimator_#Find the best model with the optimal parameters\n",
    "ExtraTree_gridsearch.fit(X_train,y_train)#Train the best model with training dataset\n",
    "train_accuracy = accuracy_score(y_train, ExtraTree_gridsearch.predict(X_train))#Determine the training accuracy of the best model\n",
    "test_accuracy = accuracy_score(y_test, ExtraTree_gridsearch.predict(X_test))#Determine the testing accuracy of the best model\n",
    "print(\"tuned hpyerparameters of best parameters) \",log_ExtraTree.best_params_)\n",
    "print(\"train accuracy:\", train_accuracy)\n",
    "print(\"test accuracy:\", test_accuracy)\n",
    "\n",
    "y_pred_train = log_ExtraTree.predict(X_train)\n",
    "print(f'MSE_train: {mean_squared_error(y_train, y_pred_train)}')\n",
    "y_pred_test = log_ExtraTree.predict(X_test)\n",
    "print(f'MSE_test: {mean_squared_error(y_test, y_pred_test)}')"
   ]
  },
  {
   "cell_type": "markdown",
   "metadata": {
    "id": "2wG5ARY7-xxa"
   },
   "source": [
    "## 3.1.5 Light GBM"
   ]
  },
  {
   "cell_type": "code",
   "execution_count": null,
   "metadata": {
    "colab": {
     "base_uri": "https://localhost:8080/"
    },
    "id": "2z8M_8Hb-zGO",
    "outputId": "bbafa034-43e7-42d7-9924-eb47db1bc62a"
   },
   "outputs": [
    {
     "name": "stdout",
     "output_type": "stream",
     "text": [
      "[1]\ttraining's l2: 0.967479\tvalid_1's l2: 0.965361\n",
      "Training until validation scores don't improve for 5 rounds.\n",
      "[2]\ttraining's l2: 0.943139\tvalid_1's l2: 0.942912\n",
      "[3]\ttraining's l2: 0.922386\tvalid_1's l2: 0.923332\n",
      "[4]\ttraining's l2: 0.903797\tvalid_1's l2: 0.90583\n",
      "[5]\ttraining's l2: 0.886168\tvalid_1's l2: 0.88939\n",
      "[6]\ttraining's l2: 0.870653\tvalid_1's l2: 0.874848\n",
      "[7]\ttraining's l2: 0.857198\tvalid_1's l2: 0.862541\n",
      "[8]\ttraining's l2: 0.843773\tvalid_1's l2: 0.85016\n",
      "[9]\ttraining's l2: 0.830662\tvalid_1's l2: 0.838119\n",
      "[10]\ttraining's l2: 0.816784\tvalid_1's l2: 0.825211\n",
      "[11]\ttraining's l2: 0.804203\tvalid_1's l2: 0.813853\n",
      "[12]\ttraining's l2: 0.794632\tvalid_1's l2: 0.805362\n",
      "[13]\ttraining's l2: 0.784809\tvalid_1's l2: 0.796303\n",
      "[14]\ttraining's l2: 0.776474\tvalid_1's l2: 0.788907\n",
      "[15]\ttraining's l2: 0.76892\tvalid_1's l2: 0.78274\n",
      "[16]\ttraining's l2: 0.761229\tvalid_1's l2: 0.775507\n",
      "[17]\ttraining's l2: 0.7537\tvalid_1's l2: 0.769158\n",
      "[18]\ttraining's l2: 0.745919\tvalid_1's l2: 0.762229\n",
      "[19]\ttraining's l2: 0.739679\tvalid_1's l2: 0.757233\n",
      "[20]\ttraining's l2: 0.733439\tvalid_1's l2: 0.751888\n",
      "[21]\ttraining's l2: 0.727846\tvalid_1's l2: 0.747657\n",
      "[22]\ttraining's l2: 0.72222\tvalid_1's l2: 0.742585\n",
      "[23]\ttraining's l2: 0.716726\tvalid_1's l2: 0.738138\n",
      "[24]\ttraining's l2: 0.711516\tvalid_1's l2: 0.734333\n",
      "[25]\ttraining's l2: 0.706104\tvalid_1's l2: 0.729358\n",
      "[26]\ttraining's l2: 0.701911\tvalid_1's l2: 0.72604\n",
      "[27]\ttraining's l2: 0.697299\tvalid_1's l2: 0.722679\n",
      "[28]\ttraining's l2: 0.693033\tvalid_1's l2: 0.719026\n",
      "[29]\ttraining's l2: 0.688808\tvalid_1's l2: 0.715549\n",
      "[30]\ttraining's l2: 0.685174\tvalid_1's l2: 0.713037\n",
      "[31]\ttraining's l2: 0.681337\tvalid_1's l2: 0.710228\n",
      "[32]\ttraining's l2: 0.677355\tvalid_1's l2: 0.707193\n",
      "[33]\ttraining's l2: 0.674043\tvalid_1's l2: 0.704529\n",
      "[34]\ttraining's l2: 0.670449\tvalid_1's l2: 0.701331\n",
      "[35]\ttraining's l2: 0.667159\tvalid_1's l2: 0.698663\n",
      "[36]\ttraining's l2: 0.663944\tvalid_1's l2: 0.695976\n",
      "[37]\ttraining's l2: 0.660926\tvalid_1's l2: 0.69381\n",
      "[38]\ttraining's l2: 0.658029\tvalid_1's l2: 0.691676\n",
      "[39]\ttraining's l2: 0.655025\tvalid_1's l2: 0.688932\n",
      "[40]\ttraining's l2: 0.652549\tvalid_1's l2: 0.687007\n",
      "[41]\ttraining's l2: 0.649788\tvalid_1's l2: 0.68466\n",
      "[42]\ttraining's l2: 0.647185\tvalid_1's l2: 0.682995\n",
      "[43]\ttraining's l2: 0.644692\tvalid_1's l2: 0.681174\n",
      "[44]\ttraining's l2: 0.642401\tvalid_1's l2: 0.679513\n",
      "[45]\ttraining's l2: 0.640135\tvalid_1's l2: 0.677883\n",
      "[46]\ttraining's l2: 0.637765\tvalid_1's l2: 0.676219\n",
      "[47]\ttraining's l2: 0.635602\tvalid_1's l2: 0.674893\n",
      "[48]\ttraining's l2: 0.633417\tvalid_1's l2: 0.673479\n",
      "[49]\ttraining's l2: 0.631277\tvalid_1's l2: 0.671939\n",
      "[50]\ttraining's l2: 0.629214\tvalid_1's l2: 0.670395\n",
      "[51]\ttraining's l2: 0.627161\tvalid_1's l2: 0.668821\n",
      "[52]\ttraining's l2: 0.62533\tvalid_1's l2: 0.667549\n",
      "[53]\ttraining's l2: 0.623289\tvalid_1's l2: 0.666241\n",
      "[54]\ttraining's l2: 0.6213\tvalid_1's l2: 0.664883\n",
      "[55]\ttraining's l2: 0.619413\tvalid_1's l2: 0.663623\n",
      "[56]\ttraining's l2: 0.617656\tvalid_1's l2: 0.662586\n",
      "[57]\ttraining's l2: 0.615912\tvalid_1's l2: 0.661638\n",
      "[58]\ttraining's l2: 0.614112\tvalid_1's l2: 0.660253\n",
      "[59]\ttraining's l2: 0.612211\tvalid_1's l2: 0.65887\n",
      "[60]\ttraining's l2: 0.610592\tvalid_1's l2: 0.657897\n",
      "[61]\ttraining's l2: 0.609154\tvalid_1's l2: 0.656915\n",
      "[62]\ttraining's l2: 0.607563\tvalid_1's l2: 0.656197\n",
      "[63]\ttraining's l2: 0.606088\tvalid_1's l2: 0.655486\n",
      "[64]\ttraining's l2: 0.604573\tvalid_1's l2: 0.654672\n",
      "[65]\ttraining's l2: 0.603041\tvalid_1's l2: 0.653851\n",
      "[66]\ttraining's l2: 0.601587\tvalid_1's l2: 0.653218\n",
      "[67]\ttraining's l2: 0.600136\tvalid_1's l2: 0.652469\n",
      "[68]\ttraining's l2: 0.598612\tvalid_1's l2: 0.651503\n",
      "[69]\ttraining's l2: 0.597186\tvalid_1's l2: 0.650548\n",
      "[70]\ttraining's l2: 0.595792\tvalid_1's l2: 0.649575\n",
      "[71]\ttraining's l2: 0.594373\tvalid_1's l2: 0.648639\n",
      "[72]\ttraining's l2: 0.593055\tvalid_1's l2: 0.647918\n",
      "[73]\ttraining's l2: 0.591721\tvalid_1's l2: 0.647064\n",
      "[74]\ttraining's l2: 0.590411\tvalid_1's l2: 0.646431\n",
      "[75]\ttraining's l2: 0.589114\tvalid_1's l2: 0.645866\n",
      "[76]\ttraining's l2: 0.587879\tvalid_1's l2: 0.645172\n",
      "[77]\ttraining's l2: 0.586649\tvalid_1's l2: 0.644451\n",
      "[78]\ttraining's l2: 0.585429\tvalid_1's l2: 0.643694\n",
      "[79]\ttraining's l2: 0.584253\tvalid_1's l2: 0.64297\n",
      "[80]\ttraining's l2: 0.583074\tvalid_1's l2: 0.642221\n",
      "[81]\ttraining's l2: 0.581958\tvalid_1's l2: 0.641594\n",
      "[82]\ttraining's l2: 0.580813\tvalid_1's l2: 0.641022\n",
      "[83]\ttraining's l2: 0.579728\tvalid_1's l2: 0.640461\n",
      "[84]\ttraining's l2: 0.578483\tvalid_1's l2: 0.640094\n",
      "[85]\ttraining's l2: 0.577409\tvalid_1's l2: 0.639453\n",
      "[86]\ttraining's l2: 0.576296\tvalid_1's l2: 0.638912\n",
      "[87]\ttraining's l2: 0.575275\tvalid_1's l2: 0.638276\n",
      "[88]\ttraining's l2: 0.574239\tvalid_1's l2: 0.637557\n",
      "[89]\ttraining's l2: 0.573188\tvalid_1's l2: 0.636764\n",
      "[90]\ttraining's l2: 0.572081\tvalid_1's l2: 0.63603\n",
      "[91]\ttraining's l2: 0.571052\tvalid_1's l2: 0.635436\n",
      "[92]\ttraining's l2: 0.570041\tvalid_1's l2: 0.634908\n",
      "[93]\ttraining's l2: 0.569059\tvalid_1's l2: 0.634395\n",
      "[94]\ttraining's l2: 0.568075\tvalid_1's l2: 0.633958\n",
      "[95]\ttraining's l2: 0.567096\tvalid_1's l2: 0.633576\n",
      "[96]\ttraining's l2: 0.56614\tvalid_1's l2: 0.633087\n",
      "[97]\ttraining's l2: 0.565242\tvalid_1's l2: 0.632213\n",
      "[98]\ttraining's l2: 0.564243\tvalid_1's l2: 0.631882\n",
      "[99]\ttraining's l2: 0.56335\tvalid_1's l2: 0.631208\n",
      "[100]\ttraining's l2: 0.562396\tvalid_1's l2: 0.630919\n",
      "[101]\ttraining's l2: 0.56154\tvalid_1's l2: 0.630697\n",
      "[102]\ttraining's l2: 0.560678\tvalid_1's l2: 0.63011\n",
      "[103]\ttraining's l2: 0.559782\tvalid_1's l2: 0.629749\n",
      "[104]\ttraining's l2: 0.55895\tvalid_1's l2: 0.629293\n",
      "[105]\ttraining's l2: 0.558109\tvalid_1's l2: 0.628872\n",
      "[106]\ttraining's l2: 0.557229\tvalid_1's l2: 0.628483\n",
      "[107]\ttraining's l2: 0.556434\tvalid_1's l2: 0.628196\n",
      "[108]\ttraining's l2: 0.555596\tvalid_1's l2: 0.627814\n",
      "[109]\ttraining's l2: 0.554662\tvalid_1's l2: 0.627508\n",
      "[110]\ttraining's l2: 0.553849\tvalid_1's l2: 0.627026\n",
      "[111]\ttraining's l2: 0.553084\tvalid_1's l2: 0.626511\n",
      "[112]\ttraining's l2: 0.552343\tvalid_1's l2: 0.626206\n",
      "[113]\ttraining's l2: 0.551599\tvalid_1's l2: 0.625905\n",
      "[114]\ttraining's l2: 0.550763\tvalid_1's l2: 0.625634\n",
      "[115]\ttraining's l2: 0.549997\tvalid_1's l2: 0.625274\n",
      "[116]\ttraining's l2: 0.549279\tvalid_1's l2: 0.624945\n",
      "[117]\ttraining's l2: 0.548522\tvalid_1's l2: 0.624672\n",
      "[118]\ttraining's l2: 0.547753\tvalid_1's l2: 0.624244\n",
      "[119]\ttraining's l2: 0.54704\tvalid_1's l2: 0.62385\n",
      "[120]\ttraining's l2: 0.546288\tvalid_1's l2: 0.623585\n",
      "[121]\ttraining's l2: 0.545539\tvalid_1's l2: 0.623253\n",
      "[122]\ttraining's l2: 0.544853\tvalid_1's l2: 0.622986\n",
      "[123]\ttraining's l2: 0.544159\tvalid_1's l2: 0.622797\n",
      "[124]\ttraining's l2: 0.543439\tvalid_1's l2: 0.622421\n",
      "[125]\ttraining's l2: 0.54278\tvalid_1's l2: 0.622136\n",
      "[126]\ttraining's l2: 0.542105\tvalid_1's l2: 0.621998\n",
      "[127]\ttraining's l2: 0.541437\tvalid_1's l2: 0.621713\n",
      "[128]\ttraining's l2: 0.540765\tvalid_1's l2: 0.62132\n",
      "[129]\ttraining's l2: 0.540089\tvalid_1's l2: 0.621139\n",
      "[130]\ttraining's l2: 0.53942\tvalid_1's l2: 0.62087\n",
      "[131]\ttraining's l2: 0.538793\tvalid_1's l2: 0.620762\n",
      "[132]\ttraining's l2: 0.538159\tvalid_1's l2: 0.620601\n",
      "[133]\ttraining's l2: 0.537528\tvalid_1's l2: 0.620345\n",
      "[134]\ttraining's l2: 0.536896\tvalid_1's l2: 0.620044\n",
      "[135]\ttraining's l2: 0.536196\tvalid_1's l2: 0.61968\n",
      "[136]\ttraining's l2: 0.535596\tvalid_1's l2: 0.619412\n",
      "[137]\ttraining's l2: 0.535\tvalid_1's l2: 0.619036\n",
      "[138]\ttraining's l2: 0.534369\tvalid_1's l2: 0.618805\n",
      "[139]\ttraining's l2: 0.53378\tvalid_1's l2: 0.618582\n",
      "[140]\ttraining's l2: 0.533222\tvalid_1's l2: 0.618295\n",
      "[141]\ttraining's l2: 0.532668\tvalid_1's l2: 0.617944\n",
      "[142]\ttraining's l2: 0.532089\tvalid_1's l2: 0.617801\n",
      "[143]\ttraining's l2: 0.531517\tvalid_1's l2: 0.617604\n",
      "[144]\ttraining's l2: 0.530956\tvalid_1's l2: 0.617406\n",
      "[145]\ttraining's l2: 0.530352\tvalid_1's l2: 0.617047\n",
      "[146]\ttraining's l2: 0.529728\tvalid_1's l2: 0.616812\n",
      "[147]\ttraining's l2: 0.529201\tvalid_1's l2: 0.616681\n",
      "[148]\ttraining's l2: 0.528666\tvalid_1's l2: 0.616463\n",
      "[149]\ttraining's l2: 0.528025\tvalid_1's l2: 0.616321\n",
      "[150]\ttraining's l2: 0.527471\tvalid_1's l2: 0.6162\n",
      "[151]\ttraining's l2: 0.52686\tvalid_1's l2: 0.61593\n",
      "[152]\ttraining's l2: 0.526257\tvalid_1's l2: 0.615672\n",
      "[153]\ttraining's l2: 0.525713\tvalid_1's l2: 0.61551\n",
      "[154]\ttraining's l2: 0.525139\tvalid_1's l2: 0.615259\n",
      "[155]\ttraining's l2: 0.524629\tvalid_1's l2: 0.615124\n",
      "[156]\ttraining's l2: 0.524133\tvalid_1's l2: 0.614974\n",
      "[157]\ttraining's l2: 0.523638\tvalid_1's l2: 0.614772\n",
      "[158]\ttraining's l2: 0.523082\tvalid_1's l2: 0.614632\n",
      "[159]\ttraining's l2: 0.522572\tvalid_1's l2: 0.614526\n",
      "[160]\ttraining's l2: 0.522041\tvalid_1's l2: 0.614374\n",
      "[161]\ttraining's l2: 0.52152\tvalid_1's l2: 0.614179\n",
      "[162]\ttraining's l2: 0.520797\tvalid_1's l2: 0.613999\n",
      "[163]\ttraining's l2: 0.520239\tvalid_1's l2: 0.613829\n",
      "[164]\ttraining's l2: 0.519528\tvalid_1's l2: 0.613595\n",
      "[165]\ttraining's l2: 0.519031\tvalid_1's l2: 0.613353\n",
      "[166]\ttraining's l2: 0.518527\tvalid_1's l2: 0.613161\n",
      "[167]\ttraining's l2: 0.518024\tvalid_1's l2: 0.612978\n",
      "[168]\ttraining's l2: 0.51746\tvalid_1's l2: 0.612885\n",
      "[169]\ttraining's l2: 0.516994\tvalid_1's l2: 0.612538\n",
      "[170]\ttraining's l2: 0.516436\tvalid_1's l2: 0.612419\n",
      "[171]\ttraining's l2: 0.516\tvalid_1's l2: 0.612352\n",
      "[172]\ttraining's l2: 0.515411\tvalid_1's l2: 0.612228\n",
      "[173]\ttraining's l2: 0.514963\tvalid_1's l2: 0.612121\n",
      "[174]\ttraining's l2: 0.514484\tvalid_1's l2: 0.611992\n",
      "[175]\ttraining's l2: 0.514005\tvalid_1's l2: 0.611821\n",
      "[176]\ttraining's l2: 0.513542\tvalid_1's l2: 0.611725\n",
      "[177]\ttraining's l2: 0.51309\tvalid_1's l2: 0.611528\n",
      "[178]\ttraining's l2: 0.512626\tvalid_1's l2: 0.611384\n",
      "[179]\ttraining's l2: 0.512131\tvalid_1's l2: 0.611195\n",
      "[180]\ttraining's l2: 0.51172\tvalid_1's l2: 0.611018\n",
      "[181]\ttraining's l2: 0.5112\tvalid_1's l2: 0.61095\n",
      "[182]\ttraining's l2: 0.510775\tvalid_1's l2: 0.610912\n",
      "[183]\ttraining's l2: 0.510339\tvalid_1's l2: 0.610713\n",
      "[184]\ttraining's l2: 0.509853\tvalid_1's l2: 0.61042\n",
      "[185]\ttraining's l2: 0.509215\tvalid_1's l2: 0.610384\n",
      "[186]\ttraining's l2: 0.508728\tvalid_1's l2: 0.610415\n",
      "[187]\ttraining's l2: 0.508268\tvalid_1's l2: 0.610394\n",
      "[188]\ttraining's l2: 0.507868\tvalid_1's l2: 0.610283\n",
      "[189]\ttraining's l2: 0.507424\tvalid_1's l2: 0.610083\n",
      "[190]\ttraining's l2: 0.506973\tvalid_1's l2: 0.609967\n",
      "[191]\ttraining's l2: 0.506541\tvalid_1's l2: 0.609921\n",
      "[192]\ttraining's l2: 0.506138\tvalid_1's l2: 0.609835\n",
      "[193]\ttraining's l2: 0.505557\tvalid_1's l2: 0.609624\n",
      "[194]\ttraining's l2: 0.505138\tvalid_1's l2: 0.609593\n",
      "[195]\ttraining's l2: 0.504693\tvalid_1's l2: 0.609585\n",
      "[196]\ttraining's l2: 0.504212\tvalid_1's l2: 0.609543\n",
      "[197]\ttraining's l2: 0.503813\tvalid_1's l2: 0.609424\n",
      "[198]\ttraining's l2: 0.503416\tvalid_1's l2: 0.609303\n",
      "[199]\ttraining's l2: 0.502893\tvalid_1's l2: 0.609259\n",
      "[200]\ttraining's l2: 0.502481\tvalid_1's l2: 0.609148\n",
      "[201]\ttraining's l2: 0.502037\tvalid_1's l2: 0.609083\n",
      "[202]\ttraining's l2: 0.50165\tvalid_1's l2: 0.60896\n",
      "[203]\ttraining's l2: 0.501168\tvalid_1's l2: 0.608981\n",
      "[204]\ttraining's l2: 0.50065\tvalid_1's l2: 0.608781\n",
      "[205]\ttraining's l2: 0.500277\tvalid_1's l2: 0.608549\n",
      "[206]\ttraining's l2: 0.499797\tvalid_1's l2: 0.608505\n",
      "[207]\ttraining's l2: 0.499433\tvalid_1's l2: 0.608425\n",
      "[208]\ttraining's l2: 0.499054\tvalid_1's l2: 0.608436\n",
      "[209]\ttraining's l2: 0.498619\tvalid_1's l2: 0.608282\n",
      "[210]\ttraining's l2: 0.498173\tvalid_1's l2: 0.608143\n",
      "[211]\ttraining's l2: 0.497774\tvalid_1's l2: 0.607951\n",
      "[212]\ttraining's l2: 0.497386\tvalid_1's l2: 0.607795\n",
      "[213]\ttraining's l2: 0.497009\tvalid_1's l2: 0.60772\n",
      "[214]\ttraining's l2: 0.496668\tvalid_1's l2: 0.607643\n",
      "[215]\ttraining's l2: 0.496241\tvalid_1's l2: 0.607581\n",
      "[216]\ttraining's l2: 0.495855\tvalid_1's l2: 0.607542\n",
      "[217]\ttraining's l2: 0.495378\tvalid_1's l2: 0.607418\n",
      "[218]\ttraining's l2: 0.495031\tvalid_1's l2: 0.6072\n",
      "[219]\ttraining's l2: 0.494649\tvalid_1's l2: 0.607066\n",
      "[220]\ttraining's l2: 0.494251\tvalid_1's l2: 0.606862\n",
      "[221]\ttraining's l2: 0.493895\tvalid_1's l2: 0.606885\n",
      "[222]\ttraining's l2: 0.493491\tvalid_1's l2: 0.606878\n",
      "[223]\ttraining's l2: 0.493121\tvalid_1's l2: 0.606882\n",
      "[224]\ttraining's l2: 0.492764\tvalid_1's l2: 0.606718\n",
      "[225]\ttraining's l2: 0.492369\tvalid_1's l2: 0.606664\n",
      "[226]\ttraining's l2: 0.491989\tvalid_1's l2: 0.606588\n",
      "[227]\ttraining's l2: 0.491473\tvalid_1's l2: 0.606599\n",
      "[228]\ttraining's l2: 0.491153\tvalid_1's l2: 0.606481\n",
      "[229]\ttraining's l2: 0.490743\tvalid_1's l2: 0.606424\n",
      "[230]\ttraining's l2: 0.490341\tvalid_1's l2: 0.606332\n",
      "[231]\ttraining's l2: 0.489989\tvalid_1's l2: 0.606394\n",
      "[232]\ttraining's l2: 0.489555\tvalid_1's l2: 0.606404\n",
      "[233]\ttraining's l2: 0.489018\tvalid_1's l2: 0.606367\n",
      "[234]\ttraining's l2: 0.488695\tvalid_1's l2: 0.606303\n",
      "[235]\ttraining's l2: 0.488357\tvalid_1's l2: 0.606189\n",
      "[236]\ttraining's l2: 0.48793\tvalid_1's l2: 0.606164\n",
      "[237]\ttraining's l2: 0.487508\tvalid_1's l2: 0.606104\n",
      "[238]\ttraining's l2: 0.487179\tvalid_1's l2: 0.606006\n",
      "[239]\ttraining's l2: 0.48674\tvalid_1's l2: 0.60592\n",
      "[240]\ttraining's l2: 0.486343\tvalid_1's l2: 0.605801\n",
      "[241]\ttraining's l2: 0.485981\tvalid_1's l2: 0.605681\n",
      "[242]\ttraining's l2: 0.485596\tvalid_1's l2: 0.605589\n",
      "[243]\ttraining's l2: 0.48526\tvalid_1's l2: 0.60555\n",
      "[244]\ttraining's l2: 0.484948\tvalid_1's l2: 0.60547\n",
      "[245]\ttraining's l2: 0.48457\tvalid_1's l2: 0.60532\n",
      "[246]\ttraining's l2: 0.48421\tvalid_1's l2: 0.6052\n",
      "[247]\ttraining's l2: 0.483858\tvalid_1's l2: 0.605133\n",
      "[248]\ttraining's l2: 0.483514\tvalid_1's l2: 0.60508\n",
      "[249]\ttraining's l2: 0.483143\tvalid_1's l2: 0.6049\n",
      "[250]\ttraining's l2: 0.482725\tvalid_1's l2: 0.604652\n",
      "[251]\ttraining's l2: 0.482351\tvalid_1's l2: 0.604554\n",
      "[252]\ttraining's l2: 0.481999\tvalid_1's l2: 0.604503\n",
      "[253]\ttraining's l2: 0.481679\tvalid_1's l2: 0.604501\n",
      "[254]\ttraining's l2: 0.481342\tvalid_1's l2: 0.604454\n",
      "[255]\ttraining's l2: 0.480995\tvalid_1's l2: 0.604345\n",
      "[256]\ttraining's l2: 0.48067\tvalid_1's l2: 0.604242\n",
      "[257]\ttraining's l2: 0.480237\tvalid_1's l2: 0.604138\n",
      "[258]\ttraining's l2: 0.479932\tvalid_1's l2: 0.60413\n",
      "[259]\ttraining's l2: 0.479598\tvalid_1's l2: 0.603973\n",
      "[260]\ttraining's l2: 0.479262\tvalid_1's l2: 0.603999\n",
      "[261]\ttraining's l2: 0.478874\tvalid_1's l2: 0.603934\n",
      "[262]\ttraining's l2: 0.478519\tvalid_1's l2: 0.603898\n",
      "[263]\ttraining's l2: 0.478206\tvalid_1's l2: 0.603913\n",
      "[264]\ttraining's l2: 0.477863\tvalid_1's l2: 0.603924\n",
      "[265]\ttraining's l2: 0.477532\tvalid_1's l2: 0.603941\n",
      "[266]\ttraining's l2: 0.477201\tvalid_1's l2: 0.603925\n",
      "[267]\ttraining's l2: 0.476901\tvalid_1's l2: 0.603881\n",
      "[268]\ttraining's l2: 0.476517\tvalid_1's l2: 0.603751\n",
      "[269]\ttraining's l2: 0.47621\tvalid_1's l2: 0.603654\n",
      "[270]\ttraining's l2: 0.475705\tvalid_1's l2: 0.60352\n",
      "[271]\ttraining's l2: 0.47541\tvalid_1's l2: 0.603454\n",
      "[272]\ttraining's l2: 0.475005\tvalid_1's l2: 0.603258\n",
      "[273]\ttraining's l2: 0.474737\tvalid_1's l2: 0.603317\n",
      "[274]\ttraining's l2: 0.47439\tvalid_1's l2: 0.6033\n",
      "[275]\ttraining's l2: 0.474086\tvalid_1's l2: 0.603238\n",
      "[276]\ttraining's l2: 0.473768\tvalid_1's l2: 0.603232\n",
      "[277]\ttraining's l2: 0.473462\tvalid_1's l2: 0.603266\n",
      "[278]\ttraining's l2: 0.473088\tvalid_1's l2: 0.603159\n",
      "[279]\ttraining's l2: 0.472794\tvalid_1's l2: 0.603135\n",
      "[280]\ttraining's l2: 0.472475\tvalid_1's l2: 0.603131\n",
      "[281]\ttraining's l2: 0.472184\tvalid_1's l2: 0.603119\n",
      "[282]\ttraining's l2: 0.471879\tvalid_1's l2: 0.603093\n",
      "[283]\ttraining's l2: 0.471575\tvalid_1's l2: 0.603051\n",
      "[284]\ttraining's l2: 0.471243\tvalid_1's l2: 0.603045\n",
      "[285]\ttraining's l2: 0.470891\tvalid_1's l2: 0.60296\n",
      "[286]\ttraining's l2: 0.470557\tvalid_1's l2: 0.602984\n",
      "[287]\ttraining's l2: 0.47025\tvalid_1's l2: 0.602849\n",
      "[288]\ttraining's l2: 0.469897\tvalid_1's l2: 0.602778\n",
      "[289]\ttraining's l2: 0.469598\tvalid_1's l2: 0.602786\n",
      "[290]\ttraining's l2: 0.469266\tvalid_1's l2: 0.602702\n",
      "[291]\ttraining's l2: 0.468942\tvalid_1's l2: 0.602684\n",
      "[292]\ttraining's l2: 0.468644\tvalid_1's l2: 0.602614\n",
      "[293]\ttraining's l2: 0.468344\tvalid_1's l2: 0.602548\n",
      "[294]\ttraining's l2: 0.468012\tvalid_1's l2: 0.60251\n",
      "[295]\ttraining's l2: 0.467731\tvalid_1's l2: 0.602499\n",
      "[296]\ttraining's l2: 0.467419\tvalid_1's l2: 0.602567\n",
      "[297]\ttraining's l2: 0.467126\tvalid_1's l2: 0.602497\n",
      "[298]\ttraining's l2: 0.46681\tvalid_1's l2: 0.602584\n",
      "[299]\ttraining's l2: 0.466351\tvalid_1's l2: 0.602415\n",
      "[300]\ttraining's l2: 0.466048\tvalid_1's l2: 0.602367\n",
      "[301]\ttraining's l2: 0.465761\tvalid_1's l2: 0.602429\n",
      "[302]\ttraining's l2: 0.465476\tvalid_1's l2: 0.602344\n",
      "[303]\ttraining's l2: 0.465198\tvalid_1's l2: 0.602327\n",
      "[304]\ttraining's l2: 0.464913\tvalid_1's l2: 0.602252\n",
      "[305]\ttraining's l2: 0.464628\tvalid_1's l2: 0.602238\n",
      "[306]\ttraining's l2: 0.464326\tvalid_1's l2: 0.602159\n",
      "[307]\ttraining's l2: 0.464074\tvalid_1's l2: 0.602128\n",
      "[308]\ttraining's l2: 0.463776\tvalid_1's l2: 0.60204\n",
      "[309]\ttraining's l2: 0.463475\tvalid_1's l2: 0.601986\n",
      "[310]\ttraining's l2: 0.463166\tvalid_1's l2: 0.601999\n",
      "[311]\ttraining's l2: 0.462921\tvalid_1's l2: 0.6019\n",
      "[312]\ttraining's l2: 0.462633\tvalid_1's l2: 0.601839\n",
      "[313]\ttraining's l2: 0.462223\tvalid_1's l2: 0.601792\n",
      "[314]\ttraining's l2: 0.461944\tvalid_1's l2: 0.601669\n",
      "[315]\ttraining's l2: 0.461681\tvalid_1's l2: 0.601618\n",
      "[316]\ttraining's l2: 0.461391\tvalid_1's l2: 0.601525\n",
      "[317]\ttraining's l2: 0.461047\tvalid_1's l2: 0.601591\n",
      "[318]\ttraining's l2: 0.460742\tvalid_1's l2: 0.601536\n",
      "[319]\ttraining's l2: 0.460498\tvalid_1's l2: 0.601548\n",
      "[320]\ttraining's l2: 0.460215\tvalid_1's l2: 0.601483\n",
      "[321]\ttraining's l2: 0.459951\tvalid_1's l2: 0.601414\n",
      "[322]\ttraining's l2: 0.459646\tvalid_1's l2: 0.601298\n",
      "[323]\ttraining's l2: 0.459318\tvalid_1's l2: 0.601249\n",
      "[324]\ttraining's l2: 0.459039\tvalid_1's l2: 0.60116\n",
      "[325]\ttraining's l2: 0.458795\tvalid_1's l2: 0.601087\n",
      "[326]\ttraining's l2: 0.458502\tvalid_1's l2: 0.601031\n",
      "[327]\ttraining's l2: 0.45802\tvalid_1's l2: 0.601052\n",
      "[328]\ttraining's l2: 0.457626\tvalid_1's l2: 0.600945\n",
      "[329]\ttraining's l2: 0.457337\tvalid_1's l2: 0.600986\n",
      "[330]\ttraining's l2: 0.457036\tvalid_1's l2: 0.600893\n",
      "[331]\ttraining's l2: 0.456748\tvalid_1's l2: 0.60083\n",
      "[332]\ttraining's l2: 0.456488\tvalid_1's l2: 0.60086\n",
      "[333]\ttraining's l2: 0.45623\tvalid_1's l2: 0.600824\n",
      "[334]\ttraining's l2: 0.455984\tvalid_1's l2: 0.60081\n",
      "[335]\ttraining's l2: 0.455745\tvalid_1's l2: 0.600737\n",
      "[336]\ttraining's l2: 0.455491\tvalid_1's l2: 0.600573\n",
      "[337]\ttraining's l2: 0.455217\tvalid_1's l2: 0.600515\n",
      "[338]\ttraining's l2: 0.454975\tvalid_1's l2: 0.600455\n",
      "[339]\ttraining's l2: 0.454602\tvalid_1's l2: 0.600472\n",
      "[340]\ttraining's l2: 0.454353\tvalid_1's l2: 0.600493\n",
      "[341]\ttraining's l2: 0.45411\tvalid_1's l2: 0.600395\n",
      "[342]\ttraining's l2: 0.453835\tvalid_1's l2: 0.600332\n",
      "[343]\ttraining's l2: 0.453521\tvalid_1's l2: 0.600303\n",
      "[344]\ttraining's l2: 0.45324\tvalid_1's l2: 0.600319\n",
      "[345]\ttraining's l2: 0.452984\tvalid_1's l2: 0.6003\n",
      "[346]\ttraining's l2: 0.452738\tvalid_1's l2: 0.600333\n",
      "[347]\ttraining's l2: 0.452442\tvalid_1's l2: 0.600273\n",
      "[348]\ttraining's l2: 0.452203\tvalid_1's l2: 0.600189\n",
      "[349]\ttraining's l2: 0.4518\tvalid_1's l2: 0.600078\n",
      "[350]\ttraining's l2: 0.451529\tvalid_1's l2: 0.600031\n",
      "[351]\ttraining's l2: 0.451271\tvalid_1's l2: 0.600084\n",
      "[352]\ttraining's l2: 0.450995\tvalid_1's l2: 0.59999\n",
      "[353]\ttraining's l2: 0.450695\tvalid_1's l2: 0.600006\n",
      "[354]\ttraining's l2: 0.450457\tvalid_1's l2: 0.599951\n",
      "[355]\ttraining's l2: 0.450138\tvalid_1's l2: 0.599843\n",
      "[356]\ttraining's l2: 0.449862\tvalid_1's l2: 0.599791\n",
      "[357]\ttraining's l2: 0.449617\tvalid_1's l2: 0.599703\n",
      "[358]\ttraining's l2: 0.449362\tvalid_1's l2: 0.599668\n",
      "[359]\ttraining's l2: 0.449104\tvalid_1's l2: 0.599619\n",
      "[360]\ttraining's l2: 0.448841\tvalid_1's l2: 0.599669\n",
      "[361]\ttraining's l2: 0.448585\tvalid_1's l2: 0.599613\n",
      "[362]\ttraining's l2: 0.448318\tvalid_1's l2: 0.599659\n",
      "[363]\ttraining's l2: 0.448077\tvalid_1's l2: 0.599557\n",
      "[364]\ttraining's l2: 0.447801\tvalid_1's l2: 0.599459\n",
      "[365]\ttraining's l2: 0.44756\tvalid_1's l2: 0.59938\n",
      "[366]\ttraining's l2: 0.447332\tvalid_1's l2: 0.599255\n",
      "[367]\ttraining's l2: 0.447087\tvalid_1's l2: 0.599192\n",
      "[368]\ttraining's l2: 0.446764\tvalid_1's l2: 0.599296\n",
      "[369]\ttraining's l2: 0.446513\tvalid_1's l2: 0.599284\n",
      "[370]\ttraining's l2: 0.446264\tvalid_1's l2: 0.599237\n",
      "[371]\ttraining's l2: 0.446031\tvalid_1's l2: 0.599257\n",
      "[372]\ttraining's l2: 0.445785\tvalid_1's l2: 0.599228\n",
      "Early stopping, best iteration is:\n",
      "[367]\ttraining's l2: 0.447087\tvalid_1's l2: 0.599192\n"
     ]
    },
    {
     "data": {
      "text/plain": [
       "0.5872202288931028"
      ]
     },
     "execution_count": 15,
     "metadata": {
      "tags": []
     },
     "output_type": "execute_result"
    }
   ],
   "source": [
    "param = {'metric': 'mse'}\n",
    "train_data = lgb.Dataset(X_train, label = y_train)\n",
    "validation_data = lgb.Dataset(X_val, label = y_val)\n",
    "\n",
    "bst = lgb.train(params=param, train_set=train_data, num_boost_round = 500, valid_sets=[train_data, validation_data],\n",
    "                early_stopping_rounds = 5)\n",
    "\n",
    "predict = bst.predict(X_test)\n",
    "\n",
    "from sklearn.metrics import mean_squared_error\n",
    "mean_squared_error(y_test, predict)"
   ]
  },
  {
   "cell_type": "markdown",
   "metadata": {
    "id": "Iyxwkl0zbZXq"
   },
   "source": [
    "## 3.1.6 Multilayer Perceptron"
   ]
  },
  {
   "cell_type": "code",
   "execution_count": 2,
   "metadata": {
    "colab": {
     "base_uri": "https://localhost:8080/"
    },
    "id": "BFidZvK22vKq",
    "outputId": "96cb9514-e4c2-4339-8c3a-2183257f529d"
   },
   "outputs": [
    {
     "name": "stdout",
     "output_type": "stream",
     "text": [
      "Collecting ipython-autotime\n",
      "  Downloading https://files.pythonhosted.org/packages/b4/c9/b413a24f759641bc27ef98c144b590023c8038dfb8a3f09e713e9dff12c1/ipython_autotime-0.3.1-py2.py3-none-any.whl\n",
      "Requirement already satisfied: ipython in /usr/local/lib/python3.7/dist-packages (from ipython-autotime) (5.5.0)\n",
      "Requirement already satisfied: pygments in /usr/local/lib/python3.7/dist-packages (from ipython->ipython-autotime) (2.6.1)\n",
      "Requirement already satisfied: prompt-toolkit<2.0.0,>=1.0.4 in /usr/local/lib/python3.7/dist-packages (from ipython->ipython-autotime) (1.0.18)\n",
      "Requirement already satisfied: pickleshare in /usr/local/lib/python3.7/dist-packages (from ipython->ipython-autotime) (0.7.5)\n",
      "Requirement already satisfied: decorator in /usr/local/lib/python3.7/dist-packages (from ipython->ipython-autotime) (4.4.2)\n",
      "Requirement already satisfied: pexpect; sys_platform != \"win32\" in /usr/local/lib/python3.7/dist-packages (from ipython->ipython-autotime) (4.8.0)\n",
      "Requirement already satisfied: traitlets>=4.2 in /usr/local/lib/python3.7/dist-packages (from ipython->ipython-autotime) (5.0.5)\n",
      "Requirement already satisfied: simplegeneric>0.8 in /usr/local/lib/python3.7/dist-packages (from ipython->ipython-autotime) (0.8.1)\n",
      "Requirement already satisfied: setuptools>=18.5 in /usr/local/lib/python3.7/dist-packages (from ipython->ipython-autotime) (54.2.0)\n",
      "Requirement already satisfied: wcwidth in /usr/local/lib/python3.7/dist-packages (from prompt-toolkit<2.0.0,>=1.0.4->ipython->ipython-autotime) (0.2.5)\n",
      "Requirement already satisfied: six>=1.9.0 in /usr/local/lib/python3.7/dist-packages (from prompt-toolkit<2.0.0,>=1.0.4->ipython->ipython-autotime) (1.15.0)\n",
      "Requirement already satisfied: ptyprocess>=0.5 in /usr/local/lib/python3.7/dist-packages (from pexpect; sys_platform != \"win32\"->ipython->ipython-autotime) (0.7.0)\n",
      "Requirement already satisfied: ipython-genutils in /usr/local/lib/python3.7/dist-packages (from traitlets>=4.2->ipython->ipython-autotime) (0.2.0)\n",
      "Installing collected packages: ipython-autotime\n",
      "Successfully installed ipython-autotime-0.3.1\n",
      "time: 171 µs (started: 2021-04-04 11:02:55 +00:00)\n"
     ]
    }
   ],
   "source": [
    "# For timing each cell\n",
    "!pip install ipython-autotime\n",
    "%load_ext autotime"
   ]
  },
  {
   "cell_type": "code",
   "execution_count": 3,
   "metadata": {
    "colab": {
     "base_uri": "https://localhost:8080/"
    },
    "id": "74Hq470YBLBg",
    "outputId": "a2745ab9-21e1-4fb6-a496-4c55aecc186b"
   },
   "outputs": [
    {
     "name": "stdout",
     "output_type": "stream",
     "text": [
      "time: 1.82 s (started: 2021-04-04 11:02:56 +00:00)\n"
     ]
    }
   ],
   "source": [
    "# Load training data\n",
    "train_df = pd.read_csv('train.csv')\n",
    "train_df.drop(columns=['reviewTime', 'unixReviewTime', 'reviewHash', 'image'], inplace=True)"
   ]
  },
  {
   "cell_type": "code",
   "execution_count": 4,
   "metadata": {
    "colab": {
     "base_uri": "https://localhost:8080/"
    },
    "id": "SwT_Wn2JGeL4",
    "outputId": "c90468f4-a92f-4f46-ad07-6d26a9921325"
   },
   "outputs": [
    {
     "name": "stdout",
     "output_type": "stream",
     "text": [
      "time: 207 ms (started: 2021-04-04 11:02:58 +00:00)\n"
     ]
    }
   ],
   "source": [
    "# Load test data\n",
    "test_df = pd.read_csv('test.csv')\n",
    "test_df.drop(columns=['reviewTime', 'unixReviewTime', 'reviewHash', 'image'], inplace=True)"
   ]
  },
  {
   "cell_type": "code",
   "execution_count": 5,
   "metadata": {
    "colab": {
     "base_uri": "https://localhost:8080/"
    },
    "id": "Ch4L2Gjlcj2w",
    "outputId": "7ec082ae-67a5-408e-9448-38330977a8f6"
   },
   "outputs": [
    {
     "name": "stdout",
     "output_type": "stream",
     "text": [
      "time: 4.59 ms (started: 2021-04-04 11:02:59 +00:00)\n"
     ]
    }
   ],
   "source": [
    "# Using NLTK's list of stopwords\n",
    "stopword_list = stopwords.words('english')\n",
    "\n",
    "# Initialize lemmatizer\n",
    "lemmatizer = WordNetLemmatizer()"
   ]
  },
  {
   "cell_type": "code",
   "execution_count": 6,
   "metadata": {
    "colab": {
     "base_uri": "https://localhost:8080/"
    },
    "id": "617fXyXGczv3",
    "outputId": "34a90df0-97b0-4d56-e400-d63aef9c75d2"
   },
   "outputs": [
    {
     "name": "stdout",
     "output_type": "stream",
     "text": [
      "time: 189 ms (started: 2021-04-04 11:03:00 +00:00)\n"
     ]
    }
   ],
   "source": [
    "# Change column data types\n",
    "train_df.reviewText = train_df.reviewText.astype('string')\n",
    "train_df.summary = train_df.summary.astype('string')\n",
    "train_df.price = train_df.price.astype('string')\n",
    "train_df.overall = train_df.overall.astype('float')\n",
    "\n",
    "test_df.reviewText = test_df.reviewText.astype('string')\n",
    "test_df.summary = test_df.summary.astype('string')\n",
    "test_df.price = test_df.price.astype('string')"
   ]
  },
  {
   "cell_type": "code",
   "execution_count": 7,
   "metadata": {
    "colab": {
     "base_uri": "https://localhost:8080/"
    },
    "id": "yaL_7s8yGiVN",
    "outputId": "bec86f07-3fd1-4544-d195-72a244d00515"
   },
   "outputs": [
    {
     "name": "stdout",
     "output_type": "stream",
     "text": [
      "time: 27.4 ms (started: 2021-04-04 11:03:03 +00:00)\n"
     ]
    }
   ],
   "source": [
    "# Create function for cleaning the tweets column\n",
    "def clean_text(s, remove_numbers):\n",
    "    # Make sure all characters are in lowercase\n",
    "    try:\n",
    "        s = s.lower()\n",
    "    except:\n",
    "        s = ''\n",
    "    # Remove HTML tags and attributes from the string\n",
    "    # s = BeautifulSoup(s,'lxml').get_text() # takes longer\n",
    "    html_tags = re.compile('<.*?>')\n",
    "    s = re.sub(html_tags, '', s)\n",
    "    # Replace HTML character codes with ASCII equivalent\n",
    "    s = unicodedata.normalize('NFKD', s).encode('ascii', 'ignore').decode('utf-8')\n",
    "    # Remove URLs\n",
    "    s = re.sub(r'http\\S+', '', s)\n",
    "    # Remove mentions\n",
    "    s = re.sub(\"@[A-Za-z0-9]+\", \"\", s)\n",
    "    # Remove new line and line breaks characters\n",
    "    s = s.replace('b\"', '').replace(\"b'\", '').replace('\\n', '').replace('\\\\n', '').replace('\\\\n\\\\n', '').replace('\\t', '')\n",
    "    if remove_numbers == True:\n",
    "        # Replace non-letters and extra white spaces with one space\n",
    "        non_letters = re.compile('[^a-zA-Z]+')\n",
    "        s = non_letters.sub(' ', s)\n",
    "    else:\n",
    "        s = re.sub(r'\\s+', ' ', s)\n",
    "        # Remove punctuations\n",
    "        s = s.translate(str.maketrans('', '', string.punctuation))\n",
    "    # Remove retweet letters\n",
    "    s = re.sub(r'\\brt\\b', '', s)\n",
    "    # Lemmatization\n",
    "    s = lemmatizer.lemmatize(s)\n",
    "    # Remove stop words\n",
    "    text_tokens = word_tokenize(s)\n",
    "    s = [word for word in text_tokens if not word in stopword_list]\n",
    "    # Remove words with only 1 letter\n",
    "    if remove_numbers == True:\n",
    "        s = [i for i in s if len(i) > 1]\n",
    "    if not s:\n",
    "        return []\n",
    "    return s"
   ]
  },
  {
   "cell_type": "code",
   "execution_count": 8,
   "metadata": {
    "colab": {
     "base_uri": "https://localhost:8080/"
    },
    "id": "5aSxFXJMTEVZ",
    "outputId": "80f60fbe-cca5-4b74-d4c8-4b0e937cbcb7"
   },
   "outputs": [
    {
     "name": "stdout",
     "output_type": "stream",
     "text": [
      "time: 15.1 ms (started: 2021-04-04 11:03:06 +00:00)\n"
     ]
    }
   ],
   "source": [
    "# Clean price column\n",
    "def clean_price(s):\n",
    "    s = s.replace('$', '')\n",
    "    try:\n",
    "        s = float(s)\n",
    "    except:\n",
    "        s = np.nan\n",
    "    if s == '':\n",
    "        s = np.nan\n",
    "    return s"
   ]
  },
  {
   "cell_type": "code",
   "execution_count": 9,
   "metadata": {
    "colab": {
     "base_uri": "https://localhost:8080/"
    },
    "id": "d50E7HhbDWxO",
    "outputId": "a5404e13-6090-411f-a779-3879fb8085e7"
   },
   "outputs": [
    {
     "name": "stdout",
     "output_type": "stream",
     "text": [
      "time: 2min 31s (started: 2021-04-04 11:03:08 +00:00)\n"
     ]
    }
   ],
   "source": [
    "# Clean train set text features\n",
    "train_df.reviewText = train_df.reviewText.apply(clean_text, remove_numbers = True)\n",
    "train_df.reviewText = train_df.reviewText.apply(' '.join)\n",
    "train_df.summary = train_df.summary.apply(clean_text, remove_numbers = True)\n",
    "train_df.summary = train_df.summary.apply(' '.join)\n",
    "train_df.price = train_df.price.apply(clean_price)\n",
    "pd.set_option('display.max_colwidth', None)\n",
    "# train_df.head()"
   ]
  },
  {
   "cell_type": "code",
   "execution_count": 10,
   "metadata": {
    "colab": {
     "base_uri": "https://localhost:8080/"
    },
    "id": "AAM_DUlODWpC",
    "outputId": "92e61a0c-5697-4b26-a908-0940f3a100a5"
   },
   "outputs": [
    {
     "name": "stdout",
     "output_type": "stream",
     "text": [
      "time: 19.6 s (started: 2021-04-04 11:05:41 +00:00)\n"
     ]
    }
   ],
   "source": [
    "# Clean test set text features\n",
    "#test_df[\"reviewText_ori\"] = test_df.reviewText.apply(clean_text, remove_numbers=False)\n",
    "#test_df[\"reviewText_ori\"] = test_df[\"reviewText_ori\"].apply(' '.join)\n",
    "test_df.reviewText = test_df.reviewText.apply(clean_text, remove_numbers=True)\n",
    "test_df.reviewText = test_df.reviewText.apply(' '.join)\n",
    "\n",
    "#test_df[\"summary_ori\"] = test_df.summary.apply(clean_text, remove_numbers=False)\n",
    "#test_df[\"summary_ori\"] = test_df[\"summary_ori\"].apply(' '.join)\n",
    "test_df.summary = test_df.summary.apply(clean_text, remove_numbers=True)\n",
    "test_df.summary = test_df.summary.apply(' '.join)\n",
    "\n",
    "test_df.price = test_df.price.apply(clean_price)\n",
    "pd.set_option('display.max_colwidth', None)\n",
    "# test_df.head()"
   ]
  },
  {
   "cell_type": "code",
   "execution_count": 11,
   "metadata": {
    "colab": {
     "base_uri": "https://localhost:8080/"
    },
    "id": "IV1pK9y5DWhG",
    "outputId": "1d34b521-f504-4902-de8d-22cbbc6eefdf"
   },
   "outputs": [
    {
     "name": "stdout",
     "output_type": "stream",
     "text": [
      "time: 7.71 s (started: 2021-04-04 11:06:41 +00:00)\n"
     ]
    }
   ],
   "source": [
    "# Create ID pairs\n",
    "train_df['ID'] = train_df[['reviewerID', 'itemID']].agg('-'.join, axis=1)\n",
    "train_df.drop(columns=['reviewerID', 'itemID'], inplace=True)\n",
    "train_df.set_index('ID', inplace=True)\n",
    "# train_df.head()"
   ]
  },
  {
   "cell_type": "code",
   "execution_count": 12,
   "metadata": {
    "colab": {
     "base_uri": "https://localhost:8080/"
    },
    "id": "pfFD0zHA_Fam",
    "outputId": "a6a29753-f4db-4570-de93-2b2bfa6cbae1"
   },
   "outputs": [
    {
     "name": "stdout",
     "output_type": "stream",
     "text": [
      "time: 1.01 s (started: 2021-04-04 11:06:48 +00:00)\n"
     ]
    }
   ],
   "source": [
    "# Create ID pairs\n",
    "test_df['ID'] = test_df[['reviewerID', 'itemID']].agg('-'.join, axis=1)\n",
    "test_df.drop(columns=['reviewerID', 'itemID'], inplace=True)\n",
    "test_df.set_index('ID', inplace=True)\n",
    "# test_df.head()"
   ]
  },
  {
   "cell_type": "markdown",
   "metadata": {
    "id": "Un41J-9qqJzp"
   },
   "source": [
    "Join \"reviewText\" and \"summary\""
   ]
  },
  {
   "cell_type": "code",
   "execution_count": 13,
   "metadata": {
    "colab": {
     "base_uri": "https://localhost:8080/",
     "height": 1000
    },
    "id": "WTe4gZMLeg3a",
    "outputId": "6a17a870-5f50-49ee-c83d-178deb5ca27d"
   },
   "outputs": [
    {
     "data": {
      "text/html": [
       "<div>\n",
       "<style scoped>\n",
       "    .dataframe tbody tr th:only-of-type {\n",
       "        vertical-align: middle;\n",
       "    }\n",
       "\n",
       "    .dataframe tbody tr th {\n",
       "        vertical-align: top;\n",
       "    }\n",
       "\n",
       "    .dataframe thead th {\n",
       "        text-align: right;\n",
       "    }\n",
       "</style>\n",
       "<table border=\"1\" class=\"dataframe\">\n",
       "  <thead>\n",
       "    <tr style=\"text-align: right;\">\n",
       "      <th></th>\n",
       "      <th>overall</th>\n",
       "      <th>reviewText</th>\n",
       "      <th>summary</th>\n",
       "      <th>category</th>\n",
       "      <th>price</th>\n",
       "      <th>Texts</th>\n",
       "    </tr>\n",
       "    <tr>\n",
       "      <th>ID</th>\n",
       "      <th></th>\n",
       "      <th></th>\n",
       "      <th></th>\n",
       "      <th></th>\n",
       "      <th></th>\n",
       "      <th></th>\n",
       "    </tr>\n",
       "  </thead>\n",
       "  <tbody>\n",
       "    <tr>\n",
       "      <th>u92990698-p23649501</th>\n",
       "      <td>5.0</td>\n",
       "      <td>contemporary jazz soul performer made two decade career effortlessly composing interpreting smooth sensual music downing one consummate artists capable singing tax code transforming baby generating smash practically brainer collection classique allows imagine soul hits musical titans david ruffin barry white originals well present compositions long time collaborator rex rideout top bottom classique embodies come expect years mr downing buttery baritone miraculously unaffected debilitating bout muscle disorder polymyositis poured billowy ballads mellow mid tempos soothe seduce trademark tender touch pulls listener ride intro breathless invitation paradise stop valentine pledging devotion affection beloved undulating time tic toc plea another chance ignite flames midst busy lives obligations smoldering think wants pick long ago love left one inspired cuts mid tempo something special shimmers sweetness newfound attraction could resist man willing take orders implores love suggestions song stylist sherrida whatever menu serve baby coos soup ladies reason reinterpreted tracks starts stumble bit baby real brings back doo wop sugary sweetness originals brought song david ruffin hit statue fool still emotive original version gon na love little baby sluggish sexy downfall beyond classique vary textures tones much effort tonight provides overall effect day chocolate binge sweetness welcomed first starts become cloying redundant end full bodied flavorful tonight mean fans overlook outright disregard classique mr downing still demonstrates spades endured since prince sophisticated soul winning formula still formula tweaking ingredients awhile lessen quality timelessness results</td>\n",
       "      <td>classique</td>\n",
       "      <td>Jazz</td>\n",
       "      <td>8.40</td>\n",
       "      <td>contemporary jazz soul performer made two decade career effortlessly composing interpreting smooth sensual music downing one consummate artists capable singing tax code transforming baby generating smash practically brainer collection classique allows imagine soul hits musical titans david ruffin barry white originals well present compositions long time collaborator rex rideout top bottom classique embodies come expect years mr downing buttery baritone miraculously unaffected debilitating bout muscle disorder polymyositis poured billowy ballads mellow mid tempos soothe seduce trademark tender touch pulls listener ride intro breathless invitation paradise stop valentine pledging devotion affection beloved undulating time tic toc plea another chance ignite flames midst busy lives obligations smoldering think wants pick long ago love left one inspired cuts mid tempo something special shimmers sweetness newfound attraction could resist man willing take orders implores love suggestions song stylist sherrida whatever menu serve baby coos soup ladies reason reinterpreted tracks starts stumble bit baby real brings back doo wop sugary sweetness originals brought song david ruffin hit statue fool still emotive original version gon na love little baby sluggish sexy downfall beyond classique vary textures tones much effort tonight provides overall effect day chocolate binge sweetness welcomed first starts become cloying redundant end full bodied flavorful tonight mean fans overlook outright disregard classique mr downing still demonstrates spades endured since prince sophisticated soul winning formula still formula tweaking ingredients awhile lessen quality timelessness results classique</td>\n",
       "    </tr>\n",
       "    <tr>\n",
       "      <th>u36200649-p58458313</th>\n",
       "      <td>5.0</td>\n",
       "      <td>good idea put pop orchestral music matrix reloaded onto one disc personally prefer nd disc orchestral main themes enhanced plus new ones sound positively earth shattered course love song sleeping awake great tune stick mind long time come album whetted appetite see movie hail matrix reloaded</td>\n",
       "      <td>exceeded expectations album rawks</td>\n",
       "      <td>Alternative Rock</td>\n",
       "      <td>10.98</td>\n",
       "      <td>good idea put pop orchestral music matrix reloaded onto one disc personally prefer nd disc orchestral main themes enhanced plus new ones sound positively earth shattered course love song sleeping awake great tune stick mind long time come album whetted appetite see movie hail matrix reloaded exceeded expectations album rawks</td>\n",
       "    </tr>\n",
       "    <tr>\n",
       "      <th>u10721702-p97027626</th>\n",
       "      <td>5.0</td>\n",
       "      <td>great collection carole king songs</td>\n",
       "      <td>must carole king fans</td>\n",
       "      <td>Pop</td>\n",
       "      <td>5.99</td>\n",
       "      <td>great collection carole king songs must carole king fans</td>\n",
       "    </tr>\n",
       "    <tr>\n",
       "      <th>u86003775-p43167086</th>\n",
       "      <td>5.0</td>\n",
       "      <td>album brilliant piece jazz fusion start finish person gave album star rating said production lacking far truth wondering perhaps cheap system listened faulty headphones every bit good come shade better every song including two vocal scatting songs opinion gems brilliant album let moments time stars way</td>\n",
       "      <td>master piece</td>\n",
       "      <td>Jazz</td>\n",
       "      <td>14.64</td>\n",
       "      <td>album brilliant piece jazz fusion start finish person gave album star rating said production lacking far truth wondering perhaps cheap system listened faulty headphones every bit good come shade better every song including two vocal scatting songs opinion gems brilliant album let moments time stars way master piece</td>\n",
       "    </tr>\n",
       "    <tr>\n",
       "      <th>u25672859-p94494236</th>\n",
       "      <td>5.0</td>\n",
       "      <td>waited long time dvd released watching year old vhs dieing slow death top favorites list since joshua tree concert way back beginning heard college radio captures group younger men performed simple honest passion energy see someone gave tickets would give almost anything seen back concert one ages reviewers complained video quality keep mind recorded days vhs anomalies light trails camera moves across spotlight slightly grainy right top screen keep mind rainy foggy show said watchable especially like concert videos editing flows well audio pretty good cd concert reissue old blood red sky cd</td>\n",
       "      <td>especially like concert videos</td>\n",
       "      <td>Alternative Rock</td>\n",
       "      <td>9.92</td>\n",
       "      <td>waited long time dvd released watching year old vhs dieing slow death top favorites list since joshua tree concert way back beginning heard college radio captures group younger men performed simple honest passion energy see someone gave tickets would give almost anything seen back concert one ages reviewers complained video quality keep mind recorded days vhs anomalies light trails camera moves across spotlight slightly grainy right top screen keep mind rainy foggy show said watchable especially like concert videos editing flows well audio pretty good cd concert reissue old blood red sky cd especially like concert videos</td>\n",
       "    </tr>\n",
       "    <tr>\n",
       "      <th>...</th>\n",
       "      <td>...</td>\n",
       "      <td>...</td>\n",
       "      <td>...</td>\n",
       "      <td>...</td>\n",
       "      <td>...</td>\n",
       "      <td>...</td>\n",
       "    </tr>\n",
       "    <tr>\n",
       "      <th>u29136602-p26326919</th>\n",
       "      <td>5.0</td>\n",
       "      <td>something wesley voice makes swoon little bit voice hear way words written five artists put together really something special hope stick around long time songs relatable tell story way well stories sing come life put music really quite beautiful track list</td>\n",
       "      <td>right</td>\n",
       "      <td>Alternative Rock</td>\n",
       "      <td>9.49</td>\n",
       "      <td>something wesley voice makes swoon little bit voice hear way words written five artists put together really something special hope stick around long time songs relatable tell story way well stories sing come life put music really quite beautiful track list right</td>\n",
       "    </tr>\n",
       "    <tr>\n",
       "      <th>u51715193-p69247882</th>\n",
       "      <td>5.0</td>\n",
       "      <td>many recordings verdis requiem often asked question several recordings obsession opportunity hear great masterwork frequently also single portions form several interpretations prefer splendid recording created live performance la scala milan sonics perfect performance la scala orchestra chorus lead daniel barenboim secure minor flaws sonics become minor aspect particular recording makes one great ones quartet soprano harteros otherworldly quality way floats line balances delicacy powerful soaring wagnerian voice mezzo soprano elna garana rich near erda quality voice bass rene pape brings customary intelligence surety vocal production contributions special mention must made wondrous jonas kaufmann gets better far ability step roles conquer presence gives performance splendor presents listen perfectly sung ingemisco heard definitive performance aria splendid verdi requiem one richest choral supports records grady harp may</td>\n",
       "      <td>vibrant immediacy performance spiritual uplifting</td>\n",
       "      <td>Classical</td>\n",
       "      <td>14.83</td>\n",
       "      <td>many recordings verdis requiem often asked question several recordings obsession opportunity hear great masterwork frequently also single portions form several interpretations prefer splendid recording created live performance la scala milan sonics perfect performance la scala orchestra chorus lead daniel barenboim secure minor flaws sonics become minor aspect particular recording makes one great ones quartet soprano harteros otherworldly quality way floats line balances delicacy powerful soaring wagnerian voice mezzo soprano elna garana rich near erda quality voice bass rene pape brings customary intelligence surety vocal production contributions special mention must made wondrous jonas kaufmann gets better far ability step roles conquer presence gives performance splendor presents listen perfectly sung ingemisco heard definitive performance aria splendid verdi requiem one richest choral supports records grady harp may vibrant immediacy performance spiritual uplifting</td>\n",
       "    </tr>\n",
       "    <tr>\n",
       "      <th>u28696060-p07028930</th>\n",
       "      <td>5.0</td>\n",
       "      <td>best overall album revisionist fall following great escape damon albarn redirected blur focus towards difficult original music encompassed english influences brought americana much delight guitarist graham coxon result blur album spacey original complex music lo fi edge beating radiohead ok computer months standout tracks include beetlebum song country sad ballad man death party strange news another star</td>\n",
       "      <td>creative rebirth possibly</td>\n",
       "      <td>Alternative Rock</td>\n",
       "      <td>18.86</td>\n",
       "      <td>best overall album revisionist fall following great escape damon albarn redirected blur focus towards difficult original music encompassed english influences brought americana much delight guitarist graham coxon result blur album spacey original complex music lo fi edge beating radiohead ok computer months standout tracks include beetlebum song country sad ballad man death party strange news another star creative rebirth possibly</td>\n",
       "    </tr>\n",
       "    <tr>\n",
       "      <th>u04925906-p38606785</th>\n",
       "      <td>5.0</td>\n",
       "      <td>believe upon time artists like enchantment could seen heard everywhere period performers could actually perform male groups dominated could really really sing sadly era fallen away passes entertainment today neither music entertainment today productions hold candle golden era sweet soul music sixties seventies initial offering enchantment lit charts hard driving uptempo offerings took breath away ballads become classics one would thought impossible follow anything nice treat album solidified group hit machine place alone top came soulful blue lights basement type music party complete without album cd remastered enhanced bonus selections want without one waited years decades recognition bestowed group many fans waited long must say two wishes one whole new generations music lovers finally hear limited edition material two ever responsible soon get around issuing journey land enchantment utopia cd said take word pick cd give listen excellent vocal harmonies michael stokes working magic well say enough group cd well since probably time take time give listen world music missing</td>\n",
       "      <td>upon time</td>\n",
       "      <td>Pop</td>\n",
       "      <td>19.99</td>\n",
       "      <td>believe upon time artists like enchantment could seen heard everywhere period performers could actually perform male groups dominated could really really sing sadly era fallen away passes entertainment today neither music entertainment today productions hold candle golden era sweet soul music sixties seventies initial offering enchantment lit charts hard driving uptempo offerings took breath away ballads become classics one would thought impossible follow anything nice treat album solidified group hit machine place alone top came soulful blue lights basement type music party complete without album cd remastered enhanced bonus selections want without one waited years decades recognition bestowed group many fans waited long must say two wishes one whole new generations music lovers finally hear limited edition material two ever responsible soon get around issuing journey land enchantment utopia cd said take word pick cd give listen excellent vocal harmonies michael stokes working magic well say enough group cd well since probably time take time give listen world music missing upon time</td>\n",
       "    </tr>\n",
       "    <tr>\n",
       "      <th>u79459462-p07495887</th>\n",
       "      <td>5.0</td>\n",
       "      <td>mokenstef album must wan na mellow chill favorite songs especially numbers wait new album ya look good love ya</td>\n",
       "      <td>intense album creativity</td>\n",
       "      <td>Pop</td>\n",
       "      <td>9.99</td>\n",
       "      <td>mokenstef album must wan na mellow chill favorite songs especially numbers wait new album ya look good love ya intense album creativity</td>\n",
       "    </tr>\n",
       "  </tbody>\n",
       "</table>\n",
       "<p>150000 rows × 6 columns</p>\n",
       "</div>"
      ],
      "text/plain": [
       "                     overall  ...                                                                                                                                                                                                                                                                                                                                                                                                                                                                                                                                                                                                                                                                                                                                                                                                                                                                                                                                                                                                                                                                                                                                                                                                                                                                                                                                                                                                                                                                                                                                                                                                                                                                                                                                                                     Texts\n",
       "ID                            ...                                                                                                                                                                                                                                                                                                                                                                                                                                                                                                                                                                                                                                                                                                                                                                                                                                                                                                                                                                                                                                                                                                                                                                                                                                                                                                                                                                                                                                                                                                                                                                                                                                                                                                                                                                          \n",
       "u92990698-p23649501      5.0  ...  contemporary jazz soul performer made two decade career effortlessly composing interpreting smooth sensual music downing one consummate artists capable singing tax code transforming baby generating smash practically brainer collection classique allows imagine soul hits musical titans david ruffin barry white originals well present compositions long time collaborator rex rideout top bottom classique embodies come expect years mr downing buttery baritone miraculously unaffected debilitating bout muscle disorder polymyositis poured billowy ballads mellow mid tempos soothe seduce trademark tender touch pulls listener ride intro breathless invitation paradise stop valentine pledging devotion affection beloved undulating time tic toc plea another chance ignite flames midst busy lives obligations smoldering think wants pick long ago love left one inspired cuts mid tempo something special shimmers sweetness newfound attraction could resist man willing take orders implores love suggestions song stylist sherrida whatever menu serve baby coos soup ladies reason reinterpreted tracks starts stumble bit baby real brings back doo wop sugary sweetness originals brought song david ruffin hit statue fool still emotive original version gon na love little baby sluggish sexy downfall beyond classique vary textures tones much effort tonight provides overall effect day chocolate binge sweetness welcomed first starts become cloying redundant end full bodied flavorful tonight mean fans overlook outright disregard classique mr downing still demonstrates spades endured since prince sophisticated soul winning formula still formula tweaking ingredients awhile lessen quality timelessness results classique\n",
       "u36200649-p58458313      5.0  ...                                                                                                                                                                                                                                                                                                                                                                                                                                                                                                                                                                                                                                                                                                                                                                                                                                                                                                                                                                                                                                                                                                                                                                                                                                                                                                                                                                                                                                    good idea put pop orchestral music matrix reloaded onto one disc personally prefer nd disc orchestral main themes enhanced plus new ones sound positively earth shattered course love song sleeping awake great tune stick mind long time come album whetted appetite see movie hail matrix reloaded exceeded expectations album rawks\n",
       "u10721702-p97027626      5.0  ...                                                                                                                                                                                                                                                                                                                                                                                                                                                                                                                                                                                                                                                                                                                                                                                                                                                                                                                                                                                                                                                                                                                                                                                                                                                                                                                                                                                                                                                                                                                                                                                                                                                                                                                  great collection carole king songs must carole king fans\n",
       "u86003775-p43167086      5.0  ...                                                                                                                                                                                                                                                                                                                                                                                                                                                                                                                                                                                                                                                                                                                                                                                                                                                                                                                                                                                                                                                                                                                                                                                                                                                                                                                                                                                                                                              album brilliant piece jazz fusion start finish person gave album star rating said production lacking far truth wondering perhaps cheap system listened faulty headphones every bit good come shade better every song including two vocal scatting songs opinion gems brilliant album let moments time stars way master piece\n",
       "u25672859-p94494236      5.0  ...                                                                                                                                                                                                                                                                                                                                                                                                                                                                                                                                                                                                                                                                                                                                                                                                                                                                                                                                                                                                                                                                                                                      waited long time dvd released watching year old vhs dieing slow death top favorites list since joshua tree concert way back beginning heard college radio captures group younger men performed simple honest passion energy see someone gave tickets would give almost anything seen back concert one ages reviewers complained video quality keep mind recorded days vhs anomalies light trails camera moves across spotlight slightly grainy right top screen keep mind rainy foggy show said watchable especially like concert videos editing flows well audio pretty good cd concert reissue old blood red sky cd especially like concert videos\n",
       "...                      ...  ...                                                                                                                                                                                                                                                                                                                                                                                                                                                                                                                                                                                                                                                                                                                                                                                                                                                                                                                                                                                                                                                                                                                                                                                                                                                                                                                                                                                                                                                                                                                                                                                                                                                                                                                                                                       ...\n",
       "u29136602-p26326919      5.0  ...                                                                                                                                                                                                                                                                                                                                                                                                                                                                                                                                                                                                                                                                                                                                                                                                                                                                                                                                                                                                                                                                                                                                                                                                                                                                                                                                                                                                                                                                                                    something wesley voice makes swoon little bit voice hear way words written five artists put together really something special hope stick around long time songs relatable tell story way well stories sing come life put music really quite beautiful track list right\n",
       "u51715193-p69247882      5.0  ...                                                                                                                                                                                                                                                                                                                                                                                                                                                                                                                                                                                                                                                                                                                                                   many recordings verdis requiem often asked question several recordings obsession opportunity hear great masterwork frequently also single portions form several interpretations prefer splendid recording created live performance la scala milan sonics perfect performance la scala orchestra chorus lead daniel barenboim secure minor flaws sonics become minor aspect particular recording makes one great ones quartet soprano harteros otherworldly quality way floats line balances delicacy powerful soaring wagnerian voice mezzo soprano elna garana rich near erda quality voice bass rene pape brings customary intelligence surety vocal production contributions special mention must made wondrous jonas kaufmann gets better far ability step roles conquer presence gives performance splendor presents listen perfectly sung ingemisco heard definitive performance aria splendid verdi requiem one richest choral supports records grady harp may vibrant immediacy performance spiritual uplifting\n",
       "u28696060-p07028930      5.0  ...                                                                                                                                                                                                                                                                                                                                                                                                                                                                                                                                                                                                                                                                                                                                                                                                                                                                                                                                                                                                                                                                                                                                                                                                                                                                                                                         best overall album revisionist fall following great escape damon albarn redirected blur focus towards difficult original music encompassed english influences brought americana much delight guitarist graham coxon result blur album spacey original complex music lo fi edge beating radiohead ok computer months standout tracks include beetlebum song country sad ballad man death party strange news another star creative rebirth possibly\n",
       "u04925906-p38606785      5.0  ...                                                                                                                                                                                                                                                                                                                                                                                                                                                                                                                                                                                                                              believe upon time artists like enchantment could seen heard everywhere period performers could actually perform male groups dominated could really really sing sadly era fallen away passes entertainment today neither music entertainment today productions hold candle golden era sweet soul music sixties seventies initial offering enchantment lit charts hard driving uptempo offerings took breath away ballads become classics one would thought impossible follow anything nice treat album solidified group hit machine place alone top came soulful blue lights basement type music party complete without album cd remastered enhanced bonus selections want without one waited years decades recognition bestowed group many fans waited long must say two wishes one whole new generations music lovers finally hear limited edition material two ever responsible soon get around issuing journey land enchantment utopia cd said take word pick cd give listen excellent vocal harmonies michael stokes working magic well say enough group cd well since probably time take time give listen world music missing upon time\n",
       "u79459462-p07495887      5.0  ...                                                                                                                                                                                                                                                                                                                                                                                                                                                                                                                                                                                                                                                                                                                                                                                                                                                                                                                                                                                                                                                                                                                                                                                                                                                                                                                                                                                                                                                                                                                                                                                                                                   mokenstef album must wan na mellow chill favorite songs especially numbers wait new album ya look good love ya intense album creativity\n",
       "\n",
       "[150000 rows x 6 columns]"
      ]
     },
     "execution_count": 13,
     "metadata": {
      "tags": []
     },
     "output_type": "execute_result"
    },
    {
     "name": "stdout",
     "output_type": "stream",
     "text": [
      "time: 258 ms (started: 2021-04-04 11:06:50 +00:00)\n"
     ]
    }
   ],
   "source": [
    "# Prepare the training set by joining \"reviewText\" and \"summary\"\n",
    "train_copy = train_df.copy(deep=True)\n",
    "train_copy[\"Texts\"] = train_copy[\"reviewText\"] + \" \" + train_copy[\"summary\"] \n",
    "train_copy"
   ]
  },
  {
   "cell_type": "code",
   "execution_count": 14,
   "metadata": {
    "colab": {
     "base_uri": "https://localhost:8080/",
     "height": 1000
    },
    "id": "_P7zVOmelUZt",
    "outputId": "e80e97ff-a643-428c-cf42-e897687c9df1"
   },
   "outputs": [
    {
     "data": {
      "text/html": [
       "<div>\n",
       "<style scoped>\n",
       "    .dataframe tbody tr th:only-of-type {\n",
       "        vertical-align: middle;\n",
       "    }\n",
       "\n",
       "    .dataframe tbody tr th {\n",
       "        vertical-align: top;\n",
       "    }\n",
       "\n",
       "    .dataframe thead th {\n",
       "        text-align: right;\n",
       "    }\n",
       "</style>\n",
       "<table border=\"1\" class=\"dataframe\">\n",
       "  <thead>\n",
       "    <tr style=\"text-align: right;\">\n",
       "      <th></th>\n",
       "      <th>reviewText</th>\n",
       "      <th>summary</th>\n",
       "      <th>category</th>\n",
       "      <th>price</th>\n",
       "      <th>Texts</th>\n",
       "    </tr>\n",
       "    <tr>\n",
       "      <th>ID</th>\n",
       "      <th></th>\n",
       "      <th></th>\n",
       "      <th></th>\n",
       "      <th></th>\n",
       "      <th></th>\n",
       "    </tr>\n",
       "  </thead>\n",
       "  <tbody>\n",
       "    <tr>\n",
       "      <th>u04140621-p65721979</th>\n",
       "      <td>ok</td>\n",
       "      <td>five stars</td>\n",
       "      <td>Pop</td>\n",
       "      <td>31.20</td>\n",
       "      <td>ok five stars</td>\n",
       "    </tr>\n",
       "    <tr>\n",
       "      <th>u74766187-p87809670</th>\n",
       "      <td>sets alone worth purchase cost everything else gravy</td>\n",
       "      <td>buy set monk</td>\n",
       "      <td>Jazz</td>\n",
       "      <td>34.04</td>\n",
       "      <td>sets alone worth purchase cost everything else gravy buy set monk</td>\n",
       "    </tr>\n",
       "    <tr>\n",
       "      <th>u31689638-p52702240</th>\n",
       "      <td>mary blige someone people know first appeared classic debut whats mary combined gritty soul hip hop beats flowed effortlessly voice almost seemed born sing songs say puffy hell job follow life think puffy lazy sampling neccesary anyways back mary everyone pretty much knows half cd got much radio play sexy reminisce funky real love jazzy love limit remind chaka rufus remake sweet thing standouts love anything also good tracks basically every song excellent mary put heart signature street swagger sweet singing</td>\n",
       "      <td>mary excellent debut classic</td>\n",
       "      <td>Pop</td>\n",
       "      <td>1.72</td>\n",
       "      <td>mary blige someone people know first appeared classic debut whats mary combined gritty soul hip hop beats flowed effortlessly voice almost seemed born sing songs say puffy hell job follow life think puffy lazy sampling neccesary anyways back mary everyone pretty much knows half cd got much radio play sexy reminisce funky real love jazzy love limit remind chaka rufus remake sweet thing standouts love anything also good tracks basically every song excellent mary put heart signature street swagger sweet singing mary excellent debut classic</td>\n",
       "    </tr>\n",
       "    <tr>\n",
       "      <th>u35613516-p01314374</th>\n",
       "      <td>good satch album</td>\n",
       "      <td>four stars</td>\n",
       "      <td>Pop</td>\n",
       "      <td>10.99</td>\n",
       "      <td>good satch album four stars</td>\n",
       "    </tr>\n",
       "    <tr>\n",
       "      <th>u93320378-p84396269</th>\n",
       "      <td>well hundreds christmas anthologies one best ever mix classic songs obscure tunes rock hits favorites recognize make say great mix big ones go get many compilations good bang buck</td>\n",
       "      <td>cd lives name</td>\n",
       "      <td>Alternative Rock</td>\n",
       "      <td>7.98</td>\n",
       "      <td>well hundreds christmas anthologies one best ever mix classic songs obscure tunes rock hits favorites recognize make say great mix big ones go get many compilations good bang buck cd lives name</td>\n",
       "    </tr>\n",
       "    <tr>\n",
       "      <th>...</th>\n",
       "      <td>...</td>\n",
       "      <td>...</td>\n",
       "      <td>...</td>\n",
       "      <td>...</td>\n",
       "      <td>...</td>\n",
       "    </tr>\n",
       "    <tr>\n",
       "      <th>u16765812-p17291597</th>\n",
       "      <td>goodness christian scott simply taken breath away brings music nothing short miracle love magical bends stretches lends jazz genre music whole matter get listening scott innovation finest looking forward hearing great artist</td>\n",
       "      <td>blown away</td>\n",
       "      <td>Jazz</td>\n",
       "      <td>11.87</td>\n",
       "      <td>goodness christian scott simply taken breath away brings music nothing short miracle love magical bends stretches lends jazz genre music whole matter get listening scott innovation finest looking forward hearing great artist blown away</td>\n",
       "    </tr>\n",
       "    <tr>\n",
       "      <th>u04428712-p73630774</th>\n",
       "      <td>congratulations clan xymox butchered classic songs written well known artists butcher songs someone else</td>\n",
       "      <td>take shelter covers abysmal</td>\n",
       "      <td>Pop</td>\n",
       "      <td>16.99</td>\n",
       "      <td>congratulations clan xymox butchered classic songs written well known artists butcher songs someone else take shelter covers abysmal</td>\n",
       "    </tr>\n",
       "    <tr>\n",
       "      <th>u39251384-p58275451</th>\n",
       "      <td>happy cher videos dvd remember cause child video glad fair cher put together fans lord knows going miss stage</td>\n",
       "      <td>glad</td>\n",
       "      <td>Pop</td>\n",
       "      <td>49.95</td>\n",
       "      <td>happy cher videos dvd remember cause child video glad fair cher put together fans lord knows going miss stage glad</td>\n",
       "    </tr>\n",
       "    <tr>\n",
       "      <th>u05089888-p13155723</th>\n",
       "      <td>agree comments made maxwell johnson regarding satie barber performances cd without version vaughan williams fantasia far finest thoughtful moving rendition heard sure recording quality could better however three better quality recordings piece performances unlistenable discovery particular one suspect someone accustomed hearing conductor rush piece usually fear come across ponderous tedious performance may sound sluggish rendition truly fitting vaughan wiilliams bit indulgent impatient listeners also thomas tallis whose brilliant theme deserves relished thoroughly istead merely glanced passing hurried way end thing find woodwind performance faure excellant seeing piece usually recorded choral version thus voices obscure faure gorgeous woodwind orchestration rare delight happy cd still available despite drawbacks doubt ever like satie pieces rather lifeless enjoy barber despite performance flaws overrated piece anyhow regardless consider extra tracks vaughan williams faure make cd worth money</td>\n",
       "      <td>personal must</td>\n",
       "      <td>Classical</td>\n",
       "      <td>9.42</td>\n",
       "      <td>agree comments made maxwell johnson regarding satie barber performances cd without version vaughan williams fantasia far finest thoughtful moving rendition heard sure recording quality could better however three better quality recordings piece performances unlistenable discovery particular one suspect someone accustomed hearing conductor rush piece usually fear come across ponderous tedious performance may sound sluggish rendition truly fitting vaughan wiilliams bit indulgent impatient listeners also thomas tallis whose brilliant theme deserves relished thoroughly istead merely glanced passing hurried way end thing find woodwind performance faure excellant seeing piece usually recorded choral version thus voices obscure faure gorgeous woodwind orchestration rare delight happy cd still available despite drawbacks doubt ever like satie pieces rather lifeless enjoy barber despite performance flaws overrated piece anyhow regardless consider extra tracks vaughan williams faure make cd worth money personal must</td>\n",
       "    </tr>\n",
       "    <tr>\n",
       "      <th>u99404755-p88280495</th>\n",
       "      <td>almost fair compare record rest ben harper body work set high standard st four studio releases record starts high note ben sings change world two hands carries torch bob marley two hands treated dazzling mix folk reggae funk rock soul blues gospel amazing harper pull styles without sounding least bit pretentious however weakness record uptempo rock stuff high low near miss best likewise funk stuff succeeds slightly really inspire doti one harper stronger efforts standard high songs like two hands diamonds indside touch lust amen omen make worthwhile affair sure go bh classics</td>\n",
       "      <td>return soulman</td>\n",
       "      <td>Alternative Rock</td>\n",
       "      <td>14.98</td>\n",
       "      <td>almost fair compare record rest ben harper body work set high standard st four studio releases record starts high note ben sings change world two hands carries torch bob marley two hands treated dazzling mix folk reggae funk rock soul blues gospel amazing harper pull styles without sounding least bit pretentious however weakness record uptempo rock stuff high low near miss best likewise funk stuff succeeds slightly really inspire doti one harper stronger efforts standard high songs like two hands diamonds indside touch lust amen omen make worthwhile affair sure go bh classics return soulman</td>\n",
       "    </tr>\n",
       "  </tbody>\n",
       "</table>\n",
       "<p>20000 rows × 5 columns</p>\n",
       "</div>"
      ],
      "text/plain": [
       "                                                                                                                                                                                                                                                                                                                                                                                                                                                                                                                                                                                                                                                                                                                                                                                                                                                                                                                                                                                                                                                         reviewText  ...                                                                                                                                                                                                                                                                                                                                                                                                                                                                                                                                                                                                                                                                                                                                                                                                                                                                                                                                                                                                                                                         Texts\n",
       "ID                                                                                                                                                                                                                                                                                                                                                                                                                                                                                                                                                                                                                                                                                                                                                                                                                                                                                                                                                                                                                                                                   ...                                                                                                                                                                                                                                                                                                                                                                                                                                                                                                                                                                                                                                                                                                                                                                                                                                                                                                                                                                                                                                                              \n",
       "u04140621-p65721979                                                                                                                                                                                                                                                                                                                                                                                                                                                                                                                                                                                                                                                                                                                                                                                                                                                                                                                                                                                                                                              ok  ...                                                                                                                                                                                                                                                                                                                                                                                                                                                                                                                                                                                                                                                                                                                                                                                                                                                                                                                                                                                                                                                 ok five stars\n",
       "u74766187-p87809670                                                                                                                                                                                                                                                                                                                                                                                                                                                                                                                                                                                                                                                                                                                                                                                                                                                                                                                                                                                            sets alone worth purchase cost everything else gravy  ...                                                                                                                                                                                                                                                                                                                                                                                                                                                                                                                                                                                                                                                                                                                                                                                                                                                                                                                                                                                             sets alone worth purchase cost everything else gravy buy set monk\n",
       "u31689638-p52702240                                                                                                                                                                                                                                                                                                                                                                                                                                                                                                               mary blige someone people know first appeared classic debut whats mary combined gritty soul hip hop beats flowed effortlessly voice almost seemed born sing songs say puffy hell job follow life think puffy lazy sampling neccesary anyways back mary everyone pretty much knows half cd got much radio play sexy reminisce funky real love jazzy love limit remind chaka rufus remake sweet thing standouts love anything also good tracks basically every song excellent mary put heart signature street swagger sweet singing  ...                                                                                                                                                                                                                                                                                                                                                                                                                                                                                                mary blige someone people know first appeared classic debut whats mary combined gritty soul hip hop beats flowed effortlessly voice almost seemed born sing songs say puffy hell job follow life think puffy lazy sampling neccesary anyways back mary everyone pretty much knows half cd got much radio play sexy reminisce funky real love jazzy love limit remind chaka rufus remake sweet thing standouts love anything also good tracks basically every song excellent mary put heart signature street swagger sweet singing mary excellent debut classic\n",
       "u35613516-p01314374                                                                                                                                                                                                                                                                                                                                                                                                                                                                                                                                                                                                                                                                                                                                                                                                                                                                                                                                                                                                                                good satch album  ...                                                                                                                                                                                                                                                                                                                                                                                                                                                                                                                                                                                                                                                                                                                                                                                                                                                                                                                                                                                                                                   good satch album four stars\n",
       "u93320378-p84396269                                                                                                                                                                                                                                                                                                                                                                                                                                                                                                                                                                                                                                                                                                                                                                                                                                                             well hundreds christmas anthologies one best ever mix classic songs obscure tunes rock hits favorites recognize make say great mix big ones go get many compilations good bang buck  ...                                                                                                                                                                                                                                                                                                                                                                                                                                                                                                                                                                                                                                                                                                                                                                                                                                                             well hundreds christmas anthologies one best ever mix classic songs obscure tunes rock hits favorites recognize make say great mix big ones go get many compilations good bang buck cd lives name\n",
       "...                                                                                                                                                                                                                                                                                                                                                                                                                                                                                                                                                                                                                                                                                                                                                                                                                                                                                                                                                                                                                                                             ...  ...                                                                                                                                                                                                                                                                                                                                                                                                                                                                                                                                                                                                                                                                                                                                                                                                                                                                                                                                                                                                                                                           ...\n",
       "u16765812-p17291597                                                                                                                                                                                                                                                                                                                                                                                                                                                                                                                                                                                                                                                                                                                                                                                                                goodness christian scott simply taken breath away brings music nothing short miracle love magical bends stretches lends jazz genre music whole matter get listening scott innovation finest looking forward hearing great artist  ...                                                                                                                                                                                                                                                                                                                                                                                                                                                                                                                                                                                                                                                                                                                                                                                                                   goodness christian scott simply taken breath away brings music nothing short miracle love magical bends stretches lends jazz genre music whole matter get listening scott innovation finest looking forward hearing great artist blown away\n",
       "u04428712-p73630774                                                                                                                                                                                                                                                                                                                                                                                                                                                                                                                                                                                                                                                                                                                                                                                                                                                                                                                                        congratulations clan xymox butchered classic songs written well known artists butcher songs someone else  ...                                                                                                                                                                                                                                                                                                                                                                                                                                                                                                                                                                                                                                                                                                                                                                                                                                                                                                                          congratulations clan xymox butchered classic songs written well known artists butcher songs someone else take shelter covers abysmal\n",
       "u39251384-p58275451                                                                                                                                                                                                                                                                                                                                                                                                                                                                                                                                                                                                                                                                                                                                                                                                                                                                                                                                   happy cher videos dvd remember cause child video glad fair cher put together fans lord knows going miss stage  ...                                                                                                                                                                                                                                                                                                                                                                                                                                                                                                                                                                                                                                                                                                                                                                                                                                                                                                                                            happy cher videos dvd remember cause child video glad fair cher put together fans lord knows going miss stage glad\n",
       "u05089888-p13155723  agree comments made maxwell johnson regarding satie barber performances cd without version vaughan williams fantasia far finest thoughtful moving rendition heard sure recording quality could better however three better quality recordings piece performances unlistenable discovery particular one suspect someone accustomed hearing conductor rush piece usually fear come across ponderous tedious performance may sound sluggish rendition truly fitting vaughan wiilliams bit indulgent impatient listeners also thomas tallis whose brilliant theme deserves relished thoroughly istead merely glanced passing hurried way end thing find woodwind performance faure excellant seeing piece usually recorded choral version thus voices obscure faure gorgeous woodwind orchestration rare delight happy cd still available despite drawbacks doubt ever like satie pieces rather lifeless enjoy barber despite performance flaws overrated piece anyhow regardless consider extra tracks vaughan williams faure make cd worth money  ...  agree comments made maxwell johnson regarding satie barber performances cd without version vaughan williams fantasia far finest thoughtful moving rendition heard sure recording quality could better however three better quality recordings piece performances unlistenable discovery particular one suspect someone accustomed hearing conductor rush piece usually fear come across ponderous tedious performance may sound sluggish rendition truly fitting vaughan wiilliams bit indulgent impatient listeners also thomas tallis whose brilliant theme deserves relished thoroughly istead merely glanced passing hurried way end thing find woodwind performance faure excellant seeing piece usually recorded choral version thus voices obscure faure gorgeous woodwind orchestration rare delight happy cd still available despite drawbacks doubt ever like satie pieces rather lifeless enjoy barber despite performance flaws overrated piece anyhow regardless consider extra tracks vaughan williams faure make cd worth money personal must\n",
       "u99404755-p88280495                                                                                                                                                                                                                                                                                                                                                                                                                                          almost fair compare record rest ben harper body work set high standard st four studio releases record starts high note ben sings change world two hands carries torch bob marley two hands treated dazzling mix folk reggae funk rock soul blues gospel amazing harper pull styles without sounding least bit pretentious however weakness record uptempo rock stuff high low near miss best likewise funk stuff succeeds slightly really inspire doti one harper stronger efforts standard high songs like two hands diamonds indside touch lust amen omen make worthwhile affair sure go bh classics  ...                                                                                                                                                                                                                                                                                                                                                                                                                                         almost fair compare record rest ben harper body work set high standard st four studio releases record starts high note ben sings change world two hands carries torch bob marley two hands treated dazzling mix folk reggae funk rock soul blues gospel amazing harper pull styles without sounding least bit pretentious however weakness record uptempo rock stuff high low near miss best likewise funk stuff succeeds slightly really inspire doti one harper stronger efforts standard high songs like two hands diamonds indside touch lust amen omen make worthwhile affair sure go bh classics return soulman\n",
       "\n",
       "[20000 rows x 5 columns]"
      ]
     },
     "execution_count": 14,
     "metadata": {
      "tags": []
     },
     "output_type": "execute_result"
    },
    {
     "name": "stdout",
     "output_type": "stream",
     "text": [
      "time: 62.2 ms (started: 2021-04-04 11:06:50 +00:00)\n"
     ]
    }
   ],
   "source": [
    "# Prepare the test set in the same way\n",
    "test_df[\"Texts\"] = test_df[\"reviewText\"] + \" \" + test_df[\"summary\"] \n",
    "# test_df[\"Texts_ori\"] = test_df[\"reviewText_ori\"] + \" \" + test_df[\"summary_ori\"] \n",
    "test_df"
   ]
  },
  {
   "cell_type": "code",
   "execution_count": 15,
   "metadata": {
    "colab": {
     "base_uri": "https://localhost:8080/"
    },
    "id": "tTOqFflL3ivd",
    "outputId": "f93e9e7b-5f5d-43ea-e086-7e223db3233d"
   },
   "outputs": [
    {
     "name": "stdout",
     "output_type": "stream",
     "text": [
      "time: 1.18 ms (started: 2021-04-04 11:06:51 +00:00)\n"
     ]
    }
   ],
   "source": [
    "X = train_copy.Texts # note that the features here are Texts\n",
    "y = train_copy.overall"
   ]
  },
  {
   "cell_type": "code",
   "execution_count": 16,
   "metadata": {
    "colab": {
     "base_uri": "https://localhost:8080/",
     "height": 366
    },
    "id": "Euh8D7uH5Mlw",
    "outputId": "4b700a1e-88e9-489a-de6a-adb786c5ca30"
   },
   "outputs": [
    {
     "name": "stdout",
     "output_type": "stream",
     "text": [
      "Class=5, n=98213 (65.475%)\n",
      "Class=1, n=4772 (3.181%)\n",
      "Class=4, n=29648 (19.765%)\n",
      "Class=2, n=5213 (3.475%)\n",
      "Class=3, n=12154 (8.103%)\n"
     ]
    },
    {
     "data": {
      "image/png": "[encoded data removed]",
      "text/plain": [
       "<Figure size 432x288 with 1 Axes>"
      ]
     },
     "metadata": {
      "needs_background": "light",
      "tags": []
     },
     "output_type": "display_data"
    },
    {
     "name": "stdout",
     "output_type": "stream",
     "text": [
      "time: 219 ms (started: 2021-04-04 11:06:53 +00:00)\n"
     ]
    }
   ],
   "source": [
    "from collections import Counter\n",
    "\n",
    "counter = Counter(y)\n",
    "for k,v in counter.items():\n",
    "\tper = v / len(y) * 100\n",
    "\tprint('Class=%d, n=%d (%.3f%%)' % (k, v, per))\n",
    "\n",
    "plt.bar(counter.keys(), counter.values())\n",
    "plt.show()"
   ]
  },
  {
   "cell_type": "code",
   "execution_count": 17,
   "metadata": {
    "colab": {
     "base_uri": "https://localhost:8080/"
    },
    "id": "O0PcYMUwKu8F",
    "outputId": "88fb07be-14ca-4629-b6fc-2ae4f7a93be8"
   },
   "outputs": [
    {
     "name": "stdout",
     "output_type": "stream",
     "text": [
      "time: 47.3 s (started: 2021-04-04 11:07:05 +00:00)\n"
     ]
    }
   ],
   "source": [
    "# Vectorize X features\n",
    "tfidf = TfidfVectorizer(max_features=15000, analyzer='word', token_pattern=r'\\w+',\n",
    "                        stop_words='english', ngram_range=(1, 2))\n",
    "\n",
    "X_train, X_test, y_train, y_test = train_test_split(X, y, test_size=0.2, random_state=1, stratify=y)\n",
    "X_train = tfidf.fit_transform(X_train)\n",
    "X_test = tfidf.transform(X_test)\n",
    "# eval_set = [(X_test, y_test)]"
   ]
  },
  {
   "cell_type": "code",
   "execution_count": 18,
   "metadata": {
    "colab": {
     "base_uri": "https://localhost:8080/"
    },
    "id": "maVitUNyUaSj",
    "outputId": "0657f5be-35ac-45a7-d2dd-399a5ad67a76"
   },
   "outputs": [
    {
     "name": "stdout",
     "output_type": "stream",
     "text": [
      "Train MSE: 0.3914982000639157\n",
      "Validation MSE: 0.49509112849562015\n",
      "time: 5min 6s (started: 2021-04-04 11:07:52 +00:00)\n"
     ]
    }
   ],
   "source": [
    "# MLP Regressor\n",
    "mlp = MLPRegressor(activation='relu',\n",
    "                   random_state=1,\n",
    "                   alpha=0.5,\n",
    "                   learning_rate_init=0.001,\n",
    "                   learning_rate='adaptive',\n",
    "                   max_iter=5000,\n",
    "                   batch_size=1024,\n",
    "                   early_stopping=True,\n",
    "                   validation_fraction=0.1).fit(X_train, y_train)\n",
    "\n",
    "y_train_pred = mlp.predict(X_train)\n",
    "print(f'Train MSE: {mean_squared_error(y_train, y_train_pred)}')\n",
    "\n",
    "y_pred = mlp.predict(X_test)\n",
    "print(f'Validation MSE: {mean_squared_error(y_test, y_pred)}')"
   ]
  },
  {
   "cell_type": "code",
   "execution_count": 19,
   "metadata": {
    "colab": {
     "base_uri": "https://localhost:8080/",
     "height": 246
    },
    "id": "lZTVroPIBG2P",
    "outputId": "6b04ebf8-694e-44a5-be71-ba697a88d62b"
   },
   "outputs": [
    {
     "data": {
      "text/html": [
       "<div>\n",
       "<style scoped>\n",
       "    .dataframe tbody tr th:only-of-type {\n",
       "        vertical-align: middle;\n",
       "    }\n",
       "\n",
       "    .dataframe tbody tr th {\n",
       "        vertical-align: top;\n",
       "    }\n",
       "\n",
       "    .dataframe thead th {\n",
       "        text-align: right;\n",
       "    }\n",
       "</style>\n",
       "<table border=\"1\" class=\"dataframe\">\n",
       "  <thead>\n",
       "    <tr style=\"text-align: right;\">\n",
       "      <th></th>\n",
       "      <th>label_count</th>\n",
       "      <th>pred_count</th>\n",
       "    </tr>\n",
       "    <tr>\n",
       "      <th>unique_values</th>\n",
       "      <th></th>\n",
       "      <th></th>\n",
       "    </tr>\n",
       "  </thead>\n",
       "  <tbody>\n",
       "    <tr>\n",
       "      <th>5.0</th>\n",
       "      <td>19643</td>\n",
       "      <td>18592</td>\n",
       "    </tr>\n",
       "    <tr>\n",
       "      <th>4.0</th>\n",
       "      <td>5929</td>\n",
       "      <td>8485</td>\n",
       "    </tr>\n",
       "    <tr>\n",
       "      <th>3.0</th>\n",
       "      <td>2431</td>\n",
       "      <td>2037</td>\n",
       "    </tr>\n",
       "    <tr>\n",
       "      <th>2.0</th>\n",
       "      <td>1043</td>\n",
       "      <td>656</td>\n",
       "    </tr>\n",
       "    <tr>\n",
       "      <th>1.0</th>\n",
       "      <td>954</td>\n",
       "      <td>230</td>\n",
       "    </tr>\n",
       "  </tbody>\n",
       "</table>\n",
       "</div>"
      ],
      "text/plain": [
       "               label_count  pred_count\n",
       "unique_values                         \n",
       "5.0                  19643       18592\n",
       "4.0                   5929        8485\n",
       "3.0                   2431        2037\n",
       "2.0                   1043         656\n",
       "1.0                    954         230"
      ]
     },
     "execution_count": 19,
     "metadata": {
      "tags": []
     },
     "output_type": "execute_result"
    },
    {
     "name": "stdout",
     "output_type": "stream",
     "text": [
      "time: 36.4 ms (started: 2021-04-04 11:13:00 +00:00)\n"
     ]
    }
   ],
   "source": [
    "label_count = y_test.value_counts().rename_axis('unique_values').reset_index(name='counts')\n",
    "label_count.set_index('unique_values', inplace=True)\n",
    "\n",
    "y_pred = np.round(y_pred) \n",
    "y_pred = np.clip(y_pred, 1.0, 5.0) \n",
    "y_pred = pd.DataFrame({'pred': y_pred}, index=y_test.index)\n",
    "pred_count = y_pred.value_counts().rename_axis('unique_values').reset_index(name='counts')\n",
    "pred_count.set_index('unique_values', inplace=True)\n",
    "\n",
    "output_df = pd.concat([label_count, pred_count], axis=1)\n",
    "output_df.columns = ['label_count', 'pred_count']\n",
    "output_df"
   ]
  },
  {
   "cell_type": "code",
   "execution_count": 20,
   "metadata": {
    "colab": {
     "base_uri": "https://localhost:8080/",
     "height": 421
    },
    "id": "AgkcOT-zmfvs",
    "outputId": "8a0bdcb4-6cd3-469b-9c7f-d707c5c04c14"
   },
   "outputs": [
    {
     "data": {
      "image/png": "[encoded data removed]",
      "text/plain": [
       "<Figure size 720x432 with 1 Axes>"
      ]
     },
     "metadata": {
      "needs_background": "light",
      "tags": []
     },
     "output_type": "display_data"
    },
    {
     "name": "stdout",
     "output_type": "stream",
     "text": [
      "time: 211 ms (started: 2021-04-04 11:13:00 +00:00)\n"
     ]
    }
   ],
   "source": [
    "plt.figure(figsize=(10, 6))\n",
    "width = 1.5\n",
    "index = np.arange(5)\n",
    "\n",
    "true_2plot = output_df[\"label_count\"]\n",
    "pred_2plot = output_df[\"pred_count\"]\n",
    "\n",
    "plt.bar(index - width/10, true_2plot, label=\"True rating\", width=width/5, color=\"pink\")\n",
    "plt.bar(index + width/10, pred_2plot, label=\"Predicted rating\", width=width/5, color=\"lightblue\")\n",
    "plt.title(\"Label vs. Prediction Class Distribution (MLP)\")\n",
    "plt.xticks(index, labels=[\"5\", \"4\", \"3\", \"2\", \"1\"])\n",
    "plt.xlabel(\"Rating\")\n",
    "plt.ylabel(\"Number of Tweets\")\n",
    "plt.legend()\n",
    "plt.show()"
   ]
  },
  {
   "cell_type": "markdown",
   "metadata": {
    "id": "SsKhQYXTsSxW"
   },
   "source": [
    "### Test"
   ]
  },
  {
   "cell_type": "code",
   "execution_count": 21,
   "metadata": {
    "colab": {
     "base_uri": "https://localhost:8080/"
    },
    "id": "Co5CoGu0nh7_",
    "outputId": "344d8395-9fcc-414a-c9ec-2ebe1dcb345c"
   },
   "outputs": [
    {
     "data": {
      "text/plain": [
       "array([3.94087462, 4.64006894, 4.53276736, ..., 4.86534993, 4.4256249 ,\n",
       "       4.41598119])"
      ]
     },
     "execution_count": 21,
     "metadata": {
      "tags": []
     },
     "output_type": "execute_result"
    },
    {
     "name": "stdout",
     "output_type": "stream",
     "text": [
      "time: 2.73 s (started: 2021-04-04 11:13:00 +00:00)\n"
     ]
    }
   ],
   "source": [
    "# Prepare test pairs\n",
    "true_test_X = tfidf.transform(test_df.Texts)\n",
    "\n",
    "true_pred = mlp.predict(true_test_X)\n",
    "true_pred = np.clip(true_pred, 1.0, 5.0)\n",
    "true_pred"
   ]
  },
  {
   "cell_type": "code",
   "execution_count": 22,
   "metadata": {
    "colab": {
     "base_uri": "https://localhost:8080/",
     "height": 246
    },
    "id": "P6UAI9ag3ilD",
    "outputId": "f03b5f2a-8609-499d-ff01-bd592e1d2ea5"
   },
   "outputs": [
    {
     "data": {
      "text/html": [
       "<div>\n",
       "<style scoped>\n",
       "    .dataframe tbody tr th:only-of-type {\n",
       "        vertical-align: middle;\n",
       "    }\n",
       "\n",
       "    .dataframe tbody tr th {\n",
       "        vertical-align: top;\n",
       "    }\n",
       "\n",
       "    .dataframe thead th {\n",
       "        text-align: right;\n",
       "    }\n",
       "</style>\n",
       "<table border=\"1\" class=\"dataframe\">\n",
       "  <thead>\n",
       "    <tr style=\"text-align: right;\">\n",
       "      <th></th>\n",
       "      <th>prediction</th>\n",
       "    </tr>\n",
       "    <tr>\n",
       "      <th>userID-itemID</th>\n",
       "      <th></th>\n",
       "    </tr>\n",
       "  </thead>\n",
       "  <tbody>\n",
       "    <tr>\n",
       "      <th>u04140621-p65721979</th>\n",
       "      <td>5.000000</td>\n",
       "    </tr>\n",
       "    <tr>\n",
       "      <th>u74766187-p87809670</th>\n",
       "      <td>4.640069</td>\n",
       "    </tr>\n",
       "    <tr>\n",
       "      <th>u31689638-p52702240</th>\n",
       "      <td>4.532767</td>\n",
       "    </tr>\n",
       "    <tr>\n",
       "      <th>u35613516-p01314374</th>\n",
       "      <td>4.000000</td>\n",
       "    </tr>\n",
       "    <tr>\n",
       "      <th>u93320378-p84396269</th>\n",
       "      <td>4.639019</td>\n",
       "    </tr>\n",
       "  </tbody>\n",
       "</table>\n",
       "</div>"
      ],
      "text/plain": [
       "                     prediction\n",
       "userID-itemID                  \n",
       "u04140621-p65721979    5.000000\n",
       "u74766187-p87809670    4.640069\n",
       "u31689638-p52702240    4.532767\n",
       "u35613516-p01314374    4.000000\n",
       "u93320378-p84396269    4.639019"
      ]
     },
     "execution_count": 22,
     "metadata": {
      "tags": []
     },
     "output_type": "execute_result"
    },
    {
     "name": "stdout",
     "output_type": "stream",
     "text": [
      "time: 807 ms (started: 2021-04-04 11:13:03 +00:00)\n"
     ]
    }
   ],
   "source": [
    "res = {'userID-itemID': test_df.index, 'prediction': true_pred}\n",
    "res = pd.DataFrame(res)\n",
    "res.set_index('userID-itemID', inplace=True)\n",
    "\n",
    "for i in range(20000):\n",
    "    if \"five stars\" in test_df[\"Texts\"][i]:\n",
    "        res[\"prediction\"][i] = 5.0;\n",
    "    elif \"four stars\" in test_df[\"Texts\"][i]:\n",
    "        res[\"prediction\"][i] = 4.0;\n",
    "    elif \"three stars\" in test_df[\"Texts\"][i]:\n",
    "        res[\"prediction\"][i] = 3.0;\n",
    "    elif \"two stars\" in test_df[\"Texts\"][i]:\n",
    "        res[\"prediction\"][i] = 2.0;\n",
    "    elif \"one star\" in test_df[\"Texts\"][i]:\n",
    "        res[\"prediction\"][i] = 1.0;\n",
    "\n",
    "# res.to_csv('MLP_prediction.csv')\n",
    "res.head()"
   ]
  },
  {
   "cell_type": "markdown",
   "metadata": {
    "id": "mgDUH7tnlCYq"
   },
   "source": [
    "## 3.1.7 XGBoost\n",
    "\n",
    "Reusing the datasets and defined variables in the section \"MLP\"."
   ]
  },
  {
   "cell_type": "code",
   "execution_count": null,
   "metadata": {
    "colab": {
     "base_uri": "https://localhost:8080/"
    },
    "id": "m_Sn1k2kGq0D",
    "outputId": "3811e846-d1a2-4aa8-e6e9-406f2ceef142"
   },
   "outputs": [
    {
     "name": "stdout",
     "output_type": "stream",
     "text": [
      "Train MSE: 0.3867210682075521\n",
      "Validation MSE: 0.6186515499714811\n",
      "time: 11min 47s (started: 2021-03-27 21:09:59 +00:00)\n"
     ]
    }
   ],
   "source": [
    "# XGB regressor\n",
    "model = XGBRegressor(learning_rate=0.3,\n",
    "                     n_estimator=900,\n",
    "                     max_depth=50,\n",
    "                     min_child_weight=100,\n",
    "                     gamma=0.5,\n",
    "                     reg_lambda=50.0,\n",
    "                     objective='reg:squarederror',\n",
    "                     colsample_bytree=1.0,\n",
    "                     colsample_bylevel=1.0,\n",
    "                     subsample=1.0,\n",
    "                     seed=1,\n",
    "                     n_jobs=-1,\n",
    "                     early_stopping_rounds=5).fit(X_train, y_train)\n",
    "\n",
    "y_train_pred = model.predict(X_train)\n",
    "print(f'Train MSE: {mean_squared_error(y_train, y_train_pred)}')\n",
    "\n",
    "y_pred = model.predict(X_test)\n",
    "# y_pred = np.round(y_pred, 0)\n",
    "print(f'Validation MSE: {mean_squared_error(y_test, y_pred)}')"
   ]
  },
  {
   "cell_type": "markdown",
   "metadata": {
    "id": "v5eAcYlBl7so"
   },
   "source": [
    "## 3.1.8 Ordinal Logistic Regression"
   ]
  },
  {
   "cell_type": "code",
   "execution_count": null,
   "metadata": {
    "id": "JTqpU2IlC1o8"
   },
   "outputs": [],
   "source": [
    "def ordinal_LogisticRegression(X_train, y_train, X_test, y_test, nclass, c_value, penalty):\n",
    "    lr_model = LogisticRegression(C=c_value, solver=\"saga\", multi_class=\"ovr\", penalty=penalty)\n",
    "    y_train_binary = y_train.copy()\n",
    "    y_test_binary = y_test.copy()\n",
    "\n",
    "    proba_binary_train = np.zeros((y_train.shape[0], nclass))\n",
    "    proba_train =  np.zeros((y_train.shape[0], nclass))\n",
    "\n",
    "    proba_binary_test = np.zeros((y_test.shape[0], nclass))\n",
    "    proba_test =  np.zeros((y_test.shape[0], nclass))\n",
    "\n",
    "    for i in range(nclass - 1):\n",
    "        # convert to binary classification problem\n",
    "        y_train_binary[y_train <= (i + 1)] = 0 \n",
    "        y_train_binary[y_train > (i + 1)] = 1\n",
    "        lr_model.fit(X_train, y_train_binary)\n",
    "        proba_binary_train[:, i] = lr_model.predict_proba(X_train)[:, 0]\n",
    "        proba_binary_test[:, i] = lr_model.predict_proba(X_test)[:, 0]\n",
    "\n",
    "    proba_train[:, 0] = proba_binary_train[:, 0]\n",
    "    proba_train[:, nclass-1] = 1 - proba_binary_train[:, nclass-2]\n",
    "    proba_test[:, 0] = proba_binary_test[:, 0]\n",
    "    proba_test[:, nclass-1] = 1 - proba_binary_test[:, nclass-2]\n",
    "\n",
    "    # Compute the probability that this sample belongs to a certain class\n",
    "    # Basically, we subtract the adjacent probabilities\n",
    "    for j in range(1, nclass - 1):\n",
    "        proba_train[:, j] = proba_binary_train[:, j] - proba_binary_train[:, j - 1]\n",
    "        proba_test[:, j] = proba_binary_test[:, j] - proba_binary_test[:, j - 1] \n",
    "    \n",
    "    # Return the compensation class of this sample\n",
    "    prediction_train = np.argmax(proba_train, axis=1) + 1\n",
    "    prediction_test = np.argmax(proba_test, axis=1) + 1\n",
    "    return prediction_train, prediction_test"
   ]
  },
  {
   "cell_type": "code",
   "execution_count": null,
   "metadata": {
    "id": "A24wl-bqbyBc"
   },
   "outputs": [],
   "source": [
    "def ordinal_LogisticRegression_pred_only(X_train, y_train, X_test, nclass, c_value, penalty):\n",
    "    lr_model = LogisticRegression(C=c_value, solver=\"saga\", multi_class=\"ovr\", penalty=penalty)\n",
    "    y_train_binary = y_train.copy()\n",
    "\n",
    "    proba_binary_train = np.zeros((y_train.shape[0], nclass))\n",
    "    proba_train =  np.zeros((y_train.shape[0], nclass))\n",
    "\n",
    "    proba_binary_test = np.zeros((X_test.shape[0], nclass))\n",
    "    proba_test =  np.zeros((X_test.shape[0], nclass))\n",
    "\n",
    "    for i in range(nclass - 1):\n",
    "        # convert to binary classification problem\n",
    "        y_train_binary[y_train <= (i + 1)] = 0 \n",
    "        y_train_binary[y_train > (i + 1)] = 1\n",
    "        lr_model.fit(X_train, y_train_binary)\n",
    "        proba_binary_train[:, i] = lr_model.predict_proba(X_train)[:, 0]\n",
    "        proba_binary_test[:, i] = lr_model.predict_proba(X_test)[:, 0]\n",
    "\n",
    "    proba_train[:, 0] = proba_binary_train[:, 0]\n",
    "    proba_train[:, nclass-1] = 1 - proba_binary_train[:, nclass-2]\n",
    "    proba_test[:, 0] = proba_binary_test[:, 0]\n",
    "    proba_test[:, nclass-1] = 1 - proba_binary_test[:, nclass-2]\n",
    "\n",
    "    # Compute the probability that this sample belongs to a certain class\n",
    "    # Basically, we subtract the adjacent probabilities\n",
    "    for j in range(1, nclass - 1):\n",
    "        proba_train[:, j] = proba_binary_train[:, j] - proba_binary_train[:, j - 1]\n",
    "        proba_test[:, j] = proba_binary_test[:, j] - proba_binary_test[:, j - 1] \n",
    "    \n",
    "    # Return the compensation class of this sample\n",
    "    prediction_train = np.argmax(proba_train, axis=1) + 1\n",
    "    prediction_test = np.argmax(proba_test, axis=1) + 1\n",
    "    return prediction_train, prediction_test"
   ]
  },
  {
   "cell_type": "code",
   "execution_count": null,
   "metadata": {
    "id": "vJUZf87wFUBU"
   },
   "outputs": [],
   "source": [
    "def cross_validation(X, y, nclass, c, penalty, nfolds, print_details):\n",
    "\n",
    "    kfold = StratifiedKFold(n_splits=nfolds,random_state=42, shuffle=False)\n",
    "    kfold.get_n_splits(X)\n",
    "\n",
    "    mse_train = np.zeros(nfolds)\n",
    "    mse_test = np.zeros(nfolds)\n",
    "    accuracy = np.zeros(nfolds)\n",
    "    np_idx = 0\n",
    "\n",
    "    for train_idx, test_idx in kfold.split(X, y):\n",
    "        X_train_cv, X_test_cv = X[train_idx], X[test_idx]\n",
    "        y_train_cv, y_test_cv = y[train_idx], y[test_idx]\n",
    "\n",
    "        tf = TfidfVectorizer(max_features=2000)\n",
    "        X_train_cv = tf.fit_transform(X_train_cv)\n",
    "        X_test_cv = tf.transform(X_test_cv)\n",
    "    \n",
    "        # Utilize the function for ordinal logistic regression\n",
    "        pred_train_cv, pred_test_cv = ordinal_LogisticRegression(X_train_cv, \n",
    "                                                                 y_train_cv, \n",
    "                                                                 X_test_cv, \n",
    "                                                                 y_test_cv, \n",
    "                                                                 nclass, c, penalty)\n",
    "        # Performance of a model is evaluated based on the MSE)\n",
    "        mse_train[np_idx] = mean_squared_error(pred_train_cv, y_train_cv)\n",
    "        mse_test[np_idx] = mean_squared_error(pred_test_cv, y_test_cv)\n",
    "        accuracy[np_idx] = accuracy_score(y_test_cv, pred_test_cv)*100\n",
    "        np_idx += 1\n",
    "    \n",
    "    if print_details == True:\n",
    "        fold_info = {\"Test fold\": range(1, nfolds + 1),\n",
    "                     \"Training MSE\": mse_train, \"Test MSE\": mse_test,\n",
    "                     \"Accuracy\": accuracy}\n",
    "        fold_info_df = pd.DataFrame(fold_info)\n",
    "        display(fold_info_df)\n",
    "  \n",
    "    # Compute average training MSE, test MSE and test accuracy\n",
    "    avg_mse_train = np.mean(mse_train)  \n",
    "    avg_mse_test = np.mean(mse_test) \n",
    "    avg_acc =  np.mean(accuracy)\n",
    "\n",
    "    return avg_mse_train, avg_mse_test, avg_acc"
   ]
  },
  {
   "cell_type": "code",
   "execution_count": 25,
   "metadata": {
    "colab": {
     "base_uri": "https://localhost:8080/",
     "height": 1000
    },
    "id": "sa4mbNyH9eqn",
    "outputId": "06ee1a04-c9c7-4c91-fcdb-eda63c646d73"
   },
   "outputs": [
    {
     "data": {
      "text/html": [
       "<div>\n",
       "<style scoped>\n",
       "    .dataframe tbody tr th:only-of-type {\n",
       "        vertical-align: middle;\n",
       "    }\n",
       "\n",
       "    .dataframe tbody tr th {\n",
       "        vertical-align: top;\n",
       "    }\n",
       "\n",
       "    .dataframe thead th {\n",
       "        text-align: right;\n",
       "    }\n",
       "</style>\n",
       "<table border=\"1\" class=\"dataframe\">\n",
       "  <thead>\n",
       "    <tr style=\"text-align: right;\">\n",
       "      <th></th>\n",
       "      <th>Unnamed: 0</th>\n",
       "      <th>index</th>\n",
       "      <th>overall</th>\n",
       "      <th>reviewTime</th>\n",
       "      <th>reviewerID</th>\n",
       "      <th>reviewText</th>\n",
       "      <th>summary</th>\n",
       "      <th>unixReviewTime</th>\n",
       "      <th>category</th>\n",
       "      <th>price</th>\n",
       "      <th>itemID</th>\n",
       "    </tr>\n",
       "  </thead>\n",
       "  <tbody>\n",
       "    <tr>\n",
       "      <th>0</th>\n",
       "      <td>0</td>\n",
       "      <td>0</td>\n",
       "      <td>5.0</td>\n",
       "      <td>2014-08-26</td>\n",
       "      <td>u92990698</td>\n",
       "      <td>['contemporary', 'jazz', 'soul', 'performer', 'who', 'made', 'twodecade', 'career', 'effortlessly', 'composing', 'interpreting', 'smooth', 'sensual', 'music', 'downing', 'one', 'consummate', 'artist', 'capable', 'singing', 'tax', 'code', 'transforming', 'babygenerating', 'smash', 'practically', 'nobrainer', 'collection', 'classique', 'allows', 'reimagine', 'soul', 'hit', 'musical', 'titan', 'david', 'ruffin', 'barry', 'white', 'original', 'well', 'present', 'composition', 'longtime', 'collaborator', 'rex', 'rideout', 'top', 'bottom', 'classique', 'embodies', 'weve', 'come', 'expect', 'year', 'mr', 'downing', 'buttery', 'baritone', 'miraculously', 'unaffected', 'debilitating', 'bout', 'muscle', 'disorder', 'polymyositis', 'poured', 'billowy', 'ballad', 'mellow', 'midtempos', 'soothe', 'seduce', 'trademark', 'tender', 'touch', 'pull', 'listener', 'ride', 'intro', 'breathless', 'invitation', 'paradise', 'wont', 'stop', 'valentine', 'pledging', 'devotion', 'affection', 'beloved', 'undulating', 'time', 'tic', 'toc', 'plea', 'another', 'chance', 'reignite', 'flame', 'midst', 'busy', 'life', 'obligation', 'smoldering', 'think', 'want', 'pick', 'longago', 'love', 'left', 'one', 'inspired', 'cut', 'mid', 'tempo', 'something', 'special', 'shimmer', 'sweetness', 'newfound', 'attraction', 'could', 'resist', 'man', 'who', 'willing', 'take', 'order', 'implores', 'love', 'suggestion', 'song', 'stylist', 'sherrida', 'whatevers', 'menu', 'ill', 'serve', 'baby', 'coo', 'soup', 'lady', 'reason', 'reinterpreted', 'track', 'start', 'stumble', 'bit', 'baby', 'im', 'real', 'brings', 'back', 'doowop', 'sugary', 'sweetness', 'original', 'brought', 'song', 'david', 'ruffin', 'hit', 'statue', 'fool', 'still', 'emotive', 'original', 'will', 'version', 'im', 'gon', 'na', 'love', 'little', 'baby', 'sluggish', 'sexy', 'downfall', 'beyond', 'classique', 'doesnt', 'vary', 'texture', 'tone', 'much', 'effort', 'tonight', 'provides', 'overall', 'effect', 'allday', 'chocolate', 'binge', 'sweetness', 'welcomed', 'first', 'start', 'become', 'cloying', 'redundant', 'end', 'fullbodied', 'flavorful', 'tonight', 'doesnt', 'mean', 'fan', 'overlook', 'outright', 'disregard', 'classique', 'mr', 'downing', 'still', 'demonstrates', 'spade', 'he', 'endured', 'since', 'prince', 'sophisticated', 'soul', 'winning', 'formula', 'still', 'formula', 'tweaking', 'ingredient', 'awhile', 'wont', 'lessen', 'quality', 'timelessness', 'result']</td>\n",
       "      <td>['classique']</td>\n",
       "      <td>1409011200</td>\n",
       "      <td>2</td>\n",
       "      <td>8.40</td>\n",
       "      <td>p23649501</td>\n",
       "    </tr>\n",
       "    <tr>\n",
       "      <th>1</th>\n",
       "      <td>1</td>\n",
       "      <td>1</td>\n",
       "      <td>5.0</td>\n",
       "      <td>2003-05-11</td>\n",
       "      <td>u36200649</td>\n",
       "      <td>['good', 'idea', 'put', 'pop', 'orchestral', 'music', 'matrix', 'reloaded', 'onto', 'one', 'disc', 'personally', 'prefer', 'nd', 'disc', 'orchestral', 'main', 'theme', 'enhanced', 'plus', 'new', 'one', 'sound', 'positively', 'earth', 'shattered', 'course', 'love', 'pod', 'song', 'sleeping', 'awake', 'great', 'tune', 'stick', 'mind', 'long', 'time', 'come', 'album', 'whetted', 'appetite', 'see', 'movie', 'hail', 'matrix', 'reloaded']</td>\n",
       "      <td>['exceeded', 'expectation', 'album', 'rawks']</td>\n",
       "      <td>1052611200</td>\n",
       "      <td>1</td>\n",
       "      <td>10.98</td>\n",
       "      <td>p58458313</td>\n",
       "    </tr>\n",
       "    <tr>\n",
       "      <th>2</th>\n",
       "      <td>2</td>\n",
       "      <td>2</td>\n",
       "      <td>5.0</td>\n",
       "      <td>2017-12-05</td>\n",
       "      <td>u10721702</td>\n",
       "      <td>['great', 'collection', 'carole', 'king', 'song']</td>\n",
       "      <td>['musthave', 'carole', 'king', 'fan']</td>\n",
       "      <td>1512432000</td>\n",
       "      <td>0</td>\n",
       "      <td>5.99</td>\n",
       "      <td>p97027626</td>\n",
       "    </tr>\n",
       "    <tr>\n",
       "      <th>3</th>\n",
       "      <td>3</td>\n",
       "      <td>3</td>\n",
       "      <td>5.0</td>\n",
       "      <td>2013-09-24</td>\n",
       "      <td>u86003775</td>\n",
       "      <td>['album', 'brilliant', 'piece', 'jazz', 'fusion', 'start', 'finish', 'person', 'gave', 'album', 'star', 'rating', 'said', 'production', 'lacking', 'far', 'truth', 'im', 'wondering', 'perhaps', 'cheap', 'system', 'listened', 'faulty', 'headphone', 'every', 'bit', 'good', 'come', 'shade', 'better', 'every', 'song', 'including', 'two', 'vocalscatting', 'song', 'opinion', 'gem', 'brilliant', 'album', 'let', 'moment', 'time', 'star', 'way']</td>\n",
       "      <td>['master', 'piece']</td>\n",
       "      <td>1379980800</td>\n",
       "      <td>2</td>\n",
       "      <td>14.64</td>\n",
       "      <td>p43167086</td>\n",
       "    </tr>\n",
       "    <tr>\n",
       "      <th>4</th>\n",
       "      <td>4</td>\n",
       "      <td>4</td>\n",
       "      <td>5.0</td>\n",
       "      <td>2015-01-14</td>\n",
       "      <td>u25672859</td>\n",
       "      <td>['waited', 'long', 'time', 'dvd', 'released', 'watching', 'yearold', 'vhs', 'dieing', 'slow', 'death', 'u', 'hasnt', 'top', 'favorite', 'list', 'since', 'joshua', 'tree', 'concert', 'way', 'back', 'beginning', 'heard', 'college', 'radio', 'capture', 'group', 'younger', 'men', 'performed', 'simple', 'honest', 'passion', 'energy', 'wouldnt', 'see', 'someone', 'gave', 'ticket', 'would', 'give', 'almost', 'anything', 'seen', 'back', 'concert', 'one', 'age', 'reviewer', 'complained', 'video', 'quality', 'keep', 'mind', 'recorded', 'day', 'vhs', 'anomaly', 'light', 'trail', 'camera', 'move', 'across', 'spotlight', 'slightly', 'grainy', 'youre', 'right', 'top', 'screen', 'keep', 'mind', 'rainyfoggy', 'show', 'said', 'watchable', 'especially', 'like', 'concert', 'video', 'editing', 'flow', 'well', 'audio', 'pretty', 'good', 'cd', 'concert', 'reissue', 'old', 'blood', 'red', 'sky', 'cd']</td>\n",
       "      <td>['especially', 'like', 'concert', 'video']</td>\n",
       "      <td>1421193600</td>\n",
       "      <td>1</td>\n",
       "      <td>9.92</td>\n",
       "      <td>p94494236</td>\n",
       "    </tr>\n",
       "    <tr>\n",
       "      <th>...</th>\n",
       "      <td>...</td>\n",
       "      <td>...</td>\n",
       "      <td>...</td>\n",
       "      <td>...</td>\n",
       "      <td>...</td>\n",
       "      <td>...</td>\n",
       "      <td>...</td>\n",
       "      <td>...</td>\n",
       "      <td>...</td>\n",
       "      <td>...</td>\n",
       "      <td>...</td>\n",
       "    </tr>\n",
       "    <tr>\n",
       "      <th>149944</th>\n",
       "      <td>149944</td>\n",
       "      <td>149995</td>\n",
       "      <td>5.0</td>\n",
       "      <td>2013-09-12</td>\n",
       "      <td>u29136602</td>\n",
       "      <td>['something', 'wesley', 'voice', 'make', 'swoon', 'little', 'bit', 'voice', 'hear', 'way', 'word', 'written', 'five', 'artist', 'put', 'together', 'really', 'something', 'special', 'hope', 'stick', 'around', 'long', 'time', 'song', 'relatable', 'tell', 'story', 'way', 'well', 'story', 'sing', 'come', 'life', 'put', 'music', 'really', 'quite', 'beautiful', 'track', 'list']</td>\n",
       "      <td>['right']</td>\n",
       "      <td>1378944000</td>\n",
       "      <td>1</td>\n",
       "      <td>9.49</td>\n",
       "      <td>p26326919</td>\n",
       "    </tr>\n",
       "    <tr>\n",
       "      <th>149945</th>\n",
       "      <td>149945</td>\n",
       "      <td>149996</td>\n",
       "      <td>5.0</td>\n",
       "      <td>2016-05-15</td>\n",
       "      <td>u51715193</td>\n",
       "      <td>['many', 'recording', 'verdi', 'requiem', 'oftenasked', 'question', 'several', 'recording', 'isnt', 'obsession', 'opportunity', 'hear', 'great', 'masterwork', 'frequently', 'also', 'single', 'portion', 'form', 'several', 'interpretation', 'prefer', 'splendid', 'recording', 'created', 'live', 'performance', 'la', 'scala', 'milan', 'sonics', 'perfect', 'performance', 'la', 'scala', 'orchestra', 'chorus', 'lead', 'daniel', 'barenboim', 'secure', 'minor', 'flaw', 'sonics', 'become', 'minor', 'aspect', 'particular', 'recording', 'make', 'one', 'great', 'one', 'quartet', 'soprano', 'harteros', 'otherworldly', 'quality', 'way', 'float', 'line', 'balance', 'delicacy', 'powerful', 'soaring', 'wagnerian', 'voice', 'mezzo', 'soprano', 'elna', 'garana', 'rich', 'near', 'erda', 'quality', 'voice', 'bass', 'rene', 'pape', 'brings', 'customary', 'intelligence', 'surety', 'vocal', 'production', 'contribution', 'special', 'mention', 'must', 'made', 'wondrous', 'jonas', 'kaufmann', 'get', 'better', 'far', 'ability', 'step', 'role', 'conquer', 'presence', 'give', 'performance', 'splendor', 'present', 'listen', 'perfectly', 'sung', 'ingemisco', 'heard', 'definitive', 'performance', 'aria', 'splendid', 'verdi', 'requiem', 'one', 'richest', 'choral', 'support', 'record', 'grady', 'harp', 'may']</td>\n",
       "      <td>['vibrant', 'immediacy', 'performance', 'spiritual', 'uplifting']</td>\n",
       "      <td>1463270400</td>\n",
       "      <td>3</td>\n",
       "      <td>14.83</td>\n",
       "      <td>p69247882</td>\n",
       "    </tr>\n",
       "    <tr>\n",
       "      <th>149946</th>\n",
       "      <td>149946</td>\n",
       "      <td>149997</td>\n",
       "      <td>5.0</td>\n",
       "      <td>2004-06-13</td>\n",
       "      <td>u28696060</td>\n",
       "      <td>['best', 'overall', 'album', 'revisionist', 'fallout', 'following', 'great', 'escape', 'damon', 'albarn', 'redirected', 'blur', 'focus', 'towards', 'difficult', 'original', 'music', 'encompassed', 'english', 'influence', 'brought', 'americana', 'much', 'delight', 'guitarist', 'graham', 'coxon', 'result', 'blur', 'album', 'spacey', 'original', 'complex', 'music', 'lofi', 'edge', 'beating', 'radioheads', 'ok', 'computer', 'month', 'standout', 'track', 'include', 'beetlebum', 'song', 'country', 'sad', 'ballad', 'man', 'death', 'party', 'strange', 'news', 'another', 'star']</td>\n",
       "      <td>['creative', 'rebirth', 'possibly']</td>\n",
       "      <td>1087084800</td>\n",
       "      <td>1</td>\n",
       "      <td>18.86</td>\n",
       "      <td>p07028930</td>\n",
       "    </tr>\n",
       "    <tr>\n",
       "      <th>149947</th>\n",
       "      <td>149947</td>\n",
       "      <td>149998</td>\n",
       "      <td>5.0</td>\n",
       "      <td>2012-06-27</td>\n",
       "      <td>u04925906</td>\n",
       "      <td>['believe', 'upon', 'time', 'artist', 'like', 'enchantment', 'could', 'seen', 'heard', 'everywhere', 'period', 'performer', 'could', 'actually', 'perform', 'male', 'group', 'dominated', 'could', 'really', 'really', 'sing', 'sadly', 'era', 'fallen', 'away', 'pass', 'entertainment', 'today', 'neither', 'music', 'entertainment', 'today', 'production', 'cant', 'hold', 'candle', 'golden', 'era', 'sweet', 'soul', 'music', 'sixty', 'seventy', 'initial', 'offering', 'enchantment', 'lit', 'chart', 'hard', 'driving', 'uptempo', 'offering', 'took', 'breath', 'away', 'ballad', 'become', 'classic', 'one', 'would', 'thought', 'impossible', 'follow', 'anything', 'nicebut', 'treat', 'album', 'solidified', 'group', 'hit', 'machine', 'place', 'alone', 'top', 'came', 'soulful', 'blue', 'light', 'basement', 'type', 'music', 'party', 'complete', 'without', 'album', 'cd', 'remastered', 'enhanced', 'bonus', 'selection', 'dont', 'want', 'without', 'one', 'ive', 'waited', 'year', 'decade', 'recognition', 'bestowed', 'group', 'many', 'fan', 'waited', 'long', 'must', 'say', 'two', 'wish', 'one', 'whole', 'new', 'generation', 'music', 'lover', 'finally', 'hear', 'limited', 'edition', 'material', 'two', 'ever', 'responsible', 'soon', 'get', 'around', 'issuing', 'journey', 'land', 'enchantment', 'utopia', 'cd', 'said', 'dont', 'take', 'word', 'pick', 'cd', 'give', 'listen', 'excellent', 'vocal', 'harmony', 'michael', 'stokes', 'working', 'magic', 'well', 'cant', 'say', 'enough', 'group', 'cd', 'well', 'since', 'probably', 'time', 'take', 'time', 'give', 'listen', 'world', 'music', 'missing']</td>\n",
       "      <td>['upon', 'time']</td>\n",
       "      <td>1340755200</td>\n",
       "      <td>0</td>\n",
       "      <td>19.99</td>\n",
       "      <td>p38606785</td>\n",
       "    </tr>\n",
       "    <tr>\n",
       "      <th>149948</th>\n",
       "      <td>149948</td>\n",
       "      <td>149999</td>\n",
       "      <td>5.0</td>\n",
       "      <td>2000-03-06</td>\n",
       "      <td>u79459462</td>\n",
       "      <td>['mokenstefs', 'album', 'must', 'wan', 'na', 'mellow', 'chill', 'favorite', 'song', 'especially', 'number', 'cant', 'wait', 'new', 'album', 'yall', 'look', 'good', 'love', 'yall']</td>\n",
       "      <td>['intense', 'album', 'creativity']</td>\n",
       "      <td>952300800</td>\n",
       "      <td>0</td>\n",
       "      <td>9.99</td>\n",
       "      <td>p07495887</td>\n",
       "    </tr>\n",
       "  </tbody>\n",
       "</table>\n",
       "<p>149949 rows × 11 columns</p>\n",
       "</div>"
      ],
      "text/plain": [
       "        Unnamed: 0   index  overall  ... category  price     itemID\n",
       "0                0       0      5.0  ...        2   8.40  p23649501\n",
       "1                1       1      5.0  ...        1  10.98  p58458313\n",
       "2                2       2      5.0  ...        0   5.99  p97027626\n",
       "3                3       3      5.0  ...        2  14.64  p43167086\n",
       "4                4       4      5.0  ...        1   9.92  p94494236\n",
       "...            ...     ...      ...  ...      ...    ...        ...\n",
       "149944      149944  149995      5.0  ...        1   9.49  p26326919\n",
       "149945      149945  149996      5.0  ...        3  14.83  p69247882\n",
       "149946      149946  149997      5.0  ...        1  18.86  p07028930\n",
       "149947      149947  149998      5.0  ...        0  19.99  p38606785\n",
       "149948      149948  149999      5.0  ...        0   9.99  p07495887\n",
       "\n",
       "[149949 rows x 11 columns]"
      ]
     },
     "execution_count": 25,
     "metadata": {
      "tags": []
     },
     "output_type": "execute_result"
    },
    {
     "name": "stdout",
     "output_type": "stream",
     "text": [
      "time: 1.41 s (started: 2021-04-04 11:26:05 +00:00)\n"
     ]
    }
   ],
   "source": [
    "df_train = pd.read_csv(\"TrainSet.csv\")\n",
    "df_train"
   ]
  },
  {
   "cell_type": "code",
   "execution_count": 26,
   "metadata": {
    "colab": {
     "base_uri": "https://localhost:8080/"
    },
    "id": "bW8CydqURB5j",
    "outputId": "4e31af72-be3c-4886-c77c-4247a2918745"
   },
   "outputs": [
    {
     "name": "stdout",
     "output_type": "stream",
     "text": [
      "time: 6.42 s (started: 2021-04-04 11:26:08 +00:00)\n"
     ]
    }
   ],
   "source": [
    "df_train[\"summary\"] = df_train[\"summary\"].str.replace('[^\\w\\s]','')\n",
    "df_train[\"reviewText\"] = df_train[\"reviewText\"].str.replace('[^\\w\\s]','')\n",
    "df_train[\"Texts\"] = df_train[\"reviewText\"] + \" \" + df_train[\"summary\"] "
   ]
  },
  {
   "cell_type": "code",
   "execution_count": 27,
   "metadata": {
    "colab": {
     "base_uri": "https://localhost:8080/"
    },
    "id": "LuuLwveFJskq",
    "outputId": "92b72a54-2ee4-4da6-e723-d1d8c5618604"
   },
   "outputs": [
    {
     "name": "stdout",
     "output_type": "stream",
     "text": [
      "time: 58.8 ms (started: 2021-04-04 11:26:16 +00:00)\n"
     ]
    }
   ],
   "source": [
    "X = df_train[\"Texts\"]  # only texts are used\n",
    "y = df_train[\"overall\"]\n",
    "X_train, X_test, y_train, y_test = train_test_split(X, y, test_size=0.2, \n",
    "                                                    random_state=42)\n",
    "X_train = np.array(X_train)\n",
    "X_test = np.array(X_test)\n",
    "y_train = np.array(y_train)\n",
    "y_test = np.array(y_test)"
   ]
  },
  {
   "cell_type": "markdown",
   "metadata": {
    "id": "wTrIXOdHHyTZ"
   },
   "source": [
    "Cross-validate a model without regularization"
   ]
  },
  {
   "cell_type": "code",
   "execution_count": null,
   "metadata": {
    "colab": {
     "base_uri": "https://localhost:8080/",
     "height": 250
    },
    "id": "XMWGRB384w8L",
    "outputId": "b41f29b5-f47f-4084-eb31-0efda7c7d34b"
   },
   "outputs": [
    {
     "data": {
      "text/html": [
       "<div>\n",
       "<style scoped>\n",
       "    .dataframe tbody tr th:only-of-type {\n",
       "        vertical-align: middle;\n",
       "    }\n",
       "\n",
       "    .dataframe tbody tr th {\n",
       "        vertical-align: top;\n",
       "    }\n",
       "\n",
       "    .dataframe thead th {\n",
       "        text-align: right;\n",
       "    }\n",
       "</style>\n",
       "<table border=\"1\" class=\"dataframe\">\n",
       "  <thead>\n",
       "    <tr style=\"text-align: right;\">\n",
       "      <th></th>\n",
       "      <th>Test fold</th>\n",
       "      <th>Training MSE</th>\n",
       "      <th>Test MSE</th>\n",
       "      <th>Accuracy</th>\n",
       "    </tr>\n",
       "  </thead>\n",
       "  <tbody>\n",
       "    <tr>\n",
       "      <th>0</th>\n",
       "      <td>1</td>\n",
       "      <td>0.607573</td>\n",
       "      <td>0.666264</td>\n",
       "      <td>72.595032</td>\n",
       "    </tr>\n",
       "    <tr>\n",
       "      <th>1</th>\n",
       "      <td>2</td>\n",
       "      <td>0.604708</td>\n",
       "      <td>0.682186</td>\n",
       "      <td>72.369957</td>\n",
       "    </tr>\n",
       "    <tr>\n",
       "      <th>2</th>\n",
       "      <td>3</td>\n",
       "      <td>0.610387</td>\n",
       "      <td>0.677059</td>\n",
       "      <td>72.749250</td>\n",
       "    </tr>\n",
       "    <tr>\n",
       "      <th>3</th>\n",
       "      <td>4</td>\n",
       "      <td>0.608897</td>\n",
       "      <td>0.695815</td>\n",
       "      <td>72.390797</td>\n",
       "    </tr>\n",
       "    <tr>\n",
       "      <th>4</th>\n",
       "      <td>5</td>\n",
       "      <td>0.605931</td>\n",
       "      <td>0.680922</td>\n",
       "      <td>72.102038</td>\n",
       "    </tr>\n",
       "  </tbody>\n",
       "</table>\n",
       "</div>"
      ],
      "text/plain": [
       "   Test fold  Training MSE  Test MSE   Accuracy\n",
       "0          1      0.607573  0.666264  72.595032\n",
       "1          2      0.604708  0.682186  72.369957\n",
       "2          3      0.610387  0.677059  72.749250\n",
       "3          4      0.608897  0.695815  72.390797\n",
       "4          5      0.605931  0.680922  72.102038"
      ]
     },
     "metadata": {
      "tags": []
     },
     "output_type": "display_data"
    },
    {
     "name": "stdout",
     "output_type": "stream",
     "text": [
      "Training MSE: 0.607.\n",
      "Validation MSE: 0.680.\n",
      "Average validation accuracy: 72.441%.\n"
     ]
    }
   ],
   "source": [
    "mse_train, mse_val, acc = cross_validation(X_train, y_train, 5, 1, \"none\", 5, True)\n",
    "print(\"Training MSE: %0.3f.\" % mse_train)\n",
    "print(\"Validation MSE: %0.3f.\" % mse_val)\n",
    "print(\"Average validation accuracy: %0.3f%%.\" % acc)"
   ]
  },
  {
   "cell_type": "markdown",
   "metadata": {
    "id": "CizaBpXFLFEN"
   },
   "source": [
    "Hyperparameter tuning using manual grid search"
   ]
  },
  {
   "cell_type": "code",
   "execution_count": null,
   "metadata": {
    "colab": {
     "base_uri": "https://localhost:8080/",
     "height": 657
    },
    "id": "Mqj19tmzOMMz",
    "outputId": "d36c2b5e-6b27-4546-f699-412cc4751bda"
   },
   "outputs": [
    {
     "name": "stdout",
     "output_type": "stream",
     "text": [
      "Penalty: l1\n",
      "C: 0.01\n",
      "C: 0.1\n",
      "C: 1\n",
      "C: 5\n",
      "C: 10\n",
      "C: 100\n",
      "Penalty: l2\n",
      "C: 0.01\n",
      "C: 0.1\n",
      "C: 1\n",
      "C: 5\n",
      "C: 10\n",
      "C: 100\n"
     ]
    },
    {
     "data": {
      "image/png": "[encoded data removed]",
      "text/plain": [
       "<Figure size 1008x360 with 2 Axes>"
      ]
     },
     "metadata": {
      "needs_background": "light",
      "tags": []
     },
     "output_type": "display_data"
    },
    {
     "name": "stdout",
     "output_type": "stream",
     "text": [
      "------------------------------\n",
      "Best parameters for:  {'C': 5, 'Penalty': 'l1'}\n",
      "Lowest validation MSE: 0.682\n"
     ]
    }
   ],
   "source": [
    "c_list = [0.01, 0.1, 1, 5, 10, 100]\n",
    "c_log = [math.log10(x) for x in c_list]\n",
    "penalty_list = [\"l1\", \"l2\"]\n",
    "\n",
    "best_params = {}\n",
    "lowest_mse_val = 10.0\n",
    "\n",
    "plt.figure(figsize=(14, 5))\n",
    "for penalty in penalty_list:\n",
    "    print(\"Penalty:\", penalty)\n",
    "    mse_train_list = []\n",
    "    mse_val_list = []\n",
    "    accuracy_list = []\n",
    "\n",
    "    for c_value in c_list: \n",
    "        print(\"C:\", c_value) \n",
    "\n",
    "        mse_train, mse_val, acc = cross_validation(X_train, y_train, 5, c_value, penalty, \n",
    "                                                   3, False)\n",
    "    \n",
    "        if mse_val < lowest_mse_val:\n",
    "            best_params = {\"C\":c_value, \"Penalty\":penalty}\n",
    "            lowest_mse_val = mse_val  # update the lowest val MSE\n",
    "\n",
    "        mse_train_list.append(mse_train)\n",
    "        mse_val_list.append(mse_val)\n",
    "        accuracy_list.append(acc)\n",
    "    \n",
    "    # Make plots\n",
    "    plt.subplot(1, 2, 1)\n",
    "    plt.plot(c_log, mse_train_list, label=(penalty+\" training MSE\"), linestyle=\":\", marker=\"o\")\n",
    "    plt.plot(c_log, mse_val_list, label=(penalty+\" val MSE\"), marker=\"o\")\n",
    "    plt.xlabel(\"log(C)\")\n",
    "    plt.title(\"Training and validation MSEs\")\n",
    "    plt.legend()\n",
    "\n",
    "    plt.subplot(1, 2, 2)\n",
    "    plt.plot(c_log, accuracy_list, label=penalty, marker=\"o\")\n",
    "    plt.xlabel(\"log(C)\")\n",
    "    plt.ylabel(\"%\")\n",
    "    plt.title(\"Accuracy\")\n",
    "    plt.legend()\n",
    "\n",
    "plt.tight_layout()\n",
    "plt.show()\n",
    "print(\"------------------------------\")\n",
    "print(\"Best parameters for: \", best_params)\n",
    "print(\"Lowest validation MSE: %0.3f\"%lowest_mse_val) "
   ]
  },
  {
   "cell_type": "markdown",
   "metadata": {
    "id": "4tGEoFS6c1Te"
   },
   "source": [
    "**Test for logistic regression model**"
   ]
  },
  {
   "cell_type": "code",
   "execution_count": 28,
   "metadata": {
    "colab": {
     "base_uri": "https://localhost:8080/"
    },
    "id": "glaCzStOqGdn",
    "outputId": "91b4364e-efee-4c85-bafd-37b57ac58f25"
   },
   "outputs": [
    {
     "name": "stdout",
     "output_type": "stream",
     "text": [
      "time: 10.4 s (started: 2021-04-04 11:26:21 +00:00)\n"
     ]
    }
   ],
   "source": [
    "tf1 = TfidfVectorizer(max_features=2000)\n",
    "X_train_tfidf = tf1.fit_transform(X_train)\n",
    "X_test_tfidf = tf1.transform(X_test)"
   ]
  },
  {
   "cell_type": "code",
   "execution_count": null,
   "metadata": {
    "colab": {
     "base_uri": "https://localhost:8080/"
    },
    "id": "ZvMjQCHoJs_4",
    "outputId": "e8e2d1fe-157f-46c4-81a9-bff767c99079"
   },
   "outputs": [
    {
     "name": "stdout",
     "output_type": "stream",
     "text": [
      "Logistic Regression Model Training MSE: 0.625\n",
      "Logistic Regression Model Test MSE: 0.701\n",
      "Logistic Regression Model Test accuracy: 72.911%\n"
     ]
    }
   ],
   "source": [
    "pred_train, pred_test = ordinal_LogisticRegression(X_train_tfidf, y_train, \n",
    "                                                   X_test_tfidf, y_test, \n",
    "                                                   5, 5, \"l1\")\n",
    "logreg_train_mse_tfidf = mean_squared_error(pred_train, y_train)\n",
    "logreg_test_mse_tfidf = mean_squared_error(pred_test, y_test)\n",
    "logreg_test_acc_tfidf = accuracy_score(pred_test, y_test)*100\n",
    "\n",
    "print(\"Logistic Regression Model Training MSE: %0.3f\"%logreg_train_mse_tfidf)\n",
    "print(\"Logistic Regression Model Test MSE: %0.3f\"%logreg_test_mse_tfidf)\n",
    "print(\"Logistic Regression Model Test accuracy: %0.3f%%\"%logreg_test_acc_tfidf)"
   ]
  },
  {
   "cell_type": "markdown",
   "metadata": {
    "id": "oNCJIOvSnNcC"
   },
   "source": [
    "## 3.1.9 Linear Regression\n",
    "\n",
    "Reusing the datasets and defined variables in the section \"Ordinal Logistic Regression\"."
   ]
  },
  {
   "cell_type": "markdown",
   "metadata": {
    "id": "xB2w2d49Y1yR"
   },
   "source": [
    "### Cross-validated Ridge"
   ]
  },
  {
   "cell_type": "code",
   "execution_count": 29,
   "metadata": {
    "colab": {
     "base_uri": "https://localhost:8080/"
    },
    "id": "e3YBCtqJXjwY",
    "outputId": "6c263c03-3792-4b33-b239-4daa1e81fbfc"
   },
   "outputs": [
    {
     "name": "stdout",
     "output_type": "stream",
     "text": [
      "Alpha: 5.0\n",
      "Ridge model training MSE after setting boundaries: 0.616\n",
      "Ridge model validation MSE after setting boundaries: 0.654\n",
      "time: 19.7 s (started: 2021-04-04 11:27:36 +00:00)\n"
     ]
    }
   ],
   "source": [
    "ridge_model = RidgeCV(alphas=[0.001, 0.01, 0.1, 0.5, 1, 5, 10, 100, 1000], cv=5, \n",
    "                      scoring=\"neg_mean_squared_error\")\n",
    "ridge_model.fit(X_train_tfidf, y_train)\n",
    "print(\"Alpha:\", ridge_model.alpha_)\n",
    "\n",
    "ridge_pred_tfidf_train = np.round(ridge_model.predict(X_train_tfidf))  \n",
    "ridge_pred_tfidf_train = np.clip(ridge_pred_tfidf_train, 1.0, 5.0) # set bounds\n",
    "ridge_mse_tfidf_train = mean_squared_error(ridge_pred_tfidf_train, y_train)\n",
    "print(\"Ridge model training MSE after setting boundaries: %0.3f\" % ridge_mse_tfidf_train)\n",
    "\n",
    "ridge_pred_tfidf = np.round(ridge_model.predict(X_test_tfidf))\n",
    "ridge_pred_tfidf = np.clip(ridge_pred_tfidf, 1.0, 5.0) # set bounds\n",
    "ridge_mse_tfidf = mean_squared_error(ridge_pred_tfidf, y_test)\n",
    "print(\"Ridge model validation MSE after setting boundaries: %0.3f\" % ridge_mse_tfidf)"
   ]
  },
  {
   "cell_type": "markdown",
   "metadata": {
    "id": "bWGSKjFpo1QM"
   },
   "source": [
    "Visualization of validation results"
   ]
  },
  {
   "cell_type": "code",
   "execution_count": 31,
   "metadata": {
    "colab": {
     "base_uri": "https://localhost:8080/",
     "height": 421
    },
    "id": "TL6-AuiRow1N",
    "outputId": "ddcfbc9d-781e-45a0-866a-f5ecdd82c188"
   },
   "outputs": [
    {
     "data": {
      "image/png": "[encoded data removed]",
      "text/plain": [
       "<Figure size 432x432 with 1 Axes>"
      ]
     },
     "metadata": {
      "needs_background": "light",
      "tags": []
     },
     "output_type": "display_data"
    },
    {
     "name": "stdout",
     "output_type": "stream",
     "text": [
      "time: 188 ms (started: 2021-04-04 11:29:22 +00:00)\n"
     ]
    }
   ],
   "source": [
    "# Draw heatmap of the confusion matrix\n",
    "plt.figure(figsize=(6, 6))\n",
    "ax = sns.heatmap(confusion_matrix(y_test, ridge_pred_tfidf, normalize='true'), \n",
    "                 annot=True, fmt=\"0.2f\", cmap=\"RdPu\", \n",
    "                 square=True, cbar=False, \n",
    "                 xticklabels=range(1, 6), yticklabels=range(1, 6))\n",
    "plt.title(\"Confuison Matrix\")\n",
    "plt.ylabel(\"True rating\")\n",
    "plt.xlabel(\"Predicted rating\")\n",
    "plt.show()"
   ]
  },
  {
   "cell_type": "code",
   "execution_count": 32,
   "metadata": {
    "colab": {
     "base_uri": "https://localhost:8080/",
     "height": 421
    },
    "id": "zxIE_uDhu5Pl",
    "outputId": "8bbe4511-fda4-45a0-f153-69305fb28021"
   },
   "outputs": [
    {
     "data": {
      "image/png": "[encoded data removed]",
      "text/plain": [
       "<Figure size 720x432 with 1 Axes>"
      ]
     },
     "metadata": {
      "needs_background": "light",
      "tags": []
     },
     "output_type": "display_data"
    },
    {
     "name": "stdout",
     "output_type": "stream",
     "text": [
      "time: 837 ms (started: 2021-04-04 11:29:34 +00:00)\n"
     ]
    }
   ],
   "source": [
    "df_comparison = pd.DataFrame(ridge_pred_tfidf)\n",
    "df_comparison[\"True rating\"] = y_test\n",
    "df_comparison.columns = [\"Predicted rating\", \"True rating\"]\n",
    "\n",
    "plt.figure(figsize=(10, 6))\n",
    "width = 1.5\n",
    "index = np.arange(5)\n",
    "\n",
    "true_2plot = df_comparison[\"True rating\"].value_counts()\n",
    "pred_2plot = df_comparison[\"Predicted rating\"].value_counts()\n",
    "\n",
    "plt.bar(index - width/10, true_2plot, label=\"True rating\", width=width/5, color=\"pink\")\n",
    "plt.bar(index + width/10, pred_2plot, label=\"Predicted rating\", width=width/5, color=\"lightblue\")\n",
    "plt.title(\"Label vs. Prediction Class Distribution (Ridge)\")\n",
    "plt.xticks(index, labels=[\"5\", \"4\", \"3\", \"2\", \"1\"])\n",
    "plt.xlabel(\"Rating\")\n",
    "plt.ylabel(\"Number of Tweets\")\n",
    "plt.legend()\n",
    "plt.show()"
   ]
  },
  {
   "cell_type": "markdown",
   "metadata": {
    "id": "Agoc3fmOY63W"
   },
   "source": [
    "### Cross-validated Lasso"
   ]
  },
  {
   "cell_type": "code",
   "execution_count": null,
   "metadata": {
    "colab": {
     "base_uri": "https://localhost:8080/"
    },
    "id": "Mf5Jx6mNY1ZE",
    "outputId": "6dba771e-f68f-43a5-973b-c018cc8a9aa2"
   },
   "outputs": [
    {
     "name": "stdout",
     "output_type": "stream",
     "text": [
      "Alpha:  {'alpha': 0.001}\n",
      "Lasso model training MSE after setting boundaries: 0.810\n",
      "Lasso Model MSE: 0.835\n"
     ]
    }
   ],
   "source": [
    "grid_lasso = {\"alpha\":[0.001, 0.01, 0.1, 0.5, 1, 5, 10, 100, 1000]}\n",
    "lasso = Lasso()\n",
    "lasso_model = GridSearchCV(lasso, grid_lasso, cv=5, \n",
    "                           scoring=\"neg_mean_squared_error\")\n",
    "lasso_model.fit(X_train_tfidf, y_train)\n",
    "print(\"Alpha: \", lasso_model.best_params_)\n",
    "\n",
    "lasso_pred_tfidf_train = np.round(lasso_model.predict(X_train_tfidf))  \n",
    "lasso_pred_tfidf_train = np.clip(lasso_pred_tfidf_train, 1.0, 5.0) # set bounds\n",
    "lasso_mse_tfidf_train = mean_squared_error(lasso_pred_tfidf_train, y_train)\n",
    "print(\"Lasso model training MSE after setting boundaries: %0.3f\" % lasso_mse_tfidf_train)\n",
    "\n",
    "lasso_pred_tfidf = np.round(lasso_model.predict(X_test_tfidf))\n",
    "lasso_pred_tfidf = np.clip(lasso_pred_tfidf, 1.0, 5.0) # set bounds\n",
    "lasso_mse_tfidf = mean_squared_error(lasso_pred_tfidf, y_test)\n",
    "print(\"Lasso Model MSE: %0.3f\"%lasso_mse_tfidf)"
   ]
  },
  {
   "cell_type": "markdown",
   "metadata": {
    "id": "EnMn-LFjoBXE"
   },
   "source": [
    "### Test"
   ]
  },
  {
   "cell_type": "code",
   "execution_count": 45,
   "metadata": {
    "colab": {
     "base_uri": "https://localhost:8080/"
    },
    "id": "uR2VR2tdpxiA",
    "outputId": "36185a57-ae90-498b-a0b0-c9e3103316e2"
   },
   "outputs": [
    {
     "name": "stdout",
     "output_type": "stream",
     "text": [
      "time: 202 ms (started: 2021-04-04 11:37:13 +00:00)\n"
     ]
    }
   ],
   "source": [
    "df_test = pd.read_csv('test.csv')"
   ]
  },
  {
   "cell_type": "code",
   "execution_count": 46,
   "metadata": {
    "colab": {
     "base_uri": "https://localhost:8080/"
    },
    "id": "lFHqlRwspt6E",
    "outputId": "398534d8-dcc5-47d3-9587-09ca5a016312"
   },
   "outputs": [
    {
     "name": "stdout",
     "output_type": "stream",
     "text": [
      "time: 26.2 s (started: 2021-04-04 11:37:15 +00:00)\n"
     ]
    }
   ],
   "source": [
    "df_test = df_test.drop([\"image\", \"reviewHash\"], axis = 1)\n",
    "df_test['reviewTime'] = pd.to_datetime(df_test['reviewTime'])\n",
    "df_test['reviewText'] = df_test['reviewText'].replace(np.nan,'no comment')\n",
    "df_test['summary'] = df_test['summary'].replace(np.nan,'no comment')\n",
    "stop = stopwords.words('english')\n",
    "\n",
    "##### reviewText\n",
    "# Remove all the punctuations\n",
    "df_test['reviewText'] = df_test['reviewText'].str.replace('[^\\w\\s]','')\n",
    "\n",
    "# Lowecase\n",
    "df_test['reviewText'] = df_test['reviewText'].str.lower()\n",
    "\n",
    "# Number\n",
    "df_test['reviewText'] = df_test['reviewText'].str.replace('[0-9]','')\n",
    "\n",
    "##### summary\n",
    "# Remove all the punctuations\n",
    "df_test['summary'] = df_test['summary'].str.replace('[^\\w\\s]','')\n",
    "\n",
    "# Lowecase\n",
    "df_test['summary'] = df_test['summary'].str.lower()\n",
    "\n",
    "#firstly tokenize before dropping the stop word\n",
    "df_test['reviewText']  = df_test['reviewText'].apply(word_tokenize)\n",
    "#Remove stop words\n",
    "df_test['reviewText']  = df_test['reviewText'].apply(lambda x: [word for word in x if word not in stop])\n",
    "#lemmatizer\n",
    "lemmatizer = WordNetLemmatizer() \n",
    "df_test['reviewText'] = df_test['reviewText'].apply(lambda x: [lemmatizer.lemmatize(word) for word in x])\n",
    "\n",
    "\n",
    "#firstly tokenize before dropping the stop word\n",
    "df_test['summary']  = df_test['summary'].apply(word_tokenize)\n",
    "#Remove stop words\n",
    "df_test['summary']  = df_test['summary'].apply(lambda x: [word for word in x if word not in stop])\n",
    "df_test['summary'] = df_test['summary'].apply(lambda x: [lemmatizer.lemmatize(word) for word in x])\n",
    "\n",
    "# Fill na with \"no comment\"\n",
    "df_test['summary'] = df_test['summary'].fillna('no comment')"
   ]
  },
  {
   "cell_type": "code",
   "execution_count": 49,
   "metadata": {
    "colab": {
     "base_uri": "https://localhost:8080/",
     "height": 1000
    },
    "id": "8HdhZkOtaYdB",
    "outputId": "7e87386e-e450-41a6-9119-209014789182"
   },
   "outputs": [
    {
     "data": {
      "text/html": [
       "<div>\n",
       "<style scoped>\n",
       "    .dataframe tbody tr th:only-of-type {\n",
       "        vertical-align: middle;\n",
       "    }\n",
       "\n",
       "    .dataframe tbody tr th {\n",
       "        vertical-align: top;\n",
       "    }\n",
       "\n",
       "    .dataframe thead th {\n",
       "        text-align: right;\n",
       "    }\n",
       "</style>\n",
       "<table border=\"1\" class=\"dataframe\">\n",
       "  <thead>\n",
       "    <tr style=\"text-align: right;\">\n",
       "      <th></th>\n",
       "      <th>reviewTime</th>\n",
       "      <th>reviewerID</th>\n",
       "      <th>reviewText</th>\n",
       "      <th>summary</th>\n",
       "      <th>unixReviewTime</th>\n",
       "      <th>category</th>\n",
       "      <th>price</th>\n",
       "      <th>itemID</th>\n",
       "      <th>Texts</th>\n",
       "    </tr>\n",
       "  </thead>\n",
       "  <tbody>\n",
       "    <tr>\n",
       "      <th>0</th>\n",
       "      <td>2017-02-11</td>\n",
       "      <td>u04140621</td>\n",
       "      <td>ok</td>\n",
       "      <td>five star</td>\n",
       "      <td>1486771200</td>\n",
       "      <td>Pop</td>\n",
       "      <td>$31.20</td>\n",
       "      <td>p65721979</td>\n",
       "      <td>ok five star</td>\n",
       "    </tr>\n",
       "    <tr>\n",
       "      <th>1</th>\n",
       "      <td>2018-01-29</td>\n",
       "      <td>u74766187</td>\n",
       "      <td>set alone worth purchase cost everything else gravy</td>\n",
       "      <td>buy 1955 set monk</td>\n",
       "      <td>1517184000</td>\n",
       "      <td>Jazz</td>\n",
       "      <td>$34.04</td>\n",
       "      <td>p87809670</td>\n",
       "      <td>set alone worth purchase cost everything else gravy buy 1955 set monk</td>\n",
       "    </tr>\n",
       "    <tr>\n",
       "      <th>2</th>\n",
       "      <td>2005-08-29</td>\n",
       "      <td>u31689638</td>\n",
       "      <td>mary j blige someone people know first appeared classic debut whats mary combined gritty soul hip hop beat flowed effortlessly voice almost seemed born sing song say puffy hell job followup life think puffy lazy sampling aint neccesary anyways back mary everyone pretty much know half cd got much radio play sexy reminisce funky real lovejazzy love limit remind chaka rufus remake sweet thing standouts love anything also good track basically every song excellent mary put heart signature street swagger sweet singing</td>\n",
       "      <td>mary excellent debut classic</td>\n",
       "      <td>1125273600</td>\n",
       "      <td>Pop</td>\n",
       "      <td>$1.72</td>\n",
       "      <td>p52702240</td>\n",
       "      <td>mary j blige someone people know first appeared classic debut whats mary combined gritty soul hip hop beat flowed effortlessly voice almost seemed born sing song say puffy hell job followup life think puffy lazy sampling aint neccesary anyways back mary everyone pretty much know half cd got much radio play sexy reminisce funky real lovejazzy love limit remind chaka rufus remake sweet thing standouts love anything also good track basically every song excellent mary put heart signature street swagger sweet singing mary excellent debut classic</td>\n",
       "    </tr>\n",
       "    <tr>\n",
       "      <th>3</th>\n",
       "      <td>2015-11-02</td>\n",
       "      <td>u35613516</td>\n",
       "      <td>good satch album</td>\n",
       "      <td>four star</td>\n",
       "      <td>1446422400</td>\n",
       "      <td>Pop</td>\n",
       "      <td>$10.99</td>\n",
       "      <td>p01314374</td>\n",
       "      <td>good satch album four star</td>\n",
       "    </tr>\n",
       "    <tr>\n",
       "      <th>4</th>\n",
       "      <td>2012-01-03</td>\n",
       "      <td>u93320378</td>\n",
       "      <td>well hundred christmas anthology one best ever mix classic song obscure tune rock hit favorite recognize make say great mix big one dont go get many compilation good bang buck</td>\n",
       "      <td>cd life name</td>\n",
       "      <td>1325548800</td>\n",
       "      <td>Alternative Rock</td>\n",
       "      <td>$7.98</td>\n",
       "      <td>p84396269</td>\n",
       "      <td>well hundred christmas anthology one best ever mix classic song obscure tune rock hit favorite recognize make say great mix big one dont go get many compilation good bang buck cd life name</td>\n",
       "    </tr>\n",
       "  </tbody>\n",
       "</table>\n",
       "</div>"
      ],
      "text/plain": [
       "  reviewTime  ...                                                                                                                                                                                                                                                                                                                                                                                                                                                                                                                                                               Texts\n",
       "0 2017-02-11  ...                                                                                                                                                                                                                                                                                                                                                                                                                                                                                                                                                        ok five star\n",
       "1 2018-01-29  ...                                                                                                                                                                                                                                                                                                                                                                                                                                                                                               set alone worth purchase cost everything else gravy buy 1955 set monk\n",
       "2 2005-08-29  ...  mary j blige someone people know first appeared classic debut whats mary combined gritty soul hip hop beat flowed effortlessly voice almost seemed born sing song say puffy hell job followup life think puffy lazy sampling aint neccesary anyways back mary everyone pretty much know half cd got much radio play sexy reminisce funky real lovejazzy love limit remind chaka rufus remake sweet thing standouts love anything also good track basically every song excellent mary put heart signature street swagger sweet singing mary excellent debut classic\n",
       "3 2015-11-02  ...                                                                                                                                                                                                                                                                                                                                                                                                                                                                                                                                          good satch album four star\n",
       "4 2012-01-03  ...                                                                                                                                                                                                                                                                                                                                                                        well hundred christmas anthology one best ever mix classic song obscure tune rock hit favorite recognize make say great mix big one dont go get many compilation good bang buck cd life name\n",
       "\n",
       "[5 rows x 9 columns]"
      ]
     },
     "execution_count": 49,
     "metadata": {
      "tags": []
     },
     "output_type": "execute_result"
    },
    {
     "name": "stdout",
     "output_type": "stream",
     "text": [
      "time: 186 ms (started: 2021-04-04 11:40:58 +00:00)\n"
     ]
    }
   ],
   "source": [
    "df_test[\"reviewText\"] = df_test[\"reviewText\"].str.join(\" \")\n",
    "df_test[\"summary\"] = df_test[\"summary\"].str.join(\" \")\n",
    "df_test[\"Texts\"] = df_test[\"reviewText\"] + \" \" + df_test[\"summary\"] \n",
    "df_test.head()"
   ]
  },
  {
   "cell_type": "code",
   "execution_count": 50,
   "metadata": {
    "colab": {
     "base_uri": "https://localhost:8080/"
    },
    "id": "eR84EsNobIbU",
    "outputId": "8e5442aa-efe4-459d-ebc8-6bc3d3ea0a6b"
   },
   "outputs": [
    {
     "name": "stdout",
     "output_type": "stream",
     "text": [
      "time: 2.03 ms (started: 2021-04-04 11:41:06 +00:00)\n"
     ]
    }
   ],
   "source": [
    "X_train_fin = df_train[\"Texts\"] \n",
    "y_train_fin = df_train[\"overall\"]\n",
    "X_test_fin = df_test[\"Texts\"]"
   ]
  },
  {
   "cell_type": "code",
   "execution_count": 51,
   "metadata": {
    "colab": {
     "base_uri": "https://localhost:8080/"
    },
    "id": "OZ3obDGeas-p",
    "outputId": "68a05e29-7163-4fd9-fb26-6c2e5c8b6a5a"
   },
   "outputs": [
    {
     "name": "stdout",
     "output_type": "stream",
     "text": [
      "time: 12 s (started: 2021-04-04 11:41:07 +00:00)\n"
     ]
    }
   ],
   "source": [
    "tf_fin = TfidfVectorizer(max_features=2000)\n",
    "X_train_tfidf_fin = tf_fin.fit_transform(X_train_fin)\n",
    "X_test_tfidf_fin = tf_fin.transform(X_test_fin)"
   ]
  },
  {
   "cell_type": "code",
   "execution_count": 52,
   "metadata": {
    "colab": {
     "base_uri": "https://localhost:8080/"
    },
    "id": "Ms1vv-BxdR1P",
    "outputId": "a90451f7-8ad8-42ed-925b-0098abe77128"
   },
   "outputs": [
    {
     "name": "stdout",
     "output_type": "stream",
     "text": [
      "Ridge Model Training MSE: 0.620\n",
      "Ridge Model Training accuracy: 61.065%\n",
      "time: 702 ms (started: 2021-04-04 11:41:20 +00:00)\n"
     ]
    }
   ],
   "source": [
    "ridge_fin = Ridge(alpha=5.0)\n",
    "ridge_fin.fit(X_train_tfidf_fin, y_train_fin)\n",
    "\n",
    "ridge_pred_train = np.round(ridge_fin.predict(X_train_tfidf_fin))\n",
    "ridge_pred_train = np.clip(ridge_pred_train, 1.0, 5.0) \n",
    "\n",
    "ridge_pred_test = np.round(ridge_fin.predict(X_test_tfidf_fin))\n",
    "ridge_pred_test = np.clip(ridge_pred_test, 1.0, 5.0)\n",
    "\n",
    "ridge_train_mse_tfidf = mean_squared_error(ridge_pred_train, y_train_fin)\n",
    "ridge_train_acc_tfidf = accuracy_score(ridge_pred_train, y_train_fin)*100\n",
    "\n",
    "print(\"Ridge Model Training MSE: %0.3f\" % ridge_train_mse_tfidf)\n",
    "print(\"Ridge Model Training accuracy: %0.3f%%\" % ridge_train_acc_tfidf)"
   ]
  },
  {
   "cell_type": "code",
   "execution_count": 53,
   "metadata": {
    "colab": {
     "base_uri": "https://localhost:8080/",
     "height": 427
    },
    "id": "aeB3oG8mfn7e",
    "outputId": "837253fa-2568-45de-d9c0-217046179eb5"
   },
   "outputs": [
    {
     "data": {
      "text/html": [
       "<div>\n",
       "<style scoped>\n",
       "    .dataframe tbody tr th:only-of-type {\n",
       "        vertical-align: middle;\n",
       "    }\n",
       "\n",
       "    .dataframe tbody tr th {\n",
       "        vertical-align: top;\n",
       "    }\n",
       "\n",
       "    .dataframe thead th {\n",
       "        text-align: right;\n",
       "    }\n",
       "</style>\n",
       "<table border=\"1\" class=\"dataframe\">\n",
       "  <thead>\n",
       "    <tr style=\"text-align: right;\">\n",
       "      <th></th>\n",
       "      <th>userID-itemID</th>\n",
       "      <th>prediction</th>\n",
       "    </tr>\n",
       "  </thead>\n",
       "  <tbody>\n",
       "    <tr>\n",
       "      <th>0</th>\n",
       "      <td>u04140621-p65721979</td>\n",
       "      <td>NaN</td>\n",
       "    </tr>\n",
       "    <tr>\n",
       "      <th>1</th>\n",
       "      <td>u74766187-p87809670</td>\n",
       "      <td>NaN</td>\n",
       "    </tr>\n",
       "    <tr>\n",
       "      <th>2</th>\n",
       "      <td>u31689638-p52702240</td>\n",
       "      <td>NaN</td>\n",
       "    </tr>\n",
       "    <tr>\n",
       "      <th>3</th>\n",
       "      <td>u35613516-p01314374</td>\n",
       "      <td>NaN</td>\n",
       "    </tr>\n",
       "    <tr>\n",
       "      <th>4</th>\n",
       "      <td>u93320378-p84396269</td>\n",
       "      <td>NaN</td>\n",
       "    </tr>\n",
       "    <tr>\n",
       "      <th>...</th>\n",
       "      <td>...</td>\n",
       "      <td>...</td>\n",
       "    </tr>\n",
       "    <tr>\n",
       "      <th>19995</th>\n",
       "      <td>u16765812-p17291597</td>\n",
       "      <td>NaN</td>\n",
       "    </tr>\n",
       "    <tr>\n",
       "      <th>19996</th>\n",
       "      <td>u04428712-p73630774</td>\n",
       "      <td>NaN</td>\n",
       "    </tr>\n",
       "    <tr>\n",
       "      <th>19997</th>\n",
       "      <td>u39251384-p58275451</td>\n",
       "      <td>NaN</td>\n",
       "    </tr>\n",
       "    <tr>\n",
       "      <th>19998</th>\n",
       "      <td>u05089888-p13155723</td>\n",
       "      <td>NaN</td>\n",
       "    </tr>\n",
       "    <tr>\n",
       "      <th>19999</th>\n",
       "      <td>u99404755-p88280495</td>\n",
       "      <td>NaN</td>\n",
       "    </tr>\n",
       "  </tbody>\n",
       "</table>\n",
       "<p>20000 rows × 2 columns</p>\n",
       "</div>"
      ],
      "text/plain": [
       "             userID-itemID  prediction\n",
       "0      u04140621-p65721979         NaN\n",
       "1      u74766187-p87809670         NaN\n",
       "2      u31689638-p52702240         NaN\n",
       "3      u35613516-p01314374         NaN\n",
       "4      u93320378-p84396269         NaN\n",
       "...                    ...         ...\n",
       "19995  u16765812-p17291597         NaN\n",
       "19996  u04428712-p73630774         NaN\n",
       "19997  u39251384-p58275451         NaN\n",
       "19998  u05089888-p13155723         NaN\n",
       "19999  u99404755-p88280495         NaN\n",
       "\n",
       "[20000 rows x 2 columns]"
      ]
     },
     "execution_count": 53,
     "metadata": {
      "tags": []
     },
     "output_type": "execute_result"
    },
    {
     "name": "stdout",
     "output_type": "stream",
     "text": [
      "time: 35.9 ms (started: 2021-04-04 11:41:24 +00:00)\n"
     ]
    }
   ],
   "source": [
    "rating_pairs_ridge = pd.read_csv(\"rating_pairs.csv\")\n",
    "rating_pairs_ridge"
   ]
  },
  {
   "cell_type": "code",
   "execution_count": 54,
   "metadata": {
    "colab": {
     "base_uri": "https://localhost:8080/"
    },
    "id": "Wbgjd58klq74",
    "outputId": "86d7c0c7-74de-4e58-9458-5749c7948cbb"
   },
   "outputs": [
    {
     "data": {
      "text/plain": [
       "5.0    10343\n",
       "4.0     7911\n",
       "3.0     1431\n",
       "2.0      263\n",
       "1.0       52\n",
       "Name: prediction, dtype: int64"
      ]
     },
     "execution_count": 54,
     "metadata": {
      "tags": []
     },
     "output_type": "execute_result"
    },
    {
     "name": "stdout",
     "output_type": "stream",
     "text": [
      "time: 13 ms (started: 2021-04-04 11:41:27 +00:00)\n"
     ]
    }
   ],
   "source": [
    "rating_pairs_ridge[\"prediction\"] = ridge_pred_test\n",
    "rating_pairs_ridge[\"prediction\"].value_counts()"
   ]
  },
  {
   "cell_type": "code",
   "execution_count": 55,
   "metadata": {
    "colab": {
     "base_uri": "https://localhost:8080/",
     "height": 427
    },
    "id": "bB87f7-6oi7Y",
    "outputId": "ced3f624-9092-4754-90e3-192983690f9b"
   },
   "outputs": [
    {
     "data": {
      "text/html": [
       "<div>\n",
       "<style scoped>\n",
       "    .dataframe tbody tr th:only-of-type {\n",
       "        vertical-align: middle;\n",
       "    }\n",
       "\n",
       "    .dataframe tbody tr th {\n",
       "        vertical-align: top;\n",
       "    }\n",
       "\n",
       "    .dataframe thead th {\n",
       "        text-align: right;\n",
       "    }\n",
       "</style>\n",
       "<table border=\"1\" class=\"dataframe\">\n",
       "  <thead>\n",
       "    <tr style=\"text-align: right;\">\n",
       "      <th></th>\n",
       "      <th>userID-itemID</th>\n",
       "      <th>prediction</th>\n",
       "    </tr>\n",
       "  </thead>\n",
       "  <tbody>\n",
       "    <tr>\n",
       "      <th>0</th>\n",
       "      <td>u04140621-p65721979</td>\n",
       "      <td>4.0</td>\n",
       "    </tr>\n",
       "    <tr>\n",
       "      <th>1</th>\n",
       "      <td>u74766187-p87809670</td>\n",
       "      <td>5.0</td>\n",
       "    </tr>\n",
       "    <tr>\n",
       "      <th>2</th>\n",
       "      <td>u31689638-p52702240</td>\n",
       "      <td>5.0</td>\n",
       "    </tr>\n",
       "    <tr>\n",
       "      <th>3</th>\n",
       "      <td>u35613516-p01314374</td>\n",
       "      <td>4.0</td>\n",
       "    </tr>\n",
       "    <tr>\n",
       "      <th>4</th>\n",
       "      <td>u93320378-p84396269</td>\n",
       "      <td>5.0</td>\n",
       "    </tr>\n",
       "    <tr>\n",
       "      <th>...</th>\n",
       "      <td>...</td>\n",
       "      <td>...</td>\n",
       "    </tr>\n",
       "    <tr>\n",
       "      <th>19995</th>\n",
       "      <td>u16765812-p17291597</td>\n",
       "      <td>5.0</td>\n",
       "    </tr>\n",
       "    <tr>\n",
       "      <th>19996</th>\n",
       "      <td>u04428712-p73630774</td>\n",
       "      <td>4.0</td>\n",
       "    </tr>\n",
       "    <tr>\n",
       "      <th>19997</th>\n",
       "      <td>u39251384-p58275451</td>\n",
       "      <td>5.0</td>\n",
       "    </tr>\n",
       "    <tr>\n",
       "      <th>19998</th>\n",
       "      <td>u05089888-p13155723</td>\n",
       "      <td>5.0</td>\n",
       "    </tr>\n",
       "    <tr>\n",
       "      <th>19999</th>\n",
       "      <td>u99404755-p88280495</td>\n",
       "      <td>4.0</td>\n",
       "    </tr>\n",
       "  </tbody>\n",
       "</table>\n",
       "<p>20000 rows × 2 columns</p>\n",
       "</div>"
      ],
      "text/plain": [
       "             userID-itemID  prediction\n",
       "0      u04140621-p65721979         4.0\n",
       "1      u74766187-p87809670         5.0\n",
       "2      u31689638-p52702240         5.0\n",
       "3      u35613516-p01314374         4.0\n",
       "4      u93320378-p84396269         5.0\n",
       "...                    ...         ...\n",
       "19995  u16765812-p17291597         5.0\n",
       "19996  u04428712-p73630774         4.0\n",
       "19997  u39251384-p58275451         5.0\n",
       "19998  u05089888-p13155723         5.0\n",
       "19999  u99404755-p88280495         4.0\n",
       "\n",
       "[20000 rows x 2 columns]"
      ]
     },
     "execution_count": 55,
     "metadata": {
      "tags": []
     },
     "output_type": "execute_result"
    },
    {
     "name": "stdout",
     "output_type": "stream",
     "text": [
      "time: 15.9 ms (started: 2021-04-04 11:41:29 +00:00)\n"
     ]
    }
   ],
   "source": [
    "# rating_pairs_ridge.to_csv(\"rating_pairs_ridge.csv\", index=False)\n",
    "rating_pairs_ridge"
   ]
  }
 ],
 "metadata": {
  "colab": {
   "collapsed_sections": [
    "Ho6GhY2cemQl",
    "YqZ3yRzBemQm",
    "vxsvnMcEemQr",
    "Cukf4GK5emQv",
    "EVmG2W8-emQw",
    "1BLM8D-semQw",
    "HwaqY5rcemQx",
    "JFxa43I4euOl",
    "2wG5ARY7-xxa",
    "Iyxwkl0zbZXq",
    "SsKhQYXTsSxW",
    "mgDUH7tnlCYq",
    "v5eAcYlBl7so",
    "oNCJIOvSnNcC",
    "xB2w2d49Y1yR",
    "Agoc3fmOY63W",
    "EnMn-LFjoBXE"
   ],
   "name": "MIE1624_Group4_Course_Project_fin1.ipynb",
   "provenance": []
  },
  "kernelspec": {
   "display_name": "Python 3",
   "language": "python",
   "name": "python3"
  },
  "language_info": {
   "codemirror_mode": {
    "name": "ipython",
    "version": 3
   },
   "file_extension": ".py",
   "mimetype": "text/x-python",
   "name": "python",
   "nbconvert_exporter": "python",
   "pygments_lexer": "ipython3",
   "version": "3.8.3"
  }
 },
 "nbformat": 4,
 "nbformat_minor": 1
}
